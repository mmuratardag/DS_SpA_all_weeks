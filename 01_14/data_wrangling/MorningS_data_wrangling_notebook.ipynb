{
 "cells": [
  {
   "cell_type": "markdown",
   "metadata": {},
   "source": [
    "### Data Wrangling"
   ]
  },
  {
   "cell_type": "code",
   "execution_count": null,
   "metadata": {},
   "outputs": [],
   "source": []
  },
  {
   "cell_type": "code",
   "execution_count": null,
   "metadata": {},
   "outputs": [],
   "source": []
  },
  {
   "cell_type": "markdown",
   "metadata": {},
   "source": [
    "### 1. Load fragmented penguin data set.\n",
    "- One ``.csv`` file for each species\n",
    "- How can we combine them all into one DataFrame?"
   ]
  },
  {
   "cell_type": "code",
   "execution_count": 1,
   "metadata": {},
   "outputs": [
    {
     "name": "stdout",
     "output_type": "stream",
     "text": [
      "data_wrangling_notebook.ipynb  penguins_chinstrap.csv  sex_data_penguins.csv\n",
      "penguins_adelie.csv            penguins_gentoo.csv\n"
     ]
    }
   ],
   "source": [
    "ls"
   ]
  },
  {
   "cell_type": "code",
   "execution_count": 2,
   "metadata": {},
   "outputs": [],
   "source": [
    "import pandas as pd"
   ]
  },
  {
   "cell_type": "code",
   "execution_count": 3,
   "metadata": {},
   "outputs": [
    {
     "data": {
      "text/html": [
       "<div>\n",
       "<style scoped>\n",
       "    .dataframe tbody tr th:only-of-type {\n",
       "        vertical-align: middle;\n",
       "    }\n",
       "\n",
       "    .dataframe tbody tr th {\n",
       "        vertical-align: top;\n",
       "    }\n",
       "\n",
       "    .dataframe thead th {\n",
       "        text-align: right;\n",
       "    }\n",
       "</style>\n",
       "<table border=\"1\" class=\"dataframe\">\n",
       "  <thead>\n",
       "    <tr style=\"text-align: right;\">\n",
       "      <th></th>\n",
       "      <th>studyName</th>\n",
       "      <th>Sample Number</th>\n",
       "      <th>Species</th>\n",
       "      <th>Sample ID</th>\n",
       "      <th>Region</th>\n",
       "      <th>Island</th>\n",
       "      <th>Individual ID</th>\n",
       "      <th>Culmen Length (mm)</th>\n",
       "      <th>Culmen Depth (mm)</th>\n",
       "      <th>Flipper Length (mm)</th>\n",
       "      <th>Body Mass (g)</th>\n",
       "      <th>Comments</th>\n",
       "    </tr>\n",
       "  </thead>\n",
       "  <tbody>\n",
       "    <tr>\n",
       "      <th>0</th>\n",
       "      <td>PAL0708</td>\n",
       "      <td>1</td>\n",
       "      <td>Adelie</td>\n",
       "      <td>A_1</td>\n",
       "      <td>Anvers</td>\n",
       "      <td>Torgersen</td>\n",
       "      <td>N1A1</td>\n",
       "      <td>39.1</td>\n",
       "      <td>18.7</td>\n",
       "      <td>181.0</td>\n",
       "      <td>3750.0</td>\n",
       "      <td>Not enough blood for isotopes.</td>\n",
       "    </tr>\n",
       "    <tr>\n",
       "      <th>1</th>\n",
       "      <td>PAL0708</td>\n",
       "      <td>2</td>\n",
       "      <td>Adelie</td>\n",
       "      <td>A_2</td>\n",
       "      <td>Anvers</td>\n",
       "      <td>Torgersen</td>\n",
       "      <td>N1A2</td>\n",
       "      <td>39.5</td>\n",
       "      <td>17.4</td>\n",
       "      <td>186.0</td>\n",
       "      <td>3800.0</td>\n",
       "      <td>NaN</td>\n",
       "    </tr>\n",
       "  </tbody>\n",
       "</table>\n",
       "</div>"
      ],
      "text/plain": [
       "  studyName  Sample Number Species Sample ID  Region     Island Individual ID  \\\n",
       "0   PAL0708              1  Adelie       A_1  Anvers  Torgersen          N1A1   \n",
       "1   PAL0708              2  Adelie       A_2  Anvers  Torgersen          N1A2   \n",
       "\n",
       "   Culmen Length (mm)  Culmen Depth (mm)  Flipper Length (mm)  Body Mass (g)  \\\n",
       "0                39.1               18.7                181.0         3750.0   \n",
       "1                39.5               17.4                186.0         3800.0   \n",
       "\n",
       "                         Comments  \n",
       "0  Not enough blood for isotopes.  \n",
       "1                             NaN  "
      ]
     },
     "execution_count": 3,
     "metadata": {},
     "output_type": "execute_result"
    }
   ],
   "source": [
    "pd.read_csv('penguins_adelie.csv').head(2)"
   ]
  },
  {
   "cell_type": "code",
   "execution_count": 4,
   "metadata": {},
   "outputs": [
    {
     "data": {
      "text/html": [
       "<div>\n",
       "<style scoped>\n",
       "    .dataframe tbody tr th:only-of-type {\n",
       "        vertical-align: middle;\n",
       "    }\n",
       "\n",
       "    .dataframe tbody tr th {\n",
       "        vertical-align: top;\n",
       "    }\n",
       "\n",
       "    .dataframe thead th {\n",
       "        text-align: right;\n",
       "    }\n",
       "</style>\n",
       "<table border=\"1\" class=\"dataframe\">\n",
       "  <thead>\n",
       "    <tr style=\"text-align: right;\">\n",
       "      <th></th>\n",
       "      <th>studyName</th>\n",
       "      <th>Sample Number</th>\n",
       "      <th>Species</th>\n",
       "      <th>Sample ID</th>\n",
       "      <th>Region</th>\n",
       "      <th>Island</th>\n",
       "      <th>Individual ID</th>\n",
       "      <th>Culmen Length (mm)</th>\n",
       "      <th>Culmen Depth (mm)</th>\n",
       "      <th>Flipper Length (mm)</th>\n",
       "      <th>Body Mass (g)</th>\n",
       "      <th>Comments</th>\n",
       "    </tr>\n",
       "  </thead>\n",
       "  <tbody>\n",
       "    <tr>\n",
       "      <th>0</th>\n",
       "      <td>PAL0708</td>\n",
       "      <td>1</td>\n",
       "      <td>Chinstrap</td>\n",
       "      <td>C_1</td>\n",
       "      <td>Anvers</td>\n",
       "      <td>Dream</td>\n",
       "      <td>N61A1</td>\n",
       "      <td>46.5</td>\n",
       "      <td>17.9</td>\n",
       "      <td>192.0</td>\n",
       "      <td>3500.0</td>\n",
       "      <td>NaN</td>\n",
       "    </tr>\n",
       "    <tr>\n",
       "      <th>1</th>\n",
       "      <td>PAL0708</td>\n",
       "      <td>2</td>\n",
       "      <td>Chinstrap</td>\n",
       "      <td>C_2</td>\n",
       "      <td>Anvers</td>\n",
       "      <td>Dream</td>\n",
       "      <td>N61A2</td>\n",
       "      <td>50.0</td>\n",
       "      <td>19.5</td>\n",
       "      <td>196.0</td>\n",
       "      <td>3900.0</td>\n",
       "      <td>NaN</td>\n",
       "    </tr>\n",
       "  </tbody>\n",
       "</table>\n",
       "</div>"
      ],
      "text/plain": [
       "  studyName  Sample Number    Species Sample ID  Region Island Individual ID  \\\n",
       "0   PAL0708              1  Chinstrap       C_1  Anvers  Dream         N61A1   \n",
       "1   PAL0708              2  Chinstrap       C_2  Anvers  Dream         N61A2   \n",
       "\n",
       "   Culmen Length (mm)  Culmen Depth (mm)  Flipper Length (mm)  Body Mass (g)  \\\n",
       "0                46.5               17.9                192.0         3500.0   \n",
       "1                50.0               19.5                196.0         3900.0   \n",
       "\n",
       "   Comments  \n",
       "0       NaN  \n",
       "1       NaN  "
      ]
     },
     "execution_count": 4,
     "metadata": {},
     "output_type": "execute_result"
    }
   ],
   "source": [
    "pd.read_csv('penguins_chinstrap.csv').head(2)"
   ]
  },
  {
   "cell_type": "code",
   "execution_count": 5,
   "metadata": {},
   "outputs": [
    {
     "data": {
      "text/html": [
       "<div>\n",
       "<style scoped>\n",
       "    .dataframe tbody tr th:only-of-type {\n",
       "        vertical-align: middle;\n",
       "    }\n",
       "\n",
       "    .dataframe tbody tr th {\n",
       "        vertical-align: top;\n",
       "    }\n",
       "\n",
       "    .dataframe thead th {\n",
       "        text-align: right;\n",
       "    }\n",
       "</style>\n",
       "<table border=\"1\" class=\"dataframe\">\n",
       "  <thead>\n",
       "    <tr style=\"text-align: right;\">\n",
       "      <th></th>\n",
       "      <th>studyName</th>\n",
       "      <th>Sample Number</th>\n",
       "      <th>Species</th>\n",
       "      <th>Sample ID</th>\n",
       "      <th>Region</th>\n",
       "      <th>Island</th>\n",
       "      <th>Individual ID</th>\n",
       "      <th>Culmen Length (mm)</th>\n",
       "      <th>Culmen Depth (mm)</th>\n",
       "      <th>Flipper Length (mm)</th>\n",
       "      <th>Body Mass (g)</th>\n",
       "      <th>Comments</th>\n",
       "    </tr>\n",
       "  </thead>\n",
       "  <tbody>\n",
       "    <tr>\n",
       "      <th>0</th>\n",
       "      <td>PAL0708</td>\n",
       "      <td>1</td>\n",
       "      <td>Gentoo</td>\n",
       "      <td>G_1</td>\n",
       "      <td>Anvers</td>\n",
       "      <td>Biscoe</td>\n",
       "      <td>N31A1</td>\n",
       "      <td>46.1</td>\n",
       "      <td>13.2</td>\n",
       "      <td>211.0</td>\n",
       "      <td>4500.0</td>\n",
       "      <td>NaN</td>\n",
       "    </tr>\n",
       "    <tr>\n",
       "      <th>1</th>\n",
       "      <td>PAL0708</td>\n",
       "      <td>2</td>\n",
       "      <td>Gentoo</td>\n",
       "      <td>G_2</td>\n",
       "      <td>Anvers</td>\n",
       "      <td>Biscoe</td>\n",
       "      <td>N31A2</td>\n",
       "      <td>50.0</td>\n",
       "      <td>16.3</td>\n",
       "      <td>230.0</td>\n",
       "      <td>5700.0</td>\n",
       "      <td>NaN</td>\n",
       "    </tr>\n",
       "  </tbody>\n",
       "</table>\n",
       "</div>"
      ],
      "text/plain": [
       "  studyName  Sample Number Species Sample ID  Region  Island Individual ID  \\\n",
       "0   PAL0708              1  Gentoo       G_1  Anvers  Biscoe         N31A1   \n",
       "1   PAL0708              2  Gentoo       G_2  Anvers  Biscoe         N31A2   \n",
       "\n",
       "   Culmen Length (mm)  Culmen Depth (mm)  Flipper Length (mm)  Body Mass (g)  \\\n",
       "0                46.1               13.2                211.0         4500.0   \n",
       "1                50.0               16.3                230.0         5700.0   \n",
       "\n",
       "   Comments  \n",
       "0       NaN  \n",
       "1       NaN  "
      ]
     },
     "execution_count": 5,
     "metadata": {},
     "output_type": "execute_result"
    }
   ],
   "source": [
    "pd.read_csv('penguins_gentoo.csv').head(2)"
   ]
  },
  {
   "cell_type": "code",
   "execution_count": 6,
   "metadata": {},
   "outputs": [],
   "source": [
    "import os"
   ]
  },
  {
   "cell_type": "code",
   "execution_count": 7,
   "metadata": {},
   "outputs": [
    {
     "data": {
      "text/plain": [
       "['data_wrangling_notebook.ipynb',\n",
       " 'penguins_adelie.csv',\n",
       " 'penguins_chinstrap.csv',\n",
       " 'penguins_gentoo.csv',\n",
       " 'sex_data_penguins.csv',\n",
       " '.ipynb_checkpoints']"
      ]
     },
     "execution_count": 7,
     "metadata": {},
     "output_type": "execute_result"
    }
   ],
   "source": [
    "os.listdir()"
   ]
  },
  {
   "cell_type": "code",
   "execution_count": 8,
   "metadata": {},
   "outputs": [
    {
     "name": "stdout",
     "output_type": "stream",
     "text": [
      "data_wrangling_notebook.ipynb\n",
      "penguins_adelie.csv\n",
      "penguins_chinstrap.csv\n",
      "penguins_gentoo.csv\n",
      "sex_data_penguins.csv\n",
      ".ipynb_checkpoints\n"
     ]
    }
   ],
   "source": [
    "for file in os.listdir():\n",
    "    print(file)"
   ]
  },
  {
   "cell_type": "code",
   "execution_count": 9,
   "metadata": {},
   "outputs": [
    {
     "name": "stdout",
     "output_type": "stream",
     "text": [
      "penguins_adelie.csv\n",
      "penguins_chinstrap.csv\n",
      "penguins_gentoo.csv\n"
     ]
    }
   ],
   "source": [
    "for file in os.listdir():\n",
    "    if file.startswith ('penguins'):\n",
    "        print(file)"
   ]
  },
  {
   "cell_type": "code",
   "execution_count": 10,
   "metadata": {},
   "outputs": [],
   "source": [
    "df_list = []\n",
    "for file in os.listdir():\n",
    "    if file.startswith ('penguins'):\n",
    "        df = pd.read_csv(file)\n",
    "        df_list.append(df)"
   ]
  },
  {
   "cell_type": "code",
   "execution_count": 11,
   "metadata": {},
   "outputs": [
    {
     "data": {
      "text/plain": [
       "[    studyName  Sample Number Species Sample ID  Region     Island  \\\n",
       " 0     PAL0708              1  Adelie       A_1  Anvers  Torgersen   \n",
       " 1     PAL0708              2  Adelie       A_2  Anvers  Torgersen   \n",
       " 2     PAL0708              3  Adelie       A_3  Anvers  Torgersen   \n",
       " 3     PAL0708              4  Adelie       A_4  Anvers  Torgersen   \n",
       " 4     PAL0708              5  Adelie       A_5  Anvers  Torgersen   \n",
       " ..        ...            ...     ...       ...     ...        ...   \n",
       " 147   PAL0910            148  Adelie     A_148  Anvers      Dream   \n",
       " 148   PAL0910            149  Adelie     A_149  Anvers      Dream   \n",
       " 149   PAL0910            150  Adelie     A_150  Anvers      Dream   \n",
       " 150   PAL0910            151  Adelie     A_151  Anvers      Dream   \n",
       " 151   PAL0910            152  Adelie     A_152  Anvers      Dream   \n",
       " \n",
       "     Individual ID  Culmen Length (mm)  Culmen Depth (mm)  Flipper Length (mm)  \\\n",
       " 0            N1A1                39.1               18.7                181.0   \n",
       " 1            N1A2                39.5               17.4                186.0   \n",
       " 2            N2A1                40.3               18.0                195.0   \n",
       " 3            N2A2                 NaN                NaN                  NaN   \n",
       " 4            N3A1                36.7               19.3                193.0   \n",
       " ..            ...                 ...                ...                  ...   \n",
       " 147         N83A2                36.6               18.4                184.0   \n",
       " 148         N84A1                36.0               17.8                195.0   \n",
       " 149         N84A2                37.8               18.1                193.0   \n",
       " 150         N85A1                36.0               17.1                187.0   \n",
       " 151         N85A2                41.5               18.5                201.0   \n",
       " \n",
       "      Body Mass (g)                        Comments  \n",
       " 0           3750.0  Not enough blood for isotopes.  \n",
       " 1           3800.0                             NaN  \n",
       " 2           3250.0                             NaN  \n",
       " 3              NaN              Adult not sampled.  \n",
       " 4           3450.0                             NaN  \n",
       " ..             ...                             ...  \n",
       " 147         3475.0                             NaN  \n",
       " 148         3450.0                             NaN  \n",
       " 149         3750.0                             NaN  \n",
       " 150         3700.0                             NaN  \n",
       " 151         4000.0                             NaN  \n",
       " \n",
       " [152 rows x 12 columns],\n",
       "    studyName  Sample Number    Species Sample ID  Region Island Individual ID  \\\n",
       " 0    PAL0708              1  Chinstrap       C_1  Anvers  Dream         N61A1   \n",
       " 1    PAL0708              2  Chinstrap       C_2  Anvers  Dream         N61A2   \n",
       " 2    PAL0708              3  Chinstrap       C_3  Anvers  Dream         N62A1   \n",
       " 3    PAL0708              4  Chinstrap       C_4  Anvers  Dream         N62A2   \n",
       " 4    PAL0708              5  Chinstrap       C_5  Anvers  Dream         N64A1   \n",
       " ..       ...            ...        ...       ...     ...    ...           ...   \n",
       " 63   PAL0910             64  Chinstrap      C_64  Anvers  Dream         N98A2   \n",
       " 64   PAL0910             65  Chinstrap      C_65  Anvers  Dream         N99A1   \n",
       " 65   PAL0910             66  Chinstrap      C_66  Anvers  Dream         N99A2   \n",
       " 66   PAL0910             67  Chinstrap      C_67  Anvers  Dream        N100A1   \n",
       " 67   PAL0910             68  Chinstrap      C_68  Anvers  Dream        N100A2   \n",
       " \n",
       "     Culmen Length (mm)  Culmen Depth (mm)  Flipper Length (mm)  Body Mass (g)  \\\n",
       " 0                 46.5               17.9                192.0         3500.0   \n",
       " 1                 50.0               19.5                196.0         3900.0   \n",
       " 2                 51.3               19.2                193.0         3650.0   \n",
       " 3                 45.4               18.7                188.0         3525.0   \n",
       " 4                 52.7               19.8                197.0         3725.0   \n",
       " ..                 ...                ...                  ...            ...   \n",
       " 63                55.8               19.8                207.0         4000.0   \n",
       " 64                43.5               18.1                202.0         3400.0   \n",
       " 65                49.6               18.2                193.0         3775.0   \n",
       " 66                50.8               19.0                210.0         4100.0   \n",
       " 67                50.2               18.7                198.0         3775.0   \n",
       " \n",
       "     Comments  \n",
       " 0        NaN  \n",
       " 1        NaN  \n",
       " 2        NaN  \n",
       " 3        NaN  \n",
       " 4        NaN  \n",
       " ..       ...  \n",
       " 63       NaN  \n",
       " 64       NaN  \n",
       " 65       NaN  \n",
       " 66       NaN  \n",
       " 67       NaN  \n",
       " \n",
       " [68 rows x 12 columns],\n",
       "     studyName  Sample Number Species Sample ID  Region  Island Individual ID  \\\n",
       " 0     PAL0708              1  Gentoo       G_1  Anvers  Biscoe         N31A1   \n",
       " 1     PAL0708              2  Gentoo       G_2  Anvers  Biscoe         N31A2   \n",
       " 2     PAL0708              3  Gentoo       G_3  Anvers  Biscoe         N32A1   \n",
       " 3     PAL0708              4  Gentoo       G_4  Anvers  Biscoe         N32A2   \n",
       " 4     PAL0708              5  Gentoo       G_5  Anvers  Biscoe         N33A1   \n",
       " ..        ...            ...     ...       ...     ...     ...           ...   \n",
       " 119   PAL0910            120  Gentoo     G_120  Anvers  Biscoe         N38A2   \n",
       " 120   PAL0910            121  Gentoo     G_121  Anvers  Biscoe         N39A1   \n",
       " 121   PAL0910            122  Gentoo     G_122  Anvers  Biscoe         N39A2   \n",
       " 122   PAL0910            123  Gentoo     G_123  Anvers  Biscoe         N43A1   \n",
       " 123   PAL0910            124  Gentoo     G_124  Anvers  Biscoe         N43A2   \n",
       " \n",
       "      Culmen Length (mm)  Culmen Depth (mm)  Flipper Length (mm)  \\\n",
       " 0                  46.1               13.2                211.0   \n",
       " 1                  50.0               16.3                230.0   \n",
       " 2                  48.7               14.1                210.0   \n",
       " 3                  50.0               15.2                218.0   \n",
       " 4                  47.6               14.5                215.0   \n",
       " ..                  ...                ...                  ...   \n",
       " 119                 NaN                NaN                  NaN   \n",
       " 120                46.8               14.3                215.0   \n",
       " 121                50.4               15.7                222.0   \n",
       " 122                45.2               14.8                212.0   \n",
       " 123                49.9               16.1                213.0   \n",
       " \n",
       "      Body Mass (g)  Comments  \n",
       " 0           4500.0       NaN  \n",
       " 1           5700.0       NaN  \n",
       " 2           4450.0       NaN  \n",
       " 3           5700.0       NaN  \n",
       " 4           5400.0       NaN  \n",
       " ..             ...       ...  \n",
       " 119            NaN       NaN  \n",
       " 120         4850.0       NaN  \n",
       " 121         5750.0       NaN  \n",
       " 122         5200.0       NaN  \n",
       " 123         5400.0       NaN  \n",
       " \n",
       " [124 rows x 12 columns]]"
      ]
     },
     "execution_count": 11,
     "metadata": {},
     "output_type": "execute_result"
    }
   ],
   "source": [
    "df_list"
   ]
  },
  {
   "cell_type": "code",
   "execution_count": 12,
   "metadata": {},
   "outputs": [],
   "source": [
    "penguins_df = pd.concat(df_list)"
   ]
  },
  {
   "cell_type": "code",
   "execution_count": 13,
   "metadata": {},
   "outputs": [
    {
     "data": {
      "text/html": [
       "<div>\n",
       "<style scoped>\n",
       "    .dataframe tbody tr th:only-of-type {\n",
       "        vertical-align: middle;\n",
       "    }\n",
       "\n",
       "    .dataframe tbody tr th {\n",
       "        vertical-align: top;\n",
       "    }\n",
       "\n",
       "    .dataframe thead th {\n",
       "        text-align: right;\n",
       "    }\n",
       "</style>\n",
       "<table border=\"1\" class=\"dataframe\">\n",
       "  <thead>\n",
       "    <tr style=\"text-align: right;\">\n",
       "      <th></th>\n",
       "      <th>studyName</th>\n",
       "      <th>Sample Number</th>\n",
       "      <th>Species</th>\n",
       "      <th>Sample ID</th>\n",
       "      <th>Region</th>\n",
       "      <th>Island</th>\n",
       "      <th>Individual ID</th>\n",
       "      <th>Culmen Length (mm)</th>\n",
       "      <th>Culmen Depth (mm)</th>\n",
       "      <th>Flipper Length (mm)</th>\n",
       "      <th>Body Mass (g)</th>\n",
       "      <th>Comments</th>\n",
       "    </tr>\n",
       "  </thead>\n",
       "  <tbody>\n",
       "    <tr>\n",
       "      <th>0</th>\n",
       "      <td>PAL0708</td>\n",
       "      <td>1</td>\n",
       "      <td>Adelie</td>\n",
       "      <td>A_1</td>\n",
       "      <td>Anvers</td>\n",
       "      <td>Torgersen</td>\n",
       "      <td>N1A1</td>\n",
       "      <td>39.1</td>\n",
       "      <td>18.7</td>\n",
       "      <td>181.0</td>\n",
       "      <td>3750.0</td>\n",
       "      <td>Not enough blood for isotopes.</td>\n",
       "    </tr>\n",
       "    <tr>\n",
       "      <th>1</th>\n",
       "      <td>PAL0708</td>\n",
       "      <td>2</td>\n",
       "      <td>Adelie</td>\n",
       "      <td>A_2</td>\n",
       "      <td>Anvers</td>\n",
       "      <td>Torgersen</td>\n",
       "      <td>N1A2</td>\n",
       "      <td>39.5</td>\n",
       "      <td>17.4</td>\n",
       "      <td>186.0</td>\n",
       "      <td>3800.0</td>\n",
       "      <td>NaN</td>\n",
       "    </tr>\n",
       "    <tr>\n",
       "      <th>2</th>\n",
       "      <td>PAL0708</td>\n",
       "      <td>3</td>\n",
       "      <td>Adelie</td>\n",
       "      <td>A_3</td>\n",
       "      <td>Anvers</td>\n",
       "      <td>Torgersen</td>\n",
       "      <td>N2A1</td>\n",
       "      <td>40.3</td>\n",
       "      <td>18.0</td>\n",
       "      <td>195.0</td>\n",
       "      <td>3250.0</td>\n",
       "      <td>NaN</td>\n",
       "    </tr>\n",
       "    <tr>\n",
       "      <th>3</th>\n",
       "      <td>PAL0708</td>\n",
       "      <td>4</td>\n",
       "      <td>Adelie</td>\n",
       "      <td>A_4</td>\n",
       "      <td>Anvers</td>\n",
       "      <td>Torgersen</td>\n",
       "      <td>N2A2</td>\n",
       "      <td>NaN</td>\n",
       "      <td>NaN</td>\n",
       "      <td>NaN</td>\n",
       "      <td>NaN</td>\n",
       "      <td>Adult not sampled.</td>\n",
       "    </tr>\n",
       "    <tr>\n",
       "      <th>4</th>\n",
       "      <td>PAL0708</td>\n",
       "      <td>5</td>\n",
       "      <td>Adelie</td>\n",
       "      <td>A_5</td>\n",
       "      <td>Anvers</td>\n",
       "      <td>Torgersen</td>\n",
       "      <td>N3A1</td>\n",
       "      <td>36.7</td>\n",
       "      <td>19.3</td>\n",
       "      <td>193.0</td>\n",
       "      <td>3450.0</td>\n",
       "      <td>NaN</td>\n",
       "    </tr>\n",
       "  </tbody>\n",
       "</table>\n",
       "</div>"
      ],
      "text/plain": [
       "  studyName  Sample Number Species Sample ID  Region     Island Individual ID  \\\n",
       "0   PAL0708              1  Adelie       A_1  Anvers  Torgersen          N1A1   \n",
       "1   PAL0708              2  Adelie       A_2  Anvers  Torgersen          N1A2   \n",
       "2   PAL0708              3  Adelie       A_3  Anvers  Torgersen          N2A1   \n",
       "3   PAL0708              4  Adelie       A_4  Anvers  Torgersen          N2A2   \n",
       "4   PAL0708              5  Adelie       A_5  Anvers  Torgersen          N3A1   \n",
       "\n",
       "   Culmen Length (mm)  Culmen Depth (mm)  Flipper Length (mm)  Body Mass (g)  \\\n",
       "0                39.1               18.7                181.0         3750.0   \n",
       "1                39.5               17.4                186.0         3800.0   \n",
       "2                40.3               18.0                195.0         3250.0   \n",
       "3                 NaN                NaN                  NaN            NaN   \n",
       "4                36.7               19.3                193.0         3450.0   \n",
       "\n",
       "                         Comments  \n",
       "0  Not enough blood for isotopes.  \n",
       "1                             NaN  \n",
       "2                             NaN  \n",
       "3              Adult not sampled.  \n",
       "4                             NaN  "
      ]
     },
     "execution_count": 13,
     "metadata": {},
     "output_type": "execute_result"
    }
   ],
   "source": [
    "penguins_df.head()"
   ]
  },
  {
   "cell_type": "code",
   "execution_count": 14,
   "metadata": {},
   "outputs": [
    {
     "data": {
      "text/plain": [
       "(344, 12)"
      ]
     },
     "execution_count": 14,
     "metadata": {},
     "output_type": "execute_result"
    }
   ],
   "source": [
    "penguins_df.shape"
   ]
  },
  {
   "cell_type": "code",
   "execution_count": 15,
   "metadata": {},
   "outputs": [
    {
     "data": {
      "text/plain": [
       "<bound method DataFrame.info of     studyName  Sample Number Species Sample ID  Region     Island  \\\n",
       "0     PAL0708              1  Adelie       A_1  Anvers  Torgersen   \n",
       "1     PAL0708              2  Adelie       A_2  Anvers  Torgersen   \n",
       "2     PAL0708              3  Adelie       A_3  Anvers  Torgersen   \n",
       "3     PAL0708              4  Adelie       A_4  Anvers  Torgersen   \n",
       "4     PAL0708              5  Adelie       A_5  Anvers  Torgersen   \n",
       "..        ...            ...     ...       ...     ...        ...   \n",
       "119   PAL0910            120  Gentoo     G_120  Anvers     Biscoe   \n",
       "120   PAL0910            121  Gentoo     G_121  Anvers     Biscoe   \n",
       "121   PAL0910            122  Gentoo     G_122  Anvers     Biscoe   \n",
       "122   PAL0910            123  Gentoo     G_123  Anvers     Biscoe   \n",
       "123   PAL0910            124  Gentoo     G_124  Anvers     Biscoe   \n",
       "\n",
       "    Individual ID  Culmen Length (mm)  Culmen Depth (mm)  Flipper Length (mm)  \\\n",
       "0            N1A1                39.1               18.7                181.0   \n",
       "1            N1A2                39.5               17.4                186.0   \n",
       "2            N2A1                40.3               18.0                195.0   \n",
       "3            N2A2                 NaN                NaN                  NaN   \n",
       "4            N3A1                36.7               19.3                193.0   \n",
       "..            ...                 ...                ...                  ...   \n",
       "119         N38A2                 NaN                NaN                  NaN   \n",
       "120         N39A1                46.8               14.3                215.0   \n",
       "121         N39A2                50.4               15.7                222.0   \n",
       "122         N43A1                45.2               14.8                212.0   \n",
       "123         N43A2                49.9               16.1                213.0   \n",
       "\n",
       "     Body Mass (g)                        Comments  \n",
       "0           3750.0  Not enough blood for isotopes.  \n",
       "1           3800.0                             NaN  \n",
       "2           3250.0                             NaN  \n",
       "3              NaN              Adult not sampled.  \n",
       "4           3450.0                             NaN  \n",
       "..             ...                             ...  \n",
       "119            NaN                             NaN  \n",
       "120         4850.0                             NaN  \n",
       "121         5750.0                             NaN  \n",
       "122         5200.0                             NaN  \n",
       "123         5400.0                             NaN  \n",
       "\n",
       "[344 rows x 12 columns]>"
      ]
     },
     "execution_count": 15,
     "metadata": {},
     "output_type": "execute_result"
    }
   ],
   "source": [
    "penguins_df.info"
   ]
  },
  {
   "cell_type": "markdown",
   "metadata": {},
   "source": [
    "### 2. Uh-oh! We're missing the sex data!\n",
    "- Fortunately, that data exists in another `.csv` file. \n",
    "- How can we \"merge\" the sex data into our current DataFrame?"
   ]
  },
  {
   "cell_type": "code",
   "execution_count": 16,
   "metadata": {},
   "outputs": [],
   "source": [
    "sex_df = pd.read_csv('sex_data_penguins.csv')"
   ]
  },
  {
   "cell_type": "code",
   "execution_count": 17,
   "metadata": {},
   "outputs": [
    {
     "data": {
      "text/html": [
       "<div>\n",
       "<style scoped>\n",
       "    .dataframe tbody tr th:only-of-type {\n",
       "        vertical-align: middle;\n",
       "    }\n",
       "\n",
       "    .dataframe tbody tr th {\n",
       "        vertical-align: top;\n",
       "    }\n",
       "\n",
       "    .dataframe thead th {\n",
       "        text-align: right;\n",
       "    }\n",
       "</style>\n",
       "<table border=\"1\" class=\"dataframe\">\n",
       "  <thead>\n",
       "    <tr style=\"text-align: right;\">\n",
       "      <th></th>\n",
       "      <th>Sex</th>\n",
       "      <th>Sample Number</th>\n",
       "      <th>Species</th>\n",
       "    </tr>\n",
       "  </thead>\n",
       "  <tbody>\n",
       "    <tr>\n",
       "      <th>0</th>\n",
       "      <td>MALE</td>\n",
       "      <td>1</td>\n",
       "      <td>Adelie</td>\n",
       "    </tr>\n",
       "    <tr>\n",
       "      <th>1</th>\n",
       "      <td>FEMALE</td>\n",
       "      <td>2</td>\n",
       "      <td>Adelie</td>\n",
       "    </tr>\n",
       "    <tr>\n",
       "      <th>2</th>\n",
       "      <td>FEMALE</td>\n",
       "      <td>3</td>\n",
       "      <td>Adelie</td>\n",
       "    </tr>\n",
       "    <tr>\n",
       "      <th>3</th>\n",
       "      <td>NaN</td>\n",
       "      <td>4</td>\n",
       "      <td>Adelie</td>\n",
       "    </tr>\n",
       "    <tr>\n",
       "      <th>4</th>\n",
       "      <td>FEMALE</td>\n",
       "      <td>5</td>\n",
       "      <td>Adelie</td>\n",
       "    </tr>\n",
       "  </tbody>\n",
       "</table>\n",
       "</div>"
      ],
      "text/plain": [
       "      Sex  Sample Number Species\n",
       "0    MALE              1  Adelie\n",
       "1  FEMALE              2  Adelie\n",
       "2  FEMALE              3  Adelie\n",
       "3     NaN              4  Adelie\n",
       "4  FEMALE              5  Adelie"
      ]
     },
     "execution_count": 17,
     "metadata": {},
     "output_type": "execute_result"
    }
   ],
   "source": [
    "sex_df.head()"
   ]
  },
  {
   "cell_type": "code",
   "execution_count": 18,
   "metadata": {},
   "outputs": [
    {
     "data": {
      "text/plain": [
       "(344, 3)"
      ]
     },
     "execution_count": 18,
     "metadata": {},
     "output_type": "execute_result"
    }
   ],
   "source": [
    "sex_df.shape"
   ]
  },
  {
   "cell_type": "code",
   "execution_count": 19,
   "metadata": {},
   "outputs": [],
   "source": [
    "final_df = pd.merge(left = penguins_df, right = sex_df, on = ['Sample Number', 'Species'], how = 'inner')"
   ]
  },
  {
   "cell_type": "code",
   "execution_count": 20,
   "metadata": {},
   "outputs": [
    {
     "data": {
      "text/html": [
       "<div>\n",
       "<style scoped>\n",
       "    .dataframe tbody tr th:only-of-type {\n",
       "        vertical-align: middle;\n",
       "    }\n",
       "\n",
       "    .dataframe tbody tr th {\n",
       "        vertical-align: top;\n",
       "    }\n",
       "\n",
       "    .dataframe thead th {\n",
       "        text-align: right;\n",
       "    }\n",
       "</style>\n",
       "<table border=\"1\" class=\"dataframe\">\n",
       "  <thead>\n",
       "    <tr style=\"text-align: right;\">\n",
       "      <th></th>\n",
       "      <th>studyName</th>\n",
       "      <th>Sample Number</th>\n",
       "      <th>Species</th>\n",
       "      <th>Sample ID</th>\n",
       "      <th>Region</th>\n",
       "      <th>Island</th>\n",
       "      <th>Individual ID</th>\n",
       "      <th>Culmen Length (mm)</th>\n",
       "      <th>Culmen Depth (mm)</th>\n",
       "      <th>Flipper Length (mm)</th>\n",
       "      <th>Body Mass (g)</th>\n",
       "      <th>Comments</th>\n",
       "      <th>Sex</th>\n",
       "    </tr>\n",
       "  </thead>\n",
       "  <tbody>\n",
       "    <tr>\n",
       "      <th>0</th>\n",
       "      <td>PAL0708</td>\n",
       "      <td>1</td>\n",
       "      <td>Adelie</td>\n",
       "      <td>A_1</td>\n",
       "      <td>Anvers</td>\n",
       "      <td>Torgersen</td>\n",
       "      <td>N1A1</td>\n",
       "      <td>39.1</td>\n",
       "      <td>18.7</td>\n",
       "      <td>181.0</td>\n",
       "      <td>3750.0</td>\n",
       "      <td>Not enough blood for isotopes.</td>\n",
       "      <td>MALE</td>\n",
       "    </tr>\n",
       "    <tr>\n",
       "      <th>1</th>\n",
       "      <td>PAL0708</td>\n",
       "      <td>2</td>\n",
       "      <td>Adelie</td>\n",
       "      <td>A_2</td>\n",
       "      <td>Anvers</td>\n",
       "      <td>Torgersen</td>\n",
       "      <td>N1A2</td>\n",
       "      <td>39.5</td>\n",
       "      <td>17.4</td>\n",
       "      <td>186.0</td>\n",
       "      <td>3800.0</td>\n",
       "      <td>NaN</td>\n",
       "      <td>FEMALE</td>\n",
       "    </tr>\n",
       "    <tr>\n",
       "      <th>2</th>\n",
       "      <td>PAL0708</td>\n",
       "      <td>3</td>\n",
       "      <td>Adelie</td>\n",
       "      <td>A_3</td>\n",
       "      <td>Anvers</td>\n",
       "      <td>Torgersen</td>\n",
       "      <td>N2A1</td>\n",
       "      <td>40.3</td>\n",
       "      <td>18.0</td>\n",
       "      <td>195.0</td>\n",
       "      <td>3250.0</td>\n",
       "      <td>NaN</td>\n",
       "      <td>FEMALE</td>\n",
       "    </tr>\n",
       "    <tr>\n",
       "      <th>3</th>\n",
       "      <td>PAL0708</td>\n",
       "      <td>4</td>\n",
       "      <td>Adelie</td>\n",
       "      <td>A_4</td>\n",
       "      <td>Anvers</td>\n",
       "      <td>Torgersen</td>\n",
       "      <td>N2A2</td>\n",
       "      <td>NaN</td>\n",
       "      <td>NaN</td>\n",
       "      <td>NaN</td>\n",
       "      <td>NaN</td>\n",
       "      <td>Adult not sampled.</td>\n",
       "      <td>NaN</td>\n",
       "    </tr>\n",
       "    <tr>\n",
       "      <th>4</th>\n",
       "      <td>PAL0708</td>\n",
       "      <td>5</td>\n",
       "      <td>Adelie</td>\n",
       "      <td>A_5</td>\n",
       "      <td>Anvers</td>\n",
       "      <td>Torgersen</td>\n",
       "      <td>N3A1</td>\n",
       "      <td>36.7</td>\n",
       "      <td>19.3</td>\n",
       "      <td>193.0</td>\n",
       "      <td>3450.0</td>\n",
       "      <td>NaN</td>\n",
       "      <td>FEMALE</td>\n",
       "    </tr>\n",
       "  </tbody>\n",
       "</table>\n",
       "</div>"
      ],
      "text/plain": [
       "  studyName  Sample Number Species Sample ID  Region     Island Individual ID  \\\n",
       "0   PAL0708              1  Adelie       A_1  Anvers  Torgersen          N1A1   \n",
       "1   PAL0708              2  Adelie       A_2  Anvers  Torgersen          N1A2   \n",
       "2   PAL0708              3  Adelie       A_3  Anvers  Torgersen          N2A1   \n",
       "3   PAL0708              4  Adelie       A_4  Anvers  Torgersen          N2A2   \n",
       "4   PAL0708              5  Adelie       A_5  Anvers  Torgersen          N3A1   \n",
       "\n",
       "   Culmen Length (mm)  Culmen Depth (mm)  Flipper Length (mm)  Body Mass (g)  \\\n",
       "0                39.1               18.7                181.0         3750.0   \n",
       "1                39.5               17.4                186.0         3800.0   \n",
       "2                40.3               18.0                195.0         3250.0   \n",
       "3                 NaN                NaN                  NaN            NaN   \n",
       "4                36.7               19.3                193.0         3450.0   \n",
       "\n",
       "                         Comments     Sex  \n",
       "0  Not enough blood for isotopes.    MALE  \n",
       "1                             NaN  FEMALE  \n",
       "2                             NaN  FEMALE  \n",
       "3              Adult not sampled.     NaN  \n",
       "4                             NaN  FEMALE  "
      ]
     },
     "execution_count": 20,
     "metadata": {},
     "output_type": "execute_result"
    }
   ],
   "source": [
    "final_df.head()"
   ]
  },
  {
   "cell_type": "code",
   "execution_count": 21,
   "metadata": {},
   "outputs": [
    {
     "data": {
      "text/plain": [
       "(344, 13)"
      ]
     },
     "execution_count": 21,
     "metadata": {},
     "output_type": "execute_result"
    }
   ],
   "source": [
    "final_df.shape"
   ]
  },
  {
   "cell_type": "markdown",
   "metadata": {},
   "source": [
    "### 3. Inspect for missing values / other potential issues"
   ]
  },
  {
   "cell_type": "code",
   "execution_count": 22,
   "metadata": {},
   "outputs": [
    {
     "data": {
      "text/plain": [
       "studyName                0\n",
       "Sample Number            0\n",
       "Species                  0\n",
       "Sample ID                0\n",
       "Region                   0\n",
       "Island                   0\n",
       "Individual ID            0\n",
       "Culmen Length (mm)       2\n",
       "Culmen Depth (mm)        2\n",
       "Flipper Length (mm)      2\n",
       "Body Mass (g)            2\n",
       "Comments               318\n",
       "Sex                     10\n",
       "dtype: int64"
      ]
     },
     "execution_count": 22,
     "metadata": {},
     "output_type": "execute_result"
    }
   ],
   "source": [
    "final_df.isna().sum()"
   ]
  },
  {
   "cell_type": "code",
   "execution_count": 23,
   "metadata": {},
   "outputs": [
    {
     "data": {
      "text/plain": [
       "<AxesSubplot:>"
      ]
     },
     "execution_count": 23,
     "metadata": {},
     "output_type": "execute_result"
    },
    {
     "data": {
      "image/png": "[encoded data removed]",
      "text/plain": [
       "<Figure size 432x288 with 2 Axes>"
      ]
     },
     "metadata": {
      "needs_background": "light"
     },
     "output_type": "display_data"
    }
   ],
   "source": [
    "import seaborn as sns\n",
    "import matplotlib.pyplot as plt\n",
    "sns.heatmap(final_df.isna())"
   ]
  }
 ],
 "metadata": {
  "kernelspec": {
   "display_name": "Python 3",
   "language": "python",
   "name": "python3"
  },
  "language_info": {
   "codemirror_mode": {
    "name": "ipython",
    "version": 3
   },
   "file_extension": ".py",
   "mimetype": "text/x-python",
   "name": "python",
   "nbconvert_exporter": "python",
   "pygments_lexer": "ipython3",
   "version": "3.8.5"
  }
 },
 "nbformat": 4,
 "nbformat_minor": 4
}
