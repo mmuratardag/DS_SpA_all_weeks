{
 "cells": [
  {
   "cell_type": "code",
   "execution_count": 1,
   "metadata": {},
   "outputs": [],
   "source": [
    "import pandas as pd\n",
    "from sklearn.preprocessing import OneHotEncoder\n",
    "\n",
    "df = pd.read_csv('penguins_simple.csv', sep=';')"
   ]
  },
  {
   "cell_type": "code",
   "execution_count": 2,
   "metadata": {},
   "outputs": [
    {
     "name": "stdout",
     "output_type": "stream",
     "text": [
      "(333, 3)\n",
      "\n"
     ]
    }
   ],
   "source": [
    "# transform a categorical column\n",
    "ohc = OneHotEncoder(sparse=False, handle_unknown='ignore')\n",
    "cols = df[['Species']]\n",
    "ohc.fit(cols)            # learn the classes\n",
    "t = ohc.transform(cols)  # result is a numpy array\n",
    "print(t.shape)"
   ]
  },
  {
   "cell_type": "code",
   "execution_count": 3,
   "metadata": {},
   "outputs": [
    {
     "name": "stdout",
     "output_type": "stream",
     "text": [
      "  Adelie Chinstrap Gentoo\n",
      "0    1.0       0.0    0.0\n",
      "1    1.0       0.0    0.0\n",
      "2    1.0       0.0    0.0\n",
      "3    1.0       0.0    0.0\n",
      "4    1.0       0.0    0.0\n",
      "\n"
     ]
    }
   ],
   "source": [
    "# format output as a DataFame\n",
    "species = pd.DataFrame(t, columns=ohc.categories_)\n",
    "print(species.head())\n",
    "print()"
   ]
  },
  {
   "cell_type": "code",
   "execution_count": 4,
   "metadata": {},
   "outputs": [],
   "source": [
    "# BONUS: include a second column\n",
    "cols = df[['Sex']]\n",
    "\n",
    "ohc2 = OneHotEncoder(sparse=False, handle_unknown='ignore')\n",
    "ohc2.fit(cols)\n",
    "t = ohc2.transform(cols)\n",
    "sex = pd.DataFrame(t, columns=ohc2.categories_)"
   ]
  },
  {
   "cell_type": "code",
   "execution_count": 5,
   "metadata": {},
   "outputs": [
    {
     "name": "stdout",
     "output_type": "stream",
     "text": [
      "  Adelie Chinstrap Gentoo FEMALE MALE\n",
      "0    1.0       0.0    0.0    0.0  1.0\n",
      "1    1.0       0.0    0.0    1.0  0.0\n",
      "2    1.0       0.0    0.0    1.0  0.0\n",
      "3    1.0       0.0    0.0    1.0  0.0\n",
      "4    1.0       0.0    0.0    0.0  1.0\n"
     ]
    }
   ],
   "source": [
    "# merge both DataFrames\n",
    "df2 = pd.concat([species, sex], axis=1)\n",
    "print(df2.head())"
   ]
  }
 ],
 "metadata": {
  "kernelspec": {
   "display_name": "Python 3",
   "language": "python",
   "name": "python3"
  },
  "language_info": {
   "codemirror_mode": {
    "name": "ipython",
    "version": 3
   },
   "file_extension": ".py",
   "mimetype": "text/x-python",
   "name": "python",
   "nbconvert_exporter": "python",
   "pygments_lexer": "ipython3",
   "version": "3.8.5"
  }
 },
 "nbformat": 4,
 "nbformat_minor": 4
}
