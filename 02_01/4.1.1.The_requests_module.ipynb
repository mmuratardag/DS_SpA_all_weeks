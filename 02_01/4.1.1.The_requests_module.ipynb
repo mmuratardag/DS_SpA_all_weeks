{
 "cells": [
  {
   "cell_type": "code",
   "execution_count": 4,
   "metadata": {},
   "outputs": [
    {
     "name": "stdout",
     "output_type": "stream",
     "text": [
      "200\n",
      "<!DOCTYPE html>\n",
      "<html lang=\"en\" prefix=\"og: http://ogp.me/ns# fb: http://ogp.me/ns/fb#\" dir=\"ltr\">\n",
      "\n",
      "<head>\n",
      "    <title>Your new career starts here | Spiced Academy</title>\n",
      "    <meta name=\"description\" content=\"Kickstart your new career with our intensive, on-site tech programs in Web Development and Data Science.\">\n",
      "    \n",
      "    <meta charset=\"UTF-8\">\n",
      "    <meta name=\"viewport\" content=\"width=device-width, initial-scale=1\" />\n",
      "    <link href=\"https://fonts.googleapis.com/css?family=Poppins:300,400,600&display=swap\" rel=\"stylesheet\">\n",
      "    <link href=\"https://fonts.googleapis.com/css?family=IBM+Plex+Mono:400,500&display=swap\" rel=\"stylesheet\">\n",
      "    <link rel='stylesheet' href='/css/main.css'>\n",
      "    <link rel=\"apple-touch-icon\" sizes=\"180x180\" href=\"/apple-touch-icon.png?v=3\">\n",
      "    <link rel=\"icon\" type=\"image/png\" sizes=\"32x32\" href=\"/favicon-32x32.png?v=3\">\n",
      "    <link rel=\"icon\" type=\"image/png\" sizes=\"16x16\" href=\"/favicon-16x16.png?v=3\">\n",
      "    <link rel=\"mask-icon\" href=\"/safari-pinned-tab\n"
     ]
    }
   ],
   "source": [
    "import requests\n",
    "\n",
    "r = requests.get('http://spiced-academy.com/')\n",
    "\n",
    "print(r.status_code)\n",
    "print(r.text[:1000])"
   ]
  },
  {
   "cell_type": "code",
   "execution_count": 5,
   "metadata": {},
   "outputs": [
    {
     "name": "stdout",
     "output_type": "stream",
     "text": [
      "<?xml version=\"1.0\" encoding=\"UTF-8\" ?>\n",
      "<!DOCTYPE eSearchResult PUBLIC \"-//NLM//DTD esearch 20060628//EN\" \"https://eutils.ncbi.nlm.nih.gov/eutils/dtd/20060628/esearch.dtd\">\n",
      "<eSearchResult><Count>396351</Count><RetMax>20</RetMax><RetStart>0</RetStart><IdList>\n",
      "<Id>33515919</Id>\n",
      "<Id>33515750</Id>\n",
      "<Id>33515469</Id>\n",
      "<Id>33515353</Id>\n",
      "<Id>33514957</Id>\n",
      "<Id>33514865</Id>\n",
      "<Id>33514556</Id>\n",
      "<Id>33514494</Id>\n",
      "<Id>33514048</Id>\n",
      "<Id>33513836</Id>\n",
      "<Id>33513801</Id>\n",
      "<Id>33513782</Id>\n",
      "<Id>33513708</Id>\n",
      "<Id>33513667</Id>\n",
      "<Id>33513665</Id>\n",
      "<Id>33513544</Id>\n",
      "<Id>33513212</Id>\n",
      "<Id>33513106</Id>\n",
      "<Id>33513010</Id>\n",
      "<Id>33512501</Id>\n",
      "</IdList><TranslationSet><Translation>     <From>escherichia</From>     <To>\"escherichia\"[MeSH Terms] OR \"escherichia\"[All Fields]</To>    </Translation></TranslationSet><TranslationStack>   <TermSet>    <Term>\"escherichia\"[MeSH Terms]</Term>    <Field>MeSH Terms</Field>    <Count>283527</Count>    <Explode>Y</Explode>   </TermSet>   <TermSet>    <Term>\"escherichia\"[All Fields]</Term>    <Field>All Fields</Field>    <Count>396356</Count>    <Explode>N</Explode>   </TermSet>   <OP>OR</OP>   <OP>GROUP</OP>  </TranslationStack><QueryTranslation>\"escherichia\"[MeSH Terms] OR \"escherichia\"[All Fields]</QueryTranslation></eSearchResult>\n",
      "\n"
     ]
    }
   ],
   "source": [
    "url = \"http://eutils.ncbi.nlm.nih.gov/entrez/eutils/esearch.fcgi\"\n",
    "param_dict = {'db':'pubmed', 'term':'escherichia', 'rettype':'uilist'}\n",
    "\n",
    "r = requests.get(url, params=param_dict)\n",
    "print(r.text)"
   ]
  }
 ],
 "metadata": {
  "kernelspec": {
   "display_name": "Python 3",
   "language": "python",
   "name": "python3"
  },
  "language_info": {
   "codemirror_mode": {
    "name": "ipython",
    "version": 3
   },
   "file_extension": ".py",
   "mimetype": "text/x-python",
   "name": "python",
   "nbconvert_exporter": "python",
   "pygments_lexer": "ipython3",
   "version": "3.8.5"
  }
 },
 "nbformat": 4,
 "nbformat_minor": 4
}
