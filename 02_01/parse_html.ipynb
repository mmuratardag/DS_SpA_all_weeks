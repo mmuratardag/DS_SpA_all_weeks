{
 "cells": [
  {
   "cell_type": "code",
   "execution_count": 1,
   "metadata": {},
   "outputs": [
    {
     "name": "stdout",
     "output_type": "stream",
     "text": [
      "Hamlet, Polonius, Ophelia, Claudius, \n"
     ]
    }
   ],
   "source": [
    "from bs4 import BeautifulSoup\n",
    "\n",
    "html = \"\"\"<html><head></head><body>\n",
    "<h1>Hamlet</h1>\n",
    "<ul class=\"cast\"> \n",
    "  <li>Hamlet</li>\n",
    "  <li>Polonius</li>\n",
    "  <li>Ophelia</li>\n",
    "  <li>Claudius</li>\n",
    "</ul>\n",
    "<ul class=\"authors\">\n",
    "  <li>William Shakespeare</li>\n",
    "</ul>\n",
    "</body></html>\"\"\"\n",
    "\n",
    "soup = BeautifulSoup(html, \"lxml\")\n",
    "\n",
    "for ul in soup.find_all('ul'):\n",
    "    if \"cast\" in ul.get('class', []):\n",
    "        for item in ul.find_all('li'):\n",
    "            print(item.get_text(), end=\", \")\n",
    "        print()"
   ]
  },
  {
   "cell_type": "code",
   "execution_count": 2,
   "metadata": {},
   "outputs": [],
   "source": [
    "import requests\n",
    "\n",
    "response = requests.get('https://www.spiced-academy.com/en/program/data-science')\n",
    "spiced_html = response.text"
   ]
  },
  {
   "cell_type": "code",
   "execution_count": 3,
   "metadata": {},
   "outputs": [],
   "source": [
    "spiced_soup = BeautifulSoup(spiced_html, 'html.parser')"
   ]
  },
  {
   "cell_type": "code",
   "execution_count": 4,
   "metadata": {},
   "outputs": [
    {
     "data": {
      "text/plain": [
       "'Become fluent in using Python to collect, analyze, and visualize data, focusing on the powerful libraries Pandas & NumPy.'"
      ]
     },
     "execution_count": 4,
     "metadata": {},
     "output_type": "execute_result"
    }
   ],
   "source": [
    "spiced_soup.body.find(class_='description').find(class_=\"mob-hidden\").text"
   ]
  },
  {
   "cell_type": "code",
   "execution_count": 5,
   "metadata": {},
   "outputs": [
    {
     "data": {
      "text/plain": [
       "'Data Analysis in Python'"
      ]
     },
     "execution_count": 5,
     "metadata": {},
     "output_type": "execute_result"
    }
   ],
   "source": [
    "spiced_soup.body.find(class_='description').h3.text"
   ]
  },
  {
   "cell_type": "code",
   "execution_count": 6,
   "metadata": {},
   "outputs": [
    {
     "data": {
      "text/plain": [
       "<div class=\"curriculum-mini-section\">\n",
       "<div class=\"shape-box-small\">\n",
       "<div class=\"shape-box-small--half-box\"></div>\n",
       "<div class=\"half-box-border\"></div>\n",
       "</div> <div class=\"description\">\n",
       "<h3>Data Analysis in Python</h3>\n",
       "<h3 class=\"mob-hidden\">Become fluent in using Python to collect, analyze, and visualize data, focusing on the powerful libraries Pandas &amp; NumPy.</h3>\n",
       "</div>\n",
       "</div>"
      ]
     },
     "execution_count": 6,
     "metadata": {},
     "output_type": "execute_result"
    }
   ],
   "source": [
    "spiced_soup.find_all(attrs={\"class\":\"curriculum-mini-section\"})[0]"
   ]
  }
 ],
 "metadata": {
  "kernelspec": {
   "display_name": "Python 3",
   "language": "python",
   "name": "python3"
  },
  "language_info": {
   "codemirror_mode": {
    "name": "ipython",
    "version": 3
   },
   "file_extension": ".py",
   "mimetype": "text/x-python",
   "name": "python",
   "nbconvert_exporter": "python",
   "pygments_lexer": "ipython3",
   "version": "3.8.5"
  }
 },
 "nbformat": 4,
 "nbformat_minor": 4
}
