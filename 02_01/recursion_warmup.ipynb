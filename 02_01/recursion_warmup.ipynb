{
 "cells": [
  {
   "cell_type": "code",
   "execution_count": 49,
   "metadata": {},
   "outputs": [],
   "source": [
    "tree = (\n",
    "    ('eucaryotes', (\n",
    "        ('plants', (\n",
    "            ('rose', None),\n",
    "            ('mango tree', None)\n",
    "            )\n",
    "        ),\n",
    "        ('animals', (\n",
    "            ('vertebrates', (\n",
    "                ('fish', (\n",
    "                    ('shark', None),\n",
    "                    ('stingray', None)\n",
    "                    )\n",
    "                ),\n",
    "                ('mammals', (\n",
    "                    ('primates', (\n",
    "                        ('chimp', None),\n",
    "                        ('human', None)\n",
    "                        )\n",
    "                    ),\n",
    "                    ('rat', None)\n",
    "                    )\n",
    "                )\n",
    "                )\n",
    "            ),\n",
    "            ('arthropods', (\n",
    "                ('ant', None),\n",
    "                ('bee', None)\n",
    "                )\n",
    "            )\n",
    "            )\n",
    "        )\n",
    "        )\n",
    "    )\n",
    "    )"
   ]
  },
  {
   "cell_type": "code",
   "execution_count": 50,
   "metadata": {},
   "outputs": [
    {
     "data": {
      "text/plain": [
       "'mango tree'"
      ]
     },
     "execution_count": 50,
     "metadata": {},
     "output_type": "execute_result"
    }
   ],
   "source": [
    "tree[1][0][1][1][0]"
   ]
  },
  {
   "cell_type": "code",
   "execution_count": 51,
   "metadata": {},
   "outputs": [
    {
     "data": {
      "text/plain": [
       "'bee'"
      ]
     },
     "execution_count": 51,
     "metadata": {},
     "output_type": "execute_result"
    }
   ],
   "source": [
    "tree[1][1][1][1][1][1][0]"
   ]
  },
  {
   "cell_type": "markdown",
   "metadata": {},
   "source": [
    "**Tree-like structure or nested structure.**\n",
    "\n",
    "Where might we encounter tree-like structures?\n",
    "\n",
    "- HTML\n",
    "- XML\n",
    "- JSON "
   ]
  },
  {
   "cell_type": "markdown",
   "metadata": {},
   "source": [
    "### Coding Challenge:"
   ]
  },
  {
   "cell_type": "markdown",
   "metadata": {},
   "source": [
    "Write a function that can extract all of the living beings from the tree, i.e. access all \"children nodes\" that are not None.\n",
    "Returns a list, e.g.:"
   ]
  },
  {
   "cell_type": "code",
   "execution_count": 26,
   "metadata": {},
   "outputs": [],
   "source": [
    "beings = ['rose', 'mango tree', 'shark', 'stringray', 'chimp', 'human', 'rat', 'ant', 'bee']"
   ]
  },
  {
   "cell_type": "markdown",
   "metadata": {},
   "source": [
    "Hint: for-loops won't work so well here.\n",
    "- Because we don't know the structure of the tree, necessarily."
   ]
  },
  {
   "cell_type": "markdown",
   "metadata": {},
   "source": [
    "---\n",
    "---"
   ]
  },
  {
   "cell_type": "markdown",
   "metadata": {},
   "source": [
    "### Solutions"
   ]
  },
  {
   "cell_type": "code",
   "execution_count": 28,
   "metadata": {},
   "outputs": [
    {
     "data": {
      "text/plain": [
       "('eucaryotes',\n",
       " (('plants', (('rose', None), ('mango tree', None))),\n",
       "  ('animals',\n",
       "   (('vertebrates',\n",
       "     (('fish', (('shark', None), ('stingray', None))),\n",
       "      ('mammals',\n",
       "       (('primates', (('chimp', None), ('human', None))), ('rat', None))))),\n",
       "    ('arthropods', (('ant', None), ('bee', None)))))))"
      ]
     },
     "execution_count": 28,
     "metadata": {},
     "output_type": "execute_result"
    }
   ],
   "source": [
    "tree"
   ]
  },
  {
   "cell_type": "markdown",
   "metadata": {},
   "source": [
    "---"
   ]
  },
  {
   "cell_type": "markdown",
   "metadata": {},
   "source": [
    "**Solution A**: Flatten the hierarchy entirely:\n",
    "- Con: get all non-None elements, not just the leaves"
   ]
  },
  {
   "cell_type": "markdown",
   "metadata": {},
   "source": [
    "**Solution B**: \n",
    "- Recursion: i.e. function-ception, i.e. a function that calls itself."
   ]
  },
  {
   "cell_type": "code",
   "execution_count": 59,
   "metadata": {},
   "outputs": [],
   "source": [
    "def tree_traverser(tree):\n",
    "    \"\"\"Recursion 🤯\"\"\"\n",
    "    \n",
    "    left_child = tree[0]\n",
    "    right_child = tree[1]\n",
    "    \n",
    "    \n",
    "#     if right_child == None: #nwe've hit the end of a path / branch\n",
    "    if type(right_child) != tuple: # this logic also works\n",
    "        print(left_child)\n",
    "        \n",
    "    else: \n",
    "        tree_traverser(right_child[0]) #the left child of the right child\n",
    "        tree_traverser(right_child[1]) #the right child of the right child"
   ]
  },
  {
   "cell_type": "code",
   "execution_count": 58,
   "metadata": {},
   "outputs": [
    {
     "name": "stdout",
     "output_type": "stream",
     "text": [
      "rose\n",
      "mango tree\n",
      "shark\n",
      "stingray\n",
      "chimp\n",
      "human\n",
      "rat\n",
      "ant\n",
      "bee\n"
     ]
    }
   ],
   "source": [
    "tree_traverser(tree)"
   ]
  },
  {
   "cell_type": "code",
   "execution_count": 52,
   "metadata": {},
   "outputs": [],
   "source": [
    "small_tree = (\"Cetaceans\", (\n",
    "                 (\"Blue whale\", None),\n",
    "                 (\"Dolphin\", None)\n",
    "                 )\n",
    "             )"
   ]
  },
  {
   "cell_type": "code",
   "execution_count": 53,
   "metadata": {},
   "outputs": [
    {
     "name": "stdout",
     "output_type": "stream",
     "text": [
      "Blue whale\n",
      "Dolphin\n"
     ]
    }
   ],
   "source": [
    "tree_traverser(small_tree)"
   ]
  },
  {
   "cell_type": "code",
   "execution_count": 54,
   "metadata": {},
   "outputs": [
    {
     "data": {
      "text/plain": [
       "('Cetaceans', (('Blue whale', None), ('Dolphin', None)))"
      ]
     },
     "execution_count": 54,
     "metadata": {},
     "output_type": "execute_result"
    }
   ],
   "source": [
    "small_tree"
   ]
  },
  {
   "cell_type": "markdown",
   "metadata": {},
   "source": [
    "---"
   ]
  },
  {
   "cell_type": "code",
   "execution_count": null,
   "metadata": {},
   "outputs": [],
   "source": []
  }
 ],
 "metadata": {
  "kernelspec": {
   "display_name": "Python 3",
   "language": "python",
   "name": "python3"
  },
  "language_info": {
   "codemirror_mode": {
    "name": "ipython",
    "version": 3
   },
   "file_extension": ".py",
   "mimetype": "text/x-python",
   "name": "python",
   "nbconvert_exporter": "python",
   "pygments_lexer": "ipython3",
   "version": "3.8.5"
  }
 },
 "nbformat": 4,
 "nbformat_minor": 4
}
