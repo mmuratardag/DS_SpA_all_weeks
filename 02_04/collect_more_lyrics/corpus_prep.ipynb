{
 "cells": [
  {
   "cell_type": "code",
   "execution_count": 1,
   "metadata": {},
   "outputs": [],
   "source": [
    "import pandas as pd\n",
    "import numpy as np"
   ]
  },
  {
   "cell_type": "code",
   "execution_count": 2,
   "metadata": {},
   "outputs": [],
   "source": [
    "sjpo = pd.read_csv('sj_po.csv')\n",
    "# sjpo.head()\n",
    "\n",
    "blonde = pd.read_csv('bl_rh/blonde_redhead.csv')\n",
    "blonde = blonde.drop([0])\n",
    "# blonde.head()\n",
    "\n",
    "mercury = pd.read_csv('mre/mercury_rev.csv')\n",
    "mercury = mercury.drop([0])\n",
    "# mercury.head()\n",
    "\n",
    "stereo = pd.read_csv('str/stereolab.csv')\n",
    "stereo = stereo.drop([0])\n",
    "# stereo.head()\n",
    "\n",
    "pixies = pd.read_csv('pix/pixies.csv')\n",
    "pixies = pixies.drop([0])\n",
    "# pixies.head()\n",
    "\n",
    "breeders = pd.read_csv('bre/breeders.csv')\n",
    "breeders = breeders.drop([0])\n",
    "# breeders.head()\n",
    "\n",
    "afgan = pd.read_csv('afg/afgan_whigs.csv')\n",
    "afgan = afgan.drop([0])\n",
    "# afgan.head()\n",
    "\n",
    "throwing = pd.read_csv('thr/throwing_muses.csv')\n",
    "throwing = throwing.drop([0])\n",
    "# throwing.head()"
   ]
  },
  {
   "cell_type": "code",
   "execution_count": 3,
   "metadata": {},
   "outputs": [],
   "source": [
    "indie = pd.concat([blonde,mercury, stereo, pixies, breeders, afgan, throwing])\n",
    "# indie.head()\n",
    "# indie.tail()\n",
    "# indie.shape # (345, 2)\n",
    "indie['genre'] = 'indie'"
   ]
  },
  {
   "cell_type": "code",
   "execution_count": 4,
   "metadata": {},
   "outputs": [
    {
     "data": {
      "text/plain": [
       "throwing muses    108\n",
       "stereolab         107\n",
       "pixies             78\n",
       "blonde redhead     55\n",
       "afghan whigs       47\n",
       "breeders           45\n",
       "mercury rev        13\n",
       "Name: artist, dtype: int64"
      ]
     },
     "execution_count": 4,
     "metadata": {},
     "output_type": "execute_result"
    }
   ],
   "source": [
    "indie.artist.value_counts()"
   ]
  },
  {
   "cell_type": "code",
   "execution_count": 5,
   "metadata": {},
   "outputs": [],
   "source": [
    "indie.to_csv('more_indie_df.csv')"
   ]
  }
 ],
 "metadata": {
  "kernelspec": {
   "display_name": "Python 3",
   "language": "python",
   "name": "python3"
  },
  "language_info": {
   "codemirror_mode": {
    "name": "ipython",
    "version": 3
   },
   "file_extension": ".py",
   "mimetype": "text/x-python",
   "name": "python",
   "nbconvert_exporter": "python",
   "pygments_lexer": "ipython3",
   "version": "3.8.5"
  }
 },
 "nbformat": 4,
 "nbformat_minor": 4
}
