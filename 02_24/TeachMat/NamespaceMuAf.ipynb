{
 "cells": [
  {
   "cell_type": "markdown",
   "metadata": {},
   "source": [
    "# Namespaces\n",
    "\n",
    "* How do variables work?\n",
    "* Which variables can I use and when can I use them?"
   ]
  },
  {
   "cell_type": "markdown",
   "metadata": {},
   "source": [
    "---"
   ]
  },
  {
   "cell_type": "markdown",
   "metadata": {},
   "source": [
    "![](cup_reference_value.gif)"
   ]
  },
  {
   "cell_type": "markdown",
   "metadata": {},
   "source": [
    "#### Technically python does neither! Instead pass by assignment, but in practise sometimes we see reference-esque behvaiour and sometimes we see value-esque behaviour\n",
    "\n",
    "* We can check this using `id()`"
   ]
  },
  {
   "cell_type": "markdown",
   "metadata": {},
   "source": [
    "---"
   ]
  },
  {
   "cell_type": "markdown",
   "metadata": {},
   "source": [
    "### Pass by value behaviour\n",
    "* Occurs in immutable objects"
   ]
  },
  {
   "cell_type": "code",
   "execution_count": 1,
   "metadata": {},
   "outputs": [],
   "source": [
    "a = 3"
   ]
  },
  {
   "cell_type": "code",
   "execution_count": 2,
   "metadata": {},
   "outputs": [
    {
     "data": {
      "text/plain": [
       "(94725139754368, 94725139754368)"
      ]
     },
     "execution_count": 2,
     "metadata": {},
     "output_type": "execute_result"
    }
   ],
   "source": [
    "id(a), id(3)"
   ]
  },
  {
   "cell_type": "markdown",
   "metadata": {},
   "source": [
    "**What is Python doing behind the scenes when we are writing an instruction like this?**"
   ]
  },
  {
   "cell_type": "code",
   "execution_count": 3,
   "metadata": {},
   "outputs": [
    {
     "data": {
      "text/plain": [
       "5"
      ]
     },
     "execution_count": 3,
     "metadata": {},
     "output_type": "execute_result"
    }
   ],
   "source": [
    "b = a + 2\n",
    "b"
   ]
  },
  {
   "cell_type": "markdown",
   "metadata": {},
   "source": [
    "**What about the above?**"
   ]
  },
  {
   "cell_type": "code",
   "execution_count": 4,
   "metadata": {},
   "outputs": [
    {
     "data": {
      "text/plain": [
       "5"
      ]
     },
     "execution_count": 4,
     "metadata": {},
     "output_type": "execute_result"
    }
   ],
   "source": [
    "a = 10\n",
    "b"
   ]
  },
  {
   "cell_type": "markdown",
   "metadata": {},
   "source": [
    "**Why is this happening? Can we verify this behvaiour against other immutables?**"
   ]
  },
  {
   "cell_type": "code",
   "execution_count": 5,
   "metadata": {},
   "outputs": [],
   "source": [
    "c = 'value'"
   ]
  },
  {
   "cell_type": "code",
   "execution_count": 6,
   "metadata": {},
   "outputs": [
    {
     "data": {
      "text/plain": [
       "'pass by value'"
      ]
     },
     "execution_count": 6,
     "metadata": {},
     "output_type": "execute_result"
    }
   ],
   "source": [
    "d = 'pass by ' + c\n",
    "d"
   ]
  },
  {
   "cell_type": "code",
   "execution_count": 7,
   "metadata": {},
   "outputs": [
    {
     "data": {
      "text/plain": [
       "'pass by value'"
      ]
     },
     "execution_count": 7,
     "metadata": {},
     "output_type": "execute_result"
    }
   ],
   "source": [
    "c = 'reference'\n",
    "d"
   ]
  },
  {
   "cell_type": "markdown",
   "metadata": {},
   "source": [
    "### Pass by reference behaviour\n",
    "* Occurs in mutable objects"
   ]
  },
  {
   "cell_type": "code",
   "execution_count": 8,
   "metadata": {},
   "outputs": [
    {
     "data": {
      "text/plain": [
       "[7, 3, 5]"
      ]
     },
     "execution_count": 8,
     "metadata": {},
     "output_type": "execute_result"
    }
   ],
   "source": [
    "e, f = 3 , 5\n",
    "g = [7, e, f]\n",
    "g"
   ]
  },
  {
   "cell_type": "code",
   "execution_count": 9,
   "metadata": {},
   "outputs": [
    {
     "data": {
      "text/plain": [
       "[7, 3, 5]"
      ]
     },
     "execution_count": 9,
     "metadata": {},
     "output_type": "execute_result"
    }
   ],
   "source": [
    "g"
   ]
  },
  {
   "cell_type": "code",
   "execution_count": 10,
   "metadata": {},
   "outputs": [
    {
     "data": {
      "text/plain": [
       "[7, 3, 5]"
      ]
     },
     "execution_count": 10,
     "metadata": {},
     "output_type": "execute_result"
    }
   ],
   "source": [
    "h = g\n",
    "h"
   ]
  },
  {
   "cell_type": "code",
   "execution_count": 11,
   "metadata": {},
   "outputs": [
    {
     "data": {
      "text/plain": [
       "(139989968643328, 139989968643328)"
      ]
     },
     "execution_count": 11,
     "metadata": {},
     "output_type": "execute_result"
    }
   ],
   "source": [
    "id(h), id(g)"
   ]
  },
  {
   "cell_type": "code",
   "execution_count": 12,
   "metadata": {},
   "outputs": [
    {
     "data": {
      "text/plain": [
       "[7, 3, 99]"
      ]
     },
     "execution_count": 12,
     "metadata": {},
     "output_type": "execute_result"
    }
   ],
   "source": [
    "g[2] = 99\n",
    "g"
   ]
  },
  {
   "cell_type": "code",
   "execution_count": 13,
   "metadata": {
    "tags": []
   },
   "outputs": [
    {
     "data": {
      "text/plain": [
       "([7, 3, 99], [7, 3, 99])"
      ]
     },
     "execution_count": 13,
     "metadata": {},
     "output_type": "execute_result"
    }
   ],
   "source": [
    "g, h"
   ]
  },
  {
   "cell_type": "markdown",
   "metadata": {},
   "source": [
    "### Pandas - Setting with copy warning - familiar anyone?"
   ]
  },
  {
   "cell_type": "code",
   "execution_count": 14,
   "metadata": {},
   "outputs": [
    {
     "data": {
      "text/html": [
       "<div>\n",
       "<style scoped>\n",
       "    .dataframe tbody tr th:only-of-type {\n",
       "        vertical-align: middle;\n",
       "    }\n",
       "\n",
       "    .dataframe tbody tr th {\n",
       "        vertical-align: top;\n",
       "    }\n",
       "\n",
       "    .dataframe thead th {\n",
       "        text-align: right;\n",
       "    }\n",
       "</style>\n",
       "<table border=\"1\" class=\"dataframe\">\n",
       "  <thead>\n",
       "    <tr style=\"text-align: right;\">\n",
       "      <th></th>\n",
       "      <th>Species</th>\n",
       "      <th>Culmen Length (mm)</th>\n",
       "      <th>Culmen Depth (mm)</th>\n",
       "      <th>Flipper Length (mm)</th>\n",
       "      <th>Body Mass (g)</th>\n",
       "      <th>Sex</th>\n",
       "    </tr>\n",
       "  </thead>\n",
       "  <tbody>\n",
       "    <tr>\n",
       "      <th>0</th>\n",
       "      <td>Adelie</td>\n",
       "      <td>39.1</td>\n",
       "      <td>18.7</td>\n",
       "      <td>181.0</td>\n",
       "      <td>3750.0</td>\n",
       "      <td>MALE</td>\n",
       "    </tr>\n",
       "    <tr>\n",
       "      <th>1</th>\n",
       "      <td>Adelie</td>\n",
       "      <td>39.5</td>\n",
       "      <td>17.4</td>\n",
       "      <td>186.0</td>\n",
       "      <td>3800.0</td>\n",
       "      <td>FEMALE</td>\n",
       "    </tr>\n",
       "    <tr>\n",
       "      <th>2</th>\n",
       "      <td>Adelie</td>\n",
       "      <td>40.3</td>\n",
       "      <td>18.0</td>\n",
       "      <td>195.0</td>\n",
       "      <td>3250.0</td>\n",
       "      <td>FEMALE</td>\n",
       "    </tr>\n",
       "    <tr>\n",
       "      <th>3</th>\n",
       "      <td>Adelie</td>\n",
       "      <td>36.7</td>\n",
       "      <td>19.3</td>\n",
       "      <td>193.0</td>\n",
       "      <td>3450.0</td>\n",
       "      <td>FEMALE</td>\n",
       "    </tr>\n",
       "    <tr>\n",
       "      <th>4</th>\n",
       "      <td>Adelie</td>\n",
       "      <td>39.3</td>\n",
       "      <td>20.6</td>\n",
       "      <td>190.0</td>\n",
       "      <td>3650.0</td>\n",
       "      <td>MALE</td>\n",
       "    </tr>\n",
       "  </tbody>\n",
       "</table>\n",
       "</div>"
      ],
      "text/plain": [
       "  Species  Culmen Length (mm)  Culmen Depth (mm)  Flipper Length (mm)  \\\n",
       "0  Adelie                39.1               18.7                181.0   \n",
       "1  Adelie                39.5               17.4                186.0   \n",
       "2  Adelie                40.3               18.0                195.0   \n",
       "3  Adelie                36.7               19.3                193.0   \n",
       "4  Adelie                39.3               20.6                190.0   \n",
       "\n",
       "   Body Mass (g)     Sex  \n",
       "0         3750.0    MALE  \n",
       "1         3800.0  FEMALE  \n",
       "2         3250.0  FEMALE  \n",
       "3         3450.0  FEMALE  \n",
       "4         3650.0    MALE  "
      ]
     },
     "execution_count": 14,
     "metadata": {},
     "output_type": "execute_result"
    }
   ],
   "source": [
    "import pandas as pd\n",
    "\n",
    "df = pd.read_csv('penguins_simple.csv', sep=';')\n",
    "\n",
    "df.head()"
   ]
  },
  {
   "cell_type": "code",
   "execution_count": 15,
   "metadata": {},
   "outputs": [],
   "source": [
    "# Task - override the Sex of all penguins to be Male\n",
    "\n",
    "###### BY value\n",
    "# df[df.Species == 'Adelie']['Sex'] = 'MALE'\n",
    "# df.groupby('Species')['Sex'].value_counts()\n",
    "\n",
    "###### BY reference\n",
    "# df.loc[df.Species == 'Adelie', 'Sex'] = 'MALE'\n",
    "# df.groupby('Species')['Sex'].value_counts()"
   ]
  },
  {
   "cell_type": "markdown",
   "metadata": {},
   "source": [
    "---"
   ]
  },
  {
   "cell_type": "markdown",
   "metadata": {},
   "source": [
    "### Namespace\n",
    "* An area inside which you only get to use the same variable once (Duplicate variables can exist intra-namespace)\n",
    "* Three main namespaces exist - local / global / built-in\n",
    "* Variables are referenced from the innermost scope outwards"
   ]
  },
  {
   "cell_type": "markdown",
   "metadata": {},
   "source": [
    "![](Scopes.png)"
   ]
  },
  {
   "cell_type": "markdown",
   "metadata": {},
   "source": [
    "#### Locals - bound by functions, classes, and modules"
   ]
  },
  {
   "cell_type": "code",
   "execution_count": 16,
   "metadata": {},
   "outputs": [],
   "source": [
    "a = 0 # global\n",
    "\n",
    "class A_class:\n",
    "    \n",
    "    a = 1 # local 1\n",
    "\n",
    "    def A_func(self): # local 2\n",
    "        a = 2 \n",
    "        return a\n"
   ]
  },
  {
   "cell_type": "code",
   "execution_count": 17,
   "metadata": {},
   "outputs": [
    {
     "data": {
      "text/plain": [
       "0"
      ]
     },
     "execution_count": 17,
     "metadata": {},
     "output_type": "execute_result"
    }
   ],
   "source": [
    "a"
   ]
  },
  {
   "cell_type": "code",
   "execution_count": 18,
   "metadata": {},
   "outputs": [
    {
     "data": {
      "text/plain": [
       "1"
      ]
     },
     "execution_count": 18,
     "metadata": {},
     "output_type": "execute_result"
    }
   ],
   "source": [
    "A = A_class()\n",
    "A.a"
   ]
  },
  {
   "cell_type": "code",
   "execution_count": 19,
   "metadata": {},
   "outputs": [
    {
     "data": {
      "text/plain": [
       "2"
      ]
     },
     "execution_count": 19,
     "metadata": {},
     "output_type": "execute_result"
    }
   ],
   "source": [
    "A = A_class()\n",
    "A.A_func()"
   ]
  },
  {
   "cell_type": "code",
   "execution_count": 20,
   "metadata": {},
   "outputs": [
    {
     "data": {
      "text/plain": [
       "94725139754272"
      ]
     },
     "execution_count": 20,
     "metadata": {},
     "output_type": "execute_result"
    }
   ],
   "source": [
    "id(a)"
   ]
  },
  {
   "cell_type": "markdown",
   "metadata": {},
   "source": [
    "#### Globals - All variables not local are global\n",
    "* Includes variables you declare\n",
    "* And variables imported by any modules"
   ]
  },
  {
   "cell_type": "code",
   "execution_count": 21,
   "metadata": {},
   "outputs": [],
   "source": [
    "from os import linesep"
   ]
  },
  {
   "cell_type": "code",
   "execution_count": 22,
   "metadata": {},
   "outputs": [
    {
     "data": {
      "text/plain": [
       "'\\n'"
      ]
     },
     "execution_count": 22,
     "metadata": {},
     "output_type": "execute_result"
    }
   ],
   "source": [
    "linesep"
   ]
  },
  {
   "cell_type": "markdown",
   "metadata": {},
   "source": [
    "#### Built-in - All custom python variables"
   ]
  },
  {
   "cell_type": "code",
   "execution_count": 23,
   "metadata": {},
   "outputs": [
    {
     "data": {
      "text/plain": [
       "    Thanks to CWI, CNRI, BeOpen.com, Zope Corporation and a cast of thousands\n",
       "    for supporting Python development.  See www.python.org for more information."
      ]
     },
     "execution_count": 23,
     "metadata": {},
     "output_type": "execute_result"
    }
   ],
   "source": [
    "__builtin__.credits"
   ]
  },
  {
   "cell_type": "markdown",
   "metadata": {},
   "source": [
    "---"
   ]
  },
  {
   "cell_type": "markdown",
   "metadata": {},
   "source": [
    "### Checking namespace\n",
    "* In practise, namespaces are maintained by an internal dictionary of all current variables, attributes, etc.\n",
    "* Closest we can get is through `dir() / locals() / globals() / vars()`\n",
    "* We'll focus on the first two"
   ]
  },
  {
   "cell_type": "markdown",
   "metadata": {},
   "source": [
    "#### Dir gives you access to the variables of the current scope"
   ]
  },
  {
   "cell_type": "code",
   "execution_count": 24,
   "metadata": {},
   "outputs": [
    {
     "data": {
      "text/plain": [
       "['A',\n",
       " 'A_class',\n",
       " 'In',\n",
       " 'NamespaceMagics',\n",
       " 'Out',\n",
       " '_',\n",
       " '_10',\n",
       " '_11',\n",
       " '_12',\n",
       " '_13',\n",
       " '_14',\n",
       " '_17',\n",
       " '_18',\n",
       " '_19',\n",
       " '_2',\n",
       " '_20',\n",
       " '_22',\n",
       " '_23',\n",
       " '_3',\n",
       " '_4',\n",
       " '_6',\n",
       " '_7',\n",
       " '_8',\n",
       " '_9',\n",
       " '__',\n",
       " '__K',\n",
       " '___',\n",
       " '__builtin__',\n",
       " '__builtins__',\n",
       " '__doc__',\n",
       " '__ipywidgets',\n",
       " '__loader__',\n",
       " '__name__',\n",
       " '__np',\n",
       " '__package__',\n",
       " '__pd',\n",
       " '__pyspark',\n",
       " '__spec__',\n",
       " '__tf',\n",
       " '_check_imported',\n",
       " '_dh',\n",
       " '_i',\n",
       " '_i1',\n",
       " '_i10',\n",
       " '_i11',\n",
       " '_i12',\n",
       " '_i13',\n",
       " '_i14',\n",
       " '_i15',\n",
       " '_i16',\n",
       " '_i17',\n",
       " '_i18',\n",
       " '_i19',\n",
       " '_i2',\n",
       " '_i20',\n",
       " '_i21',\n",
       " '_i22',\n",
       " '_i23',\n",
       " '_i24',\n",
       " '_i3',\n",
       " '_i4',\n",
       " '_i5',\n",
       " '_i6',\n",
       " '_i7',\n",
       " '_i8',\n",
       " '_i9',\n",
       " '_ih',\n",
       " '_ii',\n",
       " '_iii',\n",
       " '_jupyterlab_variableinspector_Jupyter',\n",
       " '_jupyterlab_variableinspector_default',\n",
       " '_jupyterlab_variableinspector_deletevariable',\n",
       " '_jupyterlab_variableinspector_dict_list',\n",
       " '_jupyterlab_variableinspector_displaywidget',\n",
       " '_jupyterlab_variableinspector_getcontentof',\n",
       " '_jupyterlab_variableinspector_getmatrixcontent',\n",
       " '_jupyterlab_variableinspector_getshapeof',\n",
       " '_jupyterlab_variableinspector_getsizeof',\n",
       " '_jupyterlab_variableinspector_is_matrix',\n",
       " '_jupyterlab_variableinspector_is_widget',\n",
       " '_jupyterlab_variableinspector_nms',\n",
       " '_oh',\n",
       " 'a',\n",
       " 'b',\n",
       " 'c',\n",
       " 'd',\n",
       " 'df',\n",
       " 'e',\n",
       " 'exit',\n",
       " 'f',\n",
       " 'g',\n",
       " 'get_ipython',\n",
       " 'h',\n",
       " 'json',\n",
       " 'linesep',\n",
       " 'pd',\n",
       " 'quit',\n",
       " 'sys']"
      ]
     },
     "execution_count": 24,
     "metadata": {},
     "output_type": "execute_result"
    }
   ],
   "source": [
    "dir() "
   ]
  },
  {
   "cell_type": "markdown",
   "metadata": {},
   "source": [
    "#### Locals gives you access to the variables and current values of the current scope"
   ]
  },
  {
   "cell_type": "code",
   "execution_count": 25,
   "metadata": {},
   "outputs": [
    {
     "data": {
      "text/plain": [
       "{'__name__': '__main__',\n",
       " '__doc__': 'Automatically created module for IPython interactive environment',\n",
       " '__package__': None,\n",
       " '__loader__': None,\n",
       " '__spec__': None,\n",
       " '__builtin__': <module 'builtins' (built-in)>,\n",
       " '__builtins__': <module 'builtins' (built-in)>,\n",
       " '_ih': ['',\n",
       "  'a = 3',\n",
       "  'id(a), id(3)',\n",
       "  'b = a + 2\\nb',\n",
       "  'a = 10\\nb',\n",
       "  \"c = 'value'\",\n",
       "  \"d = 'pass by ' + c\\nd\",\n",
       "  \"c = 'reference'\\nd\",\n",
       "  'e, f = 3 , 5\\ng = [7, e, f]\\ng',\n",
       "  'g',\n",
       "  'h = g\\nh',\n",
       "  'id(h), id(g)',\n",
       "  'g[2] = 99\\ng',\n",
       "  'g, h',\n",
       "  \"import pandas as pd\\n\\ndf = pd.read_csv('penguins_simple.csv', sep=';')\\n\\ndf.head()\",\n",
       "  \"# Task - override the Sex of all penguins to be Male\\n\\n###### BY value\\n# df[df.Species == 'Adelie']['Sex'] = 'MALE'\\n# df.groupby('Species')['Sex'].value_counts()\\n\\n###### BY reference\\n# df.loc[df.Species == 'Adelie', 'Sex'] = 'MALE'\\n# df.groupby('Species')['Sex'].value_counts()\",\n",
       "  'a = 0 # global\\n\\nclass A_class:\\n    \\n    a = 1 # local 1\\n\\n    def A_func(self): # local 2\\n        a = 2 \\n        return a',\n",
       "  'a',\n",
       "  'A = A_class()\\nA.a',\n",
       "  'A = A_class()\\nA.A_func()',\n",
       "  'id(a)',\n",
       "  'from os import linesep',\n",
       "  'linesep',\n",
       "  '__builtin__.credits',\n",
       "  'dir() ',\n",
       "  'locals()'],\n",
       " '_oh': {2: (94725139754368, 94725139754368),\n",
       "  3: 5,\n",
       "  4: 5,\n",
       "  6: 'pass by value',\n",
       "  7: 'pass by value',\n",
       "  8: [7, 3, 99],\n",
       "  9: [7, 3, 99],\n",
       "  10: [7, 3, 99],\n",
       "  11: (139989968643328, 139989968643328),\n",
       "  12: [7, 3, 99],\n",
       "  13: ([7, 3, 99], [7, 3, 99]),\n",
       "  14:   Species  Culmen Length (mm)  Culmen Depth (mm)  Flipper Length (mm)  \\\n",
       "  0  Adelie                39.1               18.7                181.0   \n",
       "  1  Adelie                39.5               17.4                186.0   \n",
       "  2  Adelie                40.3               18.0                195.0   \n",
       "  3  Adelie                36.7               19.3                193.0   \n",
       "  4  Adelie                39.3               20.6                190.0   \n",
       "  \n",
       "     Body Mass (g)     Sex  \n",
       "  0         3750.0    MALE  \n",
       "  1         3800.0  FEMALE  \n",
       "  2         3250.0  FEMALE  \n",
       "  3         3450.0  FEMALE  \n",
       "  4         3650.0    MALE  ,\n",
       "  17: 0,\n",
       "  18: 1,\n",
       "  19: 2,\n",
       "  20: 94725139754272,\n",
       "  22: '\\n',\n",
       "  23:     Thanks to CWI, CNRI, BeOpen.com, Zope Corporation and a cast of thousands\n",
       "      for supporting Python development.  See www.python.org for more information.,\n",
       "  24: ['A',\n",
       "   'A_class',\n",
       "   'In',\n",
       "   'NamespaceMagics',\n",
       "   'Out',\n",
       "   '_',\n",
       "   '_10',\n",
       "   '_11',\n",
       "   '_12',\n",
       "   '_13',\n",
       "   '_14',\n",
       "   '_17',\n",
       "   '_18',\n",
       "   '_19',\n",
       "   '_2',\n",
       "   '_20',\n",
       "   '_22',\n",
       "   '_23',\n",
       "   '_3',\n",
       "   '_4',\n",
       "   '_6',\n",
       "   '_7',\n",
       "   '_8',\n",
       "   '_9',\n",
       "   '__',\n",
       "   '__K',\n",
       "   '___',\n",
       "   '__builtin__',\n",
       "   '__builtins__',\n",
       "   '__doc__',\n",
       "   '__ipywidgets',\n",
       "   '__loader__',\n",
       "   '__name__',\n",
       "   '__np',\n",
       "   '__package__',\n",
       "   '__pd',\n",
       "   '__pyspark',\n",
       "   '__spec__',\n",
       "   '__tf',\n",
       "   '_check_imported',\n",
       "   '_dh',\n",
       "   '_i',\n",
       "   '_i1',\n",
       "   '_i10',\n",
       "   '_i11',\n",
       "   '_i12',\n",
       "   '_i13',\n",
       "   '_i14',\n",
       "   '_i15',\n",
       "   '_i16',\n",
       "   '_i17',\n",
       "   '_i18',\n",
       "   '_i19',\n",
       "   '_i2',\n",
       "   '_i20',\n",
       "   '_i21',\n",
       "   '_i22',\n",
       "   '_i23',\n",
       "   '_i24',\n",
       "   '_i3',\n",
       "   '_i4',\n",
       "   '_i5',\n",
       "   '_i6',\n",
       "   '_i7',\n",
       "   '_i8',\n",
       "   '_i9',\n",
       "   '_ih',\n",
       "   '_ii',\n",
       "   '_iii',\n",
       "   '_jupyterlab_variableinspector_Jupyter',\n",
       "   '_jupyterlab_variableinspector_default',\n",
       "   '_jupyterlab_variableinspector_deletevariable',\n",
       "   '_jupyterlab_variableinspector_dict_list',\n",
       "   '_jupyterlab_variableinspector_displaywidget',\n",
       "   '_jupyterlab_variableinspector_getcontentof',\n",
       "   '_jupyterlab_variableinspector_getmatrixcontent',\n",
       "   '_jupyterlab_variableinspector_getshapeof',\n",
       "   '_jupyterlab_variableinspector_getsizeof',\n",
       "   '_jupyterlab_variableinspector_is_matrix',\n",
       "   '_jupyterlab_variableinspector_is_widget',\n",
       "   '_jupyterlab_variableinspector_nms',\n",
       "   '_oh',\n",
       "   'a',\n",
       "   'b',\n",
       "   'c',\n",
       "   'd',\n",
       "   'df',\n",
       "   'e',\n",
       "   'exit',\n",
       "   'f',\n",
       "   'g',\n",
       "   'get_ipython',\n",
       "   'h',\n",
       "   'json',\n",
       "   'linesep',\n",
       "   'pd',\n",
       "   'quit',\n",
       "   'sys']},\n",
       " '_dh': ['/media/mmuratardag/Depo/2021_01_03_Spiced_DS/tensor-tarragon-student-code/tensor-tarragon-student-code/02_24/TeachMat'],\n",
       " 'In': ['',\n",
       "  'a = 3',\n",
       "  'id(a), id(3)',\n",
       "  'b = a + 2\\nb',\n",
       "  'a = 10\\nb',\n",
       "  \"c = 'value'\",\n",
       "  \"d = 'pass by ' + c\\nd\",\n",
       "  \"c = 'reference'\\nd\",\n",
       "  'e, f = 3 , 5\\ng = [7, e, f]\\ng',\n",
       "  'g',\n",
       "  'h = g\\nh',\n",
       "  'id(h), id(g)',\n",
       "  'g[2] = 99\\ng',\n",
       "  'g, h',\n",
       "  \"import pandas as pd\\n\\ndf = pd.read_csv('penguins_simple.csv', sep=';')\\n\\ndf.head()\",\n",
       "  \"# Task - override the Sex of all penguins to be Male\\n\\n###### BY value\\n# df[df.Species == 'Adelie']['Sex'] = 'MALE'\\n# df.groupby('Species')['Sex'].value_counts()\\n\\n###### BY reference\\n# df.loc[df.Species == 'Adelie', 'Sex'] = 'MALE'\\n# df.groupby('Species')['Sex'].value_counts()\",\n",
       "  'a = 0 # global\\n\\nclass A_class:\\n    \\n    a = 1 # local 1\\n\\n    def A_func(self): # local 2\\n        a = 2 \\n        return a',\n",
       "  'a',\n",
       "  'A = A_class()\\nA.a',\n",
       "  'A = A_class()\\nA.A_func()',\n",
       "  'id(a)',\n",
       "  'from os import linesep',\n",
       "  'linesep',\n",
       "  '__builtin__.credits',\n",
       "  'dir() ',\n",
       "  'locals()'],\n",
       " 'Out': {2: (94725139754368, 94725139754368),\n",
       "  3: 5,\n",
       "  4: 5,\n",
       "  6: 'pass by value',\n",
       "  7: 'pass by value',\n",
       "  8: [7, 3, 99],\n",
       "  9: [7, 3, 99],\n",
       "  10: [7, 3, 99],\n",
       "  11: (139989968643328, 139989968643328),\n",
       "  12: [7, 3, 99],\n",
       "  13: ([7, 3, 99], [7, 3, 99]),\n",
       "  14:   Species  Culmen Length (mm)  Culmen Depth (mm)  Flipper Length (mm)  \\\n",
       "  0  Adelie                39.1               18.7                181.0   \n",
       "  1  Adelie                39.5               17.4                186.0   \n",
       "  2  Adelie                40.3               18.0                195.0   \n",
       "  3  Adelie                36.7               19.3                193.0   \n",
       "  4  Adelie                39.3               20.6                190.0   \n",
       "  \n",
       "     Body Mass (g)     Sex  \n",
       "  0         3750.0    MALE  \n",
       "  1         3800.0  FEMALE  \n",
       "  2         3250.0  FEMALE  \n",
       "  3         3450.0  FEMALE  \n",
       "  4         3650.0    MALE  ,\n",
       "  17: 0,\n",
       "  18: 1,\n",
       "  19: 2,\n",
       "  20: 94725139754272,\n",
       "  22: '\\n',\n",
       "  23:     Thanks to CWI, CNRI, BeOpen.com, Zope Corporation and a cast of thousands\n",
       "      for supporting Python development.  See www.python.org for more information.,\n",
       "  24: ['A',\n",
       "   'A_class',\n",
       "   'In',\n",
       "   'NamespaceMagics',\n",
       "   'Out',\n",
       "   '_',\n",
       "   '_10',\n",
       "   '_11',\n",
       "   '_12',\n",
       "   '_13',\n",
       "   '_14',\n",
       "   '_17',\n",
       "   '_18',\n",
       "   '_19',\n",
       "   '_2',\n",
       "   '_20',\n",
       "   '_22',\n",
       "   '_23',\n",
       "   '_3',\n",
       "   '_4',\n",
       "   '_6',\n",
       "   '_7',\n",
       "   '_8',\n",
       "   '_9',\n",
       "   '__',\n",
       "   '__K',\n",
       "   '___',\n",
       "   '__builtin__',\n",
       "   '__builtins__',\n",
       "   '__doc__',\n",
       "   '__ipywidgets',\n",
       "   '__loader__',\n",
       "   '__name__',\n",
       "   '__np',\n",
       "   '__package__',\n",
       "   '__pd',\n",
       "   '__pyspark',\n",
       "   '__spec__',\n",
       "   '__tf',\n",
       "   '_check_imported',\n",
       "   '_dh',\n",
       "   '_i',\n",
       "   '_i1',\n",
       "   '_i10',\n",
       "   '_i11',\n",
       "   '_i12',\n",
       "   '_i13',\n",
       "   '_i14',\n",
       "   '_i15',\n",
       "   '_i16',\n",
       "   '_i17',\n",
       "   '_i18',\n",
       "   '_i19',\n",
       "   '_i2',\n",
       "   '_i20',\n",
       "   '_i21',\n",
       "   '_i22',\n",
       "   '_i23',\n",
       "   '_i24',\n",
       "   '_i3',\n",
       "   '_i4',\n",
       "   '_i5',\n",
       "   '_i6',\n",
       "   '_i7',\n",
       "   '_i8',\n",
       "   '_i9',\n",
       "   '_ih',\n",
       "   '_ii',\n",
       "   '_iii',\n",
       "   '_jupyterlab_variableinspector_Jupyter',\n",
       "   '_jupyterlab_variableinspector_default',\n",
       "   '_jupyterlab_variableinspector_deletevariable',\n",
       "   '_jupyterlab_variableinspector_dict_list',\n",
       "   '_jupyterlab_variableinspector_displaywidget',\n",
       "   '_jupyterlab_variableinspector_getcontentof',\n",
       "   '_jupyterlab_variableinspector_getmatrixcontent',\n",
       "   '_jupyterlab_variableinspector_getshapeof',\n",
       "   '_jupyterlab_variableinspector_getsizeof',\n",
       "   '_jupyterlab_variableinspector_is_matrix',\n",
       "   '_jupyterlab_variableinspector_is_widget',\n",
       "   '_jupyterlab_variableinspector_nms',\n",
       "   '_oh',\n",
       "   'a',\n",
       "   'b',\n",
       "   'c',\n",
       "   'd',\n",
       "   'df',\n",
       "   'e',\n",
       "   'exit',\n",
       "   'f',\n",
       "   'g',\n",
       "   'get_ipython',\n",
       "   'h',\n",
       "   'json',\n",
       "   'linesep',\n",
       "   'pd',\n",
       "   'quit',\n",
       "   'sys']},\n",
       " 'get_ipython': <function IPython.core.getipython.get_ipython()>,\n",
       " 'exit': <IPython.core.autocall.ZMQExitAutocall at 0x7f51f4604b20>,\n",
       " 'quit': <IPython.core.autocall.ZMQExitAutocall at 0x7f51f4604b20>,\n",
       " '_': ['A',\n",
       "  'A_class',\n",
       "  'In',\n",
       "  'NamespaceMagics',\n",
       "  'Out',\n",
       "  '_',\n",
       "  '_10',\n",
       "  '_11',\n",
       "  '_12',\n",
       "  '_13',\n",
       "  '_14',\n",
       "  '_17',\n",
       "  '_18',\n",
       "  '_19',\n",
       "  '_2',\n",
       "  '_20',\n",
       "  '_22',\n",
       "  '_23',\n",
       "  '_3',\n",
       "  '_4',\n",
       "  '_6',\n",
       "  '_7',\n",
       "  '_8',\n",
       "  '_9',\n",
       "  '__',\n",
       "  '__K',\n",
       "  '___',\n",
       "  '__builtin__',\n",
       "  '__builtins__',\n",
       "  '__doc__',\n",
       "  '__ipywidgets',\n",
       "  '__loader__',\n",
       "  '__name__',\n",
       "  '__np',\n",
       "  '__package__',\n",
       "  '__pd',\n",
       "  '__pyspark',\n",
       "  '__spec__',\n",
       "  '__tf',\n",
       "  '_check_imported',\n",
       "  '_dh',\n",
       "  '_i',\n",
       "  '_i1',\n",
       "  '_i10',\n",
       "  '_i11',\n",
       "  '_i12',\n",
       "  '_i13',\n",
       "  '_i14',\n",
       "  '_i15',\n",
       "  '_i16',\n",
       "  '_i17',\n",
       "  '_i18',\n",
       "  '_i19',\n",
       "  '_i2',\n",
       "  '_i20',\n",
       "  '_i21',\n",
       "  '_i22',\n",
       "  '_i23',\n",
       "  '_i24',\n",
       "  '_i3',\n",
       "  '_i4',\n",
       "  '_i5',\n",
       "  '_i6',\n",
       "  '_i7',\n",
       "  '_i8',\n",
       "  '_i9',\n",
       "  '_ih',\n",
       "  '_ii',\n",
       "  '_iii',\n",
       "  '_jupyterlab_variableinspector_Jupyter',\n",
       "  '_jupyterlab_variableinspector_default',\n",
       "  '_jupyterlab_variableinspector_deletevariable',\n",
       "  '_jupyterlab_variableinspector_dict_list',\n",
       "  '_jupyterlab_variableinspector_displaywidget',\n",
       "  '_jupyterlab_variableinspector_getcontentof',\n",
       "  '_jupyterlab_variableinspector_getmatrixcontent',\n",
       "  '_jupyterlab_variableinspector_getshapeof',\n",
       "  '_jupyterlab_variableinspector_getsizeof',\n",
       "  '_jupyterlab_variableinspector_is_matrix',\n",
       "  '_jupyterlab_variableinspector_is_widget',\n",
       "  '_jupyterlab_variableinspector_nms',\n",
       "  '_oh',\n",
       "  'a',\n",
       "  'b',\n",
       "  'c',\n",
       "  'd',\n",
       "  'df',\n",
       "  'e',\n",
       "  'exit',\n",
       "  'f',\n",
       "  'g',\n",
       "  'get_ipython',\n",
       "  'h',\n",
       "  'json',\n",
       "  'linesep',\n",
       "  'pd',\n",
       "  'quit',\n",
       "  'sys'],\n",
       " '__':     Thanks to CWI, CNRI, BeOpen.com, Zope Corporation and a cast of thousands\n",
       "     for supporting Python development.  See www.python.org for more information.,\n",
       " '___': '\\n',\n",
       " 'json': <module 'json' from '/home/mmuratardag/anaconda3/lib/python3.8/json/__init__.py'>,\n",
       " 'sys': <module 'sys' (built-in)>,\n",
       " 'NamespaceMagics': IPython.core.magics.namespace.NamespaceMagics,\n",
       " '_jupyterlab_variableinspector_nms': <IPython.core.magics.namespace.NamespaceMagics at 0x7f51f453d8b0>,\n",
       " '_jupyterlab_variableinspector_Jupyter': <ipykernel.zmqshell.ZMQInteractiveShell at 0x7f51f5691a90>,\n",
       " '__np': None,\n",
       " '__pd': None,\n",
       " '__pyspark': None,\n",
       " '__tf': None,\n",
       " '__K': None,\n",
       " '__ipywidgets': None,\n",
       " '_check_imported': <function __main__._check_imported()>,\n",
       " '_jupyterlab_variableinspector_getsizeof': <function __main__._jupyterlab_variableinspector_getsizeof(x)>,\n",
       " '_jupyterlab_variableinspector_getshapeof': <function __main__._jupyterlab_variableinspector_getshapeof(x)>,\n",
       " '_jupyterlab_variableinspector_getcontentof': <function __main__._jupyterlab_variableinspector_getcontentof(x)>,\n",
       " '_jupyterlab_variableinspector_is_matrix': <function __main__._jupyterlab_variableinspector_is_matrix(x)>,\n",
       " '_jupyterlab_variableinspector_is_widget': <function __main__._jupyterlab_variableinspector_is_widget(x)>,\n",
       " '_jupyterlab_variableinspector_dict_list': <function __main__._jupyterlab_variableinspector_dict_list()>,\n",
       " '_jupyterlab_variableinspector_getmatrixcontent': <function __main__._jupyterlab_variableinspector_getmatrixcontent(x, max_rows=10000)>,\n",
       " '_jupyterlab_variableinspector_displaywidget': <function __main__._jupyterlab_variableinspector_displaywidget(widget)>,\n",
       " '_jupyterlab_variableinspector_default': <function __main__._jupyterlab_variableinspector_default(o)>,\n",
       " '_jupyterlab_variableinspector_deletevariable': <function __main__._jupyterlab_variableinspector_deletevariable(x)>,\n",
       " '_i': 'dir() ',\n",
       " '_ii': '__builtin__.credits',\n",
       " '_iii': 'linesep',\n",
       " '_i1': 'a = 3',\n",
       " 'a': 0,\n",
       " '_i2': 'id(a), id(3)',\n",
       " '_2': (94725139754368, 94725139754368),\n",
       " '_i3': 'b = a + 2\\nb',\n",
       " 'b': 5,\n",
       " '_3': 5,\n",
       " '_i4': 'a = 10\\nb',\n",
       " '_4': 5,\n",
       " '_i5': \"c = 'value'\",\n",
       " 'c': 'reference',\n",
       " '_i6': \"d = 'pass by ' + c\\nd\",\n",
       " 'd': 'pass by value',\n",
       " '_6': 'pass by value',\n",
       " '_i7': \"c = 'reference'\\nd\",\n",
       " '_7': 'pass by value',\n",
       " '_i8': 'e, f = 3 , 5\\ng = [7, e, f]\\ng',\n",
       " 'e': 3,\n",
       " 'f': 5,\n",
       " 'g': [7, 3, 99],\n",
       " '_8': [7, 3, 99],\n",
       " '_i9': 'g',\n",
       " '_9': [7, 3, 99],\n",
       " '_i10': 'h = g\\nh',\n",
       " 'h': [7, 3, 99],\n",
       " '_10': [7, 3, 99],\n",
       " '_i11': 'id(h), id(g)',\n",
       " '_11': (139989968643328, 139989968643328),\n",
       " '_i12': 'g[2] = 99\\ng',\n",
       " '_12': [7, 3, 99],\n",
       " '_i13': 'g, h',\n",
       " '_13': ([7, 3, 99], [7, 3, 99]),\n",
       " '_i14': \"import pandas as pd\\n\\ndf = pd.read_csv('penguins_simple.csv', sep=';')\\n\\ndf.head()\",\n",
       " 'pd': <module 'pandas' from '/home/mmuratardag/anaconda3/lib/python3.8/site-packages/pandas/__init__.py'>,\n",
       " 'df':     Species  Culmen Length (mm)  Culmen Depth (mm)  Flipper Length (mm)  \\\n",
       " 0    Adelie                39.1               18.7                181.0   \n",
       " 1    Adelie                39.5               17.4                186.0   \n",
       " 2    Adelie                40.3               18.0                195.0   \n",
       " 3    Adelie                36.7               19.3                193.0   \n",
       " 4    Adelie                39.3               20.6                190.0   \n",
       " ..      ...                 ...                ...                  ...   \n",
       " 328  Gentoo                47.2               13.7                214.0   \n",
       " 329  Gentoo                46.8               14.3                215.0   \n",
       " 330  Gentoo                50.4               15.7                222.0   \n",
       " 331  Gentoo                45.2               14.8                212.0   \n",
       " 332  Gentoo                49.9               16.1                213.0   \n",
       " \n",
       "      Body Mass (g)     Sex  \n",
       " 0           3750.0    MALE  \n",
       " 1           3800.0  FEMALE  \n",
       " 2           3250.0  FEMALE  \n",
       " 3           3450.0  FEMALE  \n",
       " 4           3650.0    MALE  \n",
       " ..             ...     ...  \n",
       " 328         4925.0  FEMALE  \n",
       " 329         4850.0  FEMALE  \n",
       " 330         5750.0    MALE  \n",
       " 331         5200.0  FEMALE  \n",
       " 332         5400.0    MALE  \n",
       " \n",
       " [333 rows x 6 columns],\n",
       " '_14':   Species  Culmen Length (mm)  Culmen Depth (mm)  Flipper Length (mm)  \\\n",
       " 0  Adelie                39.1               18.7                181.0   \n",
       " 1  Adelie                39.5               17.4                186.0   \n",
       " 2  Adelie                40.3               18.0                195.0   \n",
       " 3  Adelie                36.7               19.3                193.0   \n",
       " 4  Adelie                39.3               20.6                190.0   \n",
       " \n",
       "    Body Mass (g)     Sex  \n",
       " 0         3750.0    MALE  \n",
       " 1         3800.0  FEMALE  \n",
       " 2         3250.0  FEMALE  \n",
       " 3         3450.0  FEMALE  \n",
       " 4         3650.0    MALE  ,\n",
       " '_i15': \"# Task - override the Sex of all penguins to be Male\\n\\n###### BY value\\n# df[df.Species == 'Adelie']['Sex'] = 'MALE'\\n# df.groupby('Species')['Sex'].value_counts()\\n\\n###### BY reference\\n# df.loc[df.Species == 'Adelie', 'Sex'] = 'MALE'\\n# df.groupby('Species')['Sex'].value_counts()\",\n",
       " '_i16': 'a = 0 # global\\n\\nclass A_class:\\n    \\n    a = 1 # local 1\\n\\n    def A_func(self): # local 2\\n        a = 2 \\n        return a',\n",
       " 'A_class': __main__.A_class,\n",
       " '_i17': 'a',\n",
       " '_17': 0,\n",
       " '_i18': 'A = A_class()\\nA.a',\n",
       " 'A': <__main__.A_class at 0x7f51c9f545b0>,\n",
       " '_18': 1,\n",
       " '_i19': 'A = A_class()\\nA.A_func()',\n",
       " '_19': 2,\n",
       " '_i20': 'id(a)',\n",
       " '_20': 94725139754272,\n",
       " '_i21': 'from os import linesep',\n",
       " 'linesep': '\\n',\n",
       " '_i22': 'linesep',\n",
       " '_22': '\\n',\n",
       " '_i23': '__builtin__.credits',\n",
       " '_23':     Thanks to CWI, CNRI, BeOpen.com, Zope Corporation and a cast of thousands\n",
       "     for supporting Python development.  See www.python.org for more information.,\n",
       " '_i24': 'dir() ',\n",
       " '_24': ['A',\n",
       "  'A_class',\n",
       "  'In',\n",
       "  'NamespaceMagics',\n",
       "  'Out',\n",
       "  '_',\n",
       "  '_10',\n",
       "  '_11',\n",
       "  '_12',\n",
       "  '_13',\n",
       "  '_14',\n",
       "  '_17',\n",
       "  '_18',\n",
       "  '_19',\n",
       "  '_2',\n",
       "  '_20',\n",
       "  '_22',\n",
       "  '_23',\n",
       "  '_3',\n",
       "  '_4',\n",
       "  '_6',\n",
       "  '_7',\n",
       "  '_8',\n",
       "  '_9',\n",
       "  '__',\n",
       "  '__K',\n",
       "  '___',\n",
       "  '__builtin__',\n",
       "  '__builtins__',\n",
       "  '__doc__',\n",
       "  '__ipywidgets',\n",
       "  '__loader__',\n",
       "  '__name__',\n",
       "  '__np',\n",
       "  '__package__',\n",
       "  '__pd',\n",
       "  '__pyspark',\n",
       "  '__spec__',\n",
       "  '__tf',\n",
       "  '_check_imported',\n",
       "  '_dh',\n",
       "  '_i',\n",
       "  '_i1',\n",
       "  '_i10',\n",
       "  '_i11',\n",
       "  '_i12',\n",
       "  '_i13',\n",
       "  '_i14',\n",
       "  '_i15',\n",
       "  '_i16',\n",
       "  '_i17',\n",
       "  '_i18',\n",
       "  '_i19',\n",
       "  '_i2',\n",
       "  '_i20',\n",
       "  '_i21',\n",
       "  '_i22',\n",
       "  '_i23',\n",
       "  '_i24',\n",
       "  '_i3',\n",
       "  '_i4',\n",
       "  '_i5',\n",
       "  '_i6',\n",
       "  '_i7',\n",
       "  '_i8',\n",
       "  '_i9',\n",
       "  '_ih',\n",
       "  '_ii',\n",
       "  '_iii',\n",
       "  '_jupyterlab_variableinspector_Jupyter',\n",
       "  '_jupyterlab_variableinspector_default',\n",
       "  '_jupyterlab_variableinspector_deletevariable',\n",
       "  '_jupyterlab_variableinspector_dict_list',\n",
       "  '_jupyterlab_variableinspector_displaywidget',\n",
       "  '_jupyterlab_variableinspector_getcontentof',\n",
       "  '_jupyterlab_variableinspector_getmatrixcontent',\n",
       "  '_jupyterlab_variableinspector_getshapeof',\n",
       "  '_jupyterlab_variableinspector_getsizeof',\n",
       "  '_jupyterlab_variableinspector_is_matrix',\n",
       "  '_jupyterlab_variableinspector_is_widget',\n",
       "  '_jupyterlab_variableinspector_nms',\n",
       "  '_oh',\n",
       "  'a',\n",
       "  'b',\n",
       "  'c',\n",
       "  'd',\n",
       "  'df',\n",
       "  'e',\n",
       "  'exit',\n",
       "  'f',\n",
       "  'g',\n",
       "  'get_ipython',\n",
       "  'h',\n",
       "  'json',\n",
       "  'linesep',\n",
       "  'pd',\n",
       "  'quit',\n",
       "  'sys'],\n",
       " '_i25': 'locals()'}"
      ]
     },
     "execution_count": 25,
     "metadata": {},
     "output_type": "execute_result"
    }
   ],
   "source": [
    "locals()"
   ]
  },
  {
   "cell_type": "markdown",
   "metadata": {},
   "source": [
    "#### These are constructed whenever called, from the current scope\n",
    "#### They can be overriden!"
   ]
  }
 ],
 "metadata": {
  "kernelspec": {
   "display_name": "Python 3",
   "language": "python",
   "name": "python3"
  },
  "language_info": {
   "codemirror_mode": {
    "name": "ipython",
    "version": 3
   },
   "file_extension": ".py",
   "mimetype": "text/x-python",
   "name": "python",
   "nbconvert_exporter": "python",
   "pygments_lexer": "ipython3",
   "version": "3.8.5"
  }
 },
 "nbformat": 4,
 "nbformat_minor": 4
}
