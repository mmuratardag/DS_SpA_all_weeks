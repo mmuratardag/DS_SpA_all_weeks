{
 "cells": [
  {
   "cell_type": "code",
   "execution_count": 1,
   "metadata": {},
   "outputs": [],
   "source": [
    "import numpy as np\n",
    "import pandas as pd\n",
    "import geopandas as gpd\n",
    "import json\n",
    "import plotly.express as px"
   ]
  },
  {
   "cell_type": "code",
   "execution_count": 2,
   "metadata": {},
   "outputs": [
    {
     "data": {
      "text/plain": [
       "(150.0, 2195.0)"
      ]
     },
     "execution_count": 2,
     "metadata": {},
     "output_type": "execute_result"
    }
   ],
   "source": [
    "df = pd.read_csv('berlin_weather_forecast.csv') \n",
    "df['date'] = pd.to_datetime(df['date'].astype(str))\n",
    "df['year'] = df['date'].dt.year\n",
    "df_gb = df.groupby(['name','year','week'])['predicted_tempreature'].mean().reset_index()\n",
    "df_gb['predicted_tempreature'] = df_gb['predicted_tempreature'].round(2)\n",
    "df_gb['predicted_tempreature'] = df_gb['predicted_tempreature']*100\n",
    "#df_gb.head()\n",
    "df_gb['predicted_tempreature'].min(), df_gb['predicted_tempreature'].max()"
   ]
  },
  {
   "cell_type": "code",
   "execution_count": 3,
   "metadata": {
    "tags": []
   },
   "outputs": [],
   "source": [
    "filename = \"berlin_bezirke.geojson\"\n",
    "file = open(filename)\n",
    "geo_json_file = gpd.read_file(file)\n",
    "#type(geo_json_file)\n",
    "json_file = geo_json_file.to_json()\n",
    "converted_json = json.loads(json_file)\n",
    "#converted_json"
   ]
  },
  {
   "cell_type": "code",
   "execution_count": 4,
   "metadata": {
    "tags": []
   },
   "outputs": [],
   "source": [
    "interactive_map = px.choropleth_mapbox(\n",
    "    mapbox_style='open-street-map',      # see other styles: https://plotly.com/python/mapbox-layers/\n",
    "    data_frame = df_gb,                  # dataframe that contains all years\n",
    "    geojson=converted_json,                   # we can still use the JSON data from 2000, assuming the countries are the same over time\n",
    "    featureidkey='properties.name',      # name of JSON key within the \"properties\" value that contains country names\n",
    "    locations='name',                    # name of the dataframe column that contains country names\n",
    "    color='predicted_tempreature',                       # name of the dataframe column that contains numerical data you want to display\n",
    "    center={\"lat\": 52.5200, \"lon\": 13.4050},\n",
    "    zoom=8,\n",
    "    animation_frame='week',             # name of dataframe column that you want to make frames of\n",
    "    animation_group='name',   \n",
    "    color_continuous_scale=\"thermal\",    # see other options: https://plotly.com/python/builtin-colorscales/\n",
    "    range_color=(-100, 2250),\n",
    "    color_continuous_midpoint=1100)"
   ]
  },
  {
   "cell_type": "code",
   "execution_count": 5,
   "metadata": {},
   "outputs": [],
   "source": [
    "interactive_map.write_html(\"berlin_interactive_map.html\", include_plotlyjs='cdn')"
   ]
  }
 ],
 "metadata": {
  "kernelspec": {
   "display_name": "Python 3",
   "language": "python",
   "name": "python3"
  },
  "language_info": {
   "codemirror_mode": {
    "name": "ipython",
    "version": 3
   },
   "file_extension": ".py",
   "mimetype": "text/x-python",
   "name": "python",
   "nbconvert_exporter": "python",
   "pygments_lexer": "ipython3",
   "version": "3.8.5"
  }
 },
 "nbformat": 4,
 "nbformat_minor": 4
}
