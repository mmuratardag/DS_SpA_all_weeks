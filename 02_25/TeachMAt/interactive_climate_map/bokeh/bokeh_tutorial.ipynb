{
 "cells": [
  {
   "cell_type": "markdown",
   "metadata": {},
   "source": [
    "## Step-by-step guide to generating an interactive climate map in Bokeh (& Geopandas)\n",
    "\n",
    "- **With some specific boilerplate code already filled in.**\n",
    "    "
   ]
  },
  {
   "cell_type": "markdown",
   "metadata": {},
   "source": [
    "<img src=\"../img/bokeh.jpg\" align=\"center\" alt=\"bokeh_map\" width=\"600/\"/>"
   ]
  },
  {
   "cell_type": "markdown",
   "metadata": {},
   "source": [
    "- **CREDITS**:\n",
    "    \n",
    "    - The idea / code for this lesson was heavily inspired by the following tutorial:\n",
    "        - [A Complete Guide to an Interactive Geographical Map using Python](https://towardsdatascience.com/a-complete-guide-to-an-interactive-geographical-map-using-python-f4c5197e23e0), by [Shivangi Patel](https://github.com/CrazyDaffodils).\n",
    "        - We (Spiced Academy) have explicit permission from the original author to use the code under the conditions of the MIT License.\n",
    "    - The tutorial was adapted / re-written by Paul Wlodkowski for the Plotting on Maps lesson @ Spiced Academy.\n",
    "    \n",
    "    \n",
    "- **DATA**:\n",
    "\n",
    "     - The data for this particular lesson is **synthetic** / **fake!** It was originally scraped from [Berkeley Earth](http://berkeleyearth.lbl.gov/country-list/), but then regenerated based a simple polynomial trend and monthly seasonality modeled from the original data source & injected with random noise. Hence, the data in this repo is somewhat realistic but not authentic.\n",
    "\n",
    "\n",
    "- **INSTALLATION**:\n",
    "\n",
    "    - **Make sure you already have bokeh and geopandas installed**! (e.g. `pip` or `conda`), e.g.:\n",
    "\n",
    "        - `pip install bokeh==2.1.1`\n",
    "\n",
    "        - `pip install geopandas==0.8.0`\n",
    "    "
   ]
  },
  {
   "cell_type": "markdown",
   "metadata": {},
   "source": [
    "*Note*: this notebook was last run and tested on bokeh version 2.2.0 (released June 22, 2020) and geopandas version 0.8.0 (released July 15, 2020)."
   ]
  },
  {
   "cell_type": "markdown",
   "metadata": {},
   "source": [
    "---"
   ]
  },
  {
   "cell_type": "markdown",
   "metadata": {},
   "source": [
    "### STEP 1: Read in historical temperature data"
   ]
  },
  {
   "cell_type": "code",
   "execution_count": null,
   "metadata": {},
   "outputs": [],
   "source": [
    "DATA = '../data/temp_data.csv'"
   ]
  },
  {
   "cell_type": "code",
   "execution_count": null,
   "metadata": {},
   "outputs": [],
   "source": [
    "#Read in the data with pandas\n",
    "import pandas as pd\n",
    "\n",
    "df = pd.read_csv(DATA)"
   ]
  },
  {
   "cell_type": "markdown",
   "metadata": {},
   "source": [
    "---\n",
    "---"
   ]
  },
  {
   "cell_type": "markdown",
   "metadata": {},
   "source": [
    "### STEP 2: Read in the geographic data (geometric shapes of all countries in the world) \n",
    "- Hint: Use GeoPandas\n",
    "    - What is a **Shape file (.shp)?**\n",
    "        - https://en.wikipedia.org/wiki/Shapefile#Shapefile_shape_format_(.shp)\n",
    "- Publicly available GIS data downloaded from *Natural Earth*: https://www.naturalearthdata.com/downloads/110m-cultural-vectors/"
   ]
  },
  {
   "cell_type": "code",
   "execution_count": null,
   "metadata": {},
   "outputs": [],
   "source": [
    "SHAPEFILE = '../data/ne_110m_admin_0_countries.shp'"
   ]
  },
  {
   "cell_type": "code",
   "execution_count": null,
   "metadata": {},
   "outputs": [],
   "source": [
    "#Read in the shapefile with geopandas\n",
    "import geopandas as gpd\n",
    "gdf = gpd.read_file(___)"
   ]
  },
  {
   "cell_type": "markdown",
   "metadata": {},
   "source": [
    "*What happens if I have trouble installing geopandas*?\n",
    "\n",
    "- Unfortunately, this happened a couple times in the past with students, as the conda / pip installation on some Windows machines has been somewhat unreliable.\n",
    "    - In this case, there have been some helpful posts from StackOverflow (for example, [this one](https://stackoverflow.com/questions/54734667/error-installing-geopandas-a-gdal-api-version-must-be-specified-in-anaconda)), which finally got the installation working.\n",
    "- However, if you still have trouble with the installation despite lots of trial and error, you may consider creating a virtual environment or building a custom Docker image that builds off another image with Jupyter (e.g. https://hub.docker.com/r/jupyter/datascience-notebook)\n",
    "    - If you choose to go this route, please reach out to a teacher for help. \n",
    "- If you would rather not try those options (for very understandable reasons), then don't worry; a teacher can provide you with a `.geojson` file you can use.\n",
    "    - After all, the only reason we use GeoPandas in the first place is to read in the data and generate these GeoJSON files, so you shouldn't let this hold you back -- it's not that important in the end! \n",
    "    - Also, in general, with enough time spent googling around, you can find GeoJSON files from pretty much everywhere! For example:\n",
    "        - https://github.com/johan/world.geo.json/tree/master/countries\n",
    "        - https://github.com/isellsoap/deutschlandGeoJSON/blob/master/2_bundeslaender/4_niedrig.geo.json\n",
    "        - https://github.com/funkeinteraktiv/Berlin-Geodaten/blob/master/berlin_bezirke.geojson\n",
    "        - _And many more! They're super easy to find online! The world of open source is truly wonderful..._"
   ]
  },
  {
   "cell_type": "markdown",
   "metadata": {},
   "source": [
    "---\n",
    "---"
   ]
  },
  {
   "cell_type": "markdown",
   "metadata": {},
   "source": [
    "### STEP 3: Group / aggregate the temperature anomaly data by country, year\n",
    "- For simplicity, we're only interested in yearly averages"
   ]
  },
  {
   "cell_type": "code",
   "execution_count": null,
   "metadata": {},
   "outputs": [],
   "source": [
    "df.groupby(...)"
   ]
  },
  {
   "cell_type": "markdown",
   "metadata": {},
   "source": [
    "### STEP 4: Merge Data Sets.\n",
    "- We want to have our temperature data and geometric data in one place.\n",
    "- **Make sure you're still left with a GeoDataFrame at the end!**\n",
    "    - otherwise, if the resulting object is a regular Pandas dataframe, the ``.to_json()`` export will produce a normal ``.json`` file rather than a specialized ``.geojson`` file.\n",
    "    - A geojson file is very similar to a json file, with the exception that it's a bit more strict and specialized and works better with plotting libraries that usually expect the data to be in that format."
   ]
  },
  {
   "cell_type": "code",
   "execution_count": null,
   "metadata": {},
   "outputs": [],
   "source": [
    "gdf.merge(...)"
   ]
  },
  {
   "cell_type": "markdown",
   "metadata": {},
   "source": [
    "---\n",
    "---\n",
    "### Time for Visualization with\n",
    "\n",
    "<img src=\"https://static.bokeh.org/logos/logotype.svg\" align=\"left\" alt=\"bokeh_logo\" width=\"200/\"/>"
   ]
  },
  {
   "cell_type": "markdown",
   "metadata": {},
   "source": [
    "---\n",
    "---"
   ]
  },
  {
   "cell_type": "markdown",
   "metadata": {},
   "source": [
    "### STEP 5: Plot data on a map for a single year.\n",
    "- We'll make it interactive later\n"
   ]
  },
  {
   "cell_type": "markdown",
   "metadata": {},
   "source": [
    "   ### 5a. Generate a blank canvas / figure."
   ]
  },
  {
   "cell_type": "code",
   "execution_count": null,
   "metadata": {},
   "outputs": [],
   "source": [
    "from bokeh.plotting import figure"
   ]
  },
  {
   "cell_type": "code",
   "execution_count": null,
   "metadata": {},
   "outputs": [],
   "source": [
    "p = figure(title = _____,\n",
    "           plot_height = 600,\n",
    "           plot_width = 1000,\n",
    "          )"
   ]
  },
  {
   "cell_type": "code",
   "execution_count": null,
   "metadata": {},
   "outputs": [],
   "source": [
    "#Display figure inline in Jupyter Notebook.\n",
    "from bokeh.io import output_notebook, show"
   ]
  },
  {
   "cell_type": "code",
   "execution_count": null,
   "metadata": {},
   "outputs": [],
   "source": [
    "output_notebook()\n",
    "show(p)"
   ]
  },
  {
   "cell_type": "markdown",
   "metadata": {},
   "source": [
    "---"
   ]
  },
  {
   "cell_type": "markdown",
   "metadata": {},
   "source": [
    "### 5b. Generate a GeoJSON for a single year and use it to add shapes onto the figure\n",
    "- The Bokeh library (as well as many other JavaScript-based mapping libraries) requires the data to be in GeoJSON format.\n",
    "    - **HINT**: How can you convert a GeoDataFrame into a GeoJSON? Think of how you might do this in regular pandas."
   ]
  },
  {
   "cell_type": "markdown",
   "metadata": {},
   "source": [
    "- Let's use the year 2000 as an example.\n",
    "- **Programming Tip**: \n",
    "    - If we can write code to work for a single year (hardcoded), then we can generalize this later to work for *any*  year!"
   ]
  },
  {
   "cell_type": "code",
   "execution_count": null,
   "metadata": {},
   "outputs": [],
   "source": [
    "from bokeh.models import GeoJSONDataSource"
   ]
  },
  {
   "cell_type": "code",
   "execution_count": null,
   "metadata": {},
   "outputs": [],
   "source": [
    "gdf_2000 = gdf[gdf['____'] == ____]\n",
    "json_2000 = gdf_2000.to_____()"
   ]
  },
  {
   "cell_type": "code",
   "execution_count": null,
   "metadata": {},
   "outputs": [],
   "source": [
    "geosource = GeoJSONDataSource(geojson = _____)"
   ]
  },
  {
   "cell_type": "code",
   "execution_count": null,
   "metadata": {},
   "outputs": [],
   "source": [
    "#Add patch renderer to figure. i.e. actually add the map to the canvas.\n",
    "p.patches('xs',\n",
    "          'ys',\n",
    "          source = _____,\n",
    "          line_color = '_______',\n",
    "          line_width = 0.25)"
   ]
  },
  {
   "cell_type": "markdown",
   "metadata": {},
   "source": [
    "---"
   ]
  },
  {
   "cell_type": "markdown",
   "metadata": {},
   "source": [
    "### 5c. Associate temperature values with colors\n",
    "- https://docs.bokeh.org/en/latest/docs/reference/palettes.html#brewer-palettes"
   ]
  },
  {
   "cell_type": "code",
   "execution_count": null,
   "metadata": {},
   "outputs": [],
   "source": [
    "from bokeh.palettes import brewer"
   ]
  },
  {
   "cell_type": "code",
   "execution_count": null,
   "metadata": {},
   "outputs": [],
   "source": [
    "palette = brewer['____']_____\n",
    "#Hint: what data type is \"brewer\"? How can we parse it?"
   ]
  },
  {
   "cell_type": "code",
   "execution_count": null,
   "metadata": {},
   "outputs": [],
   "source": [
    "from bokeh.models import LinearColorMapper"
   ]
  },
  {
   "cell_type": "code",
   "execution_count": null,
   "metadata": {},
   "outputs": [],
   "source": [
    "color_mapper = LinearColorMapper(palette = _____,\n",
    "                                 low = _____,\n",
    "                                 high = _____, \n",
    "                                 nan_color = ______)"
   ]
  },
  {
   "cell_type": "code",
   "execution_count": null,
   "metadata": {},
   "outputs": [],
   "source": [
    "from bokeh.models import ColorBar\n",
    "color_bar = ColorBar(color_mapper = _______,\n",
    "                     label_standoff = 8,\n",
    "                     width = ______,\n",
    "                     height = ______,\n",
    "                     location = (0,0),\n",
    "                     orientation = 'horizontal'\n",
    "                    )"
   ]
  },
  {
   "cell_type": "code",
   "execution_count": null,
   "metadata": {},
   "outputs": [],
   "source": [
    "p.add_layout(_______, 'below')"
   ]
  },
  {
   "cell_type": "code",
   "execution_count": null,
   "metadata": {},
   "outputs": [],
   "source": [
    "p.patches('xs',\n",
    "          'ys',\n",
    "          source = _______,\n",
    "          fill_color = {'field' :'_______', 'transform': color_mapper}, ### NEW ###\n",
    "          line_color = '______',\n",
    "          line_width = _______)"
   ]
  },
  {
   "cell_type": "markdown",
   "metadata": {},
   "source": [
    "*Note*: The fill-in-the-blank for `fill_color` is not obvious. Here's a hint:\n",
    "- For \"field\", if you examine the GeoJson object you created earlier, what is the name of the key within the \"properties\" dictionary that corresponds to the numerical value for which you would like to map to the color mapper?\n",
    "- Which attribute of our `geosource` variable allows us to view / access the original geojson information?\n",
    "    - Use `dir()` or the `TAB` key in Jupyter notebook to see the attributes of any python variable!"
   ]
  },
  {
   "cell_type": "code",
   "execution_count": null,
   "metadata": {},
   "outputs": [],
   "source": [
    "show(p)"
   ]
  },
  {
   "cell_type": "markdown",
   "metadata": {},
   "source": [
    "---\n",
    "---"
   ]
  },
  {
   "cell_type": "markdown",
   "metadata": {},
   "source": [
    "### STEP 6: Add interactivity so that we can change attributes of the map with a slider\n",
    "- Bokeh provides an extensive set of widgets and tools and makes it very simple to create rich, interactive visualizations.\n",
    "- Define a couple functions and combine it with the code you've already written for creating the static map."
   ]
  },
  {
   "cell_type": "markdown",
   "metadata": {},
   "source": [
    "---"
   ]
  },
  {
   "cell_type": "markdown",
   "metadata": {},
   "source": [
    "### 6a. Make our lives easier by defining a function that changes the source data based on year."
   ]
  },
  {
   "cell_type": "code",
   "execution_count": null,
   "metadata": {},
   "outputs": [],
   "source": [
    "def get_geojson(___):\n",
    "    \"\"\"Input a year (int) and return corresponding GeoJSON\"\"\"\n",
    "    gdf_year = gdf[gdf['____'] == ___] \n",
    "    return gdf_year.______\n",
    "\n",
    "geosource = GeoJSONDataSource(geojson = get_geojson(_____))"
   ]
  },
  {
   "cell_type": "markdown",
   "metadata": {},
   "source": [
    "---"
   ]
  },
  {
   "cell_type": "markdown",
   "metadata": {},
   "source": [
    "### 6b. Add a slider widget\n",
    "- We'd like to add a tool that we can interactively slide to change the year displayed on the map."
   ]
  },
  {
   "cell_type": "code",
   "execution_count": null,
   "metadata": {},
   "outputs": [],
   "source": [
    "from bokeh.models import Slider"
   ]
  },
  {
   "cell_type": "code",
   "execution_count": null,
   "metadata": {},
   "outputs": [],
   "source": [
    "slider = Slider(title = '_____', start = _____, end = _____, step = _____, value = _____)\n",
    "#define the constraints of the year slider"
   ]
  },
  {
   "cell_type": "markdown",
   "metadata": {},
   "source": [
    "---"
   ]
  },
  {
   "cell_type": "markdown",
   "metadata": {},
   "source": [
    "### 6c. Write a \"callback\" function that defines what happens whenever we move the slider.\n",
    "- This part is tricky; you're going to have to use your knowledge of python objects and namespaces (e.g. `dir()` or the `TAB` key in Jupyter Notebook) to figure out the names of attributes that you wish to target and modify!\n",
    "- Another hint for you: the arguments of the function are a bit misleading; we won't actually use the variables ``attr``, ``old``, and ``new`` inside the function. They're included there as necessarily placeholders in order for the python function to map correctly to a [JavaScript callback function](https://docs.bokeh.org/en/latest/docs/reference/models/callbacks.html#bokeh.models.callbacks.CustomJS) (not something we need to concern ourselves with)."
   ]
  },
  {
   "cell_type": "code",
   "execution_count": null,
   "metadata": {},
   "outputs": [],
   "source": [
    "def update_plot(attr, old, new):\n",
    "    \n",
    "    \"\"\"Change properties / attributes of the datasource and title depending on slider value / position.\"\"\"\n",
    "    \n",
    "    yr = slider._____\n",
    "    new_data = get_geojson(____) #our custom function from before\n",
    "    geosource.______ = new_data\n",
    "    p.title._____ = f'Avg. Monthly Temperature Anomaly for Year {yr}'\n",
    "      "
   ]
  },
  {
   "cell_type": "code",
   "execution_count": null,
   "metadata": {},
   "outputs": [],
   "source": [
    "slider.on_change('value', update_plot)"
   ]
  },
  {
   "cell_type": "markdown",
   "metadata": {},
   "source": [
    "---"
   ]
  },
  {
   "cell_type": "markdown",
   "metadata": {},
   "source": [
    "### And finally, some boilerplate code to wrap everything together...\n",
    "- Wrap the slider in a \"widget box\", combine it with the figure in a column layout, and add it all to the current document. "
   ]
  },
  {
   "cell_type": "code",
   "execution_count": null,
   "metadata": {},
   "outputs": [],
   "source": [
    "from bokeh.layouts import widgetbox, column\n",
    "from bokeh.io import curdoc\n",
    "\n",
    "layout = column(p,widgetbox(slider))\n",
    "curdoc().add_root(layout)"
   ]
  },
  {
   "cell_type": "code",
   "execution_count": null,
   "metadata": {},
   "outputs": [],
   "source": [
    "show(layout)"
   ]
  },
  {
   "cell_type": "markdown",
   "metadata": {},
   "source": [
    "---\n",
    "---\n",
    "---"
   ]
  },
  {
   "cell_type": "markdown",
   "metadata": {},
   "source": [
    "**To view this application in interactive mode you need to set up a local Bokeh server.**\n",
    "\n",
    "**In the terminal, run:**\n",
    "\n",
    "``bokeh serve --show <name_of_notebook>.ipynb``"
   ]
  },
  {
   "cell_type": "markdown",
   "metadata": {},
   "source": [
    "---\n",
    "---\n",
    "---"
   ]
  },
  {
   "cell_type": "markdown",
   "metadata": {},
   "source": [
    "**More Hints**:\n",
    "- If you're having trouble getting your interactive map working properly, **try exporting your Jupyter Notebook code to a python script.**\n",
    "    - Clean up your code, remove unnecessary lines, get rid of comments / markdown!\n",
    "    - Afterwards you can run the bokeh server from the python script:\n",
    "        - `bokeh serve --show <name_of_script>.py`"
   ]
  },
  {
   "cell_type": "markdown",
   "metadata": {},
   "source": [
    "---\n",
    "---\n",
    "---"
   ]
  },
  {
   "cell_type": "markdown",
   "metadata": {},
   "source": [
    "### Bonus / Follow-up Questions:\n",
    "- Add a hover tool (so data is shown when the mouse hovers over a country).\n",
    "    - `hover = HoverTool(tooltips = [ ('Country','@country'), ('Temp. Anomaly', '@monthly_anomaly')])`\n",
    "    - `p.tools.append(hover)`\n",
    "- Any other cool widgets you can think of?\n",
    "- Get more data up through 2019/2020.\n",
    "    - Any data source / API where you might be able to get this?\n",
    "- Create predictions through 2050, and add them to the visualization.\n",
    "- **Why does the data load slowly, and how could we improve the speed?**"
   ]
  },
  {
   "cell_type": "code",
   "execution_count": null,
   "metadata": {},
   "outputs": [],
   "source": []
  }
 ],
 "metadata": {
  "kernelspec": {
   "display_name": "Python 3",
   "language": "python",
   "name": "python3"
  },
  "language_info": {
   "codemirror_mode": {
    "name": "ipython",
    "version": 3
   },
   "file_extension": ".py",
   "mimetype": "text/x-python",
   "name": "python",
   "nbconvert_exporter": "python",
   "pygments_lexer": "ipython3",
   "version": "3.8.5"
  }
 },
 "nbformat": 4,
 "nbformat_minor": 4
}
