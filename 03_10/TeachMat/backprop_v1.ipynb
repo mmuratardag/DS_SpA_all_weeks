{
 "cells": [
  {
   "cell_type": "markdown",
   "metadata": {},
   "source": [
    "# Implement a Feed-Forward Network\n",
    "\n",
    "* write a function to create random weights\n",
    "* write a function calculating the output of a single layer\n",
    "* write a function calculating the sigmoid activation function\n",
    "* combine the functions to a two-layer network"
   ]
  },
  {
   "cell_type": "code",
   "execution_count": 1,
   "metadata": {},
   "outputs": [],
   "source": [
    "import numpy as np"
   ]
  },
  {
   "cell_type": "code",
   "execution_count": 2,
   "metadata": {},
   "outputs": [],
   "source": [
    "def get_random_weights(n_neurons, n_features):\n",
    "    \"\"\"\n",
    "    Sample randomized weights for multiple features and neurons from a normal distribution.\n",
    "    \"\"\"\n",
    "    return np.random.normal(size=(n_neurons, n_features))"
   ]
  },
  {
   "cell_type": "code",
   "execution_count": 3,
   "metadata": {},
   "outputs": [],
   "source": [
    "# write a function calculating the sigmoid activation function\n",
    "def sigmoid(x):\n",
    "    \"\"\"applies the sigmoid function on a 2D array\"\"\"\n",
    "    return 1 / (1 + np.exp(-x))"
   ]
  },
  {
   "cell_type": "code",
   "execution_count": 46,
   "metadata": {},
   "outputs": [],
   "source": [
    "def calc_dense_layer(inputs, weights, activation_func):\n",
    "    \"\"\"\n",
    "    takes two numpy arrays and an activation function\n",
    "    returns the output of a single feed-forward layer\n",
    "    \"\"\"\n",
    "    n_datapoints = inputs.shape[0]\n",
    "    n_neurons = weights.shape[0]\n",
    "    \n",
    "    input_b = add_bias(inputs)\n",
    "    weighted_sum = np.dot(input_b, weights)\n",
    "    output = activation_func(weighted_sum)\n",
    "    return output"
   ]
  },
  {
   "cell_type": "code",
   "execution_count": 47,
   "metadata": {},
   "outputs": [],
   "source": [
    "def add_bias(X):\n",
    "    \"\"\"add a bias column to an array\"\"\"\n",
    "    b = np.ones((X.shape[0], 1))  # number of data points --> single column\n",
    "    return np.hstack([X, b])  # stack (50, 2) with (50, 1)"
   ]
  },
  {
   "cell_type": "code",
   "execution_count": 50,
   "metadata": {},
   "outputs": [],
   "source": [
    "def feed_forward(X, weights_hidden, weights_output):\n",
    "    hidden_output = calc_dense_layer(X, weights_hidden, sigmoid)        # --> 50,2\n",
    "    y_hat = calc_dense_layer(hidden_output, weights_output, sigmoid)  # --> 50,1\n",
    "    return y_hat"
   ]
  },
  {
   "cell_type": "code",
   "execution_count": 75,
   "metadata": {},
   "outputs": [],
   "source": [
    "def calc_logloss(ytrue, yhat):\n",
    "    yhat = yhat.flatten()\n",
    "    assert ytrue.shape == (50,)\n",
    "    assert yhat.shape == (50,)\n",
    "    loss = -(ytrue * np.log(yhat) + (1 - ytrue)* np.log(1 - yhat))\n",
    "    return loss"
   ]
  },
  {
   "cell_type": "code",
   "execution_count": 76,
   "metadata": {},
   "outputs": [
    {
     "data": {
      "text/plain": [
       "array([0.56063665, 0.54861472, 0.5581529 , 0.54998545, 0.89329427,\n",
       "       0.88262004, 0.85334842, 0.55358351, 0.55772811, 0.8737476 ,\n",
       "       0.88828322, 0.88036962, 0.87423447, 0.54702845, 0.87605004,\n",
       "       0.85457608, 0.54052171, 0.54958831, 0.8427177 , 0.54945836,\n",
       "       0.89776531, 0.54578916, 0.53356414, 0.54055797, 0.55412658,\n",
       "       0.8859831 , 0.86524642, 0.86538723, 0.55799577, 0.54338537,\n",
       "       0.88183041, 0.87843234, 0.56329473, 0.54601345, 0.89323402,\n",
       "       0.89110708, 0.88371704, 0.868764  , 0.88144267, 0.52993538,\n",
       "       0.54845342, 0.53537506, 0.89496489, 0.88667493, 0.8456286 ,\n",
       "       0.54514562, 0.52640559, 0.88011232, 0.55683414, 0.54843704])"
      ]
     },
     "execution_count": 76,
     "metadata": {},
     "output_type": "execute_result"
    }
   ],
   "source": [
    "calc_logloss(ytrue, yhat)"
   ]
  },
  {
   "cell_type": "code",
   "execution_count": 53,
   "metadata": {},
   "outputs": [],
   "source": [
    "def backprop(ytrue):\n",
    "        # dummy\n",
    "    return 0.0, 0.0"
   ]
  },
  {
   "cell_type": "code",
   "execution_count": 90,
   "metadata": {},
   "outputs": [
    {
     "name": "stdout",
     "output_type": "stream",
     "text": [
      "41.339560362275634\n",
      "41.339560362275634\n",
      "41.339560362275634\n",
      "41.339560362275634\n",
      "41.339560362275634\n",
      "41.339560362275634\n",
      "41.339560362275634\n",
      "41.339560362275634\n",
      "41.339560362275634\n",
      "41.339560362275634\n",
      "41.339560362275634\n",
      "41.339560362275634\n",
      "41.339560362275634\n",
      "41.339560362275634\n",
      "41.339560362275634\n",
      "41.339560362275634\n",
      "41.339560362275634\n",
      "41.339560362275634\n",
      "41.339560362275634\n",
      "41.339560362275634\n",
      "41.339560362275634\n",
      "41.339560362275634\n",
      "41.339560362275634\n",
      "41.339560362275634\n",
      "41.339560362275634\n",
      "41.339560362275634\n",
      "41.339560362275634\n",
      "41.339560362275634\n",
      "41.339560362275634\n",
      "41.339560362275634\n",
      "41.339560362275634\n",
      "41.339560362275634\n",
      "41.339560362275634\n",
      "41.339560362275634\n",
      "41.339560362275634\n",
      "41.339560362275634\n",
      "41.339560362275634\n",
      "41.339560362275634\n",
      "41.339560362275634\n",
      "41.339560362275634\n",
      "41.339560362275634\n",
      "41.339560362275634\n",
      "41.339560362275634\n",
      "41.339560362275634\n",
      "41.339560362275634\n",
      "41.339560362275634\n",
      "41.339560362275634\n",
      "41.339560362275634\n",
      "41.339560362275634\n",
      "41.339560362275634\n",
      "41.339560362275634\n",
      "41.339560362275634\n",
      "41.339560362275634\n",
      "41.339560362275634\n",
      "41.339560362275634\n",
      "41.339560362275634\n",
      "41.339560362275634\n",
      "41.339560362275634\n",
      "41.339560362275634\n",
      "41.339560362275634\n",
      "41.339560362275634\n",
      "41.339560362275634\n",
      "41.339560362275634\n",
      "41.339560362275634\n",
      "41.339560362275634\n",
      "41.339560362275634\n",
      "41.339560362275634\n",
      "41.339560362275634\n",
      "41.339560362275634\n",
      "41.339560362275634\n",
      "41.339560362275634\n",
      "41.339560362275634\n",
      "41.339560362275634\n",
      "41.339560362275634\n",
      "41.339560362275634\n",
      "41.339560362275634\n",
      "41.339560362275634\n",
      "41.339560362275634\n",
      "41.339560362275634\n",
      "41.339560362275634\n",
      "41.339560362275634\n",
      "41.339560362275634\n",
      "41.339560362275634\n",
      "41.339560362275634\n",
      "41.339560362275634\n",
      "41.339560362275634\n",
      "41.339560362275634\n",
      "41.339560362275634\n",
      "41.339560362275634\n",
      "41.339560362275634\n",
      "41.339560362275634\n",
      "41.339560362275634\n",
      "41.339560362275634\n",
      "41.339560362275634\n",
      "41.339560362275634\n",
      "41.339560362275634\n",
      "41.339560362275634\n",
      "41.339560362275634\n",
      "41.339560362275634\n",
      "41.339560362275634\n"
     ]
    }
   ],
   "source": [
    "np.random.seed(42)\n",
    "\n",
    "w1 = get_random_weights(3, 2)     # 2 neurons, 2+1 inputs\n",
    "w2 = get_random_weights(3, 1)     # 1 neuron, 2+1 inputs\n",
    "ytrue = y\n",
    "LR = 0.01\n",
    "\n",
    "for i in range(100):\n",
    "    delta_whidden, delta_woutput = backprop(ytrue)\n",
    "    w1 += delta_whidden * LR\n",
    "    w2 += delta_woutput * LR\n",
    "    yhat = feed_forward(X, w1, w2)\n",
    "    loss = calc_logloss(ytrue, yhat).sum()  # total loss of the model\n",
    "    print(loss)"
   ]
  },
  {
   "cell_type": "code",
   "execution_count": 80,
   "metadata": {},
   "outputs": [],
   "source": [
    "\n",
    "yhat = feed_forward(X, w1, w2)"
   ]
  },
  {
   "cell_type": "code",
   "execution_count": 14,
   "metadata": {},
   "outputs": [],
   "source": [
    "from sklearn.datasets import make_moons\n",
    "from matplotlib import pyplot as plt"
   ]
  },
  {
   "cell_type": "code",
   "execution_count": 23,
   "metadata": {},
   "outputs": [
    {
     "data": {
      "text/plain": [
       "((50, 2), (50,))"
      ]
     },
     "execution_count": 23,
     "metadata": {},
     "output_type": "execute_result"
    }
   ],
   "source": [
    "X, y = make_moons(n_samples=50, noise=0.2)\n",
    "X.shape, y.shape"
   ]
  },
  {
   "cell_type": "code",
   "execution_count": 24,
   "metadata": {},
   "outputs": [
    {
     "data": {
      "text/plain": [
       "<matplotlib.collections.PathCollection at 0x7fbc308e0310>"
      ]
     },
     "execution_count": 24,
     "metadata": {},
     "output_type": "execute_result"
    },
    {
     "data": {
      "image/png": "[encoded data removed]",
      "text/plain": [
       "<Figure size 432x288 with 1 Axes>"
      ]
     },
     "metadata": {
      "needs_background": "light"
     },
     "output_type": "display_data"
    }
   ],
   "source": [
    "plt.scatter(X[:,0], X[:,1], c=y)"
   ]
  },
  {
   "cell_type": "code",
   "execution_count": null,
   "metadata": {},
   "outputs": [],
   "source": []
  },
  {
   "cell_type": "markdown",
   "metadata": {},
   "source": [
    "## Test Code"
   ]
  },
  {
   "cell_type": "code",
   "execution_count": 5,
   "metadata": {},
   "outputs": [],
   "source": [
    "assert get_random_weights(3, 2).shape == (3, 2)"
   ]
  },
  {
   "cell_type": "code",
   "execution_count": 7,
   "metadata": {},
   "outputs": [
    {
     "name": "stdout",
     "output_type": "stream",
     "text": [
      "(3, 1) (3, 2) 3\n"
     ]
    }
   ],
   "source": [
    "a = np.array([[1.0, 0.0], [0.0, 1.0], [0.5, 0.5]])\n",
    "w = get_random_weights(3, 2)\n",
    "assert type(calc_dense_layer(a, w, np.sum)) == np.float64"
   ]
  },
  {
   "cell_type": "code",
   "execution_count": 10,
   "metadata": {},
   "outputs": [],
   "source": [
    "a = np.array([[-99.9, +99.9, 0.0, -1.0, 1.0]])\n",
    "expected = np.array([[0.0, 1.0, 0.5, 0.3, 0.7]])\n",
    "result = sigmoid(a).round(1)\n",
    "assert np.all(expected == result)"
   ]
  },
  {
   "cell_type": "code",
   "execution_count": 11,
   "metadata": {},
   "outputs": [],
   "source": [
    "X = np.array([(0, 0), (1, 0), (0, 1), (1, 1)], np.float64)\n",
    "y = np.array([0, 0, 0, 1], np.float32)"
   ]
  },
  {
   "cell_type": "code",
   "execution_count": 12,
   "metadata": {},
   "outputs": [
    {
     "name": "stdout",
     "output_type": "stream",
     "text": [
      "(4, 1) (4, 2) 3\n"
     ]
    },
    {
     "data": {
      "text/plain": [
       "array([[0.719189  ],\n",
       "       [0.96902183],\n",
       "       [0.35261076],\n",
       "       [0.86932219]])"
      ]
     },
     "execution_count": 12,
     "metadata": {},
     "output_type": "execute_result"
    }
   ],
   "source": [
    "w1 = get_random_weights(3, 1)\n",
    "out1 = calc_dense_layer(X, w1, sigmoid)\n",
    "out1"
   ]
  },
  {
   "cell_type": "code",
   "execution_count": 94,
   "metadata": {},
   "outputs": [
    {
     "name": "stdout",
     "output_type": "stream",
     "text": [
      "(4, 1) (4, 1) 2\n"
     ]
    },
    {
     "data": {
      "text/plain": [
       "array([[0.71588215],\n",
       "       [0.78352761],\n",
       "       [0.74098493],\n",
       "       [0.79113115]])"
      ]
     },
     "execution_count": 94,
     "metadata": {},
     "output_type": "execute_result"
    }
   ],
   "source": [
    "w2 = get_random_weights(2, 1)\n",
    "out2 = calc_dense_layer(out1, w2, sigmoid)\n",
    "out2"
   ]
  },
  {
   "cell_type": "code",
   "execution_count": null,
   "metadata": {},
   "outputs": [],
   "source": []
  }
 ],
 "metadata": {
  "kernelspec": {
   "display_name": "Python 3",
   "language": "python",
   "name": "python3"
  },
  "language_info": {
   "codemirror_mode": {
    "name": "ipython",
    "version": 3
   },
   "file_extension": ".py",
   "mimetype": "text/x-python",
   "name": "python",
   "nbconvert_exporter": "python",
   "pygments_lexer": "ipython3",
   "version": "3.8.5"
  }
 },
 "nbformat": 4,
 "nbformat_minor": 2
}
