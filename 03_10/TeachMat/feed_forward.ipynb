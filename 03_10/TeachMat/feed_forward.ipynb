{
 "cells": [
  {
   "cell_type": "markdown",
   "metadata": {},
   "source": [
    "# Implement a Feed-Forward Network\n",
    "\n",
    "* write a function to create random weights\n",
    "* write a function calculating the output of a single layer\n",
    "* write a function calculating the sigmoid activation function\n",
    "* combine the functions to a two-layer network"
   ]
  },
  {
   "cell_type": "code",
   "execution_count": 1,
   "metadata": {},
   "outputs": [],
   "source": [
    "import numpy as np"
   ]
  },
  {
   "cell_type": "code",
   "execution_count": 2,
   "metadata": {},
   "outputs": [],
   "source": [
    "def get_random_weights(n_neurons, n_features):\n",
    "    \"\"\"\n",
    "    Sample randomized weights for multiple features and neurons from a normal distribution.\n",
    "    \"\"\"\n",
    "    return np.random.normal(size=(n_neurons, n_features))"
   ]
  },
  {
   "cell_type": "code",
   "execution_count": 9,
   "metadata": {},
   "outputs": [],
   "source": [
    "# write a function calculating the sigmoid activation function\n",
    "def sigmoid(x):\n",
    "    \"\"\"applies the sigmoid function on a 2D array\"\"\"\n",
    "    return 1 / (1 + np.exp(-x))"
   ]
  },
  {
   "cell_type": "code",
   "execution_count": 6,
   "metadata": {},
   "outputs": [],
   "source": [
    "def calc_dense_layer(inputs, weights, activation_func):\n",
    "    \"\"\"\n",
    "    takes two numpy arrays and an activation function\n",
    "    returns the output of a single feed-forward layer\n",
    "    \"\"\"\n",
    "    n_datapoints = inputs.shape[0]\n",
    "    n_neurons = weights.shape[0]\n",
    "    bias = np.ones((n_datapoints, 1), np.float32)\n",
    "    print(bias.shape, inputs.shape, n_neurons)\n",
    "    \n",
    "    input_b = np.hstack([inputs, bias])\n",
    "    weighted_sum = np.dot(input_b, weights)\n",
    "    output = activation_func(weighted_sum)\n",
    "    return output"
   ]
  },
  {
   "cell_type": "markdown",
   "metadata": {},
   "source": [
    "## Test Code"
   ]
  },
  {
   "cell_type": "code",
   "execution_count": 5,
   "metadata": {},
   "outputs": [],
   "source": [
    "assert get_random_weights(3, 2).shape == (3, 2)"
   ]
  },
  {
   "cell_type": "code",
   "execution_count": 7,
   "metadata": {},
   "outputs": [
    {
     "name": "stdout",
     "output_type": "stream",
     "text": [
      "(3, 1) (3, 2) 3\n"
     ]
    }
   ],
   "source": [
    "a = np.array([[1.0, 0.0], [0.0, 1.0], [0.5, 0.5]])\n",
    "w = get_random_weights(3, 2)\n",
    "assert type(calc_dense_layer(a, w, np.sum)) == np.float64"
   ]
  },
  {
   "cell_type": "code",
   "execution_count": 10,
   "metadata": {},
   "outputs": [],
   "source": [
    "a = np.array([[-99.9, +99.9, 0.0, -1.0, 1.0]])\n",
    "expected = np.array([[0.0, 1.0, 0.5, 0.3, 0.7]])\n",
    "result = sigmoid(a).round(1)\n",
    "assert np.all(expected == result)"
   ]
  },
  {
   "cell_type": "code",
   "execution_count": 11,
   "metadata": {},
   "outputs": [],
   "source": [
    "X = np.array([(0, 0), (1, 0), (0, 1), (1, 1)], np.float64)\n",
    "y = np.array([0, 0, 0, 1], np.float32)"
   ]
  },
  {
   "cell_type": "code",
   "execution_count": 12,
   "metadata": {},
   "outputs": [
    {
     "name": "stdout",
     "output_type": "stream",
     "text": [
      "(4, 1) (4, 2) 3\n"
     ]
    },
    {
     "data": {
      "text/plain": [
       "array([[0.719189  ],\n",
       "       [0.96902183],\n",
       "       [0.35261076],\n",
       "       [0.86932219]])"
      ]
     },
     "execution_count": 12,
     "metadata": {},
     "output_type": "execute_result"
    }
   ],
   "source": [
    "w1 = get_random_weights(3, 1)\n",
    "out1 = calc_dense_layer(X, w1, sigmoid)\n",
    "out1"
   ]
  },
  {
   "cell_type": "code",
   "execution_count": 94,
   "metadata": {},
   "outputs": [
    {
     "name": "stdout",
     "output_type": "stream",
     "text": [
      "(4, 1) (4, 1) 2\n"
     ]
    },
    {
     "data": {
      "text/plain": [
       "array([[0.71588215],\n",
       "       [0.78352761],\n",
       "       [0.74098493],\n",
       "       [0.79113115]])"
      ]
     },
     "execution_count": 94,
     "metadata": {},
     "output_type": "execute_result"
    }
   ],
   "source": [
    "w2 = get_random_weights(2, 1)\n",
    "out2 = calc_dense_layer(out1, w2, sigmoid)\n",
    "out2"
   ]
  },
  {
   "cell_type": "code",
   "execution_count": null,
   "metadata": {},
   "outputs": [],
   "source": []
  }
 ],
 "metadata": {
  "kernelspec": {
   "display_name": "Python 3",
   "language": "python",
   "name": "python3"
  },
  "language_info": {
   "codemirror_mode": {
    "name": "ipython",
    "version": 3
   },
   "file_extension": ".py",
   "mimetype": "text/x-python",
   "name": "python",
   "nbconvert_exporter": "python",
   "pygments_lexer": "ipython3",
   "version": "3.8.5"
  }
 },
 "nbformat": 4,
 "nbformat_minor": 2
}
