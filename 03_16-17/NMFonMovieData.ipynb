{
 "cells": [
  {
   "cell_type": "code",
   "execution_count": 1,
   "metadata": {},
   "outputs": [],
   "source": [
    "import numpy as np\n",
    "from sklearn.decomposition import NMF\n",
    "import pandas as pd"
   ]
  },
  {
   "cell_type": "code",
   "execution_count": 2,
   "metadata": {},
   "outputs": [
    {
     "data": {
      "text/html": [
       "<div>\n",
       "<style scoped>\n",
       "    .dataframe tbody tr th:only-of-type {\n",
       "        vertical-align: middle;\n",
       "    }\n",
       "\n",
       "    .dataframe tbody tr th {\n",
       "        vertical-align: top;\n",
       "    }\n",
       "\n",
       "    .dataframe thead th {\n",
       "        text-align: right;\n",
       "    }\n",
       "</style>\n",
       "<table border=\"1\" class=\"dataframe\">\n",
       "  <thead>\n",
       "    <tr style=\"text-align: right;\">\n",
       "      <th></th>\n",
       "      <th>Titanic</th>\n",
       "      <th>Tiffany</th>\n",
       "      <th>Terminator</th>\n",
       "      <th>Star Trek</th>\n",
       "      <th>Star Wars</th>\n",
       "    </tr>\n",
       "  </thead>\n",
       "  <tbody>\n",
       "    <tr>\n",
       "      <th>Ada</th>\n",
       "      <td>5</td>\n",
       "      <td>4</td>\n",
       "      <td>1</td>\n",
       "      <td>1</td>\n",
       "      <td>3</td>\n",
       "    </tr>\n",
       "    <tr>\n",
       "      <th>Bob</th>\n",
       "      <td>3</td>\n",
       "      <td>2</td>\n",
       "      <td>1</td>\n",
       "      <td>3</td>\n",
       "      <td>1</td>\n",
       "    </tr>\n",
       "    <tr>\n",
       "      <th>Steve</th>\n",
       "      <td>3</td>\n",
       "      <td>3</td>\n",
       "      <td>3</td>\n",
       "      <td>3</td>\n",
       "      <td>5</td>\n",
       "    </tr>\n",
       "    <tr>\n",
       "      <th>Margaret</th>\n",
       "      <td>1</td>\n",
       "      <td>1</td>\n",
       "      <td>5</td>\n",
       "      <td>4</td>\n",
       "      <td>4</td>\n",
       "    </tr>\n",
       "  </tbody>\n",
       "</table>\n",
       "</div>"
      ],
      "text/plain": [
       "          Titanic  Tiffany  Terminator  Star Trek  Star Wars\n",
       "Ada             5        4           1          1          3\n",
       "Bob             3        2           1          3          1\n",
       "Steve           3        3           3          3          5\n",
       "Margaret        1        1           5          4          4"
      ]
     },
     "execution_count": 2,
     "metadata": {},
     "output_type": "execute_result"
    }
   ],
   "source": [
    "# movie, ratings by users\n",
    "data = [\n",
    "    [5, 4, 1, 1, 3],\n",
    "    [3, 2, 1, 3, 1],\n",
    "    [3, 3, 3, 3, 5],\n",
    "    [1, 1, 5, 4, 4],\n",
    "]\n",
    "columns = ['Titanic', 'Tiffany', 'Terminator', 'Star Trek', 'Star Wars'] #movies\n",
    "index = ['Ada', 'Bob', 'Steve', 'Margaret'] #users\n",
    "\n",
    "#need a dataframe for this\n",
    "R = pd.DataFrame(data, index=index, columns=columns).values\n",
    "R_df = pd.DataFrame(data, index=index, columns=columns)\n",
    "R_df"
   ]
  },
  {
   "cell_type": "code",
   "execution_count": 3,
   "metadata": {},
   "outputs": [
    {
     "name": "stdout",
     "output_type": "stream",
     "text": [
      "2.319822011025\n"
     ]
    }
   ],
   "source": [
    "#create a model and set the hyperparameters\n",
    "# model assumes R ~ PQ'\n",
    "model = NMF(n_components=2, init='random', random_state=10)\n",
    "\n",
    "model.fit(R)\n",
    "\n",
    "Q = model.components_  # movie-genre matrix\n",
    "\n",
    "P = model.transform(R)  # user-genre matrix\n",
    "\n",
    "print(model.reconstruction_err_) #reconstruction error"
   ]
  },
  {
   "cell_type": "code",
   "execution_count": 4,
   "metadata": {},
   "outputs": [
    {
     "name": "stdout",
     "output_type": "stream",
     "text": [
      "[[4.98574011 3.98089613 0.69817861 1.52507923 2.84430572]\n",
      " [2.61580597 2.15486368 1.23495386 1.51110529 2.19736573]\n",
      " [3.35829506 2.89944467 3.32824145 3.36641177 4.23566511]\n",
      " [0.85105386 1.03300314 4.75334969 4.0532461  4.24705685]]\n"
     ]
    }
   ],
   "source": [
    "nR = np.dot(P, Q)\n",
    "print(nR) ## The reconstructed matrix!"
   ]
  },
  {
   "cell_type": "code",
   "execution_count": 5,
   "metadata": {},
   "outputs": [
    {
     "name": "stdout",
     "output_type": "stream",
     "text": [
      "[[2.68231475 0.45631224]]\n"
     ]
    }
   ],
   "source": [
    "# predict the hidden features for a new data point\n",
    "query = [[1, 2, 5, 4, 5]]\n",
    "#in this case, a new user providing ratings for the 5 movies.\n",
    "print(model.transform(query))"
   ]
  }
 ],
 "metadata": {
  "kernelspec": {
   "display_name": "Python 3",
   "language": "python",
   "name": "python3"
  },
  "language_info": {
   "codemirror_mode": {
    "name": "ipython",
    "version": 3
   },
   "file_extension": ".py",
   "mimetype": "text/x-python",
   "name": "python",
   "nbconvert_exporter": "python",
   "pygments_lexer": "ipython3",
   "version": "3.8.5"
  }
 },
 "nbformat": 4,
 "nbformat_minor": 4
}
