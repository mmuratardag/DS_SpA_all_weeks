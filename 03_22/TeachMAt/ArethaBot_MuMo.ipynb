{
 "cells": [
  {
   "cell_type": "markdown",
   "metadata": {},
   "source": [
    "# Aretha Bot\n",
    "**LSTM that generates Aretha Franklin lyrics**"
   ]
  },
  {
   "cell_type": "code",
   "execution_count": 1,
   "metadata": {},
   "outputs": [],
   "source": [
    "from tensorflow.keras.callbacks import LambdaCallback\n",
    "from tensorflow.keras.models import Sequential\n",
    "from tensorflow.keras.layers import Dense, Activation, LSTM\n",
    "from tensorflow.keras import backend as K\n",
    "from tensorflow.keras.optimizers import RMSprop\n",
    "import numpy as np\n",
    "import random"
   ]
  },
  {
   "cell_type": "markdown",
   "metadata": {},
   "source": [
    "### Input data"
   ]
  },
  {
   "cell_type": "code",
   "execution_count": 2,
   "metadata": {},
   "outputs": [
    {
     "name": "stdout",
     "output_type": "stream",
     "text": [
      "corpus length: 533 characters\n"
     ]
    }
   ],
   "source": [
    "text = '''\n",
    "What you want (oo)\n",
    "Baby, I got (oo)\n",
    "What you need (oo)\n",
    "Do you know I got it? (oo)\n",
    "All I'm askin' (oo)\n",
    "Is for a little respect\n",
    "\n",
    "when you come home (just a little bit)\n",
    "Hey baby (just a little bit)\n",
    "when you get home (just a little bit)\n",
    "mister (just a little bit)\n",
    "\n",
    "I ain't gonna do you wrong while you're gone\n",
    "Ain't gonna do you wrong (oo)\n",
    "'cause I don't wanna (oo)\n",
    "All I'm askin' (oo)\n",
    "Is for a little respect when you come home (just a little bit)\n",
    "Baby (just a little bit)\n",
    "when you get home (just a little bit)\n",
    "Yeah (just a little bit)'''\n",
    "text = text.lower().replace('\\n', ' ')\n",
    "\n",
    "print(f'corpus length: {len(text)} characters')"
   ]
  },
  {
   "cell_type": "markdown",
   "metadata": {},
   "source": [
    "### Constants"
   ]
  },
  {
   "cell_type": "code",
   "execution_count": 3,
   "metadata": {},
   "outputs": [],
   "source": [
    "TEMPERATURE = 0.2  # vary this to raise/lower randomness\n",
    "SEQ_LENGTH = 20  # input sequences in characters\n",
    "STEP = 3"
   ]
  },
  {
   "cell_type": "markdown",
   "metadata": {},
   "source": [
    "### Create data for predicting the next character"
   ]
  },
  {
   "cell_type": "code",
   "execution_count": 5,
   "metadata": {},
   "outputs": [
    {
     "data": {
      "text/plain": [
       "['hel', 'lo ', 'wor', 'ld']"
      ]
     },
     "execution_count": 5,
     "metadata": {},
     "output_type": "execute_result"
    }
   ],
   "source": [
    "\"\"\"\n",
    "CHALLENGE:\n",
    "\n",
    "Cut text into pieces, according to the example output below:\n",
    "\n",
    "- each string in 'sentences' is SEQ_LENGTH characters long\n",
    "- each string in 'next_char' is 1 character long\n",
    "- the starting characters at each STEP are used.\n",
    "\"\"\"\n",
    "text = 'hello world'\n",
    "SEQ_LENGTH = 4\n",
    "\n",
    "# sentences = [text[i:i+SEQ_LENGTH] for i in range(0, len(text), SEQ_LENGTH)]\n",
    "\n",
    "\n",
    "assert sentences == ['hell', 'lo w', 'worl']\n",
    "assert next_chars == ['o', 'o', 'd']"
   ]
  },
  {
   "cell_type": "markdown",
   "metadata": {},
   "source": [
    "### Helper Data Structures"
   ]
  },
  {
   "cell_type": "code",
   "execution_count": null,
   "metadata": {},
   "outputs": [],
   "source": [
    "# dictionary to convert characters to integers and back\n",
    "chars = sorted(list(set(text)))\n",
    "char_indices = dict((c, i) for i, c in enumerate(chars))\n",
    "indices_char = dict((i, c) for i, c in enumerate(chars))\n",
    "\n",
    "nchars = len(chars)\n",
    "print('distinct characters:', nchars)"
   ]
  },
  {
   "cell_type": "markdown",
   "metadata": {},
   "source": [
    "### Vectorize sequences"
   ]
  },
  {
   "cell_type": "code",
   "execution_count": null,
   "metadata": {},
   "outputs": [],
   "source": [
    "X = np.zeros((nseq, SEQ_LENGTH, nchars), dtype=np.bool)\n",
    "Y = np.zeros((nseq, nchars), dtype=np.bool)\n",
    "for i, sentence in enumerate(sentences):\n",
    "    for t, char in enumerate(sentence):\n",
    "        X[i, t, char_indices[char]] = 1\n",
    "    Y[i, char_indices[next_chars[i]]] = 1\n",
    "    \n",
    "X.shape, Y.shape"
   ]
  },
  {
   "cell_type": "markdown",
   "metadata": {},
   "source": [
    "### Build LSTM model"
   ]
  },
  {
   "cell_type": "code",
   "execution_count": null,
   "metadata": {},
   "outputs": [],
   "source": [
    "K.clear_session()\n",
    "\n",
    "model = Sequential()\n",
    "model.add(LSTM(64, input_shape=(SEQ_LENGTH, nchars)))\n",
    "model.add(Dense(nchars))\n",
    "model.add(Activation('softmax'))\n",
    "\n",
    "optimizer = RMSprop(lr=0.01)\n",
    "model.compile(loss='categorical_crossentropy', optimizer=optimizer)"
   ]
  },
  {
   "cell_type": "code",
   "execution_count": null,
   "metadata": {},
   "outputs": [],
   "source": [
    "def sample_character(preds, characters, temperature=1.0):\n",
    "    \"\"\"random weighted choice of a character\"\"\"\n",
    "    preds = np.asarray(preds).astype('float64')  # high precision\n",
    "    preds = np.log(preds) / temperature          # apply temperature\n",
    "    exp_preds = np.exp(preds)\n",
    "    preds = exp_preds / np.sum(exp_preds)        # normalize\n",
    "    probas = np.random.multinomial(1, preds, 1)  # same as random.choices\n",
    "    i = np.argmax(probas)\n",
    "    return characters[i]"
   ]
  },
  {
   "cell_type": "code",
   "execution_count": null,
   "metadata": {},
   "outputs": [],
   "source": [
    "def predict(sentence, model):\n",
    "    \"\"\"predicts the next character for a given \"\"\"\n",
    "    # convert sentence to numbers\n",
    "    x_pred = np.zeros((1, SEQ_LENGTH, nchars))\n",
    "    for t, char in enumerate(sentence):\n",
    "        x_pred[0, t, char_indices[char]] = 1.\n",
    "\n",
    "    probs = model.predict(x_pred, verbose=0)[0]\n",
    "    return sample_character(probs, indices_char, TEMPERATURE)"
   ]
  },
  {
   "cell_type": "markdown",
   "metadata": {},
   "source": [
    "### Warmup training"
   ]
  },
  {
   "cell_type": "code",
   "execution_count": null,
   "metadata": {},
   "outputs": [],
   "source": [
    "model.fit(X, Y, batch_size=128, epochs=20, verbose=0)"
   ]
  },
  {
   "cell_type": "code",
   "execution_count": null,
   "metadata": {},
   "outputs": [],
   "source": [
    "predict(\"you want a little re\", model)"
   ]
  },
  {
   "cell_type": "code",
   "execution_count": null,
   "metadata": {},
   "outputs": [],
   "source": [
    "predict(\"ou want a little res\", model)"
   ]
  },
  {
   "cell_type": "code",
   "execution_count": null,
   "metadata": {},
   "outputs": [],
   "source": [
    "predict(\"u want a little resp\", model)"
   ]
  },
  {
   "cell_type": "markdown",
   "metadata": {},
   "source": [
    "### Go Bananas"
   ]
  },
  {
   "cell_type": "code",
   "execution_count": null,
   "metadata": {},
   "outputs": [],
   "source": [
    "def on_epoch_end(epoch, logs):\n",
    "    \"\"\"Callback function invoked at end of each epoch. Prints generated text.\"\"\"\n",
    "    if epoch % 40 != 0:\n",
    "        return\n",
    "    \n",
    "    # create a text to start predicting\n",
    "    start = random.randint(0, len(text) - SEQ_LENGTH - 1)\n",
    "    generated = ''\n",
    "    sentence = text[start: start + SEQ_LENGTH]\n",
    "    print('-' * 60)\n",
    "    print(f'\\nAfter Epoch: {epoch}\\n \\n{sentence.upper()}')\n",
    "\n",
    "    for i in range(300):\n",
    "        next_char = predict(sentence, model)\n",
    "        print(next_char, end='')\n",
    "        sentence = sentence[1:] + next_char  # prepare input for next round\n",
    "\n",
    "print_callback = LambdaCallback(on_epoch_end=on_epoch_end)\n",
    "\n",
    "model.fit(X, Y, batch_size=128, epochs=200, callbacks=[print_callback], verbose=0)"
   ]
  },
  {
   "cell_type": "code",
   "execution_count": null,
   "metadata": {},
   "outputs": [],
   "source": []
  },
  {
   "cell_type": "code",
   "execution_count": null,
   "metadata": {},
   "outputs": [],
   "source": []
  }
 ],
 "metadata": {
  "kernelspec": {
   "display_name": "Python 3",
   "language": "python",
   "name": "python3"
  },
  "language_info": {
   "codemirror_mode": {
    "name": "ipython",
    "version": 3
   },
   "file_extension": ".py",
   "mimetype": "text/x-python",
   "name": "python",
   "nbconvert_exporter": "python",
   "pygments_lexer": "ipython3",
   "version": "3.8.8"
  }
 },
 "nbformat": 4,
 "nbformat_minor": 4
}
