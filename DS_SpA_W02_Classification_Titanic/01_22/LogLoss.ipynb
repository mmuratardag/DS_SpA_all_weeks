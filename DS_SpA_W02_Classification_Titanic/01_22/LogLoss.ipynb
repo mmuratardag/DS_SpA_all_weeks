{
 "cells": [
  {
   "cell_type": "markdown",
   "metadata": {},
   "source": [
    "# The Loss Function for Logistic Regression "
   ]
  },
  {
   "cell_type": "markdown",
   "metadata": {},
   "source": [
    "## 1. Uncertainty"
   ]
  },
  {
   "cell_type": "code",
   "execution_count": 1,
   "metadata": {},
   "outputs": [],
   "source": [
    "import numpy as np\n",
    "from PIL import Image # Python Imaging Library 'pillow'"
   ]
  },
  {
   "cell_type": "markdown",
   "metadata": {},
   "source": [
    "#### Q: How many bytes do we need to store a 200x200 pixel B/W image?\n",
    "\n",
    "* bit = 0 or 1\n",
    "* byte = 8 bits\n",
    "* 200 * 200 bits or that / 8 bytes"
   ]
  },
  {
   "cell_type": "code",
   "execution_count": 3,
   "metadata": {},
   "outputs": [
    {
     "data": {
      "text/plain": [
       "5000.0"
      ]
     },
     "execution_count": 3,
     "metadata": {},
     "output_type": "execute_result"
    }
   ],
   "source": [
    "200 * 200 / 8  # 5000 byte or 5 kB"
   ]
  },
  {
   "cell_type": "code",
   "execution_count": 14,
   "metadata": {},
   "outputs": [
    {
     "data": {
      "text/plain": [
       "(200, 200)"
      ]
     },
     "execution_count": 14,
     "metadata": {},
     "output_type": "execute_result"
    }
   ],
   "source": [
    "X = np.random.randint(0, 256, size=(200, 200), dtype=np.uint8) # <-- single byte\n",
    "X.shape  # <-- most important debugging command with Numpy / Scikit / pandas"
   ]
  },
  {
   "cell_type": "code",
   "execution_count": 15,
   "metadata": {},
   "outputs": [],
   "source": [
    "X[X<=127] = 0\n",
    "X[X>127] = 1"
   ]
  },
  {
   "cell_type": "code",
   "execution_count": 16,
   "metadata": {},
   "outputs": [
    {
     "data": {
      "image/png": "[encoded data removed]",
      "text/plain": [
       "<PIL.Image.Image image mode=L size=200x200 at 0x7F309A7ADB50>"
      ]
     },
     "execution_count": 16,
     "metadata": {},
     "output_type": "execute_result"
    }
   ],
   "source": [
    "im = Image.fromarray(X * 255)\n",
    "im"
   ]
  },
  {
   "cell_type": "code",
   "execution_count": 17,
   "metadata": {},
   "outputs": [],
   "source": [
    "im.save('blur.png')"
   ]
  },
  {
   "cell_type": "code",
   "execution_count": 29,
   "metadata": {},
   "outputs": [
    {
     "data": {
      "image/png": "[encoded data removed]",
      "text/plain": [
       "<PIL.Image.Image image mode=L size=200x200 at 0x7F30D43FB1F0>"
      ]
     },
     "execution_count": 29,
     "metadata": {},
     "output_type": "execute_result"
    }
   ],
   "source": [
    "X = np.random.randint(0, 256, size=(200, 200), dtype=np.uint8)\n",
    "X[X<=250] = 0\n",
    "X[X>250] = 1\n",
    "im = Image.fromarray(X * 255)\n",
    "im"
   ]
  },
  {
   "cell_type": "code",
   "execution_count": 30,
   "metadata": {},
   "outputs": [],
   "source": [
    "im.save('sparse.png')"
   ]
  },
  {
   "cell_type": "code",
   "execution_count": 31,
   "metadata": {},
   "outputs": [
    {
     "name": "stdout",
     "output_type": "stream",
     "text": [
      "-rw-rw-r-- 1 kristian kristian 9087 Jan 22 10:14 blur.png\r\n",
      "-rw-rw-r-- 1 kristian kristian 1406 Jan 22 10:21 sparse.png\r\n"
     ]
    }
   ],
   "source": [
    "!ls -l *.png"
   ]
  },
  {
   "cell_type": "code",
   "execution_count": null,
   "metadata": {},
   "outputs": [],
   "source": []
  },
  {
   "cell_type": "markdown",
   "metadata": {},
   "source": [
    "### We measure uncertainty by how well the data can be compressed"
   ]
  },
  {
   "cell_type": "markdown",
   "metadata": {},
   "source": [
    "## 2. Information Entropy\n",
    "\n",
    "**aka Shannon Entropy**\n",
    "\n",
    "*a measure for uncertainty in data (your target variable)*"
   ]
  },
  {
   "cell_type": "markdown",
   "metadata": {},
   "source": [
    "$H(y) = -\\sum_i p(y_i) * log_2(p(y_i))$"
   ]
  },
  {
   "cell_type": "markdown",
   "metadata": {},
   "source": [
    "The entropy H(y) tells us how much uncertainty there is.\n",
    "\n",
    "The Unit of H are **bits**"
   ]
  },
  {
   "cell_type": "code",
   "execution_count": 36,
   "metadata": {},
   "outputs": [
    {
     "data": {
      "text/plain": [
       "1.0"
      ]
     },
     "execution_count": 36,
     "metadata": {},
     "output_type": "execute_result"
    }
   ],
   "source": [
    "from math import log\n",
    "\n",
    "p_gentoo = 0.5\n",
    "p_adelie = 0.5\n",
    "\n",
    "- ( p_gentoo * log(p_gentoo, 2) + p_adelie * log(p_adelie, 2) ) "
   ]
  },
  {
   "cell_type": "markdown",
   "metadata": {},
   "source": [
    "### What are we trying to do when training a model?\n",
    "\n",
    "* there exists a real probability distribution Q(y) of the target\n",
    "* unpleasant fact: we don't know Q(y)\n",
    "* we try to get as close to Q(y) with our model P(y)"
   ]
  },
  {
   "cell_type": "markdown",
   "metadata": {},
   "source": [
    "* our model can at best have the same uncertainty as the real distribution\n",
    "* possibly the model is worse"
   ]
  },
  {
   "cell_type": "markdown",
   "metadata": {},
   "source": [
    "can we measure how close we are to the real distribution/uncertainty?\n",
    "\n",
    "we can calculate the difference\n",
    "\n",
    "$P(y) - Q(y)$\n",
    "\n",
    "for a **sample** of Q(y). The sample is our training data.\n",
    "\n",
    "**we want to make the difference between $P(y)$ and $Q_{sample}(y)$ as small as possible**"
   ]
  },
  {
   "cell_type": "code",
   "execution_count": null,
   "metadata": {},
   "outputs": [],
   "source": []
  },
  {
   "cell_type": "markdown",
   "metadata": {},
   "source": [
    "![](oss.png)"
   ]
  },
  {
   "cell_type": "markdown",
   "metadata": {},
   "source": [
    "## 3. Measuring Errors of a LogReg model\n",
    "\n",
    "**we want the equivalent of MSE for logistic regression**\n",
    "\n",
    "* floating-point number\n",
    "* differentiable, so we can optimize it\n",
    "* quantifies the residual uncertainty for our training sample\n",
    "* smaller is better"
   ]
  },
  {
   "cell_type": "markdown",
   "metadata": {},
   "source": [
    "$log loss = -\\sum y_T * log(\\hat p) + (1-y_T) * log(1-\\hat p)$"
   ]
  },
  {
   "cell_type": "markdown",
   "metadata": {},
   "source": [
    "**LogLoss or binary cross-entropy**\n",
    "\n",
    "$y_T$ - the real target label (0 or 1)\n",
    "\n",
    "$\\hat p$ - the probability from our model (the output of the sigmoid function)"
   ]
  },
  {
   "cell_type": "code",
   "execution_count": 49,
   "metadata": {},
   "outputs": [],
   "source": [
    "# model probs\n",
    "#p_hat = [0.01, 0.99, 0.5, 0.7999]  # <-- m.predict(Xtrain)\n",
    "p_hat = [0.01, 0.99, 0.5, 0.7999]  # <-- m.predict(Xtrain)\n",
    "y_true = [0.0, 1.00, 1.0, 0.00]    # <-- ytrain"
   ]
  },
  {
   "cell_type": "code",
   "execution_count": 50,
   "metadata": {},
   "outputs": [
    {
     "data": {
      "text/plain": [
       "46.05170287714106"
      ]
     },
     "execution_count": 50,
     "metadata": {},
     "output_type": "execute_result"
    }
   ],
   "source": [
    "#TODO: implement the log-loss equation\n",
    "logloss = 0\n",
    "for i in range(0,len(p_hat)):\n",
    "    logloss += log(p_hat[i])*y_true[i] + (1-y_true[i])*log(1-p_hat[i])\n",
    "-logloss"
   ]
  },
  {
   "cell_type": "code",
   "execution_count": 43,
   "metadata": {},
   "outputs": [
    {
     "data": {
      "text/plain": [
       "0.5805464724148495"
      ]
     },
     "execution_count": 43,
     "metadata": {},
     "output_type": "execute_result"
    }
   ],
   "source": [
    "from sklearn.metrics import log_loss\n",
    "\n",
    "log_loss(np.array(y_true), np.array(p_hat))"
   ]
  },
  {
   "cell_type": "markdown",
   "metadata": {},
   "source": [
    "**Logistic Regression** is running an algorithm called Gradient Descent\n",
    "that finds the parameters giving the minimum log-loss for a sample.\n",
    "\n",
    "**Note:** there is always one minimum (unless your data is multi-colinear)"
   ]
  },
  {
   "cell_type": "markdown",
   "metadata": {},
   "source": [
    "### Also see:\n",
    "\n",
    "* Kullback-Leibler Divergence\n",
    "* maximum likelihood (alternative way to explain logloss)\n",
    "* AIC (Akaike Information Criterion) - for comparing models"
   ]
  },
  {
   "cell_type": "code",
   "execution_count": null,
   "metadata": {},
   "outputs": [],
   "source": []
  }
 ],
 "metadata": {
  "kernelspec": {
   "display_name": "Python 3",
   "language": "python",
   "name": "python3"
  },
  "language_info": {
   "codemirror_mode": {
    "name": "ipython",
    "version": 3
   },
   "file_extension": ".py",
   "mimetype": "text/x-python",
   "name": "python",
   "nbconvert_exporter": "python",
   "pygments_lexer": "ipython3",
   "version": "3.8.5"
  },
  "varInspector": {
   "cols": {
    "lenName": 16,
    "lenType": 16,
    "lenVar": 40
   },
   "kernels_config": {
    "python": {
     "delete_cmd_postfix": "",
     "delete_cmd_prefix": "del ",
     "library": "var_list.py",
     "varRefreshCmd": "print(var_dic_list())"
    },
    "r": {
     "delete_cmd_postfix": ") ",
     "delete_cmd_prefix": "rm(",
     "library": "var_list.r",
     "varRefreshCmd": "cat(var_dic_list()) "
    }
   },
   "types_to_exclude": [
    "module",
    "function",
    "builtin_function_or_method",
    "instance",
    "_Feature"
   ],
   "window_display": false
  }
 },
 "nbformat": 4,
 "nbformat_minor": 2
}
