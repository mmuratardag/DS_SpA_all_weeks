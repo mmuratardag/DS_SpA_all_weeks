{
 "cells": [
  {
   "cell_type": "markdown",
   "metadata": {},
   "source": [
    "# Regularization:\n",
    "\n",
    "**GOAL**: Reduce complexity of your model. AKA Prevent Overfitting. AKA Reduce Variance."
   ]
  },
  {
   "cell_type": "code",
   "execution_count": 1,
   "metadata": {},
   "outputs": [],
   "source": [
    "import numpy as np\n",
    "import matplotlib.pyplot as plt\n",
    "import warnings; warnings.simplefilter('ignore')\n",
    "from sklearn.preprocessing import PolynomialFeatures, StandardScaler\n",
    "from sklearn.linear_model import LinearRegression, Ridge, Lasso, ElasticNet"
   ]
  },
  {
   "cell_type": "markdown",
   "metadata": {},
   "source": [
    "Let's try to create some data that roughly follows this equation:\n",
    "\n",
    "\n",
    "$$ y = \\sqrt x $$\n",
    "\n",
    "\n",
    "Add in some normally-distributed noise to make it a bit more interesting."
   ]
  },
  {
   "cell_type": "code",
   "execution_count": 40,
   "metadata": {},
   "outputs": [],
   "source": [
    "X = np.arange(0, 100, 5)\n",
    "y = [np.sqrt(x_val) + np.random.normal(0, 0.7) for x_val in X]"
   ]
  },
  {
   "cell_type": "code",
   "execution_count": 41,
   "metadata": {},
   "outputs": [
    {
     "data": {
      "text/plain": [
       "[0.3693853478480206,\n",
       " 2.0175289589318246,\n",
       " 2.8110332442704324,\n",
       " 3.967169516509889,\n",
       " 4.431825788564785,\n",
       " 5.023599894763437,\n",
       " 6.210779278882421,\n",
       " 5.642315238261474,\n",
       " 7.253194449716788,\n",
       " 6.793199895601998,\n",
       " 7.1240125131549785,\n",
       " 8.354975903583576,\n",
       " 7.9155255154773325,\n",
       " 7.838155176828645,\n",
       " 7.563532933282593,\n",
       " 8.941494862729279,\n",
       " 9.724000529975958,\n",
       " 9.511382029215573,\n",
       " 9.168022034020325,\n",
       " 8.969400196889868]"
      ]
     },
     "execution_count": 41,
     "metadata": {},
     "output_type": "execute_result"
    }
   ],
   "source": [
    "y"
   ]
  },
  {
   "cell_type": "code",
   "execution_count": 42,
   "metadata": {},
   "outputs": [
    {
     "data": {
      "text/plain": [
       "<matplotlib.collections.PathCollection at 0x7fb0ab5bc978>"
      ]
     },
     "execution_count": 42,
     "metadata": {},
     "output_type": "execute_result"
    },
    {
     "data": {
      "image/png": "[encoded data removed]",
      "text/plain": [
       "<Figure size 432x288 with 1 Axes>"
      ]
     },
     "metadata": {
      "needs_background": "light"
     },
     "output_type": "display_data"
    }
   ],
   "source": [
    "plt.scatter(X, y)"
   ]
  },
  {
   "cell_type": "code",
   "execution_count": null,
   "metadata": {},
   "outputs": [],
   "source": []
  },
  {
   "cell_type": "markdown",
   "metadata": {},
   "source": [
    "### Always SCALE THE DATA for Regularization"
   ]
  },
  {
   "cell_type": "code",
   "execution_count": 43,
   "metadata": {},
   "outputs": [],
   "source": [
    "scaler = StandardScaler()"
   ]
  },
  {
   "cell_type": "code",
   "execution_count": 44,
   "metadata": {},
   "outputs": [],
   "source": [
    "X = scaler.fit_transform(X.reshape(-1, 1))"
   ]
  },
  {
   "cell_type": "code",
   "execution_count": 8,
   "metadata": {
    "collapsed": true,
    "jupyter": {
     "outputs_hidden": true
    }
   },
   "outputs": [
    {
     "data": {
      "text/plain": [
       "array([[-1.64750894],\n",
       "       [-1.47408695],\n",
       "       [-1.30066495],\n",
       "       [-1.12724296],\n",
       "       [-0.95382097],\n",
       "       [-0.78039897],\n",
       "       [-0.60697698],\n",
       "       [-0.43355498],\n",
       "       [-0.26013299],\n",
       "       [-0.086711  ],\n",
       "       [ 0.086711  ],\n",
       "       [ 0.26013299],\n",
       "       [ 0.43355498],\n",
       "       [ 0.60697698],\n",
       "       [ 0.78039897],\n",
       "       [ 0.95382097],\n",
       "       [ 1.12724296],\n",
       "       [ 1.30066495],\n",
       "       [ 1.47408695],\n",
       "       [ 1.64750894]])"
      ]
     },
     "execution_count": 8,
     "metadata": {},
     "output_type": "execute_result"
    }
   ],
   "source": [
    "X"
   ]
  },
  {
   "cell_type": "code",
   "execution_count": 45,
   "metadata": {},
   "outputs": [
    {
     "data": {
      "text/plain": [
       "<matplotlib.collections.PathCollection at 0x7fb0ab759d68>"
      ]
     },
     "execution_count": 45,
     "metadata": {},
     "output_type": "execute_result"
    },
    {
     "data": {
      "image/png": "[encoded data removed]",
      "text/plain": [
       "<Figure size 432x288 with 1 Axes>"
      ]
     },
     "metadata": {
      "needs_background": "light"
     },
     "output_type": "display_data"
    }
   ],
   "source": [
    "plt.scatter(X, y)"
   ]
  },
  {
   "cell_type": "code",
   "execution_count": null,
   "metadata": {},
   "outputs": [],
   "source": []
  },
  {
   "cell_type": "markdown",
   "metadata": {},
   "source": [
    "### Now let's intentionally overfit a model that focuses too much on training examples."
   ]
  },
  {
   "cell_type": "code",
   "execution_count": 10,
   "metadata": {},
   "outputs": [],
   "source": [
    "#Create more features to create a model that is too complex\n",
    "poly = PolynomialFeatures(degree=12, include_bias=False) \n",
    "X = X.reshape(-1,1)\n",
    "X_poly = poly.fit_transform(X) "
   ]
  },
  {
   "cell_type": "code",
   "execution_count": 12,
   "metadata": {
    "scrolled": true
   },
   "outputs": [
    {
     "data": {
      "text/plain": [
       "(20, 12)"
      ]
     },
     "execution_count": 12,
     "metadata": {},
     "output_type": "execute_result"
    }
   ],
   "source": [
    "X_poly.shape"
   ]
  },
  {
   "cell_type": "code",
   "execution_count": 19,
   "metadata": {},
   "outputs": [],
   "source": [
    "# Train a Linear Regression\n",
    "m = LinearRegression()\n",
    "m.fit(X_poly, y)\n",
    "ypred = m.predict(X_poly)"
   ]
  },
  {
   "cell_type": "code",
   "execution_count": 20,
   "metadata": {},
   "outputs": [
    {
     "data": {
      "text/plain": [
       "array([-0.22862475,  2.24709983,  4.1920391 ,  3.1079462 ,  3.39232859,\n",
       "        4.76522409,  5.73449223,  6.01252898,  6.16409259,  6.56007669,\n",
       "        7.07379447,  7.47638971,  7.78793696,  8.14831731,  8.49714563,\n",
       "        8.66366112,  8.86933957,  9.5530794 ,  9.74375462,  8.89416757])"
      ]
     },
     "execution_count": 20,
     "metadata": {},
     "output_type": "execute_result"
    }
   ],
   "source": [
    "ypred"
   ]
  },
  {
   "cell_type": "code",
   "execution_count": 22,
   "metadata": {},
   "outputs": [
    {
     "data": {
      "text/plain": [
       "[<matplotlib.lines.Line2D at 0x7fb0a9f68e80>]"
      ]
     },
     "execution_count": 22,
     "metadata": {},
     "output_type": "execute_result"
    },
    {
     "data": {
      "image/png": "[encoded data removed]",
      "text/plain": [
       "<Figure size 432x288 with 1 Axes>"
      ]
     },
     "metadata": {
      "needs_background": "light"
     },
     "output_type": "display_data"
    }
   ],
   "source": [
    "plt.scatter(X, y)\n",
    "plt.plot(X, ypred)"
   ]
  },
  {
   "cell_type": "code",
   "execution_count": null,
   "metadata": {},
   "outputs": [],
   "source": []
  },
  {
   "cell_type": "markdown",
   "metadata": {},
   "source": [
    "## Another extreme case:\n",
    "- Generate similar data but purposely throw in some outliers."
   ]
  },
  {
   "cell_type": "code",
   "execution_count": 23,
   "metadata": {},
   "outputs": [],
   "source": [
    "X = np.linspace(0, 15, 15).reshape(-1, 1)\n",
    "y = [np.sqrt(x_val) + np.random.normal(0,0.1) for x_val in X]"
   ]
  },
  {
   "cell_type": "code",
   "execution_count": 24,
   "metadata": {
    "scrolled": true
   },
   "outputs": [
    {
     "data": {
      "text/plain": [
       "<matplotlib.collections.PathCollection at 0x7fb0a9f8cb38>"
      ]
     },
     "execution_count": 24,
     "metadata": {},
     "output_type": "execute_result"
    },
    {
     "data": {
      "image/png": "[encoded data removed]",
      "text/plain": [
       "<Figure size 432x288 with 1 Axes>"
      ]
     },
     "metadata": {
      "needs_background": "light"
     },
     "output_type": "display_data"
    }
   ],
   "source": [
    "# Create some outliers\n",
    "y[2] = 4\n",
    "y[8] = 1\n",
    "\n",
    "plt.scatter(X, y)"
   ]
  },
  {
   "cell_type": "markdown",
   "metadata": {},
   "source": [
    "#### And watch how the Linear Regression model overfits:"
   ]
  },
  {
   "cell_type": "code",
   "execution_count": 25,
   "metadata": {},
   "outputs": [
    {
     "data": {
      "text/plain": [
       "[<matplotlib.lines.Line2D at 0x7fb0a9da1748>]"
      ]
     },
     "execution_count": 25,
     "metadata": {},
     "output_type": "execute_result"
    },
    {
     "data": {
      "image/png": "[encoded data removed]",
      "text/plain": [
       "<Figure size 864x576 with 1 Axes>"
      ]
     },
     "metadata": {
      "needs_background": "light"
     },
     "output_type": "display_data"
    }
   ],
   "source": [
    "### Make model unnecessarily complex:\n",
    "poly = PolynomialFeatures(degree=4, include_bias=False )\n",
    "X_poly = poly.fit_transform(X)\n",
    "\n",
    "##Fit Linear Regression\n",
    "m = LinearRegression() \n",
    "m.fit(X_poly, y)  \n",
    "ypred = m.predict(X_poly)\n",
    "\n",
    "## Plot\n",
    "plt.figure(figsize=(12, 8))\n",
    "plt.scatter(X, y)\n",
    "plt.plot(X, ypred)"
   ]
  },
  {
   "cell_type": "markdown",
   "metadata": {},
   "source": [
    "## We can reduce this complexity through Regularization"
   ]
  },
  {
   "cell_type": "markdown",
   "metadata": {},
   "source": [
    "There are three models that we can use for this purpose: \n",
    "- Ridge\n",
    "- Lasso \n",
    "- ElasticNet  \n"
   ]
  },
  {
   "cell_type": "code",
   "execution_count": 39,
   "metadata": {},
   "outputs": [
    {
     "data": {
      "text/plain": [
       "<matplotlib.legend.Legend at 0x7fb0ab422278>"
      ]
     },
     "execution_count": 39,
     "metadata": {},
     "output_type": "execute_result"
    },
    {
     "data": {
      "image/png": "[encoded data removed]",
      "text/plain": [
       "<Figure size 864x576 with 1 Axes>"
      ]
     },
     "metadata": {
      "needs_background": "light"
     },
     "output_type": "display_data"
    }
   ],
   "source": [
    "m = LinearRegression() \n",
    "m_ridge = Ridge(alpha=0.5) \n",
    "m_lasso = Lasso(alpha=0.5)\n",
    "m_elastic = ElasticNet(alpha=0.3, l1_ratio=0.2)  #L1: Lasso, L2: Ridge\n",
    "\n",
    "m.fit(X_poly, y)       \n",
    "m_ridge.fit(X_poly, y)  \n",
    "m_lasso.fit(X_poly, y)  \n",
    "m_elastic.fit(X_poly, y)  \n",
    "\n",
    "ypred = m.predict(X_poly)\n",
    "ypred_ridge = m_ridge.predict(X_poly)\n",
    "ypred_lasso = m_lasso.predict(X_poly)\n",
    "ypred_elastic = m_elastic.predict(X_poly)\n",
    "\n",
    "plt.figure(figsize=(12, 8))\n",
    "plt.scatter(X, y)\n",
    "plt.plot(X, ypred, label='No Regularization')\n",
    "plt.plot(X, ypred_ridge, label='Ridge')\n",
    "plt.plot(X, ypred_lasso, label='Lasso')\n",
    "plt.plot(X, ypred_elastic, label ='Elastic Net')\n",
    "plt.legend()"
   ]
  },
  {
   "cell_type": "markdown",
   "metadata": {},
   "source": [
    "**Inspect Coefficients**"
   ]
  },
  {
   "cell_type": "code",
   "execution_count": 36,
   "metadata": {},
   "outputs": [
    {
     "data": {
      "text/plain": [
       "array([[0.00000000e+00, 0.00000000e+00, 0.00000000e+00, 0.00000000e+00],\n",
       "       [1.07142857e+00, 1.14795918e+00, 1.22995627e+00, 1.31781029e+00],\n",
       "       [2.14285714e+00, 4.59183673e+00, 9.83965015e+00, 2.10849646e+01],\n",
       "       [3.21428571e+00, 1.03316327e+01, 3.32088192e+01, 1.06742633e+02],\n",
       "       [4.28571429e+00, 1.83673469e+01, 7.87172012e+01, 3.37359434e+02],\n",
       "       [5.35714286e+00, 2.86989796e+01, 1.53744534e+02, 8.23631430e+02],\n",
       "       [6.42857143e+00, 4.13265306e+01, 2.65670554e+02, 1.70788213e+03],\n",
       "       [7.50000000e+00, 5.62500000e+01, 4.21875000e+02, 3.16406250e+03],\n",
       "       [8.57142857e+00, 7.34693878e+01, 6.29737609e+02, 5.39775094e+03],\n",
       "       [9.64285714e+00, 9.29846939e+01, 8.96638120e+02, 8.64615330e+03],\n",
       "       [1.07142857e+01, 1.14795918e+02, 1.22995627e+03, 1.31781029e+04],\n",
       "       [1.17857143e+01, 1.38903061e+02, 1.63707179e+03, 1.92940604e+04],\n",
       "       [1.28571429e+01, 1.65306122e+02, 2.12536443e+03, 2.73261141e+04],\n",
       "       [1.39285714e+01, 1.94005102e+02, 2.70221392e+03, 3.76379796e+04],\n",
       "       [1.50000000e+01, 2.25000000e+02, 3.37500000e+03, 5.06250000e+04]])"
      ]
     },
     "execution_count": 36,
     "metadata": {},
     "output_type": "execute_result"
    }
   ],
   "source": [
    "X_poly"
   ]
  },
  {
   "cell_type": "code",
   "execution_count": 33,
   "metadata": {},
   "outputs": [
    {
     "data": {
      "text/plain": [
       "array([ 0.00000000e+00,  1.86931181e-02, -8.78183477e-04,  1.94524542e-05])"
      ]
     },
     "execution_count": 33,
     "metadata": {},
     "output_type": "execute_result"
    }
   ],
   "source": [
    "m_lasso.coef_"
   ]
  },
  {
   "cell_type": "code",
   "execution_count": 34,
   "metadata": {},
   "outputs": [
    {
     "data": {
      "text/plain": [
       "array([ 2.11379272e+00, -5.06357059e-01,  4.59223559e-02, -1.35994481e-03])"
      ]
     },
     "execution_count": 34,
     "metadata": {},
     "output_type": "execute_result"
    }
   ],
   "source": [
    "m.coef_"
   ]
  },
  {
   "cell_type": "code",
   "execution_count": 35,
   "metadata": {},
   "outputs": [
    {
     "data": {
      "text/plain": [
       "array([ 1.47351201e+00, -3.30216686e-01,  2.90763985e-02, -8.36804788e-04])"
      ]
     },
     "execution_count": 35,
     "metadata": {},
     "output_type": "execute_result"
    }
   ],
   "source": [
    "m_ridge.coef_"
   ]
  },
  {
   "cell_type": "code",
   "execution_count": 37,
   "metadata": {},
   "outputs": [
    {
     "data": {
      "text/plain": [
       "-0.2206727903669239"
      ]
     },
     "execution_count": 37,
     "metadata": {},
     "output_type": "execute_result"
    }
   ],
   "source": [
    "m.intercept_"
   ]
  },
  {
   "cell_type": "code",
   "execution_count": 38,
   "metadata": {},
   "outputs": [
    {
     "data": {
      "text/plain": [
       "1.6823233751072115"
      ]
     },
     "execution_count": 38,
     "metadata": {},
     "output_type": "execute_result"
    }
   ],
   "source": [
    "m_lasso.intercept_"
   ]
  },
  {
   "cell_type": "code",
   "execution_count": null,
   "metadata": {},
   "outputs": [],
   "source": []
  },
  {
   "cell_type": "code",
   "execution_count": null,
   "metadata": {},
   "outputs": [],
   "source": []
  },
  {
   "cell_type": "markdown",
   "metadata": {},
   "source": [
    "Good visual explanation of why Ridge doesn't shrink coefficients to 0, but Lasso does: \n",
    "https://www.youtube.com/watch?v=Xm2C_gTAl8c"
   ]
  },
  {
   "cell_type": "code",
   "execution_count": null,
   "metadata": {},
   "outputs": [],
   "source": []
  }
 ],
 "metadata": {
  "kernelspec": {
   "display_name": "Python 3",
   "language": "python",
   "name": "python3"
  },
  "language_info": {
   "codemirror_mode": {
    "name": "ipython",
    "version": 3
   },
   "file_extension": ".py",
   "mimetype": "text/x-python",
   "name": "python",
   "nbconvert_exporter": "python",
   "pygments_lexer": "ipython3",
   "version": "3.8.5"
  }
 },
 "nbformat": 4,
 "nbformat_minor": 4
}
