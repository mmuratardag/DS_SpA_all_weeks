{
 "cells": [
  {
   "cell_type": "code",
   "execution_count": 1,
   "metadata": {},
   "outputs": [],
   "source": [
    "import requests\n",
    "import re\n",
    "\n",
    "sy = requests.get('https://www.lyrics.com/artist/Sonic-Youth/5474')\n",
    "pa = requests.get('https://www.lyrics.com/artist/Pavement/23382')\n",
    "dj = requests.get('https://www.lyrics.com/artist/Dinosaur-Jr./4096')\n",
    "se = requests.get('https://www.lyrics.com/artist/Sebadoh/14199')"
   ]
  },
  {
   "cell_type": "code",
   "execution_count": 2,
   "metadata": {},
   "outputs": [],
   "source": [
    "# type(sy)\n",
    "# sy = str(sy)"
   ]
  },
  {
   "cell_type": "code",
   "execution_count": 3,
   "metadata": {},
   "outputs": [],
   "source": [
    "sy = str(sy.text)\n",
    "# type(sy)\n",
    "pa = str(pa.text)\n",
    "dj = str(dj.text)\n",
    "se = str(se.text)"
   ]
  },
  {
   "cell_type": "code",
   "execution_count": 4,
   "metadata": {},
   "outputs": [],
   "source": [
    "\"\"\"\n",
    "\n",
    "<a href=\"/lyric/14947901/Sonic+Youth/Teenage+Riot\">\n",
    "\n",
    "<a href=\"/lyric/8890594/Sonic+Youth/Shaking+Hell\">\n",
    "\n",
    "<a href=\"/lyric/4184872/Sonic+Youth/Santa+Doesn%27t+Cop+Out+on+Dope\">\n",
    "\n",
    "\"\"\";"
   ]
  },
  {
   "cell_type": "code",
   "execution_count": 5,
   "metadata": {},
   "outputs": [],
   "source": [
    "sy_lyrics_link_pattern = 'href=(\"/lyric/\\d+/Sonic\\+Youth/.+?\")'\n",
    "sy_lyrics_links = re.findall(sy_lyrics_link_pattern, sy)\n",
    "# sy_lyrics_links"
   ]
  },
  {
   "cell_type": "code",
   "execution_count": 6,
   "metadata": {},
   "outputs": [],
   "source": [
    "\"\"\"\n",
    "\n",
    "<a href=\"/lyric/9826231/Pavement/Brinx+Job\">\n",
    "\n",
    "<a href=\"/lyric/29561995/Pavement/Elevate+Me+Later\">\n",
    "\n",
    "<a href=\"/lyric/7316389/Pavement/Stop+Breathin%27\">\n",
    "\n",
    "\"\"\";"
   ]
  },
  {
   "cell_type": "code",
   "execution_count": 7,
   "metadata": {},
   "outputs": [],
   "source": [
    "pa_lyrics_link_pattern = 'href=(\"/lyric/\\d+/Pavement/.+?\")'\n",
    "pa_lyrics_links = re.findall(pa_lyrics_link_pattern, pa)"
   ]
  },
  {
   "cell_type": "code",
   "execution_count": 8,
   "metadata": {},
   "outputs": [],
   "source": [
    "\"\"\"\n",
    "\n",
    "<a href=\"/lyric/7599202/Dinosaur+Jr./Just+Like+Heaven+%5BVideo%5D%5BMultimedia+Track%5D\">\n",
    "\n",
    "<a href=\"/lyric/24484311/Dinosaur+Jr./Does+It+Float\">\n",
    "\n",
    "<a href=\"/lyric/36565961/Dinosaur+Jr./Whatever%27s+Cool+With+Me\">\n",
    "\n",
    "\"\"\";"
   ]
  },
  {
   "cell_type": "code",
   "execution_count": 9,
   "metadata": {},
   "outputs": [],
   "source": [
    "dj_lyrics_link_pattern = 'href=(\"/lyric/\\d+/Dinosaur\\+Jr\\./.+?\")'\n",
    "dj_lyrics_links = re.findall(dj_lyrics_link_pattern, dj)"
   ]
  },
  {
   "cell_type": "code",
   "execution_count": 10,
   "metadata": {},
   "outputs": [],
   "source": [
    "\"\"\"\n",
    "\n",
    "<a href=\"/lyric/2045442/Sebadoh/Rebound\">\n",
    "\n",
    "<a href=\"/lyric/1913458/Sebadoh/Not+Too+Amused\">\n",
    "\n",
    "<a href=\"/lyric/30472211/Sebadoh/Everybody%27s+Been+Burned\">\n",
    "\n",
    "\"\"\";"
   ]
  },
  {
   "cell_type": "code",
   "execution_count": 11,
   "metadata": {},
   "outputs": [],
   "source": [
    "se_lyrics_link_pattern = 'href=(\"/lyric/\\d+/Sebadoh/.+?\")'\n",
    "se_lyrics_links = re.findall(se_lyrics_link_pattern, se)"
   ]
  },
  {
   "cell_type": "code",
   "execution_count": 12,
   "metadata": {},
   "outputs": [],
   "source": [
    "sy_html = requests.get('https://www.lyrics.com/artist/Sonic-Youth/5474').text\n",
    "sy_lyrics_link_pattern_paul = 'href=\\\"\\/lyric[^\\\"]+'\n",
    "sy_lyrics_links_paul = re.findall(sy_lyrics_link_pattern_paul, sy)"
   ]
  },
  {
   "cell_type": "code",
   "execution_count": 13,
   "metadata": {},
   "outputs": [
    {
     "data": {
      "text/plain": [
       "True"
      ]
     },
     "execution_count": 13,
     "metadata": {},
     "output_type": "execute_result"
    }
   ],
   "source": [
    "len(sy_lyrics_links) == len(sy_lyrics_links_paul)"
   ]
  },
  {
   "cell_type": "code",
   "execution_count": 14,
   "metadata": {},
   "outputs": [],
   "source": [
    "# len(sy_lyrics_links) < len(sy_lyrics_links_paul) #"
   ]
  },
  {
   "cell_type": "code",
   "execution_count": 15,
   "metadata": {},
   "outputs": [],
   "source": [
    "# import difflib\n",
    "# for dif in difflib.context_diff(sy_lyrics_links, sy_lyrics_links_paul):\n",
    "#     print (dif)"
   ]
  },
  {
   "cell_type": "code",
   "execution_count": 16,
   "metadata": {},
   "outputs": [
    {
     "data": {
      "text/plain": [
       "600"
      ]
     },
     "execution_count": 16,
     "metadata": {},
     "output_type": "execute_result"
    }
   ],
   "source": [
    "sy_lyric_links_unq = list(dict.fromkeys(sy_lyrics_links))\n",
    "len(sy_lyric_links_unq)\n",
    "# sy_lyric_links_unq"
   ]
  },
  {
   "cell_type": "code",
   "execution_count": 17,
   "metadata": {},
   "outputs": [
    {
     "data": {
      "text/plain": [
       "600"
      ]
     },
     "execution_count": 17,
     "metadata": {},
     "output_type": "execute_result"
    }
   ],
   "source": [
    "sy_lyric_links_paul_unq = list(dict.fromkeys(sy_lyrics_links_paul))\n",
    "len(sy_lyric_links_paul_unq)\n",
    "# sy_lyric_links_paul_unq"
   ]
  },
  {
   "cell_type": "code",
   "execution_count": 18,
   "metadata": {},
   "outputs": [],
   "source": [
    "# for dif in difflib.context_diff(sy_lyric_links_unq, sy_lyric_links_paul_unq):\n",
    "#     print (dif)"
   ]
  },
  {
   "cell_type": "code",
   "execution_count": 19,
   "metadata": {},
   "outputs": [],
   "source": [
    "pa_lyric_links_unq = list(dict.fromkeys(pa_lyrics_links))\n",
    "dj_lyric_links_unq = list(dict.fromkeys(dj_lyrics_links))\n",
    "se_lyric_links_unq = list(dict.fromkeys(se_lyrics_links))"
   ]
  }
 ],
 "metadata": {
  "kernelspec": {
   "display_name": "Python 3",
   "language": "python",
   "name": "python3"
  },
  "language_info": {
   "codemirror_mode": {
    "name": "ipython",
    "version": 3
   },
   "file_extension": ".py",
   "mimetype": "text/x-python",
   "name": "python",
   "nbconvert_exporter": "python",
   "pygments_lexer": "ipython3",
   "version": "3.8.5"
  }
 },
 "nbformat": 4,
 "nbformat_minor": 4
}
