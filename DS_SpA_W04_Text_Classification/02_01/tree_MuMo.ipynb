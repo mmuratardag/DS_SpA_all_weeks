{
 "cells": [
  {
   "cell_type": "code",
   "execution_count": 1,
   "metadata": {},
   "outputs": [],
   "source": [
    "tree = (\n",
    "    ('eucaryotes', (\n",
    "        ('plants', (\n",
    "            ('rose', None),\n",
    "            ('mango tree', None)\n",
    "            )\n",
    "        ),\n",
    "        ('animals', (\n",
    "            ('vertebrates', (\n",
    "                ('fish', (\n",
    "                    ('shark', None),\n",
    "                    ('stingray', None)\n",
    "                    )\n",
    "                ),\n",
    "                ('mammals', (\n",
    "                    ('primates', (\n",
    "                        ('chimp', None),\n",
    "                        ('human', None)\n",
    "                        )\n",
    "                    ),\n",
    "                    ('rat', None)\n",
    "                    )\n",
    "                )\n",
    "                )\n",
    "            ),\n",
    "            ('arthropods', (\n",
    "                ('ant', None),\n",
    "                ('bee', None)\n",
    "                )\n",
    "            )\n",
    "            )\n",
    "        )\n",
    "        )\n",
    "    )\n",
    "    )"
   ]
  },
  {
   "cell_type": "code",
   "execution_count": 2,
   "metadata": {},
   "outputs": [
    {
     "data": {
      "text/plain": [
       "tuple"
      ]
     },
     "execution_count": 2,
     "metadata": {},
     "output_type": "execute_result"
    }
   ],
   "source": [
    "type(tree)"
   ]
  },
  {
   "cell_type": "code",
   "execution_count": 3,
   "metadata": {},
   "outputs": [
    {
     "data": {
      "text/plain": [
       "('eucaryotes',\n",
       " (('plants', (('rose', None), ('mango tree', None))),\n",
       "  ('animals',\n",
       "   (('vertebrates',\n",
       "     (('fish', (('shark', None), ('stingray', None))),\n",
       "      ('mammals',\n",
       "       (('primates', (('chimp', None), ('human', None))), ('rat', None))))),\n",
       "    ('arthropods', (('ant', None), ('bee', None)))))))"
      ]
     },
     "execution_count": 3,
     "metadata": {},
     "output_type": "execute_result"
    }
   ],
   "source": [
    "tree"
   ]
  }
 ],
 "metadata": {
  "kernelspec": {
   "display_name": "Python 3",
   "language": "python",
   "name": "python3"
  },
  "language_info": {
   "codemirror_mode": {
    "name": "ipython",
    "version": 3
   },
   "file_extension": ".py",
   "mimetype": "text/x-python",
   "name": "python",
   "nbconvert_exporter": "python",
   "pygments_lexer": "ipython3",
   "version": "3.8.5"
  }
 },
 "nbformat": 4,
 "nbformat_minor": 4
}
