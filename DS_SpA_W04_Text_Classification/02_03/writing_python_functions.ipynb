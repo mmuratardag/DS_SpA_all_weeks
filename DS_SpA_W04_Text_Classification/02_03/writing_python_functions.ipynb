{
 "cells": [
  {
   "cell_type": "markdown",
   "metadata": {},
   "source": [
    "### So you've spent a lot of time writing useful code...Now what?"
   ]
  },
  {
   "cell_type": "markdown",
   "metadata": {},
   "source": [
    "**BEFORE:**"
   ]
  },
  {
   "cell_type": "code",
   "execution_count": 8,
   "metadata": {},
   "outputs": [],
   "source": [
    "from bs4 import BeautifulSoup\n",
    "import requests\n",
    "\n",
    "artist = 'ed-sheeran'\n",
    "url = \"https://www.metrolyrics.com/\" + artist + \"-lyrics.html\"\n",
    "\n",
    "response = requests.get(url)\n",
    "\n",
    "soup = BeautifulSoup(markup=response.text)\n",
    "\n",
    "links = []\n",
    "for td in soup.find_all('td'):\n",
    "    if td.a is not None:\n",
    "        links.append(td.a.get('href'))\n",
    "\n",
    "lyrics = []\n",
    "for li in links[:2]:\n",
    "    response = requests.get(li)\n",
    "    soup = BeautifulSoup(markup=response.text)\n",
    "    lyrics_section = soup.find(attrs={'id':'lyrics-body-text'})\n",
    "    lyrics_chunk = []\n",
    "    for verse in lyrics_section.find_all('p', class_='verse'):\n",
    "        lyrics_chunk.append(verse.text)\n",
    "        \n",
    "    lyrics.append((' '.join(lyrics_chunk), 'ed sheeran'))"
   ]
  },
  {
   "cell_type": "markdown",
   "metadata": {},
   "source": [
    "---\n",
    "### Now what?\n",
    "- Make sure your Notebook can run from the top-down. \n",
    "- Move imports to the top.\n",
    "- Start wrapping your code into **FUNCTIONS**!!!\n",
    "    - make the code generalizable. \n",
    "    - make your code more dynamic / less hard-coded.\n",
    "- Make each function do a single thing, e.g.:\n",
    "    - getting links\n",
    "    - extracting some text from links\n",
    "    - cleaning some piece of text\n",
    "    - saving something to disk\n",
    "- For each function, do the following:\n",
    "    - Give it a descriptive name that start with a verb! e.g. `get_links()`, `clean_text()`\n",
    "    - Decide which arguments should my function accept (i.e. what goes inside the `()`)?\n",
    "    - Decide what my function should return\n",
    "    - Add a docstring\n",
    "    - Add type annotations (optional, but encouraged)\n",
    "    - GENERALIZE!! Do not hardcode anything. These should be things that you should pass as arguments so the users of the function can control the behavior of the function how they like.\n",
    "    "
   ]
  },
  {
   "cell_type": "code",
   "execution_count": 32,
   "metadata": {},
   "outputs": [],
   "source": [
    "from typing import Tuple, List"
   ]
  },
  {
   "cell_type": "code",
   "execution_count": 44,
   "metadata": {},
   "outputs": [],
   "source": [
    "def collect_song_links(artist:str, site:str='metrolyrics') -> Tuple[List, str]:\n",
    "    \n",
    "    \"\"\"\n",
    "    Given some artist (string) and site name (string), \n",
    "    collect links for all the artist's songs and return them.\n",
    "    \"\"\"\n",
    "    \n",
    "    links = []  \n",
    "    if site == 'metrolyrics':\n",
    "        artist = artist.replace(' ', '-')\n",
    "        url = \"https://www.metrolyrics.com/\" + artist + \"-lyrics.html\"\n",
    "        response = requests.get(url)\n",
    "        if response.status_code != 200:\n",
    "            print('Sorry try again.')\n",
    "\n",
    "        soup = BeautifulSoup(markup=response.text)\n",
    "        for td in soup.find_all('td'):\n",
    "            if td.a is not None:\n",
    "                links.append(td.a.get('href'))  \n",
    "    \n",
    "    elif site == 'lyrics':\n",
    "        print('Feature not available.')\n",
    "    \n",
    "    return links, artist"
   ]
  },
  {
   "cell_type": "code",
   "execution_count": 69,
   "metadata": {},
   "outputs": [],
   "source": [
    "def get_songs_lyrics(links:list, artist_name:str, num:int) -> List[Tuple]:\n",
    "    \n",
    "    \"\"\"Given a list of song urls, return a list of the lyrics\"\"\"\n",
    "    \n",
    "    lyrics = []\n",
    "    for li in links[:num]:\n",
    "        response = requests.get(li)\n",
    "        soup = BeautifulSoup(markup=response.text)\n",
    "        lyrics_section = soup.find(attrs={'id':'lyrics-body-text'})\n",
    "        lyrics_chunk = []\n",
    "        for verse in lyrics_section.find_all('p', class_='verse'):\n",
    "            lyrics_chunk.append(verse.text)\n",
    "\n",
    "        lyrics.append((' '.join(lyrics_chunk), artist_name))\n",
    "    \n",
    "    return lyrics"
   ]
  },
  {
   "cell_type": "markdown",
   "metadata": {},
   "source": [
    "### As a Bonus, wrap all your functions into a single main function at the end:"
   ]
  },
  {
   "cell_type": "code",
   "execution_count": 58,
   "metadata": {},
   "outputs": [],
   "source": [
    "def main(artist, num):\n",
    "    \n",
    "    links, artist = collect_song_links(artist)\n",
    "    results = get_songs_lyrics(links, artist, num)\n",
    "    \n",
    "    return results"
   ]
  },
  {
   "cell_type": "markdown",
   "metadata": {},
   "source": [
    "**AFTER**\n",
    "- One single function:\n",
    "    - comprised of 2 custom functions we wrote that talk to each other.\n",
    "    - The second function accepts arguments that the first one returns."
   ]
  },
  {
   "cell_type": "code",
   "execution_count": 71,
   "metadata": {},
   "outputs": [],
   "source": [
    "# main('ed sheeran', 2)"
   ]
  },
  {
   "cell_type": "markdown",
   "metadata": {},
   "source": [
    "---\n",
    "---"
   ]
  },
  {
   "cell_type": "markdown",
   "metadata": {},
   "source": [
    "### Other funky function stuff:"
   ]
  },
  {
   "cell_type": "code",
   "execution_count": 102,
   "metadata": {},
   "outputs": [],
   "source": [
    "def sum_nums(a, b=1):\n",
    "    \"\"\"Default args\"\"\"\n",
    "    return a + b"
   ]
  },
  {
   "cell_type": "code",
   "execution_count": 103,
   "metadata": {},
   "outputs": [
    {
     "data": {
      "text/plain": [
       "6"
      ]
     },
     "execution_count": 103,
     "metadata": {},
     "output_type": "execute_result"
    }
   ],
   "source": [
    "sum_nums(5)"
   ]
  },
  {
   "cell_type": "markdown",
   "metadata": {},
   "source": [
    "##### Args and Kwargs!"
   ]
  },
  {
   "cell_type": "code",
   "execution_count": 104,
   "metadata": {},
   "outputs": [],
   "source": [
    "def sum_nums(*args):\n",
    "    \"\"\"Useful for when you don't know how many arguments a user might supply\"\"\"\n",
    "    \n",
    "    return sum(args)\n",
    "    \n",
    "    "
   ]
  },
  {
   "cell_type": "code",
   "execution_count": 105,
   "metadata": {},
   "outputs": [
    {
     "data": {
      "text/plain": [
       "45"
      ]
     },
     "execution_count": 105,
     "metadata": {},
     "output_type": "execute_result"
    }
   ],
   "source": [
    "sum_nums(1, 2, 3, 4, 5, 6, 7, 8, 9)"
   ]
  },
  {
   "cell_type": "code",
   "execution_count": 90,
   "metadata": {},
   "outputs": [],
   "source": [
    "from sklearn.feature_extraction.text import CountVectorizer"
   ]
  },
  {
   "cell_type": "code",
   "execution_count": 106,
   "metadata": {},
   "outputs": [],
   "source": [
    "def vectorize_text(some_text, **kwargs):\n",
    "    \"\"\"kwargs is useful for when you don't know which of many potential \n",
    "       keyword arguments a user might supply.\"\"\"\n",
    "\n",
    "    cv = CountVectorizer(**kwargs)\n",
    "    vec = cv.fit_transform(some_text)\n",
    "\n",
    "    return vec\n",
    "    \n",
    "    \n",
    "    "
   ]
  },
  {
   "cell_type": "code",
   "execution_count": 108,
   "metadata": {},
   "outputs": [
    {
     "data": {
      "text/plain": [
       "<1x4 sparse matrix of type '<class 'numpy.int64'>'\n",
       "\twith 4 stored elements in Compressed Sparse Row format>"
      ]
     },
     "execution_count": 108,
     "metadata": {},
     "output_type": "execute_result"
    }
   ],
   "source": [
    "vectorize_text(['chicken chicken funky duck goose'], stop_words='english')"
   ]
  },
  {
   "cell_type": "markdown",
   "metadata": {},
   "source": [
    "##### Super-short functions:\n",
    "- Might be better to use a lambda (anonymous function)\n"
   ]
  },
  {
   "cell_type": "code",
   "execution_count": 96,
   "metadata": {},
   "outputs": [],
   "source": [
    "def square(x):\n",
    "    return x ** 2"
   ]
  },
  {
   "cell_type": "code",
   "execution_count": 98,
   "metadata": {},
   "outputs": [
    {
     "data": {
      "text/plain": [
       "[0, 1, 4, 9, 16, 25, 36, 49, 64, 81]"
      ]
     },
     "execution_count": 98,
     "metadata": {},
     "output_type": "execute_result"
    }
   ],
   "source": [
    "[square(x) for x in range(10)]"
   ]
  },
  {
   "cell_type": "code",
   "execution_count": 101,
   "metadata": {},
   "outputs": [
    {
     "data": {
      "text/plain": [
       "[0, 1, 4, 9, 16, 25, 36, 49, 64, 81]"
      ]
     },
     "execution_count": 101,
     "metadata": {},
     "output_type": "execute_result"
    }
   ],
   "source": [
    "[(lambda x: x**2)(x) for x in range(10)]"
   ]
  },
  {
   "cell_type": "code",
   "execution_count": null,
   "metadata": {},
   "outputs": [],
   "source": []
  }
 ],
 "metadata": {
  "kernelspec": {
   "display_name": "Python 3",
   "language": "python",
   "name": "python3"
  },
  "language_info": {
   "codemirror_mode": {
    "name": "ipython",
    "version": 3
   },
   "file_extension": ".py",
   "mimetype": "text/x-python",
   "name": "python",
   "nbconvert_exporter": "python",
   "pygments_lexer": "ipython3",
   "version": "3.8.5"
  }
 },
 "nbformat": 4,
 "nbformat_minor": 4
}
