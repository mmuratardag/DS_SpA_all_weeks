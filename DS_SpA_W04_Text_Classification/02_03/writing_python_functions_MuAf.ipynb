{
 "cells": [
  {
   "cell_type": "markdown",
   "metadata": {},
   "source": [
    "### So you've spent a lot of time writing useful code...Now what?"
   ]
  },
  {
   "cell_type": "code",
   "execution_count": 1,
   "metadata": {},
   "outputs": [],
   "source": [
    "artist = 'ed-sheeran'\n",
    "url = \"https://www.metrolyrics.com/\" + artist + \"-lyrics.html\""
   ]
  },
  {
   "cell_type": "code",
   "execution_count": 2,
   "metadata": {},
   "outputs": [],
   "source": [
    "import requests"
   ]
  },
  {
   "cell_type": "code",
   "execution_count": 3,
   "metadata": {},
   "outputs": [],
   "source": [
    "response = requests.get(url)"
   ]
  },
  {
   "cell_type": "code",
   "execution_count": 4,
   "metadata": {},
   "outputs": [],
   "source": [
    "from bs4 import BeautifulSoup"
   ]
  },
  {
   "cell_type": "code",
   "execution_count": 5,
   "metadata": {},
   "outputs": [],
   "source": [
    "soup = BeautifulSoup(markup=response.text)"
   ]
  },
  {
   "cell_type": "code",
   "execution_count": 6,
   "metadata": {},
   "outputs": [],
   "source": [
    "links = []\n",
    "for td in soup.find_all('td'):\n",
    "    if td.a is not None:\n",
    "        links.append(td.a.get('href'))"
   ]
  },
  {
   "cell_type": "code",
   "execution_count": 7,
   "metadata": {},
   "outputs": [],
   "source": [
    "lyrics = []\n",
    "for li in links[:2]:\n",
    "    response = requests.get(li)\n",
    "    soup = BeautifulSoup(markup=response.text)\n",
    "    lyrics_section = soup.find(attrs={'id':'lyrics-body-text'})\n",
    "    lyrics_chunk = []\n",
    "    for verse in lyrics_section.find_all('p', class_='verse'):\n",
    "        lyrics_chunk.append(verse.text)\n",
    "        \n",
    "    lyrics.append((' '.join(lyrics_chunk), 'ed sheeran'))"
   ]
  },
  {
   "cell_type": "code",
   "execution_count": 8,
   "metadata": {},
   "outputs": [
    {
     "data": {
      "text/plain": [
       "[('The club isn\\'t the best place to find a lover\\nSo the bar is where I go\\nMe and my friends at the table doing shots\\nDrinking fast, and then we talk slow And you come over and start up a conversation with just me\\nAnd trust me, I\\'ll give it a chance now\\nTake my hand, stop\\nPut \"Van the Man\" on the jukebox\\nAnd then we start to dance\\nAnd now I\\'m singing like Girl, you know I want your love\\nYour love was handmade for somebody like me\\nCome on now, follow my lead\\nI may be crazy, don\\'t mind me Say: \"Boy, let\\'s not talk too much\\nGrab on my waist and put that body on me\"\\nCome on now, follow my lead\\nCome, come on now, follow my lead I\\'m in love with the shape of you\\nWe push and pull like a magnet do\\nAlthough my heart is falling too\\nI\\'m in love with your body\\nLast night you were in my room\\nAnd now my bed sheets smell like you\\nEvery day discovering something brand new Oh, I\\'m in love with your body\\nOh-i-oh-i-oh-i-oh-i\\nOh, I\\'m in love with your body\\nOh-i-oh-i-oh-i-oh-i\\nOh, I\\'m in love with your body\\nOh-i-oh-i-oh-i-oh-i\\nOh, I\\'m in love with your body\\nEvery day discovering something brand new\\nI\\'m in love with the shape of you One week in we let the story begin\\nWe\\'re going out on our first date\\nBut you and me are thrifty\\nSo go all-you-can-eat\\nFill up your bag, and I fill up a plate We talk for hours and hours about the sweet and the sour\\nAnd how your family is doing okay\\nAnd leave and get in a taxi, then kiss in the back seat\\nTell the driver make the radio play\\nAnd now I\\'m singing like Girl, you know I want your love\\nYour love was handmade for somebody like me\\nCome on now, follow my lead\\nI may be crazy, don\\'t mind me Say: \"Boy, let\\'s not talk too much\\nGrab on my waist and put that body on me\"\\nCome on now, follow my lead\\nCome, come on now, follow my lead I\\'m in love with the shape of you\\nWe push and pull like a magnet do\\nAlthough my heart is falling too\\nI\\'m in love with your body\\nLast night you were in my room\\nAnd now my bed sheets smell like you\\nEvery day discovering something brand new Oh, I\\'m in love with your body\\nOh-i-oh-i-oh-i-oh-i\\nOh, I\\'m in love with your body\\nOh-i-oh-i-oh-i-oh-i\\nOh, I\\'m in love with your body\\nOh-i-oh-i-oh-i-oh-i\\nOh, I\\'m in love with your body\\nEvery day discovering something brand new\\nI\\'m in love with the shape of you Come on, be my baby, come on\\nCome on, be my baby, come on\\nCome on, be my baby, come on\\nCome on, be my baby, come on\\nCome on, be my baby, come on\\nCome on, be my baby, come on\\nCome on, be my baby, come on\\nCome on, be my baby, come on I\\'m in love with the shape of you\\nWe push and pull like a magnet do\\nAlthough my heart is falling too\\nI\\'m in love with your body\\nLast night you were in my room\\nAnd now my bed sheets smell like you\\nEvery day discovering something brand new Oh, I\\'m in love with your body\\nCome on, be my baby, come on\\n(Come on, be my baby, come on)\\nI\\'m in love with your body\\nCome on, be my baby, come on\\n(Come on, be my baby, come on)\\nOh, I\\'m in love with your body\\nCome on, be my baby, come on\\n(Come on, be my baby, come on)\\nI\\'m in love with your body\\nEvery day discovering something brand new\\nI\\'m in love with the shape of you',\n",
       "  'ed sheeran'),\n",
       " (\"I found a love for me\\nDarling, just dive right in and follow my lead\\nWell, I found a girl, beautiful and sweet\\nOh, I never knew you were the someone waiting for me\\n'Cause we were just kids when we fell in love\\nNot knowing what it was\\nI will not give you up this time\\nBut darling, just kiss me slow, your heart is all I own\\nAnd in your eyes you're holding mine Baby, I'm dancing in the dark with you between my arms\\nBarefoot on the grass, listening to our favorite song\\nWhen you said you looked a mess, I whispered underneath my breath\\nBut you heard it, darling, you look perfect tonight Well I found a woman, stronger than anyone I know\\nShe shares my dreams, I hope that someday I'll share her home\\nI found a love, to carry more than just my secrets\\nTo carry love, to carry children of our own\\nWe are still kids, but we're so in love\\nFighting against all odds\\nI know we'll be alright this time\\nDarling, just hold my hand\\nBe my girl, I'll be your man\\nI see my future in your eyes Baby, I'm dancing in the dark, with you between my arms\\nBarefoot on the grass, listening to our favorite song\\nWhen you saw you in that dress, looking so beautiful\\nI don't deserve this, darling, you look perfect tonight Baby, I'm dancing in the dark, with you between my arms\\nBarefoot in the grass, listening to our favorite song\\nI have faith in what I see\\nNow I know I have met an angel in person\\nAnd she looks perfect, no I don't deserve this\\nYou look perfect tonight\",\n",
       "  'ed sheeran')]"
      ]
     },
     "execution_count": 8,
     "metadata": {},
     "output_type": "execute_result"
    }
   ],
   "source": [
    "lyrics"
   ]
  }
 ],
 "metadata": {
  "kernelspec": {
   "display_name": "Python 3",
   "language": "python",
   "name": "python3"
  },
  "language_info": {
   "codemirror_mode": {
    "name": "ipython",
    "version": 3
   },
   "file_extension": ".py",
   "mimetype": "text/x-python",
   "name": "python",
   "nbconvert_exporter": "python",
   "pygments_lexer": "ipython3",
   "version": "3.8.5"
  }
 },
 "nbformat": 4,
 "nbformat_minor": 4
}
