{
 "cells": [
  {
   "cell_type": "markdown",
   "metadata": {},
   "source": [
    "**Imports**"
   ]
  },
  {
   "cell_type": "code",
   "execution_count": 4,
   "metadata": {},
   "outputs": [],
   "source": [
    "import pandas as pd\n",
    "import requests\n",
    "from bs4 import BeautifulSoup\n",
    "import re\n",
    "from sklearn.metrics import precision_score, recall_score, f1_score\n",
    "import random\n",
    "import glob\n",
    "import os"
   ]
  },
  {
   "cell_type": "markdown",
   "metadata": {},
   "source": [
    "---"
   ]
  },
  {
   "cell_type": "markdown",
   "metadata": {},
   "source": [
    "### Code Snippet 1.\n",
    "- functions should definitely be *called* all together inside a greater, main function;\n",
    "- but better not to *define* them all together inside of one function.\n",
    "    - better to use Classes in this case.\n",
    "- can also delete old Jupyter code before the pipeline that doesn't do anything anymore."
   ]
  },
  {
   "cell_type": "code",
   "execution_count": null,
   "metadata": {},
   "outputs": [],
   "source": [
    "def train_model(LYRICS_SAMPLE, INTERPRET, NUMBER_OF_SONGS=20):\n",
    "    \n",
    "    ...\n",
    "    \n",
    "    def collect_song_links(artist:str): \n",
    "        ...\n",
    "\n",
    "    def get_songs_lyrics(links:list, artist_name:str, num:int):\n",
    "        ...\n",
    "\n",
    "    def main(artist, num):\n",
    "        ...\n",
    "\n",
    "    \n",
    "    def clean_data(column:pd.Series) -> pd.Series:\n",
    "        ...\n",
    "\n",
    "    vectorizer = TfidfVectorizer(stop_words='english')\n",
    "    X = vectorizer.fit_transform(CORPUS)\n",
    "    y = LABELS\n",
    "    clf = MultinomialNB()\n",
    "    clf.fit(X, y)\n",
    "    MultinomialNB()\n",
    "    pipeline = make_pipeline(TfidfVectorizer(stop_words='english'),\n",
    "                            MultinomialNB(class_prior=None))\n",
    "    pipeline.fit(CORPUS, y)\n",
    "    "
   ]
  },
  {
   "cell_type": "markdown",
   "metadata": {},
   "source": [
    "Better / Cleaner to define functions separately but then call them together / inside each other later on.\n",
    "- Better for long-term maintainability.\n",
    "\n",
    "If you want to define lots of functions within some greater \"function\" / unit, better to use Classes."
   ]
  },
  {
   "cell_type": "code",
   "execution_count": 5,
   "metadata": {},
   "outputs": [],
   "source": [
    "def train_model(LYRICS_SAMPLE, INTERPRET, NUMBER_OF_SONGS=20):\n",
    "    ...\n",
    " \n",
    "def collect_song_links(artist:str): \n",
    "    ...\n",
    "\n",
    "def get_songs_lyrics(links:list, artist_name:str, num:int):\n",
    "    ...\n",
    "\n",
    "def clean_data(column:pd.Series) -> pd.Series:\n",
    "    ...\n",
    "        \n",
    "\n",
    "a = train_model_model()\n",
    "b = get_song_lyrics()\n",
    "# etc...."
   ]
  },
  {
   "cell_type": "markdown",
   "metadata": {},
   "source": [
    "### Code Snippet 2.\n",
    "- When you loop through a dataframe, by default it loops through the columns.\n",
    "- The iterator `i` is unused.\n"
   ]
  },
  {
   "cell_type": "markdown",
   "metadata": {},
   "source": [
    "---"
   ]
  },
  {
   "cell_type": "code",
   "execution_count": 10,
   "metadata": {},
   "outputs": [],
   "source": [
    "links = ['http://www.metrolyrics.com/back-stabber-lyrics-eminem.html',\n",
    " 'http://www.metrolyrics.com/beautiful-pain-lyrics-eminem.html',\n",
    " 'http://www.metrolyrics.com/3-verses-lyrics-eminem.html',\n",
    " 'http://www.metrolyrics.com/another-sentencing-lyrics-eminem.html',\n",
    " 'http://www.metrolyrics.com/billion-bucks-lyrics-eminem.html',\n",
    " 'http://www.metrolyrics.com/i-need-a-doctor-lyrics-dr-dre.html',\n",
    " 'http://www.metrolyrics.com/a-drop-in-the-ocean-lyrics-eminem.html',\n",
    " 'http://www.metrolyrics.com/bet-shady-20-cypher-lyrics-eminem.html',\n",
    " 'http://www.metrolyrics.com/atlanta-on-fire-lyrics-eminem.html',\n",
    " 'http://www.metrolyrics.com/amityville-lyrics-eminem.html']"
   ]
  },
  {
   "cell_type": "code",
   "execution_count": 19,
   "metadata": {},
   "outputs": [
    {
     "data": {
      "text/html": [
       "<div>\n",
       "<style scoped>\n",
       "    .dataframe tbody tr th:only-of-type {\n",
       "        vertical-align: middle;\n",
       "    }\n",
       "\n",
       "    .dataframe tbody tr th {\n",
       "        vertical-align: top;\n",
       "    }\n",
       "\n",
       "    .dataframe thead th {\n",
       "        text-align: right;\n",
       "    }\n",
       "</style>\n",
       "<table border=\"1\" class=\"dataframe\">\n",
       "  <thead>\n",
       "    <tr style=\"text-align: right;\">\n",
       "      <th></th>\n",
       "      <th>url</th>\n",
       "    </tr>\n",
       "  </thead>\n",
       "  <tbody>\n",
       "    <tr>\n",
       "      <th>0</th>\n",
       "      <td>http://www.metrolyrics.com/back-stabber-lyrics...</td>\n",
       "    </tr>\n",
       "    <tr>\n",
       "      <th>1</th>\n",
       "      <td>http://www.metrolyrics.com/beautiful-pain-lyri...</td>\n",
       "    </tr>\n",
       "    <tr>\n",
       "      <th>2</th>\n",
       "      <td>http://www.metrolyrics.com/3-verses-lyrics-emi...</td>\n",
       "    </tr>\n",
       "    <tr>\n",
       "      <th>3</th>\n",
       "      <td>http://www.metrolyrics.com/another-sentencing-...</td>\n",
       "    </tr>\n",
       "    <tr>\n",
       "      <th>4</th>\n",
       "      <td>http://www.metrolyrics.com/billion-bucks-lyric...</td>\n",
       "    </tr>\n",
       "  </tbody>\n",
       "</table>\n",
       "</div>"
      ],
      "text/plain": [
       "                                                 url\n",
       "0  http://www.metrolyrics.com/back-stabber-lyrics...\n",
       "1  http://www.metrolyrics.com/beautiful-pain-lyri...\n",
       "2  http://www.metrolyrics.com/3-verses-lyrics-emi...\n",
       "3  http://www.metrolyrics.com/another-sentencing-...\n",
       "4  http://www.metrolyrics.com/billion-bucks-lyric..."
      ]
     },
     "execution_count": 19,
     "metadata": {},
     "output_type": "execute_result"
    }
   ],
   "source": [
    "df = pd.DataFrame(data=links, columns = ['url'])\n",
    "df.head()"
   ]
  },
  {
   "cell_type": "code",
   "execution_count": 22,
   "metadata": {},
   "outputs": [],
   "source": [
    "for col in df: #rename i to col\n",
    "    df[['url2','title']] = df['url'].str.split(\".com/\",expand=True)\n",
    "    df['title_short'] = [x[:5] for x in df['title']]"
   ]
  },
  {
   "cell_type": "markdown",
   "metadata": {},
   "source": [
    "**Better**: Remove loop:"
   ]
  },
  {
   "cell_type": "code",
   "execution_count": 20,
   "metadata": {},
   "outputs": [],
   "source": [
    "df[['url2','title']] = df['url'].str.split(\".com/\",expand=True)\n",
    "df['title_short'] = [x[:5] for x in df['title']]"
   ]
  },
  {
   "cell_type": "code",
   "execution_count": 24,
   "metadata": {},
   "outputs": [],
   "source": [
    "# df"
   ]
  },
  {
   "cell_type": "markdown",
   "metadata": {},
   "source": [
    "When writing for-loops, just make sure at the end the iterable (e.g. `i`) is used. Otherwise this could mean that you are doing a loop unnecessarily."
   ]
  },
  {
   "cell_type": "markdown",
   "metadata": {},
   "source": [
    "### 3. Code Snippet 3.\n",
    "- Using 2 loops when you could do everything in the same, single loop. (saves time)."
   ]
  },
  {
   "cell_type": "markdown",
   "metadata": {},
   "source": [
    "---"
   ]
  },
  {
   "cell_type": "code",
   "execution_count": null,
   "metadata": {},
   "outputs": [],
   "source": [
    "def get_lyrics(artist_name):\n",
    "    \n",
    "    ret_list = list()\n",
    "    artist_name_request = requests.get(f'http://www.songlyrics.com/{artist_name}-lyrics/').text\n",
    "    pattern = 'href=\\\"(http://.+lyrics\\/)\\\"'\n",
    "    songs_list = re.findall(pattern, artist_name_request)[1:101]\n",
    "    if not os.path.exists(f'{artist_name}_songs'):\n",
    "        os.makedirs(f'{artist_name}_songs')\n",
    "    \n",
    "    for index,link in enumerate(songs_list):\n",
    "        new_list = requests.get(link).text\n",
    "        songs_text = open(f'{artist_name}_songs/songs{index}.txt','w')\n",
    "        songs_text.write(new_list)\n",
    "        songs_text.close()\n",
    "    \n",
    "    for index,link in enumerate(songs_list):\n",
    "        #new_list = requests.get(link).text\n",
    "        songs_text = open(f'{artist_name}_songs/songs{index}.txt')\n",
    "        song_html_content = songs_text.read()\n",
    "        songs_text.close()\n",
    "        songs_soup = BeautifulSoup(song_html_content, 'html')\n",
    "        lyrics = songs_soup.find_all('p', attrs = {'id':\"songLyricsDiv\"})[0].text\n",
    "        cleaned_lyrics = lyrics.replace(\"\\n\",\" \")\n",
    "        ret_list.append({\"lyrics\":cleaned_lyrics,\"artist\":artist_name})\n",
    "        # songs_text = open(f'{artist_name}_songs/lyrics{index}.txt','w')\n",
    "        # songs_text.write(lyrics)\n",
    "        # songs_text.close()\n",
    "    return ret_list"
   ]
  },
  {
   "cell_type": "markdown",
   "metadata": {},
   "source": [
    "Better structure would be to do everything (downloading the data and cleaning it) in the same loop, before writing to a file.\n",
    "- 2 separate for-loops could be combined into 1 (saves time, b/c we don't have to open and close files twice)."
   ]
  },
  {
   "cell_type": "markdown",
   "metadata": {},
   "source": [
    "### 4. Code Snippet 4.\n",
    "- you could do something like `os.getcwd()` to make the path more dynamic\n",
    "- make the function also return the length of the list so that you don't have to hardcode the label amounts as well."
   ]
  },
  {
   "cell_type": "markdown",
   "metadata": {},
   "source": [
    "---"
   ]
  },
  {
   "cell_type": "code",
   "execution_count": null,
   "metadata": {},
   "outputs": [],
   "source": [
    "PATH = '/Users/pawlodkowski/lyrics/eminem/'\n",
    "\n",
    "PATH2 = '/Users/pawlodkowski/lyrics/dualipa/'\n",
    "\n",
    "def lyrics_to_list(path=str):\n",
    "    \"\"\"returns a list of lyricstrings\"\"\"\n",
    "\n",
    "    textfile = glob.glob(os.path.join(path, '*.text'), recursive=False)\n",
    "\n",
    "    lyrics = []\n",
    "   \n",
    "    for file_path in textfile:\n",
    "        with open(file_path) as f_input:\n",
    "            lyrics.append(f_input.read())\n",
    "\n",
    "    return lyrics\n",
    "\n",
    "\n",
    "LIST_EM = lyrics_to_list(PATH)\n",
    "\n",
    "LIST_DL = lyrics_to_list(PATH2)\n",
    "\n",
    "CORPUS = LIST_EM + LIST_DL\n",
    "\n",
    "LABELS = [\"EMINEM\"] * 402 + [\"DUA LIPA\"] * 386\n",
    "LABLES = [\"EMINEM\"] * len(LIST_EM) + [\"DUA LIPA\"] * len(LIST_DL)"
   ]
  },
  {
   "cell_type": "markdown",
   "metadata": {},
   "source": [
    "Try not to hard-code anything!\n",
    "- Functions and variables should be given generic names and calculated dynamically."
   ]
  },
  {
   "cell_type": "markdown",
   "metadata": {},
   "source": [
    "### 5. Code Snippet 5\n",
    "- Don't Repeat Yourself (DRY)\n",
    "- Benefit from a for-loop\n",
    "    - even if you think you don't need a loop for now, it still makes the code cleaner / more maintainable in the long-run."
   ]
  },
  {
   "cell_type": "markdown",
   "metadata": {},
   "source": [
    "---"
   ]
  },
  {
   "cell_type": "code",
   "execution_count": 27,
   "metadata": {},
   "outputs": [
    {
     "name": "stdout",
     "output_type": "stream",
     "text": [
      "The precision using punk is: 0.529\n",
      "The precision using indie is: 0.308\n",
      "The recall of using punk is: 0.5\n",
      "The recall of using indie is: 0.333\n",
      "The f1-score using punk is: 0.514\n",
      "The f1-score using indie is: 0.32\n"
     ]
    }
   ],
   "source": [
    "\n",
    "labels = ['jazz', 'rock']\n",
    "y_true = [random.choice(labels) for i in range(30)] \n",
    "y_pred = [random.choice(labels) for i in range(30)] \n",
    "\n",
    "print(f'The precision using punk is: {round(precision_score(y_true, y_pred, average=\"binary\", pos_label=\"jazz\"), 3)}')\n",
    "print(f'The precision using indie is: {round(precision_score(y_true, y_pred, average=\"binary\", pos_label=\"rock\"), 3)}')\n",
    "\n",
    "print(f'The recall of using punk is: {round(recall_score(y_true, y_pred, average=\"binary\", pos_label=\"jazz\"), 3)}')\n",
    "print(f'The recall of using indie is: {round(recall_score(y_true, y_pred, average=\"binary\", pos_label=\"rock\"), 3)}')\n",
    "\n",
    "print(f'The f1-score using punk is: {round(f1_score(y_true, y_pred, average=\"binary\", pos_label=\"jazz\"), 3)}')\n",
    "print(f'The f1-score using indie is: {round(f1_score(y_true, y_pred, average=\"binary\", pos_label=\"rock\"), 3)}')\n",
    "\n",
    "# print(f'The accuracy score using punk is: {round(accuracy_score(y_true, y_pred, average=\"binary\", pos_label=\"jazz\"), 3)}')\n",
    "# print(f'The accuracy score indie is: {round(accuracy_score(y_true, y_pred, average=\"binary\", pos_label=\"rock\"), 3)}')"
   ]
  },
  {
   "cell_type": "markdown",
   "metadata": {},
   "source": [
    "---"
   ]
  },
  {
   "cell_type": "markdown",
   "metadata": {},
   "source": [
    "**BETTER**:"
   ]
  },
  {
   "cell_type": "code",
   "execution_count": 39,
   "metadata": {},
   "outputs": [
    {
     "name": "stdout",
     "output_type": "stream",
     "text": [
      "The precision_score using jazz is: 0.529\n",
      "The precision_score using rock is: 0.308\n",
      "The recall_score using jazz is: 0.5\n",
      "The recall_score using rock is: 0.333\n",
      "The f1_score using jazz is: 0.514\n",
      "The f1_score using rock is: 0.32\n"
     ]
    }
   ],
   "source": [
    "for metric in [precision_score, recall_score, f1_score]:\n",
    "    \n",
    "    for la in labels:\n",
    "        \n",
    "        print(f'The {metric.__name__} using {la} is: {round(metric(y_true, y_pred, average=\"binary\", pos_label=la), 3)}')\n",
    "        \n",
    "        "
   ]
  },
  {
   "cell_type": "code",
   "execution_count": null,
   "metadata": {},
   "outputs": [],
   "source": []
  }
 ],
 "metadata": {
  "kernelspec": {
   "display_name": "Python 3",
   "language": "python",
   "name": "python3"
  },
  "language_info": {
   "codemirror_mode": {
    "name": "ipython",
    "version": 3
   },
   "file_extension": ".py",
   "mimetype": "text/x-python",
   "name": "python",
   "nbconvert_exporter": "python",
   "pygments_lexer": "ipython3",
   "version": "3.8.5"
  }
 },
 "nbformat": 4,
 "nbformat_minor": 4
}
