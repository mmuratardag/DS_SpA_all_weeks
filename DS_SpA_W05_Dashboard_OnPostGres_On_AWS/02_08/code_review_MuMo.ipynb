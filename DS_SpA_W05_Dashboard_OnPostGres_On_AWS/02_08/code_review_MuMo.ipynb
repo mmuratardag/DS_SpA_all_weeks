{
 "cells": [
  {
   "cell_type": "markdown",
   "metadata": {},
   "source": [
    "**Imports**"
   ]
  },
  {
   "cell_type": "code",
   "execution_count": null,
   "metadata": {},
   "outputs": [],
   "source": [
    "import pandas as pd\n",
    "import requests\n",
    "from bs4 import BeautifulSoup\n",
    "import re\n",
    "from sklearn.metrics import precision_score, recall_score, f1_score\n",
    "import random\n",
    "import glob\n",
    "import os"
   ]
  },
  {
   "cell_type": "markdown",
   "metadata": {},
   "source": [
    "---"
   ]
  },
  {
   "cell_type": "markdown",
   "metadata": {},
   "source": [
    "### Code Snippet 1.\n"
   ]
  },
  {
   "cell_type": "code",
   "execution_count": null,
   "metadata": {},
   "outputs": [],
   "source": [
    "def train_model(LYRICS_SAMPLE, INTERPRET, NUMBER_OF_SONGS=20):\n",
    "    \n",
    "    ...\n",
    "    \n",
    "    def collect_song_links(artist:str): \n",
    "        ...\n",
    "\n",
    "    def get_songs_lyrics(links:list, artist_name:str, num:int):\n",
    "        ...\n",
    "\n",
    "    def main(artist, num):\n",
    "        ...\n",
    "\n",
    "    \n",
    "    def clean_data(column:pd.Series) -> pd.Series:\n",
    "        ...\n",
    "\n",
    "    vectorizer = TfidfVectorizer(stop_words='english')\n",
    "    X = vectorizer.fit_transform(CORPUS)\n",
    "    y = LABELS\n",
    "    clf = MultinomialNB()\n",
    "    clf.fit(X, y)\n",
    "    MultinomialNB()\n",
    "    pipeline = make_pipeline(TfidfVectorizer(stop_words='english'),\n",
    "                            MultinomialNB(class_prior=None))\n",
    "    pipeline.fit(CORPUS, y)\n",
    "    "
   ]
  },
  {
   "cell_type": "code",
   "execution_count": null,
   "metadata": {},
   "outputs": [],
   "source": []
  },
  {
   "cell_type": "markdown",
   "metadata": {},
   "source": [
    "### Code Snippet 2.\n"
   ]
  },
  {
   "cell_type": "markdown",
   "metadata": {},
   "source": [
    "---"
   ]
  },
  {
   "cell_type": "code",
   "execution_count": null,
   "metadata": {},
   "outputs": [],
   "source": [
    "links = ['http://www.metrolyrics.com/back-stabber-lyrics-eminem.html',\n",
    " 'http://www.metrolyrics.com/beautiful-pain-lyrics-eminem.html',\n",
    " 'http://www.metrolyrics.com/3-verses-lyrics-eminem.html',\n",
    " 'http://www.metrolyrics.com/another-sentencing-lyrics-eminem.html',\n",
    " 'http://www.metrolyrics.com/billion-bucks-lyrics-eminem.html',\n",
    " 'http://www.metrolyrics.com/i-need-a-doctor-lyrics-dr-dre.html',\n",
    " 'http://www.metrolyrics.com/a-drop-in-the-ocean-lyrics-eminem.html',\n",
    " 'http://www.metrolyrics.com/bet-shady-20-cypher-lyrics-eminem.html',\n",
    " 'http://www.metrolyrics.com/atlanta-on-fire-lyrics-eminem.html',\n",
    " 'http://www.metrolyrics.com/amityville-lyrics-eminem.html']"
   ]
  },
  {
   "cell_type": "code",
   "execution_count": null,
   "metadata": {},
   "outputs": [],
   "source": [
    "df = pd.DataFrame(data=links, columns = ['url'])\n",
    "for i in df:\n",
    "    df[['url2','title']] = df['url'].str.split(\".com/\",expand=True)\n",
    "    df['title_short'] = [x[:5] for x in df['title']]"
   ]
  },
  {
   "cell_type": "code",
   "execution_count": null,
   "metadata": {},
   "outputs": [],
   "source": [
    "df"
   ]
  },
  {
   "cell_type": "code",
   "execution_count": null,
   "metadata": {},
   "outputs": [],
   "source": []
  },
  {
   "cell_type": "markdown",
   "metadata": {},
   "source": [
    "### 3. Code Snippet 3."
   ]
  },
  {
   "cell_type": "markdown",
   "metadata": {},
   "source": [
    "---"
   ]
  },
  {
   "cell_type": "code",
   "execution_count": null,
   "metadata": {},
   "outputs": [],
   "source": [
    "def get_lyrics(artist_name):\n",
    "    \n",
    "    ret_list = list()\n",
    "    artist_name_request = requests.get(f'http://www.songlyrics.com/{artist_name}-lyrics/').text\n",
    "    pattern = 'href=\\\"(http://.+lyrics\\/)\\\"'\n",
    "    songs_list = re.findall(pattern, artist_name_request)[1:101]\n",
    "    if not os.path.exists(f'{artist_name}_songs'):\n",
    "        os.makedirs(f'{artist_name}_songs')\n",
    "    \n",
    "    for index,link in enumerate(songs_list):\n",
    "        new_list = requests.get(link).text\n",
    "        songs_text = open(f'{artist_name}_songs/songs{index}.txt','w')\n",
    "        songs_text.write(new_list)\n",
    "        songs_text.close()\n",
    "    \n",
    "    for index,link in enumerate(songs_list):\n",
    "        #new_list = requests.get(link).text\n",
    "        songs_text = open(f'{artist_name}_songs/songs{index}.txt')\n",
    "        song_html_content = songs_text.read()\n",
    "        songs_text.close()\n",
    "        songs_soup = BeautifulSoup(song_html_content, 'html')\n",
    "        lyrics = songs_soup.find_all('p', attrs = {'id':\"songLyricsDiv\"})[0].text\n",
    "        cleaned_lyrics = lyrics.replace(\"\\n\",\" \")\n",
    "        ret_list.append({\"lyrics\":cleaned_lyrics,\"artist\":artist_name})\n",
    "        # songs_text = open(f'{artist_name}_songs/lyrics{index}.txt','w')\n",
    "        # songs_text.write(lyrics)\n",
    "        # songs_text.close()\n",
    "    return ret_list"
   ]
  },
  {
   "cell_type": "markdown",
   "metadata": {},
   "source": [
    "### 4. Code Snippet 4."
   ]
  },
  {
   "cell_type": "markdown",
   "metadata": {},
   "source": [
    "---"
   ]
  },
  {
   "cell_type": "code",
   "execution_count": null,
   "metadata": {},
   "outputs": [],
   "source": [
    "PATH = '/Users/pawlodkowski/lyrics/eminem/'\n",
    "\n",
    "PATH2 = '/Users/pawlodkowski/lyrics/dualipa/'\n",
    "\n",
    "def lyrics_to_list(path=str):\n",
    "    \"\"\"returns a list of lyricstrings\"\"\"\n",
    "\n",
    "    textfile = glob.glob(os.path.join(path, '*.text'), recursive=False)\n",
    "\n",
    "    lyrics = []\n",
    "   \n",
    "    for file_path in textfile:\n",
    "        with open(file_path) as f_input:\n",
    "            lyrics.append(f_input.read())\n",
    "\n",
    "    return lyrics\n",
    "\n",
    "\n",
    "LIST_EM = lyrics_to_list(PATH)\n",
    "\n",
    "LIST_DL = lyrics_to_list(PATH2)\n",
    "\n",
    "CORPUS = LIST_EM + LIST_DL\n",
    "\n",
    "LABELS = [\"EMINEM\"] * 402 + [\"DUA LIPA\"] * 386"
   ]
  },
  {
   "cell_type": "code",
   "execution_count": null,
   "metadata": {},
   "outputs": [],
   "source": []
  },
  {
   "cell_type": "markdown",
   "metadata": {},
   "source": [
    "### 5. Code Snippet 5"
   ]
  },
  {
   "cell_type": "markdown",
   "metadata": {},
   "source": [
    "---"
   ]
  },
  {
   "cell_type": "code",
   "execution_count": null,
   "metadata": {},
   "outputs": [],
   "source": [
    "labels = ['jazz', 'rock']\n",
    "y_true = [random.choice(labels) for i in range(30)] \n",
    "y_pred = [random.choice(labels) for i in range(30)] \n",
    "\n",
    "print(f'The precision using punk is: {round(precision_score(y_true, y_pred, average=\"binary\", pos_label=\"jazz\"), 3)}')\n",
    "print(f'The precision using indie is: {round(precision_score(y_true, y_pred, average=\"binary\", pos_label=\"rock\"), 3)}')\n",
    "\n",
    "print(f'The recall of using punk is: {round(recall_score(y_true, y_pred, average=\"binary\", pos_label=\"jazz\"), 3)}')\n",
    "print(f'The recall of using indie is: {round(recall_score(y_true, y_pred, average=\"binary\", pos_label=\"rock\"), 3)}')\n",
    "\n",
    "print(f'The f1-score using punk is: {round(f1_score(y_true, y_pred, average=\"binary\", pos_label=\"jazz\"), 3)}')\n",
    "print(f'The f1-score using indie is: {round(f1_score(y_true, y_pred, average=\"binary\", pos_label=\"rock\"), 3)}')"
   ]
  },
  {
   "cell_type": "markdown",
   "metadata": {},
   "source": [
    "---"
   ]
  },
  {
   "cell_type": "code",
   "execution_count": null,
   "metadata": {},
   "outputs": [],
   "source": []
  }
 ],
 "metadata": {
  "kernelspec": {
   "display_name": "Python 3",
   "language": "python",
   "name": "python3"
  },
  "language_info": {
   "codemirror_mode": {
    "name": "ipython",
    "version": 3
   },
   "file_extension": ".py",
   "mimetype": "text/x-python",
   "name": "python",
   "nbconvert_exporter": "python",
   "pygments_lexer": "ipython3",
   "version": "3.8.5"
  }
 },
 "nbformat": 4,
 "nbformat_minor": 4
}
