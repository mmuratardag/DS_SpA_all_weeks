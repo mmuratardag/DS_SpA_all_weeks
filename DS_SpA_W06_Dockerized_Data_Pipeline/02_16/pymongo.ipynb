{
 "cells": [
  {
   "cell_type": "code",
   "execution_count": 1,
   "metadata": {},
   "outputs": [],
   "source": [
    "# !pip install pymongo\n",
    "# only if we want to use it locally."
   ]
  },
  {
   "cell_type": "code",
   "execution_count": 2,
   "metadata": {},
   "outputs": [],
   "source": [
    "from pymongo import MongoClient\n",
    "#equivalent of from sqlalchemy import create_engine"
   ]
  },
  {
   "cell_type": "markdown",
   "metadata": {},
   "source": [
    "How to connect any database:\n",
    "- host (localhost)\n",
    "- port (27018)\n",
    "- username, password..."
   ]
  },
  {
   "cell_type": "code",
   "execution_count": 3,
   "metadata": {},
   "outputs": [],
   "source": [
    "client = MongoClient(host='localhost', port=1420)"
   ]
  },
  {
   "cell_type": "code",
   "execution_count": 4,
   "metadata": {},
   "outputs": [],
   "source": [
    "db = client.tweets\n",
    "# connect to the tweets database"
   ]
  },
  {
   "cell_type": "code",
   "execution_count": 5,
   "metadata": {},
   "outputs": [
    {
     "name": "stderr",
     "output_type": "stream",
     "text": [
      "<ipython-input-5-8ff4d2505e25>:1: DeprecationWarning: collection_names is deprecated. Use list_collection_names instead.\n",
      "  db.collection_names()\n"
     ]
    },
    {
     "data": {
      "text/plain": [
       "['tweet_data']"
      ]
     },
     "execution_count": 5,
     "metadata": {},
     "output_type": "execute_result"
    }
   ],
   "source": [
    "db.collection_names()"
   ]
  },
  {
   "cell_type": "code",
   "execution_count": 6,
   "metadata": {},
   "outputs": [],
   "source": [
    "import pandas as pd"
   ]
  },
  {
   "cell_type": "code",
   "execution_count": 7,
   "metadata": {},
   "outputs": [],
   "source": [
    "mongo_df = pd.DataFrame(db.tweet_data.find())"
   ]
  },
  {
   "cell_type": "code",
   "execution_count": 9,
   "metadata": {},
   "outputs": [
    {
     "data": {
      "text/html": [
       "<div>\n",
       "<style scoped>\n",
       "    .dataframe tbody tr th:only-of-type {\n",
       "        vertical-align: middle;\n",
       "    }\n",
       "\n",
       "    .dataframe tbody tr th {\n",
       "        vertical-align: top;\n",
       "    }\n",
       "\n",
       "    .dataframe thead th {\n",
       "        text-align: right;\n",
       "    }\n",
       "</style>\n",
       "<table border=\"1\" class=\"dataframe\">\n",
       "  <thead>\n",
       "    <tr style=\"text-align: right;\">\n",
       "      <th></th>\n",
       "      <th>_id</th>\n",
       "      <th>username</th>\n",
       "      <th>text</th>\n",
       "      <th>data</th>\n",
       "    </tr>\n",
       "  </thead>\n",
       "  <tbody>\n",
       "    <tr>\n",
       "      <th>0</th>\n",
       "      <td>602bded34bb0cf865bfd31fe</td>\n",
       "      <td>Margaret Shaw</td>\n",
       "      <td>Throw imagine Congress evening success no. Maj...</td>\n",
       "      <td>3</td>\n",
       "    </tr>\n",
       "    <tr>\n",
       "      <th>1</th>\n",
       "      <td>602bded64bb0cf865bfd31ff</td>\n",
       "      <td>Emily Green</td>\n",
       "      <td>Box law word visit. Church option southern ans...</td>\n",
       "      <td>10</td>\n",
       "    </tr>\n",
       "    <tr>\n",
       "      <th>2</th>\n",
       "      <td>602bded94bb0cf865bfd3200</td>\n",
       "      <td>Mrs. Erin Freeman</td>\n",
       "      <td>Already today per star call bill store. Good f...</td>\n",
       "      <td>4</td>\n",
       "    </tr>\n",
       "    <tr>\n",
       "      <th>3</th>\n",
       "      <td>602bdedc4bb0cf865bfd3201</td>\n",
       "      <td>Shirley Alvarado</td>\n",
       "      <td>Director appear fish success. Exist almost onc...</td>\n",
       "      <td>8</td>\n",
       "    </tr>\n",
       "    <tr>\n",
       "      <th>4</th>\n",
       "      <td>602bdedf4bb0cf865bfd3202</td>\n",
       "      <td>Benjamin Church</td>\n",
       "      <td>Stock day establish production. Million wrong ...</td>\n",
       "      <td>5</td>\n",
       "    </tr>\n",
       "  </tbody>\n",
       "</table>\n",
       "</div>"
      ],
      "text/plain": [
       "                        _id           username  \\\n",
       "0  602bded34bb0cf865bfd31fe      Margaret Shaw   \n",
       "1  602bded64bb0cf865bfd31ff        Emily Green   \n",
       "2  602bded94bb0cf865bfd3200  Mrs. Erin Freeman   \n",
       "3  602bdedc4bb0cf865bfd3201   Shirley Alvarado   \n",
       "4  602bdedf4bb0cf865bfd3202    Benjamin Church   \n",
       "\n",
       "                                                text  data  \n",
       "0  Throw imagine Congress evening success no. Maj...     3  \n",
       "1  Box law word visit. Church option southern ans...    10  \n",
       "2  Already today per star call bill store. Good f...     4  \n",
       "3  Director appear fish success. Exist almost onc...     8  \n",
       "4  Stock day establish production. Million wrong ...     5  "
      ]
     },
     "execution_count": 9,
     "metadata": {},
     "output_type": "execute_result"
    }
   ],
   "source": [
    "mongo_df.head()\n",
    "#and there's our data from the docker-compose pipeline!"
   ]
  },
  {
   "cell_type": "code",
   "execution_count": null,
   "metadata": {},
   "outputs": [],
   "source": []
  }
 ],
 "metadata": {
  "kernelspec": {
   "display_name": "Python 3",
   "language": "python",
   "name": "python3"
  },
  "language_info": {
   "codemirror_mode": {
    "name": "ipython",
    "version": 3
   },
   "file_extension": ".py",
   "mimetype": "text/x-python",
   "name": "python",
   "nbconvert_exporter": "python",
   "pygments_lexer": "ipython3",
   "version": "3.8.5"
  }
 },
 "nbformat": 4,
 "nbformat_minor": 4
}
