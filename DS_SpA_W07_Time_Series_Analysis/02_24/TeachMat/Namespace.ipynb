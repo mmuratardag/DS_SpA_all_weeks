{
 "cells": [
  {
   "cell_type": "markdown",
   "metadata": {},
   "source": [
    "# Namespaces\n",
    "\n",
    "* How do variables work?\n",
    "* Which variables can I use and when can I use them?"
   ]
  },
  {
   "cell_type": "markdown",
   "metadata": {},
   "source": [
    "---"
   ]
  },
  {
   "cell_type": "markdown",
   "metadata": {},
   "source": [
    "![](cup_reference_value.gif)"
   ]
  },
  {
   "cell_type": "markdown",
   "metadata": {},
   "source": [
    "#### Technically python does neither! Instead pass by assignment, but in practise sometimes we see reference-esque behvaiour and sometimes we see value-esque behaviour\n",
    "\n",
    "* We can check this using `id()`"
   ]
  },
  {
   "cell_type": "markdown",
   "metadata": {},
   "source": [
    "---"
   ]
  },
  {
   "cell_type": "markdown",
   "metadata": {},
   "source": [
    "### Pass by value behaviour\n",
    "* Occurs in immutable objects - cannot change\n",
    "* ints / floats / strings / tuple "
   ]
  },
  {
   "cell_type": "code",
   "execution_count": 4,
   "metadata": {},
   "outputs": [
    {
     "data": {
      "text/plain": [
       "(4427402208, 4427401632)"
      ]
     },
     "execution_count": 4,
     "metadata": {},
     "output_type": "execute_result"
    }
   ],
   "source": [
    "id(21), id(3)"
   ]
  },
  {
   "cell_type": "code",
   "execution_count": 5,
   "metadata": {},
   "outputs": [
    {
     "data": {
      "text/plain": [
       "4427401632"
      ]
     },
     "execution_count": 5,
     "metadata": {},
     "output_type": "execute_result"
    }
   ],
   "source": [
    "a = 3\n",
    "\n",
    "id(a)"
   ]
  },
  {
   "cell_type": "code",
   "execution_count": 6,
   "metadata": {},
   "outputs": [
    {
     "data": {
      "text/plain": [
       "4427402208"
      ]
     },
     "execution_count": 6,
     "metadata": {},
     "output_type": "execute_result"
    }
   ],
   "source": [
    "a = 21\n",
    "id(a)"
   ]
  },
  {
   "cell_type": "code",
   "execution_count": 10,
   "metadata": {},
   "outputs": [
    {
     "ename": "SyntaxError",
     "evalue": "cannot assign to literal (<ipython-input-10-c88b267d0b0d>, line 1)",
     "output_type": "error",
     "traceback": [
      "\u001b[0;36m  File \u001b[0;32m\"<ipython-input-10-c88b267d0b0d>\"\u001b[0;36m, line \u001b[0;32m1\u001b[0m\n\u001b[0;31m    'string' = 'this'\u001b[0m\n\u001b[0m    ^\u001b[0m\n\u001b[0;31mSyntaxError\u001b[0m\u001b[0;31m:\u001b[0m cannot assign to literal\n"
     ]
    }
   ],
   "source": [
    "'string' = 'this'"
   ]
  },
  {
   "cell_type": "code",
   "execution_count": 13,
   "metadata": {},
   "outputs": [],
   "source": [
    "_21 = 3"
   ]
  },
  {
   "cell_type": "code",
   "execution_count": 1,
   "metadata": {},
   "outputs": [],
   "source": [
    "a = 3"
   ]
  },
  {
   "cell_type": "code",
   "execution_count": 2,
   "metadata": {},
   "outputs": [
    {
     "data": {
      "text/plain": [
       "(4427401632, 4427401632)"
      ]
     },
     "execution_count": 2,
     "metadata": {},
     "output_type": "execute_result"
    }
   ],
   "source": [
    "id(a), id(3)"
   ]
  },
  {
   "cell_type": "code",
   "execution_count": null,
   "metadata": {},
   "outputs": [],
   "source": [
    "b = 3\n",
    "\n",
    "id(b)"
   ]
  },
  {
   "cell_type": "markdown",
   "metadata": {},
   "source": [
    "**What is Python doing behind the scenes when we are writing an instruction like this?**"
   ]
  },
  {
   "cell_type": "code",
   "execution_count": null,
   "metadata": {},
   "outputs": [],
   "source": [
    "b = a + 2\n",
    "b"
   ]
  },
  {
   "cell_type": "markdown",
   "metadata": {},
   "source": [
    "**What about the above?**"
   ]
  },
  {
   "cell_type": "code",
   "execution_count": null,
   "metadata": {},
   "outputs": [],
   "source": [
    "a = 10\n",
    "b"
   ]
  },
  {
   "cell_type": "markdown",
   "metadata": {},
   "source": [
    "**Why is this happening? Can we verify this behvaiour against other immutables?**"
   ]
  },
  {
   "cell_type": "code",
   "execution_count": null,
   "metadata": {},
   "outputs": [],
   "source": [
    "c = 'value'"
   ]
  },
  {
   "cell_type": "code",
   "execution_count": null,
   "metadata": {},
   "outputs": [],
   "source": [
    "d = 'pass by ' + c\n",
    "d"
   ]
  },
  {
   "cell_type": "code",
   "execution_count": null,
   "metadata": {},
   "outputs": [],
   "source": [
    "c = 'reference'\n",
    "d"
   ]
  },
  {
   "cell_type": "markdown",
   "metadata": {},
   "source": [
    "### Pass by reference behaviour\n",
    "* Occurs in mutable objects\n",
    "* Lists / Dictionaries / etc"
   ]
  },
  {
   "cell_type": "code",
   "execution_count": 14,
   "metadata": {},
   "outputs": [
    {
     "data": {
      "text/plain": [
       "[7, 3, 5]"
      ]
     },
     "execution_count": 14,
     "metadata": {},
     "output_type": "execute_result"
    }
   ],
   "source": [
    "e, f = 3 , 5\n",
    "g = [7, e, f]\n",
    "g"
   ]
  },
  {
   "cell_type": "code",
   "execution_count": 15,
   "metadata": {},
   "outputs": [
    {
     "data": {
      "text/plain": [
       "[7, 3, 5]"
      ]
     },
     "execution_count": 15,
     "metadata": {},
     "output_type": "execute_result"
    }
   ],
   "source": [
    "h = g\n",
    "h"
   ]
  },
  {
   "cell_type": "code",
   "execution_count": 16,
   "metadata": {},
   "outputs": [
    {
     "data": {
      "text/plain": [
       "(140227569243136, 140227569243136)"
      ]
     },
     "execution_count": 16,
     "metadata": {},
     "output_type": "execute_result"
    }
   ],
   "source": [
    "id(h), id(g)"
   ]
  },
  {
   "cell_type": "code",
   "execution_count": 17,
   "metadata": {},
   "outputs": [
    {
     "data": {
      "text/plain": [
       "[7, 3, 5]"
      ]
     },
     "execution_count": 17,
     "metadata": {},
     "output_type": "execute_result"
    }
   ],
   "source": [
    "g"
   ]
  },
  {
   "cell_type": "code",
   "execution_count": 18,
   "metadata": {},
   "outputs": [
    {
     "data": {
      "text/plain": [
       "[7, 3, 99]"
      ]
     },
     "execution_count": 18,
     "metadata": {},
     "output_type": "execute_result"
    }
   ],
   "source": [
    "g[2] = 99\n",
    "g"
   ]
  },
  {
   "cell_type": "code",
   "execution_count": 19,
   "metadata": {},
   "outputs": [
    {
     "data": {
      "text/plain": [
       "([7, 3, 99], [7, 3, 99])"
      ]
     },
     "execution_count": 19,
     "metadata": {},
     "output_type": "execute_result"
    }
   ],
   "source": [
    "g, h"
   ]
  },
  {
   "cell_type": "markdown",
   "metadata": {},
   "source": [
    "### Pandas - Setting with copy warning - familiar anyone?"
   ]
  },
  {
   "cell_type": "code",
   "execution_count": 20,
   "metadata": {},
   "outputs": [
    {
     "data": {
      "text/html": [
       "<div>\n",
       "<style scoped>\n",
       "    .dataframe tbody tr th:only-of-type {\n",
       "        vertical-align: middle;\n",
       "    }\n",
       "\n",
       "    .dataframe tbody tr th {\n",
       "        vertical-align: top;\n",
       "    }\n",
       "\n",
       "    .dataframe thead th {\n",
       "        text-align: right;\n",
       "    }\n",
       "</style>\n",
       "<table border=\"1\" class=\"dataframe\">\n",
       "  <thead>\n",
       "    <tr style=\"text-align: right;\">\n",
       "      <th></th>\n",
       "      <th>Species</th>\n",
       "      <th>Culmen Length (mm)</th>\n",
       "      <th>Culmen Depth (mm)</th>\n",
       "      <th>Flipper Length (mm)</th>\n",
       "      <th>Body Mass (g)</th>\n",
       "      <th>Sex</th>\n",
       "    </tr>\n",
       "  </thead>\n",
       "  <tbody>\n",
       "    <tr>\n",
       "      <th>0</th>\n",
       "      <td>Adelie</td>\n",
       "      <td>39.1</td>\n",
       "      <td>18.7</td>\n",
       "      <td>181.0</td>\n",
       "      <td>3750.0</td>\n",
       "      <td>MALE</td>\n",
       "    </tr>\n",
       "    <tr>\n",
       "      <th>1</th>\n",
       "      <td>Adelie</td>\n",
       "      <td>39.5</td>\n",
       "      <td>17.4</td>\n",
       "      <td>186.0</td>\n",
       "      <td>3800.0</td>\n",
       "      <td>FEMALE</td>\n",
       "    </tr>\n",
       "    <tr>\n",
       "      <th>2</th>\n",
       "      <td>Adelie</td>\n",
       "      <td>40.3</td>\n",
       "      <td>18.0</td>\n",
       "      <td>195.0</td>\n",
       "      <td>3250.0</td>\n",
       "      <td>FEMALE</td>\n",
       "    </tr>\n",
       "    <tr>\n",
       "      <th>3</th>\n",
       "      <td>Adelie</td>\n",
       "      <td>36.7</td>\n",
       "      <td>19.3</td>\n",
       "      <td>193.0</td>\n",
       "      <td>3450.0</td>\n",
       "      <td>FEMALE</td>\n",
       "    </tr>\n",
       "    <tr>\n",
       "      <th>4</th>\n",
       "      <td>Adelie</td>\n",
       "      <td>39.3</td>\n",
       "      <td>20.6</td>\n",
       "      <td>190.0</td>\n",
       "      <td>3650.0</td>\n",
       "      <td>MALE</td>\n",
       "    </tr>\n",
       "  </tbody>\n",
       "</table>\n",
       "</div>"
      ],
      "text/plain": [
       "  Species  Culmen Length (mm)  Culmen Depth (mm)  Flipper Length (mm)  \\\n",
       "0  Adelie                39.1               18.7                181.0   \n",
       "1  Adelie                39.5               17.4                186.0   \n",
       "2  Adelie                40.3               18.0                195.0   \n",
       "3  Adelie                36.7               19.3                193.0   \n",
       "4  Adelie                39.3               20.6                190.0   \n",
       "\n",
       "   Body Mass (g)     Sex  \n",
       "0         3750.0    MALE  \n",
       "1         3800.0  FEMALE  \n",
       "2         3250.0  FEMALE  \n",
       "3         3450.0  FEMALE  \n",
       "4         3650.0    MALE  "
      ]
     },
     "execution_count": 20,
     "metadata": {},
     "output_type": "execute_result"
    }
   ],
   "source": [
    "import pandas as pd\n",
    "\n",
    "df = pd.read_csv('/Users/tom_g/Code/Data/penguins/penguins_simple.csv', sep=';')\n",
    "\n",
    "df.head()"
   ]
  },
  {
   "cell_type": "code",
   "execution_count": 22,
   "metadata": {},
   "outputs": [
    {
     "data": {
      "text/plain": [
       "Species    Sex   \n",
       "Adelie     MALE      146\n",
       "Chinstrap  FEMALE     34\n",
       "           MALE       34\n",
       "Gentoo     MALE       61\n",
       "           FEMALE     58\n",
       "Name: Sex, dtype: int64"
      ]
     },
     "execution_count": 22,
     "metadata": {},
     "output_type": "execute_result"
    }
   ],
   "source": [
    "# Task - override the Sex of all Adelie penguins to be Male\n",
    "# Which one is pass by reference and which one is pass by value?\n",
    "# First one is value and second one is reference - why?\n",
    "# pass by value occurs in pandas when you method chain - func().func2().\n",
    "\n",
    "#df[df.Species == 'Adelie']['Sex'] = 'MALE'\n",
    "#df.groupby('Species')['Sex'].value_counts()\n",
    "\n",
    "df.loc[df.Species == 'Adelie', 'Sex'] = 'MALE'\n",
    "df.groupby('Species')['Sex'].value_counts()"
   ]
  },
  {
   "cell_type": "markdown",
   "metadata": {},
   "source": [
    "**What is happening here? Which one is 'referencing' and which one is 'valuing'?**"
   ]
  },
  {
   "cell_type": "markdown",
   "metadata": {},
   "source": [
    "---"
   ]
  },
  {
   "cell_type": "markdown",
   "metadata": {},
   "source": [
    "### Namespace\n",
    "* An area inside which you only get to use the same variable once (Duplicate variables can exist intra-namespace)\n",
    "* Three main namespaces exist - local / global / built-in\n",
    "* Variables are referenced from the innermost scope outwards"
   ]
  },
  {
   "cell_type": "markdown",
   "metadata": {},
   "source": [
    "* everything in python is an object!"
   ]
  },
  {
   "cell_type": "code",
   "execution_count": 26,
   "metadata": {},
   "outputs": [
    {
     "data": {
      "text/plain": [
       "([str, object], [int, object])"
      ]
     },
     "execution_count": 26,
     "metadata": {},
     "output_type": "execute_result"
    }
   ],
   "source": [
    "str.mro(), int.mro()"
   ]
  },
  {
   "cell_type": "markdown",
   "metadata": {},
   "source": [
    "![](Scopes.png)"
   ]
  },
  {
   "cell_type": "markdown",
   "metadata": {},
   "source": [
    "#### Locals - bound by functions, classes, and modules"
   ]
  },
  {
   "cell_type": "code",
   "execution_count": 60,
   "metadata": {},
   "outputs": [],
   "source": [
    "class A_class:\n",
    "    #local 1\n",
    "    a = 1\n",
    "\n",
    "    def A_func(self):\n",
    "        # local 2\n",
    "        a = 2 \n",
    "        return a\n",
    "    \n",
    "    #getter or setter function to change attributes\n",
    "\n",
    "# global variable\n",
    "a = 0"
   ]
  },
  {
   "cell_type": "code",
   "execution_count": 54,
   "metadata": {},
   "outputs": [
    {
     "data": {
      "text/plain": [
       "0"
      ]
     },
     "execution_count": 54,
     "metadata": {},
     "output_type": "execute_result"
    }
   ],
   "source": [
    "a"
   ]
  },
  {
   "cell_type": "code",
   "execution_count": null,
   "metadata": {},
   "outputs": [],
   "source": [
    "#no statisticty or private varables in python"
   ]
  },
  {
   "cell_type": "code",
   "execution_count": 55,
   "metadata": {},
   "outputs": [
    {
     "data": {
      "text/plain": [
       "2"
      ]
     },
     "execution_count": 55,
     "metadata": {},
     "output_type": "execute_result"
    }
   ],
   "source": [
    "A = A_class()\n",
    "A.a = 2\n",
    "A.a"
   ]
  },
  {
   "cell_type": "code",
   "execution_count": 56,
   "metadata": {},
   "outputs": [
    {
     "data": {
      "text/plain": [
       "0"
      ]
     },
     "execution_count": 56,
     "metadata": {},
     "output_type": "execute_result"
    }
   ],
   "source": [
    "a"
   ]
  },
  {
   "cell_type": "code",
   "execution_count": 39,
   "metadata": {},
   "outputs": [
    {
     "data": {
      "text/plain": [
       "2"
      ]
     },
     "execution_count": 39,
     "metadata": {},
     "output_type": "execute_result"
    }
   ],
   "source": [
    "A = A_class()\n",
    "A.A_func()"
   ]
  },
  {
   "cell_type": "markdown",
   "metadata": {},
   "source": [
    "#### Globals - All variables not local are global\n",
    "* Includes variables you declare\n",
    "* And variables imported by any modules"
   ]
  },
  {
   "cell_type": "code",
   "execution_count": 49,
   "metadata": {},
   "outputs": [],
   "source": [
    "import os"
   ]
  },
  {
   "cell_type": "code",
   "execution_count": 48,
   "metadata": {},
   "outputs": [
    {
     "data": {
      "text/plain": [
       "'\\n'"
      ]
     },
     "execution_count": 48,
     "metadata": {},
     "output_type": "execute_result"
    }
   ],
   "source": [
    "linesep"
   ]
  },
  {
   "cell_type": "code",
   "execution_count": 47,
   "metadata": {},
   "outputs": [
    {
     "data": {
      "text/plain": [
       "str"
      ]
     },
     "execution_count": 47,
     "metadata": {},
     "output_type": "execute_result"
    }
   ],
   "source": [
    "type(linesep) # we know strings are immutable"
   ]
  },
  {
   "cell_type": "markdown",
   "metadata": {},
   "source": [
    "#### Built-in - All custom python variables"
   ]
  },
  {
   "cell_type": "code",
   "execution_count": 61,
   "metadata": {},
   "outputs": [
    {
     "data": {
      "text/plain": [
       "    Thanks to CWI, CNRI, BeOpen.com, Zope Corporation and a cast of thousands\n",
       "    for supporting Python development.  See www.python.org for more information."
      ]
     },
     "execution_count": 61,
     "metadata": {},
     "output_type": "execute_result"
    }
   ],
   "source": [
    "__builtin__.credits"
   ]
  },
  {
   "cell_type": "markdown",
   "metadata": {},
   "source": [
    "---"
   ]
  },
  {
   "cell_type": "markdown",
   "metadata": {},
   "source": [
    "### Checking namespace\n",
    "* In practise, namespaces are maintained by an internal dictionary of all current variables, attributes, etc.\n",
    "* Closest we can get is through `dir() / locals() / globals() / vars()`\n",
    "* We'll focus on the first two"
   ]
  },
  {
   "cell_type": "markdown",
   "metadata": {},
   "source": [
    "#### Dir gives you access to the variable names of the current scope"
   ]
  },
  {
   "cell_type": "code",
   "execution_count": 62,
   "metadata": {
    "collapsed": true,
    "jupyter": {
     "outputs_hidden": true
    }
   },
   "outputs": [
    {
     "data": {
      "text/plain": [
       "['A',\n",
       " 'A_class',\n",
       " 'In',\n",
       " 'Out',\n",
       " '_',\n",
       " '_14',\n",
       " '_15',\n",
       " '_16',\n",
       " '_17',\n",
       " '_18',\n",
       " '_19',\n",
       " '_2',\n",
       " '_20',\n",
       " '_21',\n",
       " '_22',\n",
       " '_24',\n",
       " '_25',\n",
       " '_26',\n",
       " '_28',\n",
       " '_29',\n",
       " '_3',\n",
       " '_31',\n",
       " '_32',\n",
       " '_33',\n",
       " '_35',\n",
       " '_37',\n",
       " '_38',\n",
       " '_39',\n",
       " '_4',\n",
       " '_41',\n",
       " '_43',\n",
       " '_45',\n",
       " '_46',\n",
       " '_47',\n",
       " '_48',\n",
       " '_5',\n",
       " '_51',\n",
       " '_52',\n",
       " '_54',\n",
       " '_55',\n",
       " '_56',\n",
       " '_6',\n",
       " '_61',\n",
       " '_9',\n",
       " '__',\n",
       " '___',\n",
       " '__builtin__',\n",
       " '__builtins__',\n",
       " '__doc__',\n",
       " '__loader__',\n",
       " '__name__',\n",
       " '__package__',\n",
       " '__spec__',\n",
       " '_dh',\n",
       " '_i',\n",
       " '_i1',\n",
       " '_i10',\n",
       " '_i11',\n",
       " '_i12',\n",
       " '_i13',\n",
       " '_i14',\n",
       " '_i15',\n",
       " '_i16',\n",
       " '_i17',\n",
       " '_i18',\n",
       " '_i19',\n",
       " '_i2',\n",
       " '_i20',\n",
       " '_i21',\n",
       " '_i22',\n",
       " '_i23',\n",
       " '_i24',\n",
       " '_i25',\n",
       " '_i26',\n",
       " '_i27',\n",
       " '_i28',\n",
       " '_i29',\n",
       " '_i3',\n",
       " '_i30',\n",
       " '_i31',\n",
       " '_i32',\n",
       " '_i33',\n",
       " '_i34',\n",
       " '_i35',\n",
       " '_i36',\n",
       " '_i37',\n",
       " '_i38',\n",
       " '_i39',\n",
       " '_i4',\n",
       " '_i40',\n",
       " '_i41',\n",
       " '_i42',\n",
       " '_i43',\n",
       " '_i44',\n",
       " '_i45',\n",
       " '_i46',\n",
       " '_i47',\n",
       " '_i48',\n",
       " '_i49',\n",
       " '_i5',\n",
       " '_i50',\n",
       " '_i51',\n",
       " '_i52',\n",
       " '_i53',\n",
       " '_i54',\n",
       " '_i55',\n",
       " '_i56',\n",
       " '_i57',\n",
       " '_i58',\n",
       " '_i59',\n",
       " '_i6',\n",
       " '_i60',\n",
       " '_i61',\n",
       " '_i62',\n",
       " '_i7',\n",
       " '_i8',\n",
       " '_i9',\n",
       " '_ih',\n",
       " '_ii',\n",
       " '_iii',\n",
       " '_oh',\n",
       " 'a',\n",
       " 'df',\n",
       " 'e',\n",
       " 'exit',\n",
       " 'f',\n",
       " 'g',\n",
       " 'get_ipython',\n",
       " 'h',\n",
       " 'linesep',\n",
       " 'os',\n",
       " 'pd',\n",
       " 'quit']"
      ]
     },
     "execution_count": 62,
     "metadata": {},
     "output_type": "execute_result"
    }
   ],
   "source": [
    "dir() #list"
   ]
  },
  {
   "cell_type": "markdown",
   "metadata": {},
   "source": [
    "#### Locals gives you access to the variables and current values of the current scope"
   ]
  },
  {
   "cell_type": "code",
   "execution_count": 63,
   "metadata": {},
   "outputs": [
    {
     "data": {
      "text/plain": [
       "{'__name__': '__main__',\n",
       " '__doc__': 'Automatically created module for IPython interactive environment',\n",
       " '__package__': None,\n",
       " '__loader__': None,\n",
       " '__spec__': None,\n",
       " '__builtin__': <module 'builtins' (built-in)>,\n",
       " '__builtins__': <module 'builtins' (built-in)>,\n",
       " '_ih': ['',\n",
       "  'a = 3',\n",
       "  'id(a), id(3)',\n",
       "  'id(21)',\n",
       "  'id(21), id(3)',\n",
       "  'a = 3\\n\\nid(a)',\n",
       "  'a = 21\\nid(a)',\n",
       "  '21 = 3',\n",
       "  \"'string' = 'this'\",\n",
       "  \"'string' == 'this'\",\n",
       "  \"'string' = 'this'\",\n",
       "  '21_ = 3',\n",
       "  '_21 = 3',\n",
       "  '_21 = 3',\n",
       "  'e, f = 3 , 5\\ng = [7, e, f]\\ng',\n",
       "  'h = g\\nh',\n",
       "  'id(h), id(g)',\n",
       "  'g',\n",
       "  'g[2] = 99\\ng',\n",
       "  'g, h',\n",
       "  \"import pandas as pd\\n\\ndf = pd.read_csv('/Users/tom_g/Code/Data/penguins/penguins_simple.csv', sep=';')\\n\\ndf.head()\",\n",
       "  \"# Task - override the Sex of all Adelie penguins to be Male\\n# Which one is pass by reference and which one is pass by value?\\n# First one is value and second one is reference - why?\\n\\ndf[df.Species == 'Adelie']['Sex'] = 'MALE'\\ndf.groupby('Species')['Sex'].value_counts()\\n\\n#df.loc[df.Species == 'Adelie', 'Sex'] = 'MALE'\\n#df.groupby('Species')['Sex'].value_counts()\",\n",
       "  \"# Task - override the Sex of all Adelie penguins to be Male\\n# Which one is pass by reference and which one is pass by value?\\n# First one is value and second one is reference - why?\\n# pass by value occurs in pandas when you method chain - func().func2().\\n\\n#df[df.Species == 'Adelie']['Sex'] = 'MALE'\\n#df.groupby('Species')['Sex'].value_counts()\\n\\ndf.loc[df.Species == 'Adelie', 'Sex'] = 'MALE'\\ndf.groupby('Species')['Sex'].value_counts()\",\n",
       "  '2.mro()',\n",
       "  'str.mro()',\n",
       "  'str.mro()',\n",
       "  'str.mro(), int.mro()',\n",
       "  '# global variable\\na = 0\\n\\nclass A_class:\\n    #local 1\\n    a = 1\\n\\n    def A_func(self):\\n        # local 2\\n        a = 2 \\n        return a',\n",
       "  'a',\n",
       "  'A = A_class()\\nA.a',\n",
       "  'class A_class:\\n    #local 1\\n    a = 1\\n\\n    def A_func(self):\\n        # local 2\\n        a = 2 \\n        return a\\n\\n# global variable\\na = 0',\n",
       "  'a',\n",
       "  'a',\n",
       "  'A = A_class()\\nA.a',\n",
       "  'a = 1\\na = 0',\n",
       "  'a',\n",
       "  'class A_class:\\n    #local 1\\n    a = 1\\n\\n    def A_func(self):\\n        # local 2\\n        a = 2 \\n        return a\\n\\n# global variable\\na = 0',\n",
       "  'a',\n",
       "  'A = A_class()\\nA.a',\n",
       "  'A = A_class()\\nA.A_func()',\n",
       "  'from os import linesep',\n",
       "  'linesep',\n",
       "  \"linesep = '\\\\t'\",\n",
       "  'linesep',\n",
       "  'from os import linesep',\n",
       "  'linesep ',\n",
       "  'type(linesep) ',\n",
       "  'type(linesep) # we know strings are immutable',\n",
       "  'linesep',\n",
       "  'import os',\n",
       "  'class A_class:\\n    #local 1\\n    a = 1\\n\\n    def A_func(self):\\n        # local 2\\n        a = 2 \\n        return a\\n\\n# global variable\\na = 0',\n",
       "  'a',\n",
       "  'A = A_class()\\nA.a = 2\\nA.a',\n",
       "  'class A_class:\\n    #local 1\\n    global a\\n    a = 1\\n\\n    def A_func(self):\\n        # local 2\\n        a = 2 \\n        return a\\n    \\n    #getter or setter function to change attributes\\n\\n# global variable\\na = 0',\n",
       "  'a',\n",
       "  'A = A_class()\\nA.a = 2\\nA.a',\n",
       "  'a',\n",
       "  'class A_class:\\n    #local 1\\n    global a\\n    a = 1\\n\\n    def A_func(self):\\n        # local 2\\n        a = 2 \\n        return a\\n    \\n    #getter or setter function to change attributes\\n\\n# global variable\\na = 0',\n",
       "  'class A_class:\\n    #local 1\\n    globals a\\n    a = 1\\n\\n    def A_func(self):\\n        # local 2\\n        a = 2 \\n        return a\\n    \\n    #getter or setter function to change attributes\\n\\n# global variable\\nlocals a \\na = 0',\n",
       "  'class A_class:\\n    #local 1\\n    global a\\n    a = 1\\n\\n    def A_func(self):\\n        # local 2\\n        a = 2 \\n        return a\\n    \\n    #getter or setter function to change attributes\\n\\n# global variable\\nlocals a \\na = 0',\n",
       "  'class A_class:\\n    #local 1\\n    a = 1\\n\\n    def A_func(self):\\n        # local 2\\n        a = 2 \\n        return a\\n    \\n    #getter or setter function to change attributes\\n\\n# global variable\\na = 0',\n",
       "  '__builtin__.credits',\n",
       "  'dir()',\n",
       "  'locals()'],\n",
       " '_oh': {2: (4427401632, 4427401632),\n",
       "  3: 4427402208,\n",
       "  4: (4427402208, 4427401632),\n",
       "  5: 4427401632,\n",
       "  6: 4427402208,\n",
       "  9: False,\n",
       "  14: [7, 3, 99],\n",
       "  15: [7, 3, 99],\n",
       "  16: (140227569243136, 140227569243136),\n",
       "  17: [7, 3, 99],\n",
       "  18: [7, 3, 99],\n",
       "  19: ([7, 3, 99], [7, 3, 99]),\n",
       "  20:   Species  Culmen Length (mm)  Culmen Depth (mm)  Flipper Length (mm)  \\\n",
       "  0  Adelie                39.1               18.7                181.0   \n",
       "  1  Adelie                39.5               17.4                186.0   \n",
       "  2  Adelie                40.3               18.0                195.0   \n",
       "  3  Adelie                36.7               19.3                193.0   \n",
       "  4  Adelie                39.3               20.6                190.0   \n",
       "  \n",
       "     Body Mass (g)   Sex  \n",
       "  0         3750.0  MALE  \n",
       "  1         3800.0  MALE  \n",
       "  2         3250.0  MALE  \n",
       "  3         3450.0  MALE  \n",
       "  4         3650.0  MALE  ,\n",
       "  21: Species    Sex   \n",
       "  Adelie     FEMALE    73\n",
       "             MALE      73\n",
       "  Chinstrap  FEMALE    34\n",
       "             MALE      34\n",
       "  Gentoo     MALE      61\n",
       "             FEMALE    58\n",
       "  Name: Sex, dtype: int64,\n",
       "  22: Species    Sex   \n",
       "  Adelie     MALE      146\n",
       "  Chinstrap  FEMALE     34\n",
       "             MALE       34\n",
       "  Gentoo     MALE       61\n",
       "             FEMALE     58\n",
       "  Name: Sex, dtype: int64,\n",
       "  24: [str, object],\n",
       "  25: [str, object],\n",
       "  26: ([str, object], [int, object]),\n",
       "  28: 0,\n",
       "  29: 1,\n",
       "  31: 0,\n",
       "  32: 0,\n",
       "  33: 1,\n",
       "  35: 0,\n",
       "  37: 0,\n",
       "  38: 1,\n",
       "  39: 2,\n",
       "  41: '\\n',\n",
       "  43: '\\t',\n",
       "  45: '\\n',\n",
       "  46: str,\n",
       "  47: str,\n",
       "  48: '\\n',\n",
       "  51: 0,\n",
       "  52: 2,\n",
       "  54: 0,\n",
       "  55: 2,\n",
       "  56: 0,\n",
       "  61:     Thanks to CWI, CNRI, BeOpen.com, Zope Corporation and a cast of thousands\n",
       "      for supporting Python development.  See www.python.org for more information.,\n",
       "  62: ['A',\n",
       "   'A_class',\n",
       "   'In',\n",
       "   'Out',\n",
       "   '_',\n",
       "   '_14',\n",
       "   '_15',\n",
       "   '_16',\n",
       "   '_17',\n",
       "   '_18',\n",
       "   '_19',\n",
       "   '_2',\n",
       "   '_20',\n",
       "   '_21',\n",
       "   '_22',\n",
       "   '_24',\n",
       "   '_25',\n",
       "   '_26',\n",
       "   '_28',\n",
       "   '_29',\n",
       "   '_3',\n",
       "   '_31',\n",
       "   '_32',\n",
       "   '_33',\n",
       "   '_35',\n",
       "   '_37',\n",
       "   '_38',\n",
       "   '_39',\n",
       "   '_4',\n",
       "   '_41',\n",
       "   '_43',\n",
       "   '_45',\n",
       "   '_46',\n",
       "   '_47',\n",
       "   '_48',\n",
       "   '_5',\n",
       "   '_51',\n",
       "   '_52',\n",
       "   '_54',\n",
       "   '_55',\n",
       "   '_56',\n",
       "   '_6',\n",
       "   '_61',\n",
       "   '_9',\n",
       "   '__',\n",
       "   '___',\n",
       "   '__builtin__',\n",
       "   '__builtins__',\n",
       "   '__doc__',\n",
       "   '__loader__',\n",
       "   '__name__',\n",
       "   '__package__',\n",
       "   '__spec__',\n",
       "   '_dh',\n",
       "   '_i',\n",
       "   '_i1',\n",
       "   '_i10',\n",
       "   '_i11',\n",
       "   '_i12',\n",
       "   '_i13',\n",
       "   '_i14',\n",
       "   '_i15',\n",
       "   '_i16',\n",
       "   '_i17',\n",
       "   '_i18',\n",
       "   '_i19',\n",
       "   '_i2',\n",
       "   '_i20',\n",
       "   '_i21',\n",
       "   '_i22',\n",
       "   '_i23',\n",
       "   '_i24',\n",
       "   '_i25',\n",
       "   '_i26',\n",
       "   '_i27',\n",
       "   '_i28',\n",
       "   '_i29',\n",
       "   '_i3',\n",
       "   '_i30',\n",
       "   '_i31',\n",
       "   '_i32',\n",
       "   '_i33',\n",
       "   '_i34',\n",
       "   '_i35',\n",
       "   '_i36',\n",
       "   '_i37',\n",
       "   '_i38',\n",
       "   '_i39',\n",
       "   '_i4',\n",
       "   '_i40',\n",
       "   '_i41',\n",
       "   '_i42',\n",
       "   '_i43',\n",
       "   '_i44',\n",
       "   '_i45',\n",
       "   '_i46',\n",
       "   '_i47',\n",
       "   '_i48',\n",
       "   '_i49',\n",
       "   '_i5',\n",
       "   '_i50',\n",
       "   '_i51',\n",
       "   '_i52',\n",
       "   '_i53',\n",
       "   '_i54',\n",
       "   '_i55',\n",
       "   '_i56',\n",
       "   '_i57',\n",
       "   '_i58',\n",
       "   '_i59',\n",
       "   '_i6',\n",
       "   '_i60',\n",
       "   '_i61',\n",
       "   '_i62',\n",
       "   '_i7',\n",
       "   '_i8',\n",
       "   '_i9',\n",
       "   '_ih',\n",
       "   '_ii',\n",
       "   '_iii',\n",
       "   '_oh',\n",
       "   'a',\n",
       "   'df',\n",
       "   'e',\n",
       "   'exit',\n",
       "   'f',\n",
       "   'g',\n",
       "   'get_ipython',\n",
       "   'h',\n",
       "   'linesep',\n",
       "   'os',\n",
       "   'pd',\n",
       "   'quit']},\n",
       " '_dh': ['/Users/tom_g/Code/Spiced/tensor-tarragon-encounter-notes/week_07'],\n",
       " 'In': ['',\n",
       "  'a = 3',\n",
       "  'id(a), id(3)',\n",
       "  'id(21)',\n",
       "  'id(21), id(3)',\n",
       "  'a = 3\\n\\nid(a)',\n",
       "  'a = 21\\nid(a)',\n",
       "  '21 = 3',\n",
       "  \"'string' = 'this'\",\n",
       "  \"'string' == 'this'\",\n",
       "  \"'string' = 'this'\",\n",
       "  '21_ = 3',\n",
       "  '_21 = 3',\n",
       "  '_21 = 3',\n",
       "  'e, f = 3 , 5\\ng = [7, e, f]\\ng',\n",
       "  'h = g\\nh',\n",
       "  'id(h), id(g)',\n",
       "  'g',\n",
       "  'g[2] = 99\\ng',\n",
       "  'g, h',\n",
       "  \"import pandas as pd\\n\\ndf = pd.read_csv('/Users/tom_g/Code/Data/penguins/penguins_simple.csv', sep=';')\\n\\ndf.head()\",\n",
       "  \"# Task - override the Sex of all Adelie penguins to be Male\\n# Which one is pass by reference and which one is pass by value?\\n# First one is value and second one is reference - why?\\n\\ndf[df.Species == 'Adelie']['Sex'] = 'MALE'\\ndf.groupby('Species')['Sex'].value_counts()\\n\\n#df.loc[df.Species == 'Adelie', 'Sex'] = 'MALE'\\n#df.groupby('Species')['Sex'].value_counts()\",\n",
       "  \"# Task - override the Sex of all Adelie penguins to be Male\\n# Which one is pass by reference and which one is pass by value?\\n# First one is value and second one is reference - why?\\n# pass by value occurs in pandas when you method chain - func().func2().\\n\\n#df[df.Species == 'Adelie']['Sex'] = 'MALE'\\n#df.groupby('Species')['Sex'].value_counts()\\n\\ndf.loc[df.Species == 'Adelie', 'Sex'] = 'MALE'\\ndf.groupby('Species')['Sex'].value_counts()\",\n",
       "  '2.mro()',\n",
       "  'str.mro()',\n",
       "  'str.mro()',\n",
       "  'str.mro(), int.mro()',\n",
       "  '# global variable\\na = 0\\n\\nclass A_class:\\n    #local 1\\n    a = 1\\n\\n    def A_func(self):\\n        # local 2\\n        a = 2 \\n        return a',\n",
       "  'a',\n",
       "  'A = A_class()\\nA.a',\n",
       "  'class A_class:\\n    #local 1\\n    a = 1\\n\\n    def A_func(self):\\n        # local 2\\n        a = 2 \\n        return a\\n\\n# global variable\\na = 0',\n",
       "  'a',\n",
       "  'a',\n",
       "  'A = A_class()\\nA.a',\n",
       "  'a = 1\\na = 0',\n",
       "  'a',\n",
       "  'class A_class:\\n    #local 1\\n    a = 1\\n\\n    def A_func(self):\\n        # local 2\\n        a = 2 \\n        return a\\n\\n# global variable\\na = 0',\n",
       "  'a',\n",
       "  'A = A_class()\\nA.a',\n",
       "  'A = A_class()\\nA.A_func()',\n",
       "  'from os import linesep',\n",
       "  'linesep',\n",
       "  \"linesep = '\\\\t'\",\n",
       "  'linesep',\n",
       "  'from os import linesep',\n",
       "  'linesep ',\n",
       "  'type(linesep) ',\n",
       "  'type(linesep) # we know strings are immutable',\n",
       "  'linesep',\n",
       "  'import os',\n",
       "  'class A_class:\\n    #local 1\\n    a = 1\\n\\n    def A_func(self):\\n        # local 2\\n        a = 2 \\n        return a\\n\\n# global variable\\na = 0',\n",
       "  'a',\n",
       "  'A = A_class()\\nA.a = 2\\nA.a',\n",
       "  'class A_class:\\n    #local 1\\n    global a\\n    a = 1\\n\\n    def A_func(self):\\n        # local 2\\n        a = 2 \\n        return a\\n    \\n    #getter or setter function to change attributes\\n\\n# global variable\\na = 0',\n",
       "  'a',\n",
       "  'A = A_class()\\nA.a = 2\\nA.a',\n",
       "  'a',\n",
       "  'class A_class:\\n    #local 1\\n    global a\\n    a = 1\\n\\n    def A_func(self):\\n        # local 2\\n        a = 2 \\n        return a\\n    \\n    #getter or setter function to change attributes\\n\\n# global variable\\na = 0',\n",
       "  'class A_class:\\n    #local 1\\n    globals a\\n    a = 1\\n\\n    def A_func(self):\\n        # local 2\\n        a = 2 \\n        return a\\n    \\n    #getter or setter function to change attributes\\n\\n# global variable\\nlocals a \\na = 0',\n",
       "  'class A_class:\\n    #local 1\\n    global a\\n    a = 1\\n\\n    def A_func(self):\\n        # local 2\\n        a = 2 \\n        return a\\n    \\n    #getter or setter function to change attributes\\n\\n# global variable\\nlocals a \\na = 0',\n",
       "  'class A_class:\\n    #local 1\\n    a = 1\\n\\n    def A_func(self):\\n        # local 2\\n        a = 2 \\n        return a\\n    \\n    #getter or setter function to change attributes\\n\\n# global variable\\na = 0',\n",
       "  '__builtin__.credits',\n",
       "  'dir()',\n",
       "  'locals()'],\n",
       " 'Out': {2: (4427401632, 4427401632),\n",
       "  3: 4427402208,\n",
       "  4: (4427402208, 4427401632),\n",
       "  5: 4427401632,\n",
       "  6: 4427402208,\n",
       "  9: False,\n",
       "  14: [7, 3, 99],\n",
       "  15: [7, 3, 99],\n",
       "  16: (140227569243136, 140227569243136),\n",
       "  17: [7, 3, 99],\n",
       "  18: [7, 3, 99],\n",
       "  19: ([7, 3, 99], [7, 3, 99]),\n",
       "  20:   Species  Culmen Length (mm)  Culmen Depth (mm)  Flipper Length (mm)  \\\n",
       "  0  Adelie                39.1               18.7                181.0   \n",
       "  1  Adelie                39.5               17.4                186.0   \n",
       "  2  Adelie                40.3               18.0                195.0   \n",
       "  3  Adelie                36.7               19.3                193.0   \n",
       "  4  Adelie                39.3               20.6                190.0   \n",
       "  \n",
       "     Body Mass (g)   Sex  \n",
       "  0         3750.0  MALE  \n",
       "  1         3800.0  MALE  \n",
       "  2         3250.0  MALE  \n",
       "  3         3450.0  MALE  \n",
       "  4         3650.0  MALE  ,\n",
       "  21: Species    Sex   \n",
       "  Adelie     FEMALE    73\n",
       "             MALE      73\n",
       "  Chinstrap  FEMALE    34\n",
       "             MALE      34\n",
       "  Gentoo     MALE      61\n",
       "             FEMALE    58\n",
       "  Name: Sex, dtype: int64,\n",
       "  22: Species    Sex   \n",
       "  Adelie     MALE      146\n",
       "  Chinstrap  FEMALE     34\n",
       "             MALE       34\n",
       "  Gentoo     MALE       61\n",
       "             FEMALE     58\n",
       "  Name: Sex, dtype: int64,\n",
       "  24: [str, object],\n",
       "  25: [str, object],\n",
       "  26: ([str, object], [int, object]),\n",
       "  28: 0,\n",
       "  29: 1,\n",
       "  31: 0,\n",
       "  32: 0,\n",
       "  33: 1,\n",
       "  35: 0,\n",
       "  37: 0,\n",
       "  38: 1,\n",
       "  39: 2,\n",
       "  41: '\\n',\n",
       "  43: '\\t',\n",
       "  45: '\\n',\n",
       "  46: str,\n",
       "  47: str,\n",
       "  48: '\\n',\n",
       "  51: 0,\n",
       "  52: 2,\n",
       "  54: 0,\n",
       "  55: 2,\n",
       "  56: 0,\n",
       "  61:     Thanks to CWI, CNRI, BeOpen.com, Zope Corporation and a cast of thousands\n",
       "      for supporting Python development.  See www.python.org for more information.,\n",
       "  62: ['A',\n",
       "   'A_class',\n",
       "   'In',\n",
       "   'Out',\n",
       "   '_',\n",
       "   '_14',\n",
       "   '_15',\n",
       "   '_16',\n",
       "   '_17',\n",
       "   '_18',\n",
       "   '_19',\n",
       "   '_2',\n",
       "   '_20',\n",
       "   '_21',\n",
       "   '_22',\n",
       "   '_24',\n",
       "   '_25',\n",
       "   '_26',\n",
       "   '_28',\n",
       "   '_29',\n",
       "   '_3',\n",
       "   '_31',\n",
       "   '_32',\n",
       "   '_33',\n",
       "   '_35',\n",
       "   '_37',\n",
       "   '_38',\n",
       "   '_39',\n",
       "   '_4',\n",
       "   '_41',\n",
       "   '_43',\n",
       "   '_45',\n",
       "   '_46',\n",
       "   '_47',\n",
       "   '_48',\n",
       "   '_5',\n",
       "   '_51',\n",
       "   '_52',\n",
       "   '_54',\n",
       "   '_55',\n",
       "   '_56',\n",
       "   '_6',\n",
       "   '_61',\n",
       "   '_9',\n",
       "   '__',\n",
       "   '___',\n",
       "   '__builtin__',\n",
       "   '__builtins__',\n",
       "   '__doc__',\n",
       "   '__loader__',\n",
       "   '__name__',\n",
       "   '__package__',\n",
       "   '__spec__',\n",
       "   '_dh',\n",
       "   '_i',\n",
       "   '_i1',\n",
       "   '_i10',\n",
       "   '_i11',\n",
       "   '_i12',\n",
       "   '_i13',\n",
       "   '_i14',\n",
       "   '_i15',\n",
       "   '_i16',\n",
       "   '_i17',\n",
       "   '_i18',\n",
       "   '_i19',\n",
       "   '_i2',\n",
       "   '_i20',\n",
       "   '_i21',\n",
       "   '_i22',\n",
       "   '_i23',\n",
       "   '_i24',\n",
       "   '_i25',\n",
       "   '_i26',\n",
       "   '_i27',\n",
       "   '_i28',\n",
       "   '_i29',\n",
       "   '_i3',\n",
       "   '_i30',\n",
       "   '_i31',\n",
       "   '_i32',\n",
       "   '_i33',\n",
       "   '_i34',\n",
       "   '_i35',\n",
       "   '_i36',\n",
       "   '_i37',\n",
       "   '_i38',\n",
       "   '_i39',\n",
       "   '_i4',\n",
       "   '_i40',\n",
       "   '_i41',\n",
       "   '_i42',\n",
       "   '_i43',\n",
       "   '_i44',\n",
       "   '_i45',\n",
       "   '_i46',\n",
       "   '_i47',\n",
       "   '_i48',\n",
       "   '_i49',\n",
       "   '_i5',\n",
       "   '_i50',\n",
       "   '_i51',\n",
       "   '_i52',\n",
       "   '_i53',\n",
       "   '_i54',\n",
       "   '_i55',\n",
       "   '_i56',\n",
       "   '_i57',\n",
       "   '_i58',\n",
       "   '_i59',\n",
       "   '_i6',\n",
       "   '_i60',\n",
       "   '_i61',\n",
       "   '_i62',\n",
       "   '_i7',\n",
       "   '_i8',\n",
       "   '_i9',\n",
       "   '_ih',\n",
       "   '_ii',\n",
       "   '_iii',\n",
       "   '_oh',\n",
       "   'a',\n",
       "   'df',\n",
       "   'e',\n",
       "   'exit',\n",
       "   'f',\n",
       "   'g',\n",
       "   'get_ipython',\n",
       "   'h',\n",
       "   'linesep',\n",
       "   'os',\n",
       "   'pd',\n",
       "   'quit']},\n",
       " 'get_ipython': <bound method InteractiveShell.get_ipython of <ipykernel.zmqshell.ZMQInteractiveShell object at 0x7f8946639f10>>,\n",
       " 'exit': <IPython.core.autocall.ZMQExitAutocall at 0x7f89466822b0>,\n",
       " 'quit': <IPython.core.autocall.ZMQExitAutocall at 0x7f89466822b0>,\n",
       " '_': ['A',\n",
       "  'A_class',\n",
       "  'In',\n",
       "  'Out',\n",
       "  '_',\n",
       "  '_14',\n",
       "  '_15',\n",
       "  '_16',\n",
       "  '_17',\n",
       "  '_18',\n",
       "  '_19',\n",
       "  '_2',\n",
       "  '_20',\n",
       "  '_21',\n",
       "  '_22',\n",
       "  '_24',\n",
       "  '_25',\n",
       "  '_26',\n",
       "  '_28',\n",
       "  '_29',\n",
       "  '_3',\n",
       "  '_31',\n",
       "  '_32',\n",
       "  '_33',\n",
       "  '_35',\n",
       "  '_37',\n",
       "  '_38',\n",
       "  '_39',\n",
       "  '_4',\n",
       "  '_41',\n",
       "  '_43',\n",
       "  '_45',\n",
       "  '_46',\n",
       "  '_47',\n",
       "  '_48',\n",
       "  '_5',\n",
       "  '_51',\n",
       "  '_52',\n",
       "  '_54',\n",
       "  '_55',\n",
       "  '_56',\n",
       "  '_6',\n",
       "  '_61',\n",
       "  '_9',\n",
       "  '__',\n",
       "  '___',\n",
       "  '__builtin__',\n",
       "  '__builtins__',\n",
       "  '__doc__',\n",
       "  '__loader__',\n",
       "  '__name__',\n",
       "  '__package__',\n",
       "  '__spec__',\n",
       "  '_dh',\n",
       "  '_i',\n",
       "  '_i1',\n",
       "  '_i10',\n",
       "  '_i11',\n",
       "  '_i12',\n",
       "  '_i13',\n",
       "  '_i14',\n",
       "  '_i15',\n",
       "  '_i16',\n",
       "  '_i17',\n",
       "  '_i18',\n",
       "  '_i19',\n",
       "  '_i2',\n",
       "  '_i20',\n",
       "  '_i21',\n",
       "  '_i22',\n",
       "  '_i23',\n",
       "  '_i24',\n",
       "  '_i25',\n",
       "  '_i26',\n",
       "  '_i27',\n",
       "  '_i28',\n",
       "  '_i29',\n",
       "  '_i3',\n",
       "  '_i30',\n",
       "  '_i31',\n",
       "  '_i32',\n",
       "  '_i33',\n",
       "  '_i34',\n",
       "  '_i35',\n",
       "  '_i36',\n",
       "  '_i37',\n",
       "  '_i38',\n",
       "  '_i39',\n",
       "  '_i4',\n",
       "  '_i40',\n",
       "  '_i41',\n",
       "  '_i42',\n",
       "  '_i43',\n",
       "  '_i44',\n",
       "  '_i45',\n",
       "  '_i46',\n",
       "  '_i47',\n",
       "  '_i48',\n",
       "  '_i49',\n",
       "  '_i5',\n",
       "  '_i50',\n",
       "  '_i51',\n",
       "  '_i52',\n",
       "  '_i53',\n",
       "  '_i54',\n",
       "  '_i55',\n",
       "  '_i56',\n",
       "  '_i57',\n",
       "  '_i58',\n",
       "  '_i59',\n",
       "  '_i6',\n",
       "  '_i60',\n",
       "  '_i61',\n",
       "  '_i62',\n",
       "  '_i7',\n",
       "  '_i8',\n",
       "  '_i9',\n",
       "  '_ih',\n",
       "  '_ii',\n",
       "  '_iii',\n",
       "  '_oh',\n",
       "  'a',\n",
       "  'df',\n",
       "  'e',\n",
       "  'exit',\n",
       "  'f',\n",
       "  'g',\n",
       "  'get_ipython',\n",
       "  'h',\n",
       "  'linesep',\n",
       "  'os',\n",
       "  'pd',\n",
       "  'quit'],\n",
       " '__':     Thanks to CWI, CNRI, BeOpen.com, Zope Corporation and a cast of thousands\n",
       "     for supporting Python development.  See www.python.org for more information.,\n",
       " '___': 0,\n",
       " '_i': 'dir()',\n",
       " '_ii': '__builtin__.credits',\n",
       " '_iii': 'class A_class:\\n    #local 1\\n    a = 1\\n\\n    def A_func(self):\\n        # local 2\\n        a = 2 \\n        return a\\n    \\n    #getter or setter function to change attributes\\n\\n# global variable\\na = 0',\n",
       " '_i1': 'a = 3',\n",
       " 'a': 0,\n",
       " '_i2': 'id(a), id(3)',\n",
       " '_2': (4427401632, 4427401632),\n",
       " '_i3': 'id(21)',\n",
       " '_3': 4427402208,\n",
       " '_i4': 'id(21), id(3)',\n",
       " '_4': (4427402208, 4427401632),\n",
       " '_i5': 'a = 3\\n\\nid(a)',\n",
       " '_5': 4427401632,\n",
       " '_i6': 'a = 21\\nid(a)',\n",
       " '_6': 4427402208,\n",
       " '_i7': '21 = 3',\n",
       " '_i8': \"'string' = 'this'\",\n",
       " '_i9': \"'string' == 'this'\",\n",
       " '_9': False,\n",
       " '_i10': \"'string' = 'this'\",\n",
       " '_i11': '21_ = 3',\n",
       " '_i12': '_21 = 3',\n",
       " '_21': Species    Sex   \n",
       " Adelie     FEMALE    73\n",
       "            MALE      73\n",
       " Chinstrap  FEMALE    34\n",
       "            MALE      34\n",
       " Gentoo     MALE      61\n",
       "            FEMALE    58\n",
       " Name: Sex, dtype: int64,\n",
       " '_i13': '_21 = 3',\n",
       " '_i14': 'e, f = 3 , 5\\ng = [7, e, f]\\ng',\n",
       " 'e': 3,\n",
       " 'f': 5,\n",
       " 'g': [7, 3, 99],\n",
       " '_14': [7, 3, 99],\n",
       " '_i15': 'h = g\\nh',\n",
       " 'h': [7, 3, 99],\n",
       " '_15': [7, 3, 99],\n",
       " '_i16': 'id(h), id(g)',\n",
       " '_16': (140227569243136, 140227569243136),\n",
       " '_i17': 'g',\n",
       " '_17': [7, 3, 99],\n",
       " '_i18': 'g[2] = 99\\ng',\n",
       " '_18': [7, 3, 99],\n",
       " '_i19': 'g, h',\n",
       " '_19': ([7, 3, 99], [7, 3, 99]),\n",
       " '_i20': \"import pandas as pd\\n\\ndf = pd.read_csv('/Users/tom_g/Code/Data/penguins/penguins_simple.csv', sep=';')\\n\\ndf.head()\",\n",
       " 'pd': <module 'pandas' from '/Users/tom_g/opt/anaconda3/lib/python3.8/site-packages/pandas/__init__.py'>,\n",
       " 'df':     Species  Culmen Length (mm)  Culmen Depth (mm)  Flipper Length (mm)  \\\n",
       " 0    Adelie                39.1               18.7                181.0   \n",
       " 1    Adelie                39.5               17.4                186.0   \n",
       " 2    Adelie                40.3               18.0                195.0   \n",
       " 3    Adelie                36.7               19.3                193.0   \n",
       " 4    Adelie                39.3               20.6                190.0   \n",
       " ..      ...                 ...                ...                  ...   \n",
       " 328  Gentoo                47.2               13.7                214.0   \n",
       " 329  Gentoo                46.8               14.3                215.0   \n",
       " 330  Gentoo                50.4               15.7                222.0   \n",
       " 331  Gentoo                45.2               14.8                212.0   \n",
       " 332  Gentoo                49.9               16.1                213.0   \n",
       " \n",
       "      Body Mass (g)     Sex  \n",
       " 0           3750.0    MALE  \n",
       " 1           3800.0    MALE  \n",
       " 2           3250.0    MALE  \n",
       " 3           3450.0    MALE  \n",
       " 4           3650.0    MALE  \n",
       " ..             ...     ...  \n",
       " 328         4925.0  FEMALE  \n",
       " 329         4850.0  FEMALE  \n",
       " 330         5750.0    MALE  \n",
       " 331         5200.0  FEMALE  \n",
       " 332         5400.0    MALE  \n",
       " \n",
       " [333 rows x 6 columns],\n",
       " '_20':   Species  Culmen Length (mm)  Culmen Depth (mm)  Flipper Length (mm)  \\\n",
       " 0  Adelie                39.1               18.7                181.0   \n",
       " 1  Adelie                39.5               17.4                186.0   \n",
       " 2  Adelie                40.3               18.0                195.0   \n",
       " 3  Adelie                36.7               19.3                193.0   \n",
       " 4  Adelie                39.3               20.6                190.0   \n",
       " \n",
       "    Body Mass (g)   Sex  \n",
       " 0         3750.0  MALE  \n",
       " 1         3800.0  MALE  \n",
       " 2         3250.0  MALE  \n",
       " 3         3450.0  MALE  \n",
       " 4         3650.0  MALE  ,\n",
       " '_i21': \"# Task - override the Sex of all Adelie penguins to be Male\\n# Which one is pass by reference and which one is pass by value?\\n# First one is value and second one is reference - why?\\n\\ndf[df.Species == 'Adelie']['Sex'] = 'MALE'\\ndf.groupby('Species')['Sex'].value_counts()\\n\\n#df.loc[df.Species == 'Adelie', 'Sex'] = 'MALE'\\n#df.groupby('Species')['Sex'].value_counts()\",\n",
       " '_i22': \"# Task - override the Sex of all Adelie penguins to be Male\\n# Which one is pass by reference and which one is pass by value?\\n# First one is value and second one is reference - why?\\n# pass by value occurs in pandas when you method chain - func().func2().\\n\\n#df[df.Species == 'Adelie']['Sex'] = 'MALE'\\n#df.groupby('Species')['Sex'].value_counts()\\n\\ndf.loc[df.Species == 'Adelie', 'Sex'] = 'MALE'\\ndf.groupby('Species')['Sex'].value_counts()\",\n",
       " '_22': Species    Sex   \n",
       " Adelie     MALE      146\n",
       " Chinstrap  FEMALE     34\n",
       "            MALE       34\n",
       " Gentoo     MALE       61\n",
       "            FEMALE     58\n",
       " Name: Sex, dtype: int64,\n",
       " '_i23': '2.mro()',\n",
       " '_i24': 'str.mro()',\n",
       " '_24': [str, object],\n",
       " '_i25': 'str.mro()',\n",
       " '_25': [str, object],\n",
       " '_i26': 'str.mro(), int.mro()',\n",
       " '_26': ([str, object], [int, object]),\n",
       " '_i27': '# global variable\\na = 0\\n\\nclass A_class:\\n    #local 1\\n    a = 1\\n\\n    def A_func(self):\\n        # local 2\\n        a = 2 \\n        return a',\n",
       " 'A_class': __main__.A_class,\n",
       " '_i28': 'a',\n",
       " '_28': 0,\n",
       " '_i29': 'A = A_class()\\nA.a',\n",
       " 'A': <__main__.A_class at 0x7f8948b4c730>,\n",
       " '_29': 1,\n",
       " '_i30': 'class A_class:\\n    #local 1\\n    a = 1\\n\\n    def A_func(self):\\n        # local 2\\n        a = 2 \\n        return a\\n\\n# global variable\\na = 0',\n",
       " '_i31': 'a',\n",
       " '_31': 0,\n",
       " '_i32': 'a',\n",
       " '_32': 0,\n",
       " '_i33': 'A = A_class()\\nA.a',\n",
       " '_33': 1,\n",
       " '_i34': 'a = 1\\na = 0',\n",
       " '_i35': 'a',\n",
       " '_35': 0,\n",
       " '_i36': 'class A_class:\\n    #local 1\\n    a = 1\\n\\n    def A_func(self):\\n        # local 2\\n        a = 2 \\n        return a\\n\\n# global variable\\na = 0',\n",
       " '_i37': 'a',\n",
       " '_37': 0,\n",
       " '_i38': 'A = A_class()\\nA.a',\n",
       " '_38': 1,\n",
       " '_i39': 'A = A_class()\\nA.A_func()',\n",
       " '_39': 2,\n",
       " '_i40': 'from os import linesep',\n",
       " 'linesep': '\\n',\n",
       " '_i41': 'linesep',\n",
       " '_41': '\\n',\n",
       " '_i42': \"linesep = '\\\\t'\",\n",
       " '_i43': 'linesep',\n",
       " '_43': '\\t',\n",
       " '_i44': 'from os import linesep',\n",
       " '_i45': 'linesep ',\n",
       " '_45': '\\n',\n",
       " '_i46': 'type(linesep) ',\n",
       " '_46': str,\n",
       " '_i47': 'type(linesep) # we know strings are immutable',\n",
       " '_47': str,\n",
       " '_i48': 'linesep',\n",
       " '_48': '\\n',\n",
       " '_i49': 'import os',\n",
       " 'os': <module 'os' from '/Users/tom_g/opt/anaconda3/lib/python3.8/os.py'>,\n",
       " '_i50': 'class A_class:\\n    #local 1\\n    a = 1\\n\\n    def A_func(self):\\n        # local 2\\n        a = 2 \\n        return a\\n\\n# global variable\\na = 0',\n",
       " '_i51': 'a',\n",
       " '_51': 0,\n",
       " '_i52': 'A = A_class()\\nA.a = 2\\nA.a',\n",
       " '_52': 2,\n",
       " '_i53': 'class A_class:\\n    #local 1\\n    global a\\n    a = 1\\n\\n    def A_func(self):\\n        # local 2\\n        a = 2 \\n        return a\\n    \\n    #getter or setter function to change attributes\\n\\n# global variable\\na = 0',\n",
       " '_i54': 'a',\n",
       " '_54': 0,\n",
       " '_i55': 'A = A_class()\\nA.a = 2\\nA.a',\n",
       " '_55': 2,\n",
       " '_i56': 'a',\n",
       " '_56': 0,\n",
       " '_i57': 'class A_class:\\n    #local 1\\n    global a\\n    a = 1\\n\\n    def A_func(self):\\n        # local 2\\n        a = 2 \\n        return a\\n    \\n    #getter or setter function to change attributes\\n\\n# global variable\\na = 0',\n",
       " '_i58': 'class A_class:\\n    #local 1\\n    globals a\\n    a = 1\\n\\n    def A_func(self):\\n        # local 2\\n        a = 2 \\n        return a\\n    \\n    #getter or setter function to change attributes\\n\\n# global variable\\nlocals a \\na = 0',\n",
       " '_i59': 'class A_class:\\n    #local 1\\n    global a\\n    a = 1\\n\\n    def A_func(self):\\n        # local 2\\n        a = 2 \\n        return a\\n    \\n    #getter or setter function to change attributes\\n\\n# global variable\\nlocals a \\na = 0',\n",
       " '_i60': 'class A_class:\\n    #local 1\\n    a = 1\\n\\n    def A_func(self):\\n        # local 2\\n        a = 2 \\n        return a\\n    \\n    #getter or setter function to change attributes\\n\\n# global variable\\na = 0',\n",
       " '_i61': '__builtin__.credits',\n",
       " '_61':     Thanks to CWI, CNRI, BeOpen.com, Zope Corporation and a cast of thousands\n",
       "     for supporting Python development.  See www.python.org for more information.,\n",
       " '_i62': 'dir()',\n",
       " '_62': ['A',\n",
       "  'A_class',\n",
       "  'In',\n",
       "  'Out',\n",
       "  '_',\n",
       "  '_14',\n",
       "  '_15',\n",
       "  '_16',\n",
       "  '_17',\n",
       "  '_18',\n",
       "  '_19',\n",
       "  '_2',\n",
       "  '_20',\n",
       "  '_21',\n",
       "  '_22',\n",
       "  '_24',\n",
       "  '_25',\n",
       "  '_26',\n",
       "  '_28',\n",
       "  '_29',\n",
       "  '_3',\n",
       "  '_31',\n",
       "  '_32',\n",
       "  '_33',\n",
       "  '_35',\n",
       "  '_37',\n",
       "  '_38',\n",
       "  '_39',\n",
       "  '_4',\n",
       "  '_41',\n",
       "  '_43',\n",
       "  '_45',\n",
       "  '_46',\n",
       "  '_47',\n",
       "  '_48',\n",
       "  '_5',\n",
       "  '_51',\n",
       "  '_52',\n",
       "  '_54',\n",
       "  '_55',\n",
       "  '_56',\n",
       "  '_6',\n",
       "  '_61',\n",
       "  '_9',\n",
       "  '__',\n",
       "  '___',\n",
       "  '__builtin__',\n",
       "  '__builtins__',\n",
       "  '__doc__',\n",
       "  '__loader__',\n",
       "  '__name__',\n",
       "  '__package__',\n",
       "  '__spec__',\n",
       "  '_dh',\n",
       "  '_i',\n",
       "  '_i1',\n",
       "  '_i10',\n",
       "  '_i11',\n",
       "  '_i12',\n",
       "  '_i13',\n",
       "  '_i14',\n",
       "  '_i15',\n",
       "  '_i16',\n",
       "  '_i17',\n",
       "  '_i18',\n",
       "  '_i19',\n",
       "  '_i2',\n",
       "  '_i20',\n",
       "  '_i21',\n",
       "  '_i22',\n",
       "  '_i23',\n",
       "  '_i24',\n",
       "  '_i25',\n",
       "  '_i26',\n",
       "  '_i27',\n",
       "  '_i28',\n",
       "  '_i29',\n",
       "  '_i3',\n",
       "  '_i30',\n",
       "  '_i31',\n",
       "  '_i32',\n",
       "  '_i33',\n",
       "  '_i34',\n",
       "  '_i35',\n",
       "  '_i36',\n",
       "  '_i37',\n",
       "  '_i38',\n",
       "  '_i39',\n",
       "  '_i4',\n",
       "  '_i40',\n",
       "  '_i41',\n",
       "  '_i42',\n",
       "  '_i43',\n",
       "  '_i44',\n",
       "  '_i45',\n",
       "  '_i46',\n",
       "  '_i47',\n",
       "  '_i48',\n",
       "  '_i49',\n",
       "  '_i5',\n",
       "  '_i50',\n",
       "  '_i51',\n",
       "  '_i52',\n",
       "  '_i53',\n",
       "  '_i54',\n",
       "  '_i55',\n",
       "  '_i56',\n",
       "  '_i57',\n",
       "  '_i58',\n",
       "  '_i59',\n",
       "  '_i6',\n",
       "  '_i60',\n",
       "  '_i61',\n",
       "  '_i62',\n",
       "  '_i7',\n",
       "  '_i8',\n",
       "  '_i9',\n",
       "  '_ih',\n",
       "  '_ii',\n",
       "  '_iii',\n",
       "  '_oh',\n",
       "  'a',\n",
       "  'df',\n",
       "  'e',\n",
       "  'exit',\n",
       "  'f',\n",
       "  'g',\n",
       "  'get_ipython',\n",
       "  'h',\n",
       "  'linesep',\n",
       "  'os',\n",
       "  'pd',\n",
       "  'quit'],\n",
       " '_i63': 'locals()'}"
      ]
     },
     "execution_count": 63,
     "metadata": {},
     "output_type": "execute_result"
    }
   ],
   "source": [
    "locals() #dictionary"
   ]
  },
  {
   "cell_type": "code",
   "execution_count": 97,
   "metadata": {},
   "outputs": [
    {
     "name": "stdout",
     "output_type": "stream",
     "text": [
      "True\n",
      "False\n"
     ]
    }
   ],
   "source": [
    "# globals is the namespace for the module\n",
    "# locals is the namespace for the current scope\n",
    "\n",
    "x=6\n",
    "\n",
    "print(locals()['x'] == globals()['x'])\n",
    "\n",
    "def i_am_five():\n",
    "    x = 5\n",
    "    print(locals()['x'] == globals()['x'])\n",
    "    \n",
    "i_am_five()"
   ]
  },
  {
   "cell_type": "markdown",
   "metadata": {},
   "source": [
    "#### These are constructed whenever called, from the current scope\n",
    "#### They can be overriden!"
   ]
  },
  {
   "cell_type": "markdown",
   "metadata": {},
   "source": [
    "----"
   ]
  },
  {
   "cell_type": "markdown",
   "metadata": {},
   "source": [
    "## Variables in python are pass by assignment - but thats complex to understand\n",
    "* Easier to thinkg about reference (mutables) or value (immutables)\n",
    "* Method chaining is one obvious way to produce value behvaiour\n",
    "* Namespaces are scopes that can contain only one identically spelt variable\n",
    "* They are assessed in the order local - global - builtin\n",
    "* find out more using dir() / locals() / globals()"
   ]
  }
 ],
 "metadata": {
  "kernelspec": {
   "display_name": "Python 3",
   "language": "python",
   "name": "python3"
  },
  "language_info": {
   "codemirror_mode": {
    "name": "ipython",
    "version": 3
   },
   "file_extension": ".py",
   "mimetype": "text/x-python",
   "name": "python",
   "nbconvert_exporter": "python",
   "pygments_lexer": "ipython3",
   "version": "3.8.3"
  }
 },
 "nbformat": 4,
 "nbformat_minor": 4
}
