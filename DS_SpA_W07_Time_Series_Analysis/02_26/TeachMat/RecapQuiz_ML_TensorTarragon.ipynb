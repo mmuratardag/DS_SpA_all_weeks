{
 "cells": [
  {
   "cell_type": "markdown",
   "metadata": {},
   "source": [
    "# RECAP Questions Machine Learning"
   ]
  },
  {
   "cell_type": "markdown",
   "metadata": {},
   "source": [
    "#### 1. Name at least 3 regression models"
   ]
  },
  {
   "cell_type": "code",
   "execution_count": null,
   "metadata": {},
   "outputs": [],
   "source": []
  },
  {
   "cell_type": "markdown",
   "metadata": {},
   "source": [
    "#### 2. Name at least 3 classification models"
   ]
  },
  {
   "cell_type": "code",
   "execution_count": null,
   "metadata": {},
   "outputs": [],
   "source": []
  },
  {
   "cell_type": "markdown",
   "metadata": {},
   "source": [
    "#### 3. Name at least 5 feature engineering methods"
   ]
  },
  {
   "cell_type": "code",
   "execution_count": null,
   "metadata": {},
   "outputs": [],
   "source": []
  },
  {
   "cell_type": "markdown",
   "metadata": {},
   "source": [
    "#### 4. Match each model with one hyperparamter: \n",
    "**Models:** Decision Tree, Logistic Regression, Ridge, Random Forest, ARIMA\n",
    "\n",
    "**Hyperparameters:** L2-strength (alpha), maximum depth, number of trees, number of lags, c-value"
   ]
  },
  {
   "cell_type": "code",
   "execution_count": null,
   "metadata": {},
   "outputs": [],
   "source": []
  },
  {
   "cell_type": "markdown",
   "metadata": {},
   "source": [
    "#### 5. What does GridSearchCV (sklearn) do? "
   ]
  },
  {
   "cell_type": "markdown",
   "metadata": {},
   "source": [
    "- Hyperparameter Optimization\n",
    "- uses cross-validation\n",
    "- generates candidate models from the parameter grid"
   ]
  },
  {
   "cell_type": "markdown",
   "metadata": {},
   "source": [
    "#### 6. What can I do against Class Imbalance? "
   ]
  },
  {
   "cell_type": "markdown",
   "metadata": {},
   "source": [
    "- Undersampling\n",
    "- Oversampling\n",
    "- set class-weight-parameter"
   ]
  },
  {
   "cell_type": "markdown",
   "metadata": {},
   "source": [
    "#### 7. What is a Ridge regression model with alpha = 0 in theory equivalent to? "
   ]
  },
  {
   "cell_type": "markdown",
   "metadata": {},
   "source": [
    "- simple linear regression"
   ]
  },
  {
   "cell_type": "markdown",
   "metadata": {},
   "source": [
    "#### 8. What is this function?\n",
    "$P(A|B) = \\frac{P(B|A) * P(A)}  {P(B)}$\n"
   ]
  },
  {
   "cell_type": "markdown",
   "metadata": {},
   "source": [
    "- conditional probability, Bayes Theorem"
   ]
  },
  {
   "cell_type": "markdown",
   "metadata": {},
   "source": [
    "#### 9. What can I do against overfitting? "
   ]
  },
  {
   "cell_type": "markdown",
   "metadata": {},
   "source": [
    "- exclude features\n",
    "- feature engineering\n",
    "- remove one feature after one-hot encoding\n",
    "- regularization\n",
    "- get more data /data augmentation\n",
    "- change hyperparameters"
   ]
  },
  {
   "cell_type": "markdown",
   "metadata": {},
   "source": [
    "#### 10. What can I do if I have too many features?"
   ]
  },
  {
   "cell_type": "markdown",
   "metadata": {},
   "source": [
    "- regressive feature elimination\n",
    "- feature importance\n",
    "- correlation, e.g. heatmap\n",
    "- manually remove some\n",
    "- Lasso "
   ]
  },
  {
   "cell_type": "markdown",
   "metadata": {},
   "source": [
    "#### 11. Sketch a skeleton-ML workflow"
   ]
  },
  {
   "cell_type": "markdown",
   "metadata": {},
   "source": [
    "- define goals\n",
    "- get data\n",
    "- clean data, EDA\n",
    "- train-test-split\n",
    "- feature engineering\n",
    "- train model\n",
    "- evaluation\n",
    "- optimize the model\n",
    "- test it \n",
    "- deploy"
   ]
  },
  {
   "cell_type": "markdown",
   "metadata": {},
   "source": [
    "#### 12. What are best practices for writing ML code?"
   ]
  },
  {
   "cell_type": "markdown",
   "metadata": {},
   "source": [
    "- modular code, keep variables straight, clean code\n",
    "- documentation\n",
    "- version control (git)\n",
    "- train a baseline model first\n",
    "- keep track of hyperparameters/feature engineering"
   ]
  },
  {
   "cell_type": "code",
   "execution_count": null,
   "metadata": {},
   "outputs": [],
   "source": []
  }
 ],
 "metadata": {
  "kernelspec": {
   "display_name": "Python 3",
   "language": "python",
   "name": "python3"
  },
  "language_info": {
   "codemirror_mode": {
    "name": "ipython",
    "version": 3
   },
   "file_extension": ".py",
   "mimetype": "text/x-python",
   "name": "python",
   "nbconvert_exporter": "python",
   "pygments_lexer": "ipython3",
   "version": "3.6.12"
  }
 },
 "nbformat": 4,
 "nbformat_minor": 4
}
