{
 "cells": [
  {
   "cell_type": "markdown",
   "metadata": {},
   "source": [
    "![](https://krspiced.pythonanywhere.com/_images/oop_simple.png)\n",
    "\n",
    "<br>\n",
    "\n",
    "Object-Oriented-Programming (OOP) is a **programming paradigm** based on the concept of **objects**:\n",
    "> Programs are composed of \"objects\" which communicate with each other, which may be arranged into hierarchies, and which can be combined to form additional objects. These \"objects\" may represent real-world things or concepts, which have characteristics (i.e. **attributes** or **properties**) and which can also \"do\" things (i.e. **methods**).\n",
    "\n",
    "A feature of objects is that an object's own procedures (methods) can be used to access and modify its own characteristics (attributes). This allows our objects to change state over the course of a program!"
   ]
  },
  {
   "cell_type": "markdown",
   "metadata": {},
   "source": [
    "---"
   ]
  },
  {
   "cell_type": "markdown",
   "metadata": {},
   "source": [
    "# Terminology"
   ]
  },
  {
   "cell_type": "markdown",
   "metadata": {},
   "source": [
    "## Objects\n",
    "\n",
    "1. Objects represent (tangible) **real world objects** (or concepts).\n",
    "2. Objects can **contain data** (They are called _attributes_ in Python). The attributes are used to describe the state of an object.\n",
    "3. Objects can **contain functions** (They are called _methods_ in Python). The methods are used to alter the state of the object or let the object do something."
   ]
  },
  {
   "cell_type": "code",
   "execution_count": null,
   "metadata": {},
   "outputs": [],
   "source": [
    "df.column_name #df['column_name']\n",
    "df.shape\n",
    "#these would be considered attributes (no parentheses)"
   ]
  },
  {
   "cell_type": "code",
   "execution_count": null,
   "metadata": {},
   "outputs": [],
   "source": [
    "df.head()\n",
    "df.to_csv()\n",
    "#these would be considered methods (with parentheses)"
   ]
  },
  {
   "cell_type": "code",
   "execution_count": null,
   "metadata": {},
   "outputs": [],
   "source": [
    "m.coef_, m.tree #sklearn estimator attributes\n",
    "m.fit(X, y), m.transform() #sklearn estimator methods "
   ]
  },
  {
   "cell_type": "code",
   "execution_count": null,
   "metadata": {},
   "outputs": [],
   "source": [
    "s.upper(), s.upper()"
   ]
  },
  {
   "cell_type": "code",
   "execution_count": null,
   "metadata": {},
   "outputs": [],
   "source": [
    "my_name = 'paul'"
   ]
  },
  {
   "cell_type": "markdown",
   "metadata": {},
   "source": [
    "## Classes\n",
    "\n",
    "**Classes are the blueprints of objects**! Any object that exists in a python program was created (or instantiated) from a Class.\n",
    "Classes help us logically organize our data (attributes) and functions (methods) in a single entity, in such a way that our code is easier to re-use."
   ]
  },
  {
   "cell_type": "code",
   "execution_count": null,
   "metadata": {},
   "outputs": [],
   "source": [
    "m = sklearn.linear_model.LinearRegression() #m is the object, LinearRegression is the class. or we can say m is an \"instance\" of a Class\n",
    "df = pd.DataFrame() #df is the object, DataFrame is the Class."
   ]
  },
  {
   "cell_type": "code",
   "execution_count": null,
   "metadata": {},
   "outputs": [],
   "source": []
  },
  {
   "cell_type": "markdown",
   "metadata": {},
   "source": [
    "## Instances\n",
    "\n",
    "The same thing as as Object. **An Object = an instance of a Class!**\n",
    "\n",
    "For example, the _concept_ of a supermarket customer with all its attributes and methods is a class, but each actual *instance* of the customer classes are the \"objects\".\n",
    "\n",
    "Here's an analogy you might be familiar with:\n",
    "\n",
    "- Docker Image = \"Class\"\n",
    "- Docker Container = \"Object\", or \"Instance\""
   ]
  },
  {
   "cell_type": "code",
   "execution_count": null,
   "metadata": {},
   "outputs": [],
   "source": []
  },
  {
   "cell_type": "code",
   "execution_count": null,
   "metadata": {},
   "outputs": [],
   "source": []
  },
  {
   "cell_type": "code",
   "execution_count": null,
   "metadata": {},
   "outputs": [],
   "source": []
  },
  {
   "cell_type": "markdown",
   "metadata": {},
   "source": [
    "---"
   ]
  },
  {
   "cell_type": "markdown",
   "metadata": {},
   "source": [
    "## Python Implementation "
   ]
  },
  {
   "cell_type": "markdown",
   "metadata": {},
   "source": [
    "---"
   ]
  },
  {
   "cell_type": "markdown",
   "metadata": {},
   "source": [
    "**Which objects do we have in the supermarket project?**\n",
    "\n",
    "- Customer \n",
    "    - attributes: `.entry_time`, `.budget`, `.shopping_list`, `.current_basket`, `.location`, `.locations_visited`\n",
    "    - methods: `.change_location()`\n",
    "- Supermarket\n",
    "    - attributes: `.aisles`\n",
    "    - methods: `.checkout_customer` / `.churn_customer()`, `move_all_customer()`"
   ]
  },
  {
   "cell_type": "code",
   "execution_count": 1,
   "metadata": {},
   "outputs": [],
   "source": [
    "class Customer: #naming convention: use CamelCase\n",
    "    ..."
   ]
  },
  {
   "cell_type": "markdown",
   "metadata": {},
   "source": [
    "**Instantiate the class (i.e. create objects from the class \"template\")**"
   ]
  },
  {
   "cell_type": "code",
   "execution_count": 2,
   "metadata": {},
   "outputs": [],
   "source": [
    "c1 = Customer()\n",
    "c2 = Customer()"
   ]
  },
  {
   "cell_type": "code",
   "execution_count": 3,
   "metadata": {},
   "outputs": [
    {
     "data": {
      "text/plain": [
       "<__main__.Customer at 0x7f7f31758e80>"
      ]
     },
     "execution_count": 3,
     "metadata": {},
     "output_type": "execute_result"
    }
   ],
   "source": [
    "c1"
   ]
  },
  {
   "cell_type": "code",
   "execution_count": 4,
   "metadata": {},
   "outputs": [
    {
     "data": {
      "text/plain": [
       "<__main__.Customer at 0x7f7f31758e50>"
      ]
     },
     "execution_count": 4,
     "metadata": {},
     "output_type": "execute_result"
    }
   ],
   "source": [
    "c2"
   ]
  },
  {
   "cell_type": "markdown",
   "metadata": {},
   "source": [
    "Each object / instance has its own distinct memory address."
   ]
  },
  {
   "cell_type": "code",
   "execution_count": 5,
   "metadata": {},
   "outputs": [],
   "source": [
    "class Customer: #naming convention: use CamelCase\n",
    "    \"\"\"Customer for supermarket simulation\"\"\"\n",
    "    ..."
   ]
  },
  {
   "cell_type": "code",
   "execution_count": 6,
   "metadata": {},
   "outputs": [],
   "source": [
    "c1 = Customer()\n",
    "c2 = Customer()"
   ]
  },
  {
   "cell_type": "code",
   "execution_count": 7,
   "metadata": {},
   "outputs": [],
   "source": [
    "#We can set attributes on our objects / instances"
   ]
  },
  {
   "cell_type": "code",
   "execution_count": 8,
   "metadata": {},
   "outputs": [],
   "source": [
    "# c1.__doc__"
   ]
  },
  {
   "cell_type": "code",
   "execution_count": 9,
   "metadata": {},
   "outputs": [],
   "source": [
    "c1.name = 'Paul'\n",
    "c1.location = 'Drinks'"
   ]
  },
  {
   "cell_type": "code",
   "execution_count": 10,
   "metadata": {},
   "outputs": [],
   "source": [
    "c2.name = 'Stefan'\n",
    "c2.location = 'Spices'\n",
    "c2.budget = 50"
   ]
  },
  {
   "cell_type": "code",
   "execution_count": 11,
   "metadata": {},
   "outputs": [],
   "source": [
    "import pandas as pd"
   ]
  },
  {
   "cell_type": "code",
   "execution_count": 12,
   "metadata": {},
   "outputs": [],
   "source": [
    "df = pd.DataFrame({'a':[1, 2, 3, 4], 'b': [1, 2, 3, 4]})"
   ]
  },
  {
   "cell_type": "code",
   "execution_count": 13,
   "metadata": {},
   "outputs": [],
   "source": [
    "df.columns = ['column1', 'column2'] #practical example of modifying an object's attributes after it has been intantiated"
   ]
  },
  {
   "cell_type": "markdown",
   "metadata": {},
   "source": [
    "We can set attributes on an instance/object after it has been created. But this gets repetitive fast!\n",
    "- It's actually better to give us the ability to define these attributes UPON creation / instantion of the object."
   ]
  },
  {
   "cell_type": "markdown",
   "metadata": {},
   "source": [
    "### Write a constructor\n",
    "- Every class has a special function / method called a `constructor` where the attributes of the class are defined."
   ]
  },
  {
   "cell_type": "code",
   "execution_count": 16,
   "metadata": {},
   "outputs": [],
   "source": [
    "class Customer:\n",
    "    \"\"\"Customer class for Supermarket simulation\"\"\"\n",
    "    \n",
    "    #self is an additional argument that ALL methods of a Class must have\n",
    "    #it is a reference to the INSTANCE / object\n",
    "    def __init__(self, name, location):\n",
    "        self.name = name\n",
    "        self.location = location\n",
    "#         self.description = f'{name} is in {location}'"
   ]
  },
  {
   "cell_type": "code",
   "execution_count": 17,
   "metadata": {},
   "outputs": [],
   "source": [
    "c1 = Customer('Paul', 'Drinks')"
   ]
  },
  {
   "cell_type": "code",
   "execution_count": 18,
   "metadata": {},
   "outputs": [
    {
     "data": {
      "text/plain": [
       "'Paul'"
      ]
     },
     "execution_count": 18,
     "metadata": {},
     "output_type": "execute_result"
    }
   ],
   "source": [
    "c1.name"
   ]
  },
  {
   "cell_type": "code",
   "execution_count": 19,
   "metadata": {},
   "outputs": [
    {
     "data": {
      "text/plain": [
       "'Drinks'"
      ]
     },
     "execution_count": 19,
     "metadata": {},
     "output_type": "execute_result"
    }
   ],
   "source": [
    "c1.location"
   ]
  },
  {
   "cell_type": "markdown",
   "metadata": {},
   "source": [
    "There's another \"magic method\" called `__repr__`\n",
    "- Handy for debugging"
   ]
  },
  {
   "cell_type": "code",
   "execution_count": 20,
   "metadata": {},
   "outputs": [],
   "source": [
    "class Customer:\n",
    "    \"\"\"Customer class for Supermarket simulation\"\"\"\n",
    "    \n",
    "    #self is an additional argument that ALL methods of a Class must have\n",
    "    #it is a reference to the INSTANCE / object\n",
    "    def __init__(self, name, location):\n",
    "        self.name = name\n",
    "        self.location = location\n",
    "#         self.description = f'{name} is in {location}'\n",
    "\n",
    "    def __repr__(self):\n",
    "#         return f'<Customer({self.name}, {self.location})>'\n",
    "        return f'Customer {self.name} is in the {self.location} section.'"
   ]
  },
  {
   "cell_type": "code",
   "execution_count": 21,
   "metadata": {},
   "outputs": [],
   "source": [
    "c2 = Customer('Stefan', 'Spices')"
   ]
  },
  {
   "cell_type": "code",
   "execution_count": 22,
   "metadata": {},
   "outputs": [
    {
     "data": {
      "text/plain": [
       "Customer Stefan is in the Spices section."
      ]
     },
     "execution_count": 22,
     "metadata": {},
     "output_type": "execute_result"
    }
   ],
   "source": [
    "c2"
   ]
  },
  {
   "cell_type": "markdown",
   "metadata": {},
   "source": [
    "### Let's give our customers abilities!\n",
    "- i.e. define methods"
   ]
  },
  {
   "cell_type": "code",
   "execution_count": 23,
   "metadata": {},
   "outputs": [],
   "source": [
    "import numpy as np\n",
    "\n",
    "class Customer:\n",
    "    \"\"\"Customer class for Supermarket simulation\"\"\"\n",
    "    \n",
    "    def __init__(self, name, location):\n",
    "        self.name = name\n",
    "        self.location = location\n",
    "\n",
    "    def __repr__(self):\n",
    "        return f'Customer {self.name} is in the {self.location} section.'\n",
    "    \n",
    "    def change_location(self):\n",
    "        \n",
    "        self.location = np.random.choice(['Spices', 'Drinks', 'Fruits', 'Dairy', 'Checkout'], p=[0.2, 0.2, 0.1, 0.2, 0.3])"
   ]
  },
  {
   "cell_type": "code",
   "execution_count": 24,
   "metadata": {},
   "outputs": [],
   "source": [
    "c99 = Customer('Alphan', 'Entrance')"
   ]
  },
  {
   "cell_type": "code",
   "execution_count": 25,
   "metadata": {},
   "outputs": [
    {
     "data": {
      "text/plain": [
       "'Entrance'"
      ]
     },
     "execution_count": 25,
     "metadata": {},
     "output_type": "execute_result"
    }
   ],
   "source": [
    "c99.location"
   ]
  },
  {
   "cell_type": "code",
   "execution_count": 26,
   "metadata": {},
   "outputs": [],
   "source": [
    "c99.change_location()"
   ]
  },
  {
   "cell_type": "code",
   "execution_count": 27,
   "metadata": {},
   "outputs": [
    {
     "data": {
      "text/plain": [
       "Customer Alphan is in the Drinks section."
      ]
     },
     "execution_count": 27,
     "metadata": {},
     "output_type": "execute_result"
    }
   ],
   "source": [
    "c99"
   ]
  },
  {
   "cell_type": "code",
   "execution_count": 28,
   "metadata": {},
   "outputs": [],
   "source": [
    "c99.change_location()"
   ]
  },
  {
   "cell_type": "code",
   "execution_count": 29,
   "metadata": {},
   "outputs": [
    {
     "data": {
      "text/plain": [
       "Customer Alphan is in the Drinks section."
      ]
     },
     "execution_count": 29,
     "metadata": {},
     "output_type": "execute_result"
    }
   ],
   "source": [
    "c99"
   ]
  },
  {
   "cell_type": "markdown",
   "metadata": {},
   "source": [
    "The \"self\" thing is really confusing, because the way we write it makes it seem like it takes an argument, but we don't pass in an argument. Because remember: the instance is the first argument, passed automatically.\n",
    "\n",
    "but this way of writing it helps make it more obvious what's happening in the background:"
   ]
  },
  {
   "cell_type": "code",
   "execution_count": 30,
   "metadata": {},
   "outputs": [],
   "source": [
    "Customer.change_location(c99) "
   ]
  },
  {
   "cell_type": "markdown",
   "metadata": {},
   "source": [
    "^^^This is the same thing as doing `c99.change_location()` !!\n",
    "- It's just that this way we can see how the instance is the first argument.\n",
    "- In this second case, we have to pass in the instance, because when we run the method on the Class level, the class doesn't know which instance we mean to modify!\n",
    "- But if we run it in the instance level, then it's clear which instance we mean."
   ]
  },
  {
   "cell_type": "code",
   "execution_count": 31,
   "metadata": {},
   "outputs": [
    {
     "data": {
      "text/plain": [
       "'Checkout'"
      ]
     },
     "execution_count": 31,
     "metadata": {},
     "output_type": "execute_result"
    }
   ],
   "source": [
    "c99.location"
   ]
  },
  {
   "cell_type": "markdown",
   "metadata": {},
   "source": [
    "### What if I want to create / move multiple customers at once?"
   ]
  },
  {
   "cell_type": "code",
   "execution_count": 33,
   "metadata": {},
   "outputs": [],
   "source": [
    "customers = [Customer('bob', 'entrance') for i in range(50)] #create all customers at once"
   ]
  },
  {
   "cell_type": "code",
   "execution_count": 34,
   "metadata": {},
   "outputs": [],
   "source": [
    "# [**{f'c{i}':Customer()} for i in range(500)]"
   ]
  },
  {
   "cell_type": "code",
   "execution_count": 35,
   "metadata": {},
   "outputs": [
    {
     "name": "stdout",
     "output_type": "stream",
     "text": [
      "Customer 2 has been churned!\n",
      "Customer 5 has been churned!\n",
      "Customer 6 has been churned!\n",
      "Customer 7 has been churned!\n",
      "Customer 14 has been churned!\n",
      "Customer 21 has been churned!\n",
      "Customer 33 has been churned!\n",
      "Customer 34 has been churned!\n",
      "Customer 35 has been churned!\n",
      "Customer 39 has been churned!\n",
      "Customer 41 has been churned!\n",
      "Customer 44 has been churned!\n",
      "Customer 48 has been churned!\n"
     ]
    }
   ],
   "source": [
    "for i, c in enumerate(customers): #at each minute, move all customers\n",
    "    c.change_location()\n",
    "    if c.location == 'Checkout':\n",
    "        print(f'Customer {i} has been churned!')"
   ]
  },
  {
   "cell_type": "code",
   "execution_count": 36,
   "metadata": {},
   "outputs": [
    {
     "data": {
      "text/plain": [
       "[Customer bob is in the Drinks section.,\n",
       " Customer bob is in the Spices section.,\n",
       " Customer bob is in the Checkout section.,\n",
       " Customer bob is in the Drinks section.,\n",
       " Customer bob is in the Dairy section.,\n",
       " Customer bob is in the Checkout section.,\n",
       " Customer bob is in the Checkout section.,\n",
       " Customer bob is in the Checkout section.,\n",
       " Customer bob is in the Drinks section.,\n",
       " Customer bob is in the Fruits section.,\n",
       " Customer bob is in the Drinks section.,\n",
       " Customer bob is in the Spices section.,\n",
       " Customer bob is in the Fruits section.,\n",
       " Customer bob is in the Spices section.,\n",
       " Customer bob is in the Checkout section.,\n",
       " Customer bob is in the Fruits section.,\n",
       " Customer bob is in the Drinks section.,\n",
       " Customer bob is in the Drinks section.,\n",
       " Customer bob is in the Spices section.,\n",
       " Customer bob is in the Dairy section.,\n",
       " Customer bob is in the Drinks section.,\n",
       " Customer bob is in the Checkout section.,\n",
       " Customer bob is in the Fruits section.,\n",
       " Customer bob is in the Spices section.,\n",
       " Customer bob is in the Dairy section.,\n",
       " Customer bob is in the Drinks section.,\n",
       " Customer bob is in the Dairy section.,\n",
       " Customer bob is in the Drinks section.,\n",
       " Customer bob is in the Spices section.,\n",
       " Customer bob is in the Dairy section.,\n",
       " Customer bob is in the Spices section.,\n",
       " Customer bob is in the Fruits section.,\n",
       " Customer bob is in the Dairy section.,\n",
       " Customer bob is in the Checkout section.,\n",
       " Customer bob is in the Checkout section.,\n",
       " Customer bob is in the Checkout section.,\n",
       " Customer bob is in the Dairy section.,\n",
       " Customer bob is in the Drinks section.,\n",
       " Customer bob is in the Dairy section.,\n",
       " Customer bob is in the Checkout section.,\n",
       " Customer bob is in the Spices section.,\n",
       " Customer bob is in the Checkout section.,\n",
       " Customer bob is in the Dairy section.,\n",
       " Customer bob is in the Spices section.,\n",
       " Customer bob is in the Checkout section.,\n",
       " Customer bob is in the Dairy section.,\n",
       " Customer bob is in the Drinks section.,\n",
       " Customer bob is in the Spices section.,\n",
       " Customer bob is in the Checkout section.,\n",
       " Customer bob is in the Dairy section.]"
      ]
     },
     "execution_count": 36,
     "metadata": {},
     "output_type": "execute_result"
    }
   ],
   "source": [
    "customers"
   ]
  },
  {
   "cell_type": "code",
   "execution_count": null,
   "metadata": {},
   "outputs": [],
   "source": []
  }
 ],
 "metadata": {
  "kernelspec": {
   "display_name": "Python 3",
   "language": "python",
   "name": "python3"
  },
  "language_info": {
   "codemirror_mode": {
    "name": "ipython",
    "version": 3
   },
   "file_extension": ".py",
   "mimetype": "text/x-python",
   "name": "python",
   "nbconvert_exporter": "python",
   "pygments_lexer": "ipython3",
   "version": "3.8.5"
  }
 },
 "nbformat": 4,
 "nbformat_minor": 4
}
