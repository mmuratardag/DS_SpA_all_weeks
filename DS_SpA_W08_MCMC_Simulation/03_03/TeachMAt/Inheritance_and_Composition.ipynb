{
 "cells": [
  {
   "cell_type": "markdown",
   "metadata": {},
   "source": [
    "Object-Oriented-Programming (OOP) is a **programming paradigm** based on the concept of **objects**:\n",
    "> Programs are composed of \"objects\" which communicate with each other, which may be arranged into hierarchies, and which can be combined to form additional objects. These \"objects\" may represent real-world things or concepts, which have characteristics (i.e. **attributes** or **properties**) and which can also \"do\" things (i.e. **methods**)."
   ]
  },
  {
   "cell_type": "markdown",
   "metadata": {},
   "source": [
    "# 0) Warmup"
   ]
  },
  {
   "cell_type": "code",
   "execution_count": 28,
   "metadata": {},
   "outputs": [],
   "source": [
    "# Define a class Animal\n",
    "class Animal: # 1 bug: class instead of def\n",
    "    \n",
    "    def __init__(self, name, sound): # 2 bug: has to be __init__\n",
    "        self.name = name\n",
    "        self.sound = sound\n",
    "\n",
    "    def make_sound(self): # the attribute self.sound and the method should not have the same name\n",
    "        print(f'{self.sound.upper()}!!')"
   ]
  },
  {
   "cell_type": "code",
   "execution_count": 19,
   "metadata": {},
   "outputs": [],
   "source": [
    "croc = Animal('crocodile', 'snap!') # bugs: We don't need the self and we instantiate an object with round brackets"
   ]
  },
  {
   "cell_type": "code",
   "execution_count": 20,
   "metadata": {},
   "outputs": [
    {
     "data": {
      "text/plain": [
       "<__main__.Animal at 0x7f84af79b940>"
      ]
     },
     "execution_count": 20,
     "metadata": {},
     "output_type": "execute_result"
    }
   ],
   "source": [
    "croc"
   ]
  },
  {
   "cell_type": "code",
   "execution_count": 21,
   "metadata": {},
   "outputs": [
    {
     "data": {
      "text/plain": [
       "'HELLO'"
      ]
     },
     "execution_count": 21,
     "metadata": {},
     "output_type": "execute_result"
    }
   ],
   "source": [
    "'hello'.upper()"
   ]
  },
  {
   "cell_type": "code",
   "execution_count": 135,
   "metadata": {},
   "outputs": [],
   "source": [
    "# 'snap!'() # will give an error"
   ]
  },
  {
   "cell_type": "code",
   "execution_count": 23,
   "metadata": {},
   "outputs": [
    {
     "name": "stdout",
     "output_type": "stream",
     "text": [
      "SNAP!!!\n"
     ]
    }
   ],
   "source": [
    "croc.make_sound() # bug: we don't need to pass self, because croc will automatically be passed as self"
   ]
  },
  {
   "cell_type": "code",
   "execution_count": 136,
   "metadata": {},
   "outputs": [],
   "source": [
    "# Perfectly working solution by Charlie's Gang\n",
    "\n",
    "#class Animal():\n",
    "#    def __init__(self, name, sound):\n",
    "#        self.name = name\n",
    "#        self.sound = sound\n",
    "#    def yell(self):\n",
    "#        print(f'{self.sound.upper()}!!')\n",
    "#croc = Animal('crocodile', 'snap!')\n",
    "#croc.yell()"
   ]
  },
  {
   "cell_type": "markdown",
   "metadata": {},
   "source": [
    "# 1) Inheritance\n",
    "\n",
    "Inheritance defines new classes that share properties with an existing class. Inheritance establishes a **“is a” relationship**.\n",
    "\n",
    "For example, you might define a class Dog. In this case the class Dog would be the **child class** and the class Animal would be the **parent class**."
   ]
  },
  {
   "cell_type": "code",
   "execution_count": 31,
   "metadata": {},
   "outputs": [],
   "source": [
    "class Dog(Animal):\n",
    "    ..."
   ]
  },
  {
   "cell_type": "code",
   "execution_count": 32,
   "metadata": {},
   "outputs": [],
   "source": [
    "dog = Dog('husky', 'woof')"
   ]
  },
  {
   "cell_type": "code",
   "execution_count": 33,
   "metadata": {},
   "outputs": [
    {
     "name": "stdout",
     "output_type": "stream",
     "text": [
      "WOOF!!\n"
     ]
    }
   ],
   "source": [
    "dog.make_sound()"
   ]
  },
  {
   "cell_type": "code",
   "execution_count": 34,
   "metadata": {},
   "outputs": [
    {
     "data": {
      "text/plain": [
       "'husky'"
      ]
     },
     "execution_count": 34,
     "metadata": {},
     "output_type": "execute_result"
    }
   ],
   "source": [
    "dog.name"
   ]
  },
  {
   "cell_type": "markdown",
   "metadata": {},
   "source": [
    "What we can see is that without writing any code (except for the class definition) we created a new class that inherited the attributes and methods of the parent class."
   ]
  },
  {
   "cell_type": "code",
   "execution_count": 88,
   "metadata": {},
   "outputs": [],
   "source": [
    "class Dog(Animal):\n",
    "    \n",
    "    def __init__(self, name, sound, breed):\n",
    "        self.breed = breed\n",
    "        super().__init__(name, sound)\n",
    "    \n",
    "#    def make_sound(self):\n",
    "#        # super().make_sound()\n",
    "#        print('hamham')\n",
    "    \n",
    "    def fetch_stick(self):\n",
    "        print(f'{self.name} is fetching the stick')"
   ]
  },
  {
   "cell_type": "code",
   "execution_count": 89,
   "metadata": {},
   "outputs": [],
   "source": [
    "dog = Dog('Charlie', 'woof', 'husky')"
   ]
  },
  {
   "cell_type": "code",
   "execution_count": 82,
   "metadata": {},
   "outputs": [
    {
     "data": {
      "text/plain": [
       "'husky'"
      ]
     },
     "execution_count": 82,
     "metadata": {},
     "output_type": "execute_result"
    }
   ],
   "source": [
    "dog.breed"
   ]
  },
  {
   "cell_type": "code",
   "execution_count": 83,
   "metadata": {},
   "outputs": [
    {
     "name": "stdout",
     "output_type": "stream",
     "text": [
      "WOOF!!\n"
     ]
    }
   ],
   "source": [
    "dog.make_sound() # If you execute a method of a Python class it will always execute the implementation in the child class (if it exists)"
   ]
  },
  {
   "cell_type": "code",
   "execution_count": 71,
   "metadata": {},
   "outputs": [
    {
     "data": {
      "text/plain": [
       "'woof'"
      ]
     },
     "execution_count": 71,
     "metadata": {},
     "output_type": "execute_result"
    }
   ],
   "source": [
    "dog.sound"
   ]
  },
  {
   "cell_type": "code",
   "execution_count": 70,
   "metadata": {},
   "outputs": [
    {
     "name": "stdout",
     "output_type": "stream",
     "text": [
      "Charlie is fetching the stick\n"
     ]
    }
   ],
   "source": [
    "dog.fetch_stick()"
   ]
  },
  {
   "cell_type": "markdown",
   "metadata": {},
   "source": [
    "What is the main use case for Inheritance?\n",
    "\n",
    "- Reusability\n",
    "- Maintainability"
   ]
  },
  {
   "cell_type": "markdown",
   "metadata": {},
   "source": [
    "# 2) Composition"
   ]
  },
  {
   "cell_type": "markdown",
   "metadata": {},
   "source": [
    "Composition is another way to combine classes. In composition, objects contain other objects as attributes. Composition establishes a **“has a” relationship**."
   ]
  },
  {
   "cell_type": "code",
   "execution_count": 134,
   "metadata": {},
   "outputs": [],
   "source": [
    "class Zoo:\n",
    "    \n",
    "    def __init__(self, city, animals):\n",
    "        self.city = city\n",
    "        self.animals = animals\n",
    "    \n",
    "    def make_noise(self):\n",
    "        for element in self.animals:\n",
    "            element.make_sound()\n",
    "            \n",
    "    def add_animal(self, new_animal):\n",
    "        self.animals.append(new_animal)"
   ]
  },
  {
   "cell_type": "code",
   "execution_count": 125,
   "metadata": {},
   "outputs": [],
   "source": [
    "zoo = Zoo('Berlin', [Animal('crocodile', 'snap!'), dog])"
   ]
  },
  {
   "cell_type": "code",
   "execution_count": 126,
   "metadata": {},
   "outputs": [
    {
     "data": {
      "text/plain": [
       "'Berlin'"
      ]
     },
     "execution_count": 126,
     "metadata": {},
     "output_type": "execute_result"
    }
   ],
   "source": [
    "zoo.city"
   ]
  },
  {
   "cell_type": "code",
   "execution_count": 127,
   "metadata": {},
   "outputs": [
    {
     "data": {
      "text/plain": [
       "[<__main__.Animal at 0x7f84af79bd90>, <__main__.Dog at 0x7f84af841e80>]"
      ]
     },
     "execution_count": 127,
     "metadata": {},
     "output_type": "execute_result"
    }
   ],
   "source": [
    "zoo.animals"
   ]
  },
  {
   "cell_type": "code",
   "execution_count": 128,
   "metadata": {},
   "outputs": [
    {
     "name": "stdout",
     "output_type": "stream",
     "text": [
      "SNAP!!!\n",
      "WOOF!!\n"
     ]
    }
   ],
   "source": [
    "for animal in zoo.animals:\n",
    "    animal.make_sound()"
   ]
  },
  {
   "cell_type": "code",
   "execution_count": 129,
   "metadata": {},
   "outputs": [
    {
     "name": "stdout",
     "output_type": "stream",
     "text": [
      "SNAP!!!\n",
      "WOOF!!\n"
     ]
    }
   ],
   "source": [
    "zoo.make_noise()"
   ]
  },
  {
   "cell_type": "code",
   "execution_count": 130,
   "metadata": {},
   "outputs": [
    {
     "data": {
      "text/plain": [
       "[<__main__.Animal at 0x7f84af79bd90>, <__main__.Dog at 0x7f84af841e80>]"
      ]
     },
     "execution_count": 130,
     "metadata": {},
     "output_type": "execute_result"
    }
   ],
   "source": [
    "zoo.animals"
   ]
  },
  {
   "cell_type": "code",
   "execution_count": 131,
   "metadata": {},
   "outputs": [],
   "source": [
    "zoo.add_animal(Animal('elephant', 'tooot'))"
   ]
  },
  {
   "cell_type": "code",
   "execution_count": 132,
   "metadata": {},
   "outputs": [
    {
     "data": {
      "text/plain": [
       "[<__main__.Animal at 0x7f84af79bd90>,\n",
       " <__main__.Dog at 0x7f84af841e80>,\n",
       " <__main__.Animal at 0x7f84b0d91e20>]"
      ]
     },
     "execution_count": 132,
     "metadata": {},
     "output_type": "execute_result"
    }
   ],
   "source": [
    "zoo.animals"
   ]
  },
  {
   "cell_type": "code",
   "execution_count": 133,
   "metadata": {},
   "outputs": [
    {
     "name": "stdout",
     "output_type": "stream",
     "text": [
      "SNAP!!!\n",
      "WOOF!!\n",
      "TOOOT!!\n"
     ]
    }
   ],
   "source": [
    "zoo.make_noise()"
   ]
  },
  {
   "cell_type": "markdown",
   "metadata": {},
   "source": [
    "The application for this weeks project of composition would be that a supermarket customer (or a list of supermarket customers) could be an attribute of a supermarket object. "
   ]
  }
 ],
 "metadata": {
  "kernelspec": {
   "display_name": "Python 3",
   "language": "python",
   "name": "python3"
  },
  "language_info": {
   "codemirror_mode": {
    "name": "ipython",
    "version": 3
   },
   "file_extension": ".py",
   "mimetype": "text/x-python",
   "name": "python",
   "nbconvert_exporter": "python",
   "pygments_lexer": "ipython3",
   "version": "3.8.3"
  }
 },
 "nbformat": 4,
 "nbformat_minor": 4
}
