{
 "cells": [
  {
   "cell_type": "code",
   "execution_count": 1,
   "metadata": {},
   "outputs": [],
   "source": [
    "import pandas as pd\n",
    "import numpy as np\n",
    "\n",
    "import matplotlib.pyplot as plt\n",
    "import seaborn as sns\n",
    "sns.set_style(\"whitegrid\")\n",
    "\n",
    "from tensorflow.keras.datasets import fashion_mnist\n",
    "from tensorflow.keras.models import Sequential\n",
    "from tensorflow.keras.layers import Conv2D, Dense, MaxPooling2D, Activation, Flatten, Dropout\n",
    "from tensorflow.keras.utils import to_categorical\n",
    "\n",
    "from tensorflow.keras.optimizers import Adam\n",
    "\n",
    "from tensorflow.keras.losses import CategoricalCrossentropy as ccEnLo\n",
    "#from tensorflow.keras.metrics import CategoricalCrossentropy as ccEnMe\n",
    "\n",
    "from tensorflow.keras import backend as K\n",
    "\n",
    "import scipy\n",
    "\n",
    "(xtrain, ytrain), (xtest, ytest) = fashion_mnist.load_data()"
   ]
  },
  {
   "cell_type": "code",
   "execution_count": 2,
   "metadata": {},
   "outputs": [],
   "source": [
    "x_train = xtrain.reshape(60000, 28, 28, 1)/255\n",
    "x_test = xtest.reshape(10000, 28, 28, 1)/255\n",
    "\n",
    "y_train = to_categorical(ytrain)\n",
    "y_test = to_categorical(ytest)"
   ]
  },
  {
   "cell_type": "code",
   "execution_count": 3,
   "metadata": {},
   "outputs": [],
   "source": [
    "model = Sequential([\n",
    "    Conv2D(filters=32, kernel_size=(3, 3), strides=(1, 1), input_shape=(28, 28, 1), activation='relu'),  \n",
    "    MaxPooling2D(pool_size=(2, 2), strides=(2, 2)),\n",
    "    \n",
    "    Conv2D(64, kernel_size=(3, 3), strides=(1, 1),activation='relu'),\n",
    "    MaxPooling2D(pool_size=(2, 2), strides=(2, 2)),\n",
    "    \n",
    "    Flatten(),\n",
    "    Dense(50, activation='relu'),\n",
    "    Dropout(0.5),\n",
    "    Dense(20, activation='relu'),\n",
    "    Dense(10, activation='softmax')\n",
    "])"
   ]
  },
  {
   "cell_type": "code",
   "execution_count": 4,
   "metadata": {},
   "outputs": [
    {
     "name": "stdout",
     "output_type": "stream",
     "text": [
      "Model: \"sequential\"\n",
      "_________________________________________________________________\n",
      "Layer (type)                 Output Shape              Param #   \n",
      "=================================================================\n",
      "conv2d (Conv2D)              (None, 26, 26, 32)        320       \n",
      "_________________________________________________________________\n",
      "max_pooling2d (MaxPooling2D) (None, 13, 13, 32)        0         \n",
      "_________________________________________________________________\n",
      "conv2d_1 (Conv2D)            (None, 11, 11, 64)        18496     \n",
      "_________________________________________________________________\n",
      "max_pooling2d_1 (MaxPooling2 (None, 5, 5, 64)          0         \n",
      "_________________________________________________________________\n",
      "flatten (Flatten)            (None, 1600)              0         \n",
      "_________________________________________________________________\n",
      "dense (Dense)                (None, 50)                80050     \n",
      "_________________________________________________________________\n",
      "dropout (Dropout)            (None, 50)                0         \n",
      "_________________________________________________________________\n",
      "dense_1 (Dense)              (None, 20)                1020      \n",
      "_________________________________________________________________\n",
      "dense_2 (Dense)              (None, 10)                210       \n",
      "=================================================================\n",
      "Total params: 100,096\n",
      "Trainable params: 100,096\n",
      "Non-trainable params: 0\n",
      "_________________________________________________________________\n"
     ]
    }
   ],
   "source": [
    "model.summary()"
   ]
  },
  {
   "cell_type": "code",
   "execution_count": 5,
   "metadata": {},
   "outputs": [],
   "source": [
    "model.compile(optimizer = Adam(learning_rate = 0.001),\n",
    "              loss='categorical_crossentropy',\n",
    "              metrics=['accuracy'])"
   ]
  },
  {
   "cell_type": "code",
   "execution_count": 6,
   "metadata": {},
   "outputs": [
    {
     "name": "stdout",
     "output_type": "stream",
     "text": [
      "Epoch 1/15\n",
      "240/240 [==============================] - 24s 97ms/step - loss: 1.4360 - accuracy: 0.4756 - val_loss: 0.5635 - val_accuracy: 0.7778\n",
      "Epoch 2/15\n",
      "240/240 [==============================] - 21s 88ms/step - loss: 0.6927 - accuracy: 0.7388 - val_loss: 0.4691 - val_accuracy: 0.8209\n",
      "Epoch 3/15\n",
      "240/240 [==============================] - 22s 91ms/step - loss: 0.5929 - accuracy: 0.7757 - val_loss: 0.4314 - val_accuracy: 0.8328\n",
      "Epoch 4/15\n",
      "240/240 [==============================] - 23s 97ms/step - loss: 0.5514 - accuracy: 0.7957 - val_loss: 0.3959 - val_accuracy: 0.8543\n",
      "Epoch 5/15\n",
      "240/240 [==============================] - 24s 100ms/step - loss: 0.5046 - accuracy: 0.8116 - val_loss: 0.3700 - val_accuracy: 0.8675\n",
      "Epoch 6/15\n",
      "240/240 [==============================] - 28s 116ms/step - loss: 0.4777 - accuracy: 0.8239 - val_loss: 0.3479 - val_accuracy: 0.8743\n",
      "Epoch 7/15\n",
      "240/240 [==============================] - 24s 99ms/step - loss: 0.4548 - accuracy: 0.8327 - val_loss: 0.3351 - val_accuracy: 0.8773\n",
      "Epoch 8/15\n",
      "240/240 [==============================] - 22s 92ms/step - loss: 0.4418 - accuracy: 0.8383 - val_loss: 0.3173 - val_accuracy: 0.8843\n",
      "Epoch 9/15\n",
      "240/240 [==============================] - 22s 92ms/step - loss: 0.4120 - accuracy: 0.8501 - val_loss: 0.3122 - val_accuracy: 0.8852\n",
      "Epoch 10/15\n",
      "240/240 [==============================] - 23s 96ms/step - loss: 0.4043 - accuracy: 0.8532 - val_loss: 0.3044 - val_accuracy: 0.8907\n",
      "Epoch 11/15\n",
      "240/240 [==============================] - 21s 88ms/step - loss: 0.3883 - accuracy: 0.8598 - val_loss: 0.2928 - val_accuracy: 0.8914\n",
      "Epoch 12/15\n",
      "240/240 [==============================] - 23s 95ms/step - loss: 0.3809 - accuracy: 0.8600 - val_loss: 0.2917 - val_accuracy: 0.8926\n",
      "Epoch 13/15\n",
      "240/240 [==============================] - 22s 92ms/step - loss: 0.3646 - accuracy: 0.8637 - val_loss: 0.2857 - val_accuracy: 0.8972\n",
      "Epoch 14/15\n",
      "240/240 [==============================] - 22s 93ms/step - loss: 0.3560 - accuracy: 0.8728 - val_loss: 0.2794 - val_accuracy: 0.8972\n",
      "Epoch 15/15\n",
      "240/240 [==============================] - 23s 95ms/step - loss: 0.3442 - accuracy: 0.8754 - val_loss: 0.3020 - val_accuracy: 0.8858\n"
     ]
    }
   ],
   "source": [
    "h = model.fit(x_train, y_train, epochs=15, batch_size=200, validation_split=0.2, use_multiprocessing = True)"
   ]
  },
  {
   "cell_type": "code",
   "execution_count": 7,
   "metadata": {},
   "outputs": [
    {
     "name": "stdout",
     "output_type": "stream",
     "text": [
      "600/600 [==============================] - 11s 18ms/step - loss: 0.2640 - accuracy: 0.8995\n"
     ]
    },
    {
     "data": {
      "text/plain": [
       "[0.26404425501823425, 0.8995333313941956]"
      ]
     },
     "execution_count": 7,
     "metadata": {},
     "output_type": "execute_result"
    }
   ],
   "source": [
    "score = model.evaluate(x_train, y_train, batch_size=100)\n",
    "score"
   ]
  },
  {
   "cell_type": "code",
   "execution_count": 8,
   "metadata": {},
   "outputs": [
    {
     "data": {
      "text/plain": [
       "<matplotlib.legend.Legend at 0x7f7867785c70>"
      ]
     },
     "execution_count": 8,
     "metadata": {},
     "output_type": "execute_result"
    },
    {
     "data": {
      "text/plain": [
       "<Figure size 1080x720 with 0 Axes>"
      ]
     },
     "metadata": {},
     "output_type": "display_data"
    },
    {
     "data": {
      "image/png": "[encoded data removed]",
      "text/plain": [
       "<Figure size 432x288 with 2 Axes>"
      ]
     },
     "metadata": {},
     "output_type": "display_data"
    }
   ],
   "source": [
    "plt.figure(figsize=(15,10))\n",
    "\n",
    "fig, ax1 = plt.subplots()\n",
    "ax1.plot(h.history['loss'], color=\"lightgreen\", label=\"loss\") \n",
    "ax1.plot(h.history['val_loss'], color=\"green\", label=\"val_loss\") \n",
    "ax2 = ax1.twinx()\n",
    "ax2.plot(h.history['accuracy'], color=\"lightblue\", label='accuracy') \n",
    "ax2.plot(h.history['val_accuracy'], color=\"blue\", label='val_accuracy') \n",
    "fig.legend()"
   ]
  },
  {
   "cell_type": "code",
   "execution_count": 9,
   "metadata": {},
   "outputs": [
    {
     "name": "stdout",
     "output_type": "stream",
     "text": [
      "313/313 [==============================] - 8s 26ms/step - loss: 0.3187 - accuracy: 0.8814\n",
      "Test set loss: 0.3187229335308075\n",
      "Test set accuracy: 0.8813999891281128\n"
     ]
    }
   ],
   "source": [
    "test_set_score = model.evaluate(x_test, y_test, verbose=1)\n",
    "print(\"Test set loss:\", test_set_score[0])\n",
    "print(\"Test set accuracy:\", test_set_score[1])"
   ]
  }
 ],
 "metadata": {
  "kernelspec": {
   "display_name": "Python 3",
   "language": "python",
   "name": "python3"
  },
  "language_info": {
   "codemirror_mode": {
    "name": "ipython",
    "version": 3
   },
   "file_extension": ".py",
   "mimetype": "text/x-python",
   "name": "python",
   "nbconvert_exporter": "python",
   "pygments_lexer": "ipython3",
   "version": "3.8.5"
  }
 },
 "nbformat": 4,
 "nbformat_minor": 4
}
