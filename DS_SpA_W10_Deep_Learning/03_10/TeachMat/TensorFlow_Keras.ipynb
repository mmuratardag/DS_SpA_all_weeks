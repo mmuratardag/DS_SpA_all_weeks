{
 "cells": [
  {
   "cell_type": "markdown",
   "metadata": {},
   "source": [
    "### State of (open-source) Deep Learning, in Python:\n",
    "- 2 most popular frameworks:\n",
    "    - Tensorflow (Google) ~2015\n",
    "        - Keras (Google) ~2015\n",
    "    - PyTorch (Facebook) ~2016"
   ]
  },
  {
   "cell_type": "markdown",
   "metadata": {},
   "source": [
    "As of 2020, Keras library is now directly part of TensorFlow\n",
    "- i.e. ``import tensorflow.keras``"
   ]
  },
  {
   "cell_type": "markdown",
   "metadata": {},
   "source": [
    "## 1. Install Tensorflow:"
   ]
  },
  {
   "cell_type": "markdown",
   "metadata": {},
   "source": [
    "1. Create new environment:\n",
    "   -  `conda create -n dl pip python=3.8`\n",
    "2. Switch to that environment:\n",
    "   - `conda activate dl`\n",
    "3. Installed Tensorflow within that environment:\n",
    "   - `pip install tensorflow`\n",
    "4. Install Jupyter Lab within that environment:\n",
    "   - `pip install jupyter`\n",
    "5. Launch Jupyter from within that environment.\n",
    "   - `jupyter notebook`"
   ]
  },
  {
   "cell_type": "code",
   "execution_count": 1,
   "metadata": {},
   "outputs": [],
   "source": [
    "# Import tensorflow.keras\n",
    "import tensorflow.keras"
   ]
  },
  {
   "cell_type": "code",
   "execution_count": 2,
   "metadata": {},
   "outputs": [
    {
     "name": "stdout",
     "output_type": "stream",
     "text": [
      "/Users/stefanroth/anaconda3/envs/dl/bin/jupyter\n"
     ]
    }
   ],
   "source": [
    "# Check if you are in the right environment\n",
    "!which jupyter"
   ]
  },
  {
   "cell_type": "markdown",
   "metadata": {},
   "source": [
    "## 2. Other Options:"
   ]
  },
  {
   "cell_type": "markdown",
   "metadata": {},
   "source": [
    "Other options:\n",
    "\n",
    "1. install tensorflow via `conda install -c conda-forge tensorflow`\n",
    "\n",
    "\n",
    "2. Use Docker - https://www.tensorflow.org/install/docker\n",
    "    - e.g. `docker run -it -p 8888:8888 tensorflow/tensorflow:nightly-jupyter`\n",
    "   \n",
    "   \n",
    "3. Use Cloud-Based Alternatives:\n",
    "   - Google Colab: https://colab.research.google.com/\n",
    "       - Run notebooks right in the cloud. \n",
    "       - Comes with GPU Support.\n",
    "   - PaperSpace Gradient: https://gradient.paperspace.com/\n",
    "   "
   ]
  },
  {
   "cell_type": "markdown",
   "metadata": {},
   "source": [
    "---"
   ]
  },
  {
   "cell_type": "markdown",
   "metadata": {},
   "source": [
    "### Making Neural Networks in Tensorflow / Keras"
   ]
  },
  {
   "cell_type": "code",
   "execution_count": 3,
   "metadata": {},
   "outputs": [
    {
     "name": "stdout",
     "output_type": "stream",
     "text": [
      "Collecting scikit-learn\n",
      "  Using cached scikit_learn-0.24.1-cp38-cp38-macosx_10_13_x86_64.whl (7.2 MB)\n",
      "Requirement already satisfied: numpy>=1.13.3 in /Users/stefanroth/anaconda3/envs/dl/lib/python3.8/site-packages (from scikit-learn) (1.19.5)\n",
      "Collecting scipy>=0.19.1\n",
      "  Using cached scipy-1.6.1-cp38-cp38-macosx_10_9_x86_64.whl (30.8 MB)\n",
      "Collecting joblib>=0.11\n",
      "  Using cached joblib-1.0.1-py3-none-any.whl (303 kB)\n",
      "Collecting threadpoolctl>=2.0.0\n",
      "  Using cached threadpoolctl-2.1.0-py3-none-any.whl (12 kB)\n",
      "Installing collected packages: threadpoolctl, scipy, joblib, scikit-learn\n",
      "Successfully installed joblib-1.0.1 scikit-learn-0.24.1 scipy-1.6.1 threadpoolctl-2.1.0\n",
      "Collecting matplotlib\n",
      "  Using cached matplotlib-3.3.4-cp38-cp38-macosx_10_9_x86_64.whl (8.5 MB)\n",
      "Requirement already satisfied: python-dateutil>=2.1 in /Users/stefanroth/anaconda3/envs/dl/lib/python3.8/site-packages (from matplotlib) (2.8.1)\n",
      "Collecting cycler>=0.10\n",
      "  Using cached cycler-0.10.0-py2.py3-none-any.whl (6.5 kB)\n",
      "Requirement already satisfied: numpy>=1.15 in /Users/stefanroth/anaconda3/envs/dl/lib/python3.8/site-packages (from matplotlib) (1.19.5)\n",
      "Requirement already satisfied: pyparsing!=2.0.4,!=2.1.2,!=2.1.6,>=2.0.3 in /Users/stefanroth/anaconda3/envs/dl/lib/python3.8/site-packages (from matplotlib) (2.4.7)\n",
      "Collecting pillow>=6.2.0\n",
      "  Using cached Pillow-8.1.2-cp38-cp38-macosx_10_10_x86_64.whl (2.2 MB)\n",
      "Collecting kiwisolver>=1.0.1\n",
      "  Using cached kiwisolver-1.3.1-cp38-cp38-macosx_10_9_x86_64.whl (61 kB)\n",
      "Requirement already satisfied: six in /Users/stefanroth/anaconda3/envs/dl/lib/python3.8/site-packages (from cycler>=0.10->matplotlib) (1.15.0)\n",
      "Installing collected packages: pillow, kiwisolver, cycler, matplotlib\n",
      "Successfully installed cycler-0.10.0 kiwisolver-1.3.1 matplotlib-3.3.4 pillow-8.1.2\n",
      "Collecting pandas\n",
      "  Using cached pandas-1.2.3-cp38-cp38-macosx_10_9_x86_64.whl (10.5 MB)\n",
      "Requirement already satisfied: numpy>=1.16.5 in /Users/stefanroth/anaconda3/envs/dl/lib/python3.8/site-packages (from pandas) (1.19.5)\n",
      "Collecting pytz>=2017.3\n",
      "  Using cached pytz-2021.1-py2.py3-none-any.whl (510 kB)\n",
      "Requirement already satisfied: python-dateutil>=2.7.3 in /Users/stefanroth/anaconda3/envs/dl/lib/python3.8/site-packages (from pandas) (2.8.1)\n",
      "Requirement already satisfied: six>=1.5 in /Users/stefanroth/anaconda3/envs/dl/lib/python3.8/site-packages (from python-dateutil>=2.7.3->pandas) (1.15.0)\n",
      "Installing collected packages: pytz, pandas\n",
      "Successfully installed pandas-1.2.3 pytz-2021.1\n"
     ]
    }
   ],
   "source": [
    "# Install some other libraries we will need\n",
    "!pip install --no-input scikit-learn\n",
    "!pip install --no-input matplotlib\n",
    "!pip install --no-input pandas"
   ]
  },
  {
   "cell_type": "code",
   "execution_count": 4,
   "metadata": {},
   "outputs": [],
   "source": [
    "# Import the practice dataset\n",
    "from sklearn.datasets import make_moons\n",
    "\n",
    "X, y = make_moons(n_samples=500, noise=0.2, random_state=42)"
   ]
  },
  {
   "cell_type": "code",
   "execution_count": 5,
   "metadata": {},
   "outputs": [
    {
     "name": "stdout",
     "output_type": "stream",
     "text": [
      "Collecting seaborn\n",
      "  Using cached seaborn-0.11.1-py3-none-any.whl (285 kB)\n",
      "Requirement already satisfied: pandas>=0.23 in /Users/stefanroth/anaconda3/envs/dl/lib/python3.8/site-packages (from seaborn) (1.2.3)\n",
      "Requirement already satisfied: numpy>=1.15 in /Users/stefanroth/anaconda3/envs/dl/lib/python3.8/site-packages (from seaborn) (1.19.5)\n",
      "Requirement already satisfied: matplotlib>=2.2 in /Users/stefanroth/anaconda3/envs/dl/lib/python3.8/site-packages (from seaborn) (3.3.4)\n",
      "Requirement already satisfied: scipy>=1.0 in /Users/stefanroth/anaconda3/envs/dl/lib/python3.8/site-packages (from seaborn) (1.6.1)\n",
      "Requirement already satisfied: python-dateutil>=2.1 in /Users/stefanroth/anaconda3/envs/dl/lib/python3.8/site-packages (from matplotlib>=2.2->seaborn) (2.8.1)\n",
      "Requirement already satisfied: cycler>=0.10 in /Users/stefanroth/anaconda3/envs/dl/lib/python3.8/site-packages (from matplotlib>=2.2->seaborn) (0.10.0)\n",
      "Requirement already satisfied: pillow>=6.2.0 in /Users/stefanroth/anaconda3/envs/dl/lib/python3.8/site-packages (from matplotlib>=2.2->seaborn) (8.1.2)\n",
      "Requirement already satisfied: pyparsing!=2.0.4,!=2.1.2,!=2.1.6,>=2.0.3 in /Users/stefanroth/anaconda3/envs/dl/lib/python3.8/site-packages (from matplotlib>=2.2->seaborn) (2.4.7)\n",
      "Requirement already satisfied: kiwisolver>=1.0.1 in /Users/stefanroth/anaconda3/envs/dl/lib/python3.8/site-packages (from matplotlib>=2.2->seaborn) (1.3.1)\n",
      "Requirement already satisfied: six in /Users/stefanroth/anaconda3/envs/dl/lib/python3.8/site-packages (from cycler>=0.10->matplotlib>=2.2->seaborn) (1.15.0)\n",
      "Requirement already satisfied: pytz>=2017.3 in /Users/stefanroth/anaconda3/envs/dl/lib/python3.8/site-packages (from pandas>=0.23->seaborn) (2021.1)\n",
      "Installing collected packages: seaborn\n",
      "Successfully installed seaborn-0.11.1\n"
     ]
    }
   ],
   "source": [
    "!pip install seaborn"
   ]
  },
  {
   "cell_type": "code",
   "execution_count": 6,
   "metadata": {},
   "outputs": [],
   "source": [
    "import seaborn as sns"
   ]
  },
  {
   "cell_type": "code",
   "execution_count": 9,
   "metadata": {},
   "outputs": [
    {
     "data": {
      "text/plain": [
       "<AxesSubplot:>"
      ]
     },
     "execution_count": 9,
     "metadata": {},
     "output_type": "execute_result"
    },
    {
     "data": {
      "image/png": "[encoded data removed]",
      "text/plain": [
       "<Figure size 432x288 with 1 Axes>"
      ]
     },
     "metadata": {
      "needs_background": "light"
     },
     "output_type": "display_data"
    }
   ],
   "source": [
    "sns.scatterplot(x=X[:,0], y=X[:,1], hue=y)"
   ]
  },
  {
   "cell_type": "code",
   "execution_count": 10,
   "metadata": {},
   "outputs": [
    {
     "data": {
      "text/plain": [
       "(500, 2)"
      ]
     },
     "execution_count": 10,
     "metadata": {},
     "output_type": "execute_result"
    }
   ],
   "source": [
    "# Inspect the shape of X\n",
    "X.shape"
   ]
  },
  {
   "cell_type": "code",
   "execution_count": 11,
   "metadata": {},
   "outputs": [
    {
     "data": {
      "text/plain": [
       "(500,)"
      ]
     },
     "execution_count": 11,
     "metadata": {},
     "output_type": "execute_result"
    }
   ],
   "source": [
    "# Inspect the shape of y\n",
    "y.shape"
   ]
  },
  {
   "cell_type": "markdown",
   "metadata": {},
   "source": [
    "**Making a Feed-Forward Network**"
   ]
  },
  {
   "cell_type": "code",
   "execution_count": 12,
   "metadata": {},
   "outputs": [],
   "source": [
    "from tensorflow.keras.models import Sequential # This class allows you to build Neural Networks using the Keras building blocks\n",
    "from tensorflow.keras.layers import Dense # Dense layer is a fully connected layer"
   ]
  },
  {
   "cell_type": "code",
   "execution_count": 14,
   "metadata": {},
   "outputs": [
    {
     "data": {
      "text/plain": [
       "(2,)"
      ]
     },
     "execution_count": 14,
     "metadata": {},
     "output_type": "execute_result"
    }
   ],
   "source": [
    "# Understand the input shape of each single entry in X\n",
    "X[0].shape"
   ]
  },
  {
   "cell_type": "code",
   "execution_count": 15,
   "metadata": {},
   "outputs": [],
   "source": [
    "# Define the model - instantiate and object of the class Sequential\n",
    "m = Sequential([\n",
    "    Dense(units=2, input_shape=(2,), activation='sigmoid'),\n",
    "    # units: # of neurons in the layer, \n",
    "    # input_shape: Shape of the input data\n",
    "    # activation: Activation function of the neurons of the layer\n",
    "    Dense(units=1, activation='sigmoid')\n",
    "])"
   ]
  },
  {
   "cell_type": "code",
   "execution_count": 16,
   "metadata": {},
   "outputs": [
    {
     "name": "stdout",
     "output_type": "stream",
     "text": [
      "Model: \"sequential\"\n",
      "_________________________________________________________________\n",
      "Layer (type)                 Output Shape              Param #   \n",
      "=================================================================\n",
      "dense (Dense)                (None, 2)                 6         \n",
      "_________________________________________________________________\n",
      "dense_1 (Dense)              (None, 1)                 3         \n",
      "=================================================================\n",
      "Total params: 9\n",
      "Trainable params: 9\n",
      "Non-trainable params: 0\n",
      "_________________________________________________________________\n"
     ]
    }
   ],
   "source": [
    "# Look at the summary of the model\n",
    "m.summary()"
   ]
  },
  {
   "cell_type": "markdown",
   "metadata": {},
   "source": [
    "**At this point, in sklearn, we would jump straight to m.fit()**\n",
    "- But in Keras, there's one extra step:\n",
    "    - compilation: compiling the python code you wrote into lower-level c++ code for better performance."
   ]
  },
  {
   "cell_type": "code",
   "execution_count": 17,
   "metadata": {},
   "outputs": [],
   "source": [
    "m.compile(optimizer='rmsprop', loss='binary_crossentropy', metrics=['accuracy'])\n",
    "# optimizer: Algorithm that is used to fit the weights\n",
    "# loss: The loss function the model is trained with; In case of a binary classification, we will use binary_crossentropy\n",
    "# metrics: A metric that is stored over the whole training of the model for later inspection"
   ]
  },
  {
   "cell_type": "markdown",
   "metadata": {},
   "source": [
    "**Now we can train**: 🚃\n",
    "- we can save our fitting history to our variable"
   ]
  },
  {
   "cell_type": "code",
   "execution_count": 18,
   "metadata": {},
   "outputs": [
    {
     "name": "stdout",
     "output_type": "stream",
     "text": [
      "Epoch 1/100\n",
      "13/13 [==============================] - 1s 55ms/step - loss: 0.6060 - accuracy: 0.7469 - val_loss: 0.5965 - val_accuracy: 0.7900\n",
      "Epoch 2/100\n",
      "13/13 [==============================] - 0s 4ms/step - loss: 0.6077 - accuracy: 0.7371 - val_loss: 0.5942 - val_accuracy: 0.7800\n",
      "Epoch 3/100\n",
      "13/13 [==============================] - 0s 5ms/step - loss: 0.5915 - accuracy: 0.7667 - val_loss: 0.5922 - val_accuracy: 0.7600\n",
      "Epoch 4/100\n",
      "13/13 [==============================] - 0s 4ms/step - loss: 0.6005 - accuracy: 0.7621 - val_loss: 0.5902 - val_accuracy: 0.7500\n",
      "Epoch 5/100\n",
      "13/13 [==============================] - 0s 5ms/step - loss: 0.5882 - accuracy: 0.7885 - val_loss: 0.5883 - val_accuracy: 0.7600\n",
      "Epoch 6/100\n",
      "13/13 [==============================] - 0s 5ms/step - loss: 0.5843 - accuracy: 0.7774 - val_loss: 0.5863 - val_accuracy: 0.7400\n",
      "Epoch 7/100\n",
      "13/13 [==============================] - 0s 4ms/step - loss: 0.5810 - accuracy: 0.7806 - val_loss: 0.5844 - val_accuracy: 0.7400\n",
      "Epoch 8/100\n",
      "13/13 [==============================] - 0s 4ms/step - loss: 0.5857 - accuracy: 0.7413 - val_loss: 0.5825 - val_accuracy: 0.7400\n",
      "Epoch 9/100\n",
      "13/13 [==============================] - 0s 5ms/step - loss: 0.5752 - accuracy: 0.7870 - val_loss: 0.5807 - val_accuracy: 0.7400\n",
      "Epoch 10/100\n",
      "13/13 [==============================] - 0s 5ms/step - loss: 0.5835 - accuracy: 0.7684 - val_loss: 0.5789 - val_accuracy: 0.7500\n",
      "Epoch 11/100\n",
      "13/13 [==============================] - 0s 5ms/step - loss: 0.5855 - accuracy: 0.7476 - val_loss: 0.5771 - val_accuracy: 0.7600\n",
      "Epoch 12/100\n",
      "13/13 [==============================] - 0s 5ms/step - loss: 0.5651 - accuracy: 0.8013 - val_loss: 0.5752 - val_accuracy: 0.7600\n",
      "Epoch 13/100\n",
      "13/13 [==============================] - 0s 5ms/step - loss: 0.5767 - accuracy: 0.7725 - val_loss: 0.5734 - val_accuracy: 0.7700\n",
      "Epoch 14/100\n",
      "13/13 [==============================] - 0s 5ms/step - loss: 0.5658 - accuracy: 0.7746 - val_loss: 0.5717 - val_accuracy: 0.7700\n",
      "Epoch 15/100\n",
      "13/13 [==============================] - 0s 5ms/step - loss: 0.5677 - accuracy: 0.7780 - val_loss: 0.5698 - val_accuracy: 0.7700\n",
      "Epoch 16/100\n",
      "13/13 [==============================] - 0s 5ms/step - loss: 0.5615 - accuracy: 0.7841 - val_loss: 0.5679 - val_accuracy: 0.7700\n",
      "Epoch 17/100\n",
      "13/13 [==============================] - 0s 5ms/step - loss: 0.5668 - accuracy: 0.7666 - val_loss: 0.5658 - val_accuracy: 0.7700\n",
      "Epoch 18/100\n",
      "13/13 [==============================] - 0s 5ms/step - loss: 0.5639 - accuracy: 0.7781 - val_loss: 0.5639 - val_accuracy: 0.7700\n",
      "Epoch 19/100\n",
      "13/13 [==============================] - 0s 4ms/step - loss: 0.5626 - accuracy: 0.7595 - val_loss: 0.5620 - val_accuracy: 0.7700\n",
      "Epoch 20/100\n",
      "13/13 [==============================] - 0s 5ms/step - loss: 0.5547 - accuracy: 0.7857 - val_loss: 0.5600 - val_accuracy: 0.7800\n",
      "Epoch 21/100\n",
      "13/13 [==============================] - 0s 4ms/step - loss: 0.5478 - accuracy: 0.7720 - val_loss: 0.5580 - val_accuracy: 0.7800\n",
      "Epoch 22/100\n",
      "13/13 [==============================] - 0s 4ms/step - loss: 0.5523 - accuracy: 0.7786 - val_loss: 0.5562 - val_accuracy: 0.7800\n",
      "Epoch 23/100\n",
      "13/13 [==============================] - 0s 5ms/step - loss: 0.5485 - accuracy: 0.7720 - val_loss: 0.5542 - val_accuracy: 0.7800\n",
      "Epoch 24/100\n",
      "13/13 [==============================] - 0s 5ms/step - loss: 0.5418 - accuracy: 0.7990 - val_loss: 0.5521 - val_accuracy: 0.7800\n",
      "Epoch 25/100\n",
      "13/13 [==============================] - 0s 5ms/step - loss: 0.5417 - accuracy: 0.7689 - val_loss: 0.5502 - val_accuracy: 0.7800\n",
      "Epoch 26/100\n",
      "13/13 [==============================] - 0s 5ms/step - loss: 0.5391 - accuracy: 0.7970 - val_loss: 0.5481 - val_accuracy: 0.7800\n",
      "Epoch 27/100\n",
      "13/13 [==============================] - 0s 14ms/step - loss: 0.5441 - accuracy: 0.7654 - val_loss: 0.5462 - val_accuracy: 0.7800\n",
      "Epoch 28/100\n",
      "13/13 [==============================] - 0s 6ms/step - loss: 0.5438 - accuracy: 0.7650 - val_loss: 0.5441 - val_accuracy: 0.7800\n",
      "Epoch 29/100\n",
      "13/13 [==============================] - 0s 5ms/step - loss: 0.5124 - accuracy: 0.8166 - val_loss: 0.5421 - val_accuracy: 0.7800\n",
      "Epoch 30/100\n",
      "13/13 [==============================] - 0s 5ms/step - loss: 0.5321 - accuracy: 0.7761 - val_loss: 0.5404 - val_accuracy: 0.8000\n",
      "Epoch 31/100\n",
      "13/13 [==============================] - 0s 5ms/step - loss: 0.5285 - accuracy: 0.7871 - val_loss: 0.5384 - val_accuracy: 0.8100\n",
      "Epoch 32/100\n",
      "13/13 [==============================] - 0s 5ms/step - loss: 0.5302 - accuracy: 0.7770 - val_loss: 0.5365 - val_accuracy: 0.8100\n",
      "Epoch 33/100\n",
      "13/13 [==============================] - 0s 4ms/step - loss: 0.5256 - accuracy: 0.7765 - val_loss: 0.5345 - val_accuracy: 0.8100\n",
      "Epoch 34/100\n",
      "13/13 [==============================] - 0s 5ms/step - loss: 0.5198 - accuracy: 0.7889 - val_loss: 0.5326 - val_accuracy: 0.8200\n",
      "Epoch 35/100\n",
      "13/13 [==============================] - 0s 4ms/step - loss: 0.5198 - accuracy: 0.7701 - val_loss: 0.5307 - val_accuracy: 0.8200\n",
      "Epoch 36/100\n",
      "13/13 [==============================] - 0s 5ms/step - loss: 0.5194 - accuracy: 0.7780 - val_loss: 0.5287 - val_accuracy: 0.8200\n",
      "Epoch 37/100\n",
      "13/13 [==============================] - 0s 4ms/step - loss: 0.5249 - accuracy: 0.7667 - val_loss: 0.5268 - val_accuracy: 0.8200\n",
      "Epoch 38/100\n",
      "13/13 [==============================] - 0s 5ms/step - loss: 0.5073 - accuracy: 0.8041 - val_loss: 0.5248 - val_accuracy: 0.8200\n",
      "Epoch 39/100\n",
      "13/13 [==============================] - 0s 4ms/step - loss: 0.5084 - accuracy: 0.8031 - val_loss: 0.5229 - val_accuracy: 0.8200\n",
      "Epoch 40/100\n",
      "13/13 [==============================] - 0s 5ms/step - loss: 0.5052 - accuracy: 0.7886 - val_loss: 0.5210 - val_accuracy: 0.8200\n",
      "Epoch 41/100\n",
      "13/13 [==============================] - 0s 4ms/step - loss: 0.5004 - accuracy: 0.7967 - val_loss: 0.5192 - val_accuracy: 0.8200\n",
      "Epoch 42/100\n",
      "13/13 [==============================] - 0s 4ms/step - loss: 0.5121 - accuracy: 0.7747 - val_loss: 0.5172 - val_accuracy: 0.8200\n",
      "Epoch 43/100\n",
      "13/13 [==============================] - 0s 4ms/step - loss: 0.5092 - accuracy: 0.7916 - val_loss: 0.5154 - val_accuracy: 0.8200\n",
      "Epoch 44/100\n",
      "13/13 [==============================] - 0s 4ms/step - loss: 0.5037 - accuracy: 0.7815 - val_loss: 0.5136 - val_accuracy: 0.8200\n",
      "Epoch 45/100\n",
      "13/13 [==============================] - 0s 4ms/step - loss: 0.4976 - accuracy: 0.7856 - val_loss: 0.5117 - val_accuracy: 0.8200\n",
      "Epoch 46/100\n",
      "13/13 [==============================] - 0s 4ms/step - loss: 0.5077 - accuracy: 0.7716 - val_loss: 0.5099 - val_accuracy: 0.8200\n",
      "Epoch 47/100\n",
      "13/13 [==============================] - 0s 4ms/step - loss: 0.5031 - accuracy: 0.7819 - val_loss: 0.5079 - val_accuracy: 0.8200\n",
      "Epoch 48/100\n",
      "13/13 [==============================] - 0s 4ms/step - loss: 0.5001 - accuracy: 0.7836 - val_loss: 0.5058 - val_accuracy: 0.8200\n",
      "Epoch 49/100\n",
      "13/13 [==============================] - 0s 5ms/step - loss: 0.4802 - accuracy: 0.8080 - val_loss: 0.5039 - val_accuracy: 0.8200\n",
      "Epoch 50/100\n",
      "13/13 [==============================] - 0s 4ms/step - loss: 0.4884 - accuracy: 0.7914 - val_loss: 0.5019 - val_accuracy: 0.8200\n",
      "Epoch 51/100\n",
      "13/13 [==============================] - 0s 4ms/step - loss: 0.4893 - accuracy: 0.7991 - val_loss: 0.5002 - val_accuracy: 0.8200\n",
      "Epoch 52/100\n",
      "13/13 [==============================] - 0s 4ms/step - loss: 0.4729 - accuracy: 0.8154 - val_loss: 0.4983 - val_accuracy: 0.8200\n",
      "Epoch 53/100\n",
      "13/13 [==============================] - 0s 5ms/step - loss: 0.4905 - accuracy: 0.7783 - val_loss: 0.4963 - val_accuracy: 0.8200\n",
      "Epoch 54/100\n",
      "13/13 [==============================] - 0s 4ms/step - loss: 0.4883 - accuracy: 0.7877 - val_loss: 0.4946 - val_accuracy: 0.8200\n",
      "Epoch 55/100\n",
      "13/13 [==============================] - 0s 4ms/step - loss: 0.4803 - accuracy: 0.7955 - val_loss: 0.4929 - val_accuracy: 0.8200\n",
      "Epoch 56/100\n",
      "13/13 [==============================] - 0s 4ms/step - loss: 0.4863 - accuracy: 0.7791 - val_loss: 0.4912 - val_accuracy: 0.8200\n",
      "Epoch 57/100\n",
      "13/13 [==============================] - 0s 5ms/step - loss: 0.4708 - accuracy: 0.8151 - val_loss: 0.4895 - val_accuracy: 0.8200\n",
      "Epoch 58/100\n",
      "13/13 [==============================] - 0s 4ms/step - loss: 0.5040 - accuracy: 0.7503 - val_loss: 0.4878 - val_accuracy: 0.8200\n",
      "Epoch 59/100\n",
      "13/13 [==============================] - 0s 5ms/step - loss: 0.4709 - accuracy: 0.8043 - val_loss: 0.4861 - val_accuracy: 0.8200\n",
      "Epoch 60/100\n",
      "13/13 [==============================] - 0s 4ms/step - loss: 0.4687 - accuracy: 0.8027 - val_loss: 0.4845 - val_accuracy: 0.8200\n",
      "Epoch 61/100\n",
      "13/13 [==============================] - 0s 4ms/step - loss: 0.4791 - accuracy: 0.7786 - val_loss: 0.4829 - val_accuracy: 0.8200\n",
      "Epoch 62/100\n",
      "13/13 [==============================] - 0s 14ms/step - loss: 0.4629 - accuracy: 0.8166 - val_loss: 0.4812 - val_accuracy: 0.8200\n",
      "Epoch 63/100\n",
      "13/13 [==============================] - 0s 4ms/step - loss: 0.4601 - accuracy: 0.8128 - val_loss: 0.4796 - val_accuracy: 0.8200\n",
      "Epoch 64/100\n",
      "13/13 [==============================] - 0s 4ms/step - loss: 0.4716 - accuracy: 0.7873 - val_loss: 0.4778 - val_accuracy: 0.8200\n",
      "Epoch 65/100\n",
      "13/13 [==============================] - 0s 4ms/step - loss: 0.4602 - accuracy: 0.8205 - val_loss: 0.4761 - val_accuracy: 0.8200\n",
      "Epoch 66/100\n",
      "13/13 [==============================] - 0s 4ms/step - loss: 0.4886 - accuracy: 0.7723 - val_loss: 0.4743 - val_accuracy: 0.8200\n",
      "Epoch 67/100\n",
      "13/13 [==============================] - 0s 4ms/step - loss: 0.4623 - accuracy: 0.8051 - val_loss: 0.4726 - val_accuracy: 0.8200\n",
      "Epoch 68/100\n",
      "13/13 [==============================] - 0s 4ms/step - loss: 0.4582 - accuracy: 0.8094 - val_loss: 0.4709 - val_accuracy: 0.8200\n",
      "Epoch 69/100\n",
      "13/13 [==============================] - 0s 4ms/step - loss: 0.4587 - accuracy: 0.8109 - val_loss: 0.4693 - val_accuracy: 0.8200\n",
      "Epoch 70/100\n",
      "13/13 [==============================] - 0s 5ms/step - loss: 0.4453 - accuracy: 0.8278 - val_loss: 0.4677 - val_accuracy: 0.8200\n",
      "Epoch 71/100\n",
      "13/13 [==============================] - 0s 4ms/step - loss: 0.4521 - accuracy: 0.7959 - val_loss: 0.4659 - val_accuracy: 0.8200\n",
      "Epoch 72/100\n",
      "13/13 [==============================] - 0s 4ms/step - loss: 0.4498 - accuracy: 0.8061 - val_loss: 0.4643 - val_accuracy: 0.8200\n",
      "Epoch 73/100\n",
      "13/13 [==============================] - 0s 4ms/step - loss: 0.4544 - accuracy: 0.8100 - val_loss: 0.4628 - val_accuracy: 0.8200\n",
      "Epoch 74/100\n",
      "13/13 [==============================] - 0s 5ms/step - loss: 0.4406 - accuracy: 0.8086 - val_loss: 0.4611 - val_accuracy: 0.8200\n",
      "Epoch 75/100\n",
      "13/13 [==============================] - 0s 4ms/step - loss: 0.4383 - accuracy: 0.8234 - val_loss: 0.4594 - val_accuracy: 0.8200\n",
      "Epoch 76/100\n",
      "13/13 [==============================] - 0s 4ms/step - loss: 0.4485 - accuracy: 0.8004 - val_loss: 0.4579 - val_accuracy: 0.8200\n",
      "Epoch 77/100\n",
      "13/13 [==============================] - 0s 4ms/step - loss: 0.4394 - accuracy: 0.8121 - val_loss: 0.4564 - val_accuracy: 0.8300\n",
      "Epoch 78/100\n",
      "13/13 [==============================] - 0s 4ms/step - loss: 0.4391 - accuracy: 0.8187 - val_loss: 0.4549 - val_accuracy: 0.8300\n",
      "Epoch 79/100\n",
      "13/13 [==============================] - 0s 4ms/step - loss: 0.4484 - accuracy: 0.7875 - val_loss: 0.4533 - val_accuracy: 0.8300\n",
      "Epoch 80/100\n",
      "13/13 [==============================] - 0s 5ms/step - loss: 0.4437 - accuracy: 0.8069 - val_loss: 0.4518 - val_accuracy: 0.8300\n",
      "Epoch 81/100\n",
      "13/13 [==============================] - 0s 4ms/step - loss: 0.4522 - accuracy: 0.7930 - val_loss: 0.4502 - val_accuracy: 0.8300\n",
      "Epoch 82/100\n",
      "13/13 [==============================] - 0s 4ms/step - loss: 0.4428 - accuracy: 0.7882 - val_loss: 0.4487 - val_accuracy: 0.8300\n",
      "Epoch 83/100\n",
      "13/13 [==============================] - 0s 4ms/step - loss: 0.4557 - accuracy: 0.7769 - val_loss: 0.4473 - val_accuracy: 0.8300\n",
      "Epoch 84/100\n",
      "13/13 [==============================] - 0s 4ms/step - loss: 0.4394 - accuracy: 0.8051 - val_loss: 0.4458 - val_accuracy: 0.8300\n",
      "Epoch 85/100\n",
      "13/13 [==============================] - 0s 4ms/step - loss: 0.4221 - accuracy: 0.8171 - val_loss: 0.4444 - val_accuracy: 0.8300\n",
      "Epoch 86/100\n",
      "13/13 [==============================] - 0s 3ms/step - loss: 0.4382 - accuracy: 0.8007 - val_loss: 0.4430 - val_accuracy: 0.8300\n",
      "Epoch 87/100\n",
      "13/13 [==============================] - 0s 4ms/step - loss: 0.4382 - accuracy: 0.7921 - val_loss: 0.4416 - val_accuracy: 0.8300\n",
      "Epoch 88/100\n",
      "13/13 [==============================] - 0s 4ms/step - loss: 0.4117 - accuracy: 0.8271 - val_loss: 0.4401 - val_accuracy: 0.8300\n",
      "Epoch 89/100\n",
      "13/13 [==============================] - 0s 4ms/step - loss: 0.4088 - accuracy: 0.8241 - val_loss: 0.4386 - val_accuracy: 0.8300\n",
      "Epoch 90/100\n",
      "13/13 [==============================] - 0s 4ms/step - loss: 0.4170 - accuracy: 0.8228 - val_loss: 0.4372 - val_accuracy: 0.8300\n",
      "Epoch 91/100\n",
      "13/13 [==============================] - 0s 4ms/step - loss: 0.4552 - accuracy: 0.7691 - val_loss: 0.4359 - val_accuracy: 0.8300\n",
      "Epoch 92/100\n",
      "13/13 [==============================] - 0s 4ms/step - loss: 0.4375 - accuracy: 0.7978 - val_loss: 0.4345 - val_accuracy: 0.8300\n",
      "Epoch 93/100\n",
      "13/13 [==============================] - 0s 4ms/step - loss: 0.3970 - accuracy: 0.8263 - val_loss: 0.4332 - val_accuracy: 0.8300\n",
      "Epoch 94/100\n",
      "13/13 [==============================] - 0s 4ms/step - loss: 0.4084 - accuracy: 0.8323 - val_loss: 0.4316 - val_accuracy: 0.8300\n",
      "Epoch 95/100\n",
      "13/13 [==============================] - 0s 4ms/step - loss: 0.4370 - accuracy: 0.7821 - val_loss: 0.4302 - val_accuracy: 0.8300\n",
      "Epoch 96/100\n",
      "13/13 [==============================] - 0s 4ms/step - loss: 0.4284 - accuracy: 0.7803 - val_loss: 0.4288 - val_accuracy: 0.8300\n",
      "Epoch 97/100\n",
      "13/13 [==============================] - 0s 4ms/step - loss: 0.4056 - accuracy: 0.8225 - val_loss: 0.4275 - val_accuracy: 0.8300\n",
      "Epoch 98/100\n",
      "13/13 [==============================] - 0s 4ms/step - loss: 0.4302 - accuracy: 0.7735 - val_loss: 0.4263 - val_accuracy: 0.8300\n",
      "Epoch 99/100\n",
      "13/13 [==============================] - 0s 4ms/step - loss: 0.4146 - accuracy: 0.8014 - val_loss: 0.4250 - val_accuracy: 0.8300\n",
      "Epoch 100/100\n",
      "13/13 [==============================] - 0s 5ms/step - loss: 0.4154 - accuracy: 0.8053 - val_loss: 0.4239 - val_accuracy: 0.8300\n"
     ]
    }
   ],
   "source": [
    "history = m.fit(X, y, batch_size=32, epochs=100, validation_split=0.2)\n",
    "# batch_size: \n",
    "# epochs: How often do we repeat the training on the whole training data; similar to max_iter in an sklearn model\n",
    "# validation_split: Determines which fraction of the data is used as a validation set"
   ]
  },
  {
   "cell_type": "markdown",
   "metadata": {},
   "source": [
    "**And plot the results!**"
   ]
  },
  {
   "cell_type": "code",
   "execution_count": 19,
   "metadata": {},
   "outputs": [],
   "source": [
    "import matplotlib.pyplot as plt\n",
    "\n",
    "plt.rcParams['figure.figsize']=(12,6)"
   ]
  },
  {
   "cell_type": "code",
   "execution_count": 20,
   "metadata": {},
   "outputs": [
    {
     "data": {
      "image/png": "[encoded data removed]",
      "text/plain": [
       "<Figure size 864x432 with 1 Axes>"
      ]
     },
     "metadata": {
      "needs_background": "light"
     },
     "output_type": "display_data"
    }
   ],
   "source": [
    "plt.plot(history.history['loss'], label='training_loss')\n",
    "plt.plot(history.history['val_loss'], label='validation_loss')\n",
    "plt.title('Training and Validation Loss')\n",
    "plt.xlabel('Epoch')\n",
    "plt.ylabel('Loss')\n",
    "plt.legend()\n",
    "plt.show()"
   ]
  },
  {
   "cell_type": "code",
   "execution_count": 21,
   "metadata": {},
   "outputs": [
    {
     "data": {
      "image/png": "[encoded data removed]",
      "text/plain": [
       "<Figure size 864x432 with 1 Axes>"
      ]
     },
     "metadata": {
      "needs_background": "light"
     },
     "output_type": "display_data"
    }
   ],
   "source": [
    "plt.plot(history.history['accuracy'], label='training_accuracy')\n",
    "plt.plot(history.history['val_accuracy'], label='validation_accuracy')\n",
    "plt.title('Training and Validation Accuracy')\n",
    "plt.xlabel('Epoch')\n",
    "plt.ylabel('Accuracy')\n",
    "plt.legend()\n",
    "plt.show()"
   ]
  },
  {
   "cell_type": "code",
   "execution_count": 22,
   "metadata": {},
   "outputs": [
    {
     "name": "stdout",
     "output_type": "stream",
     "text": [
      "16/16 [==============================] - 0s 837us/step - loss: 0.4148 - accuracy: 0.8140\n"
     ]
    },
    {
     "data": {
      "text/plain": [
       "[0.41483375430107117, 0.8140000104904175]"
      ]
     },
     "execution_count": 22,
     "metadata": {},
     "output_type": "execute_result"
    }
   ],
   "source": [
    "# Evaluate the model\n",
    "m.evaluate(X, y)"
   ]
  },
  {
   "cell_type": "code",
   "execution_count": 23,
   "metadata": {},
   "outputs": [
    {
     "data": {
      "text/plain": [
       "array([[0.72435087],\n",
       "       [0.3931658 ],\n",
       "       [0.7749614 ],\n",
       "       [0.17680347],\n",
       "       [0.20194674],\n",
       "       [0.7930764 ],\n",
       "       [0.75396335],\n",
       "       [0.18360782],\n",
       "       [0.3583251 ],\n",
       "       [0.8048457 ],\n",
       "       [0.681996  ],\n",
       "       [0.20377722],\n",
       "       [0.81645334],\n",
       "       [0.26444036],\n",
       "       [0.7955306 ],\n",
       "       [0.79207575],\n",
       "       [0.76487166],\n",
       "       [0.52138215],\n",
       "       [0.74355215],\n",
       "       [0.8046886 ],\n",
       "       [0.76808316],\n",
       "       [0.77381027],\n",
       "       [0.28236228],\n",
       "       [0.74276686],\n",
       "       [0.3495408 ],\n",
       "       [0.6740727 ],\n",
       "       [0.7370644 ],\n",
       "       [0.1717889 ],\n",
       "       [0.18488798],\n",
       "       [0.6366521 ],\n",
       "       [0.79683924],\n",
       "       [0.59897727],\n",
       "       [0.81015563],\n",
       "       [0.16167122],\n",
       "       [0.59735984],\n",
       "       [0.70803034],\n",
       "       [0.7666526 ],\n",
       "       [0.37267303],\n",
       "       [0.15525877],\n",
       "       [0.3292514 ],\n",
       "       [0.8070457 ],\n",
       "       [0.1977765 ],\n",
       "       [0.7144993 ],\n",
       "       [0.1771628 ],\n",
       "       [0.60885197],\n",
       "       [0.35296   ],\n",
       "       [0.6853035 ],\n",
       "       [0.6189971 ],\n",
       "       [0.80561733],\n",
       "       [0.55199575],\n",
       "       [0.20010418],\n",
       "       [0.1406152 ],\n",
       "       [0.17729354],\n",
       "       [0.78398705],\n",
       "       [0.16176918],\n",
       "       [0.2824914 ],\n",
       "       [0.1734303 ],\n",
       "       [0.58462876],\n",
       "       [0.15739095],\n",
       "       [0.20933026],\n",
       "       [0.7626635 ],\n",
       "       [0.2806717 ],\n",
       "       [0.6050961 ],\n",
       "       [0.7925688 ],\n",
       "       [0.22108585],\n",
       "       [0.447558  ],\n",
       "       [0.80136883],\n",
       "       [0.3760807 ],\n",
       "       [0.23005825],\n",
       "       [0.7890945 ],\n",
       "       [0.77662385],\n",
       "       [0.7463611 ],\n",
       "       [0.32181323],\n",
       "       [0.32877237],\n",
       "       [0.6028344 ],\n",
       "       [0.5762146 ],\n",
       "       [0.23575747],\n",
       "       [0.33696854],\n",
       "       [0.79622793],\n",
       "       [0.79633343],\n",
       "       [0.13991404],\n",
       "       [0.23566025],\n",
       "       [0.6674937 ],\n",
       "       [0.1879673 ],\n",
       "       [0.64477193],\n",
       "       [0.2404488 ],\n",
       "       [0.15862426],\n",
       "       [0.77112365],\n",
       "       [0.61373615],\n",
       "       [0.20351794],\n",
       "       [0.7584943 ],\n",
       "       [0.8029889 ],\n",
       "       [0.6941991 ],\n",
       "       [0.6212536 ],\n",
       "       [0.7450721 ],\n",
       "       [0.763663  ],\n",
       "       [0.4067641 ],\n",
       "       [0.5103708 ],\n",
       "       [0.81852436],\n",
       "       [0.7020122 ],\n",
       "       [0.23405728],\n",
       "       [0.8024595 ],\n",
       "       [0.49633458],\n",
       "       [0.52405393],\n",
       "       [0.66019934],\n",
       "       [0.34999004],\n",
       "       [0.5735755 ],\n",
       "       [0.18533266],\n",
       "       [0.64854777],\n",
       "       [0.23169926],\n",
       "       [0.16180527],\n",
       "       [0.79856884],\n",
       "       [0.7054597 ],\n",
       "       [0.66817015],\n",
       "       [0.805406  ],\n",
       "       [0.4683383 ],\n",
       "       [0.19057354],\n",
       "       [0.20041165],\n",
       "       [0.21982715],\n",
       "       [0.5932415 ],\n",
       "       [0.14994317],\n",
       "       [0.1886175 ],\n",
       "       [0.7278241 ],\n",
       "       [0.23337379],\n",
       "       [0.15863645],\n",
       "       [0.16481617],\n",
       "       [0.7919421 ],\n",
       "       [0.15545192],\n",
       "       [0.22776058],\n",
       "       [0.684985  ],\n",
       "       [0.67987835],\n",
       "       [0.22397143],\n",
       "       [0.80666435],\n",
       "       [0.31616277],\n",
       "       [0.13939229],\n",
       "       [0.34464288],\n",
       "       [0.18118063],\n",
       "       [0.6622359 ],\n",
       "       [0.6008159 ],\n",
       "       [0.34843665],\n",
       "       [0.5184889 ],\n",
       "       [0.18979624],\n",
       "       [0.76301795],\n",
       "       [0.3140139 ],\n",
       "       [0.4275731 ],\n",
       "       [0.29626536],\n",
       "       [0.57262367],\n",
       "       [0.18371394],\n",
       "       [0.33823624],\n",
       "       [0.7974421 ],\n",
       "       [0.66839397],\n",
       "       [0.185846  ],\n",
       "       [0.5984623 ],\n",
       "       [0.5701561 ],\n",
       "       [0.7979827 ],\n",
       "       [0.7846542 ],\n",
       "       [0.64311755],\n",
       "       [0.13646048],\n",
       "       [0.73192734],\n",
       "       [0.5889108 ],\n",
       "       [0.1557706 ],\n",
       "       [0.7024633 ],\n",
       "       [0.776289  ],\n",
       "       [0.48202974],\n",
       "       [0.7768926 ],\n",
       "       [0.78402174],\n",
       "       [0.58599806],\n",
       "       [0.53960466],\n",
       "       [0.7836809 ],\n",
       "       [0.1649198 ],\n",
       "       [0.689347  ],\n",
       "       [0.22345454],\n",
       "       [0.7058641 ],\n",
       "       [0.19062155],\n",
       "       [0.19127631],\n",
       "       [0.15591088],\n",
       "       [0.7421145 ],\n",
       "       [0.1671254 ],\n",
       "       [0.20663166],\n",
       "       [0.7332692 ],\n",
       "       [0.74066085],\n",
       "       [0.15954614],\n",
       "       [0.8014184 ],\n",
       "       [0.3595355 ],\n",
       "       [0.81389844],\n",
       "       [0.21689945],\n",
       "       [0.77943444],\n",
       "       [0.29216197],\n",
       "       [0.18400168],\n",
       "       [0.15412688],\n",
       "       [0.7737867 ],\n",
       "       [0.75742424],\n",
       "       [0.7816615 ],\n",
       "       [0.27098328],\n",
       "       [0.18267527],\n",
       "       [0.20145357],\n",
       "       [0.17943677],\n",
       "       [0.4506411 ],\n",
       "       [0.15809512],\n",
       "       [0.7654108 ],\n",
       "       [0.8000369 ],\n",
       "       [0.3587138 ],\n",
       "       [0.2544756 ],\n",
       "       [0.14060828],\n",
       "       [0.15583682],\n",
       "       [0.19436714],\n",
       "       [0.17956018],\n",
       "       [0.5222862 ],\n",
       "       [0.76434946],\n",
       "       [0.7326696 ],\n",
       "       [0.20726645],\n",
       "       [0.18336305],\n",
       "       [0.7243292 ],\n",
       "       [0.49169174],\n",
       "       [0.3946719 ],\n",
       "       [0.7888695 ],\n",
       "       [0.7740534 ],\n",
       "       [0.17486066],\n",
       "       [0.72937363],\n",
       "       [0.17063534],\n",
       "       [0.7911111 ],\n",
       "       [0.3577823 ],\n",
       "       [0.5309344 ],\n",
       "       [0.15541255],\n",
       "       [0.2054145 ],\n",
       "       [0.7472253 ],\n",
       "       [0.16543767],\n",
       "       [0.7631881 ],\n",
       "       [0.36042172],\n",
       "       [0.4644659 ],\n",
       "       [0.20331478],\n",
       "       [0.31905395],\n",
       "       [0.81247956],\n",
       "       [0.5162722 ],\n",
       "       [0.7828949 ],\n",
       "       [0.6843575 ],\n",
       "       [0.6720126 ],\n",
       "       [0.17190525],\n",
       "       [0.18940985],\n",
       "       [0.15326974],\n",
       "       [0.81201595],\n",
       "       [0.15178066],\n",
       "       [0.79901886],\n",
       "       [0.72776085],\n",
       "       [0.80253446],\n",
       "       [0.33792752],\n",
       "       [0.23668307],\n",
       "       [0.3819208 ],\n",
       "       [0.6096703 ],\n",
       "       [0.14986154],\n",
       "       [0.7799692 ],\n",
       "       [0.49871522],\n",
       "       [0.7906899 ],\n",
       "       [0.17669812],\n",
       "       [0.6170797 ],\n",
       "       [0.80227095],\n",
       "       [0.19635782],\n",
       "       [0.75097376],\n",
       "       [0.18290758],\n",
       "       [0.77825093],\n",
       "       [0.37846982],\n",
       "       [0.20011207],\n",
       "       [0.74859047],\n",
       "       [0.21699923],\n",
       "       [0.18449554],\n",
       "       [0.17360917],\n",
       "       [0.79805267],\n",
       "       [0.2576251 ],\n",
       "       [0.80073845],\n",
       "       [0.1673663 ],\n",
       "       [0.1724909 ],\n",
       "       [0.16163462],\n",
       "       [0.24315938],\n",
       "       [0.7313925 ],\n",
       "       [0.4738772 ],\n",
       "       [0.7886386 ],\n",
       "       [0.79518294],\n",
       "       [0.68447334],\n",
       "       [0.62401766],\n",
       "       [0.17321235],\n",
       "       [0.52572364],\n",
       "       [0.13976768],\n",
       "       [0.7764046 ],\n",
       "       [0.17243502],\n",
       "       [0.20227978],\n",
       "       [0.8028969 ],\n",
       "       [0.30600852],\n",
       "       [0.7889117 ],\n",
       "       [0.80300385],\n",
       "       [0.35560113],\n",
       "       [0.72458947],\n",
       "       [0.32610404],\n",
       "       [0.7961434 ],\n",
       "       [0.6266914 ],\n",
       "       [0.21476468],\n",
       "       [0.15414488],\n",
       "       [0.5318705 ],\n",
       "       [0.81191415],\n",
       "       [0.7873322 ],\n",
       "       [0.76818466],\n",
       "       [0.78531057],\n",
       "       [0.22016549],\n",
       "       [0.4229396 ],\n",
       "       [0.19262463],\n",
       "       [0.18253589],\n",
       "       [0.15091309],\n",
       "       [0.3120007 ],\n",
       "       [0.15943575],\n",
       "       [0.18832278],\n",
       "       [0.18627551],\n",
       "       [0.74207366],\n",
       "       [0.14992192],\n",
       "       [0.78566587],\n",
       "       [0.7946637 ],\n",
       "       [0.17400938],\n",
       "       [0.35828328],\n",
       "       [0.76530886],\n",
       "       [0.21325937],\n",
       "       [0.7811129 ],\n",
       "       [0.63243973],\n",
       "       [0.19060656],\n",
       "       [0.8057227 ],\n",
       "       [0.4961904 ],\n",
       "       [0.7797409 ],\n",
       "       [0.29775918],\n",
       "       [0.46848172],\n",
       "       [0.26973712],\n",
       "       [0.19924706],\n",
       "       [0.14944622],\n",
       "       [0.76945853],\n",
       "       [0.1869612 ],\n",
       "       [0.60729975],\n",
       "       [0.52215755],\n",
       "       [0.63475883],\n",
       "       [0.16034365],\n",
       "       [0.166008  ],\n",
       "       [0.8159406 ],\n",
       "       [0.5389709 ],\n",
       "       [0.19877067],\n",
       "       [0.28831714],\n",
       "       [0.36137423],\n",
       "       [0.16330284],\n",
       "       [0.7637836 ],\n",
       "       [0.76994884],\n",
       "       [0.14870685],\n",
       "       [0.62254417],\n",
       "       [0.6969811 ],\n",
       "       [0.7919147 ],\n",
       "       [0.13591123],\n",
       "       [0.3163436 ],\n",
       "       [0.3273378 ],\n",
       "       [0.7893431 ],\n",
       "       [0.58362776],\n",
       "       [0.34474725],\n",
       "       [0.7594636 ],\n",
       "       [0.19071823],\n",
       "       [0.20304713],\n",
       "       [0.8197758 ],\n",
       "       [0.17008239],\n",
       "       [0.17624706],\n",
       "       [0.18232673],\n",
       "       [0.4706096 ],\n",
       "       [0.16691178],\n",
       "       [0.35646445],\n",
       "       [0.375413  ],\n",
       "       [0.65022147],\n",
       "       [0.36662397],\n",
       "       [0.6397087 ],\n",
       "       [0.16579312],\n",
       "       [0.8007268 ],\n",
       "       [0.51958144],\n",
       "       [0.793347  ],\n",
       "       [0.1860674 ],\n",
       "       [0.27351847],\n",
       "       [0.36520684],\n",
       "       [0.2032721 ],\n",
       "       [0.8055759 ],\n",
       "       [0.15945002],\n",
       "       [0.50036937],\n",
       "       [0.19374067],\n",
       "       [0.2590622 ],\n",
       "       [0.805838  ],\n",
       "       [0.6633798 ],\n",
       "       [0.6182836 ],\n",
       "       [0.7303685 ],\n",
       "       [0.22211921],\n",
       "       [0.5441245 ],\n",
       "       [0.6912055 ],\n",
       "       [0.17965388],\n",
       "       [0.58269197],\n",
       "       [0.78264594],\n",
       "       [0.746343  ],\n",
       "       [0.7432335 ],\n",
       "       [0.16094324],\n",
       "       [0.58314186],\n",
       "       [0.8059243 ],\n",
       "       [0.8038943 ],\n",
       "       [0.74142486],\n",
       "       [0.16443878],\n",
       "       [0.14579895],\n",
       "       [0.16937625],\n",
       "       [0.63837576],\n",
       "       [0.78465986],\n",
       "       [0.23887816],\n",
       "       [0.8123751 ],\n",
       "       [0.7782637 ],\n",
       "       [0.58379203],\n",
       "       [0.74672943],\n",
       "       [0.32444805],\n",
       "       [0.1533159 ],\n",
       "       [0.17459637],\n",
       "       [0.4102563 ],\n",
       "       [0.21800795],\n",
       "       [0.8022674 ],\n",
       "       [0.1659528 ],\n",
       "       [0.5978272 ],\n",
       "       [0.4706431 ],\n",
       "       [0.32629633],\n",
       "       [0.39577514],\n",
       "       [0.7992445 ],\n",
       "       [0.62407553],\n",
       "       [0.79912525],\n",
       "       [0.7849855 ],\n",
       "       [0.44425812],\n",
       "       [0.80531144],\n",
       "       [0.40974888],\n",
       "       [0.14423338],\n",
       "       [0.38317752],\n",
       "       [0.2552152 ],\n",
       "       [0.7965187 ],\n",
       "       [0.75727606],\n",
       "       [0.22023007],\n",
       "       [0.75524616],\n",
       "       [0.7766783 ],\n",
       "       [0.4249635 ],\n",
       "       [0.68428946],\n",
       "       [0.32869923],\n",
       "       [0.17693979],\n",
       "       [0.4658859 ],\n",
       "       [0.6673606 ],\n",
       "       [0.31466573],\n",
       "       [0.7849693 ],\n",
       "       [0.41646916],\n",
       "       [0.17732438],\n",
       "       [0.5865757 ],\n",
       "       [0.71505237],\n",
       "       [0.23374715],\n",
       "       [0.6801396 ],\n",
       "       [0.74112636],\n",
       "       [0.7372719 ],\n",
       "       [0.16694388],\n",
       "       [0.39941373],\n",
       "       [0.7064284 ],\n",
       "       [0.46275228],\n",
       "       [0.81958187],\n",
       "       [0.14536098],\n",
       "       [0.76812893],\n",
       "       [0.17758587],\n",
       "       [0.6793607 ],\n",
       "       [0.1468766 ],\n",
       "       [0.15981323],\n",
       "       [0.35650477],\n",
       "       [0.3746009 ],\n",
       "       [0.75278133],\n",
       "       [0.21868268],\n",
       "       [0.2397278 ],\n",
       "       [0.5433154 ],\n",
       "       [0.4178783 ],\n",
       "       [0.77340543],\n",
       "       [0.16470736],\n",
       "       [0.38796705],\n",
       "       [0.77965033],\n",
       "       [0.15132532],\n",
       "       [0.81093967],\n",
       "       [0.318855  ],\n",
       "       [0.80431485],\n",
       "       [0.63787913],\n",
       "       [0.32938462],\n",
       "       [0.45503664],\n",
       "       [0.1728392 ],\n",
       "       [0.19014704],\n",
       "       [0.17642677],\n",
       "       [0.7129259 ],\n",
       "       [0.21150446],\n",
       "       [0.7807806 ],\n",
       "       [0.5084119 ],\n",
       "       [0.79869473],\n",
       "       [0.6598279 ],\n",
       "       [0.14560986],\n",
       "       [0.7750708 ],\n",
       "       [0.20085949],\n",
       "       [0.7538613 ],\n",
       "       [0.6335506 ],\n",
       "       [0.18223268],\n",
       "       [0.22655588],\n",
       "       [0.21831787],\n",
       "       [0.4703069 ],\n",
       "       [0.56016564],\n",
       "       [0.7964542 ],\n",
       "       [0.17069006]], dtype=float32)"
      ]
     },
     "execution_count": 23,
     "metadata": {},
     "output_type": "execute_result"
    }
   ],
   "source": [
    "# Make predictions\n",
    "m.predict(X)"
   ]
  },
  {
   "cell_type": "code",
   "execution_count": 32,
   "metadata": {},
   "outputs": [
    {
     "data": {
      "text/plain": [
       "[array([[ 1.4266667, -1.3570246],\n",
       "        [-0.8948085,  2.3078172]], dtype=float32),\n",
       " array([-0.25531313,  0.22083999], dtype=float32),\n",
       " array([[ 1.6508509],\n",
       "        [-1.985213 ]], dtype=float32),\n",
       " array([0.00124137], dtype=float32)]"
      ]
     },
     "execution_count": 32,
     "metadata": {},
     "output_type": "execute_result"
    }
   ],
   "source": [
    "# Inspect the weights of the Neural Network\n",
    "m.get_weights()"
   ]
  },
  {
   "cell_type": "markdown",
   "metadata": {},
   "source": [
    "### Where to Begin Practicing: MNIST"
   ]
  },
  {
   "cell_type": "code",
   "execution_count": 79,
   "metadata": {},
   "outputs": [],
   "source": [
    "from tensorflow.keras.datasets import mnist\n",
    "\n",
    "(X_train, y_train), (X_test, y_test) = mnist.load_data()"
   ]
  },
  {
   "cell_type": "code",
   "execution_count": 46,
   "metadata": {},
   "outputs": [
    {
     "data": {
      "text/plain": [
       "<matplotlib.image.AxesImage at 0x7f9751f067f0>"
      ]
     },
     "execution_count": 46,
     "metadata": {},
     "output_type": "execute_result"
    },
    {
     "data": {
      "image/png": "[encoded data removed]",
      "text/plain": [
       "<Figure size 864x432 with 1 Axes>"
      ]
     },
     "metadata": {
      "needs_background": "light"
     },
     "output_type": "display_data"
    }
   ],
   "source": [
    "plt.imshow(X_train[0], cmap=plt.cm.Greys)"
   ]
  },
  {
   "cell_type": "code",
   "execution_count": 34,
   "metadata": {},
   "outputs": [
    {
     "data": {
      "image/png": "[encoded data removed]",
      "text/plain": [
       "<Figure size 864x432 with 25 Axes>"
      ]
     },
     "metadata": {
      "needs_background": "light"
     },
     "output_type": "display_data"
    }
   ],
   "source": [
    "for i in range(25):\n",
    "    plt.subplot(5, 5, i+1)\n",
    "    plt.imshow(X_train[i], cmap=plt.cm.Greys)\n",
    "    plt.axis('off')"
   ]
  },
  {
   "cell_type": "code",
   "execution_count": 37,
   "metadata": {},
   "outputs": [
    {
     "data": {
      "text/plain": [
       "(60000, 28, 28)"
      ]
     },
     "execution_count": 37,
     "metadata": {},
     "output_type": "execute_result"
    }
   ],
   "source": [
    "# Inspect the shape of X\n",
    "X_train.shape # (60000, 28, 28)\n",
    "# 60_000 handwritten digits\n",
    "# each image has 28*28 pixels"
   ]
  },
  {
   "cell_type": "code",
   "execution_count": 38,
   "metadata": {},
   "outputs": [
    {
     "data": {
      "text/plain": [
       "(60000,)"
      ]
     },
     "execution_count": 38,
     "metadata": {},
     "output_type": "execute_result"
    }
   ],
   "source": [
    "# Inspect the shape of y\n",
    "y_train.shape"
   ]
  },
  {
   "cell_type": "code",
   "execution_count": 42,
   "metadata": {},
   "outputs": [
    {
     "data": {
      "text/plain": [
       "5"
      ]
     },
     "execution_count": 42,
     "metadata": {},
     "output_type": "execute_result"
    }
   ],
   "source": [
    "y_train[0]"
   ]
  },
  {
   "cell_type": "code",
   "execution_count": 48,
   "metadata": {},
   "outputs": [
    {
     "data": {
      "text/plain": [
       "(28, 28)"
      ]
     },
     "execution_count": 48,
     "metadata": {},
     "output_type": "execute_result"
    }
   ],
   "source": [
    "# Look at the shape of a single image\n",
    "X_train[0].shape"
   ]
  },
  {
   "cell_type": "code",
   "execution_count": 59,
   "metadata": {},
   "outputs": [
    {
     "data": {
      "text/plain": [
       "(60000, 784)"
      ]
     },
     "execution_count": 59,
     "metadata": {},
     "output_type": "execute_result"
    }
   ],
   "source": [
    "X_train.reshape(60000, -1).shape"
   ]
  },
  {
   "cell_type": "code",
   "execution_count": 62,
   "metadata": {},
   "outputs": [],
   "source": [
    "import numpy as np"
   ]
  },
  {
   "cell_type": "code",
   "execution_count": 63,
   "metadata": {},
   "outputs": [],
   "source": [
    "vector = np.array([[1,2], [3,4]])"
   ]
  },
  {
   "cell_type": "code",
   "execution_count": 67,
   "metadata": {},
   "outputs": [
    {
     "data": {
      "text/plain": [
       "array([[1, 2],\n",
       "       [3, 4]])"
      ]
     },
     "execution_count": 67,
     "metadata": {},
     "output_type": "execute_result"
    }
   ],
   "source": [
    "vector"
   ]
  },
  {
   "cell_type": "code",
   "execution_count": 68,
   "metadata": {},
   "outputs": [
    {
     "data": {
      "text/plain": [
       "array([1, 2, 3, 4])"
      ]
     },
     "execution_count": 68,
     "metadata": {},
     "output_type": "execute_result"
    }
   ],
   "source": [
    "vector.reshape(-1)"
   ]
  },
  {
   "cell_type": "code",
   "execution_count": 80,
   "metadata": {},
   "outputs": [
    {
     "data": {
      "text/plain": [
       "(60000, 784)"
      ]
     },
     "execution_count": 80,
     "metadata": {},
     "output_type": "execute_result"
    }
   ],
   "source": [
    "# We want the input image to be a flat array.\n",
    "# Flatten the input\n",
    "X_train = X_train.reshape(60000, -1)\n",
    "X_train.shape"
   ]
  },
  {
   "cell_type": "code",
   "execution_count": 69,
   "metadata": {},
   "outputs": [
    {
     "data": {
      "text/html": [
       "<div>\n",
       "<style scoped>\n",
       "    .dataframe tbody tr th:only-of-type {\n",
       "        vertical-align: middle;\n",
       "    }\n",
       "\n",
       "    .dataframe tbody tr th {\n",
       "        vertical-align: top;\n",
       "    }\n",
       "\n",
       "    .dataframe thead th {\n",
       "        text-align: right;\n",
       "    }\n",
       "</style>\n",
       "<table border=\"1\" class=\"dataframe\">\n",
       "  <thead>\n",
       "    <tr style=\"text-align: right;\">\n",
       "      <th></th>\n",
       "      <th>0</th>\n",
       "      <th>1</th>\n",
       "      <th>2</th>\n",
       "      <th>3</th>\n",
       "      <th>4</th>\n",
       "      <th>5</th>\n",
       "      <th>6</th>\n",
       "      <th>7</th>\n",
       "      <th>8</th>\n",
       "      <th>9</th>\n",
       "      <th>...</th>\n",
       "      <th>774</th>\n",
       "      <th>775</th>\n",
       "      <th>776</th>\n",
       "      <th>777</th>\n",
       "      <th>778</th>\n",
       "      <th>779</th>\n",
       "      <th>780</th>\n",
       "      <th>781</th>\n",
       "      <th>782</th>\n",
       "      <th>783</th>\n",
       "    </tr>\n",
       "  </thead>\n",
       "  <tbody>\n",
       "    <tr>\n",
       "      <th>0</th>\n",
       "      <td>0</td>\n",
       "      <td>0</td>\n",
       "      <td>0</td>\n",
       "      <td>0</td>\n",
       "      <td>0</td>\n",
       "      <td>0</td>\n",
       "      <td>0</td>\n",
       "      <td>0</td>\n",
       "      <td>0</td>\n",
       "      <td>0</td>\n",
       "      <td>...</td>\n",
       "      <td>0</td>\n",
       "      <td>0</td>\n",
       "      <td>0</td>\n",
       "      <td>0</td>\n",
       "      <td>0</td>\n",
       "      <td>0</td>\n",
       "      <td>0</td>\n",
       "      <td>0</td>\n",
       "      <td>0</td>\n",
       "      <td>0</td>\n",
       "    </tr>\n",
       "    <tr>\n",
       "      <th>1</th>\n",
       "      <td>0</td>\n",
       "      <td>0</td>\n",
       "      <td>0</td>\n",
       "      <td>0</td>\n",
       "      <td>0</td>\n",
       "      <td>0</td>\n",
       "      <td>0</td>\n",
       "      <td>0</td>\n",
       "      <td>0</td>\n",
       "      <td>0</td>\n",
       "      <td>...</td>\n",
       "      <td>0</td>\n",
       "      <td>0</td>\n",
       "      <td>0</td>\n",
       "      <td>0</td>\n",
       "      <td>0</td>\n",
       "      <td>0</td>\n",
       "      <td>0</td>\n",
       "      <td>0</td>\n",
       "      <td>0</td>\n",
       "      <td>0</td>\n",
       "    </tr>\n",
       "    <tr>\n",
       "      <th>2</th>\n",
       "      <td>0</td>\n",
       "      <td>0</td>\n",
       "      <td>0</td>\n",
       "      <td>0</td>\n",
       "      <td>0</td>\n",
       "      <td>0</td>\n",
       "      <td>0</td>\n",
       "      <td>0</td>\n",
       "      <td>0</td>\n",
       "      <td>0</td>\n",
       "      <td>...</td>\n",
       "      <td>0</td>\n",
       "      <td>0</td>\n",
       "      <td>0</td>\n",
       "      <td>0</td>\n",
       "      <td>0</td>\n",
       "      <td>0</td>\n",
       "      <td>0</td>\n",
       "      <td>0</td>\n",
       "      <td>0</td>\n",
       "      <td>0</td>\n",
       "    </tr>\n",
       "    <tr>\n",
       "      <th>3</th>\n",
       "      <td>0</td>\n",
       "      <td>0</td>\n",
       "      <td>0</td>\n",
       "      <td>0</td>\n",
       "      <td>0</td>\n",
       "      <td>0</td>\n",
       "      <td>0</td>\n",
       "      <td>0</td>\n",
       "      <td>0</td>\n",
       "      <td>0</td>\n",
       "      <td>...</td>\n",
       "      <td>0</td>\n",
       "      <td>0</td>\n",
       "      <td>0</td>\n",
       "      <td>0</td>\n",
       "      <td>0</td>\n",
       "      <td>0</td>\n",
       "      <td>0</td>\n",
       "      <td>0</td>\n",
       "      <td>0</td>\n",
       "      <td>0</td>\n",
       "    </tr>\n",
       "    <tr>\n",
       "      <th>4</th>\n",
       "      <td>0</td>\n",
       "      <td>0</td>\n",
       "      <td>0</td>\n",
       "      <td>0</td>\n",
       "      <td>0</td>\n",
       "      <td>0</td>\n",
       "      <td>0</td>\n",
       "      <td>0</td>\n",
       "      <td>0</td>\n",
       "      <td>0</td>\n",
       "      <td>...</td>\n",
       "      <td>0</td>\n",
       "      <td>0</td>\n",
       "      <td>0</td>\n",
       "      <td>0</td>\n",
       "      <td>0</td>\n",
       "      <td>0</td>\n",
       "      <td>0</td>\n",
       "      <td>0</td>\n",
       "      <td>0</td>\n",
       "      <td>0</td>\n",
       "    </tr>\n",
       "    <tr>\n",
       "      <th>...</th>\n",
       "      <td>...</td>\n",
       "      <td>...</td>\n",
       "      <td>...</td>\n",
       "      <td>...</td>\n",
       "      <td>...</td>\n",
       "      <td>...</td>\n",
       "      <td>...</td>\n",
       "      <td>...</td>\n",
       "      <td>...</td>\n",
       "      <td>...</td>\n",
       "      <td>...</td>\n",
       "      <td>...</td>\n",
       "      <td>...</td>\n",
       "      <td>...</td>\n",
       "      <td>...</td>\n",
       "      <td>...</td>\n",
       "      <td>...</td>\n",
       "      <td>...</td>\n",
       "      <td>...</td>\n",
       "      <td>...</td>\n",
       "      <td>...</td>\n",
       "    </tr>\n",
       "    <tr>\n",
       "      <th>59995</th>\n",
       "      <td>0</td>\n",
       "      <td>0</td>\n",
       "      <td>0</td>\n",
       "      <td>0</td>\n",
       "      <td>0</td>\n",
       "      <td>0</td>\n",
       "      <td>0</td>\n",
       "      <td>0</td>\n",
       "      <td>0</td>\n",
       "      <td>0</td>\n",
       "      <td>...</td>\n",
       "      <td>0</td>\n",
       "      <td>0</td>\n",
       "      <td>0</td>\n",
       "      <td>0</td>\n",
       "      <td>0</td>\n",
       "      <td>0</td>\n",
       "      <td>0</td>\n",
       "      <td>0</td>\n",
       "      <td>0</td>\n",
       "      <td>0</td>\n",
       "    </tr>\n",
       "    <tr>\n",
       "      <th>59996</th>\n",
       "      <td>0</td>\n",
       "      <td>0</td>\n",
       "      <td>0</td>\n",
       "      <td>0</td>\n",
       "      <td>0</td>\n",
       "      <td>0</td>\n",
       "      <td>0</td>\n",
       "      <td>0</td>\n",
       "      <td>0</td>\n",
       "      <td>0</td>\n",
       "      <td>...</td>\n",
       "      <td>0</td>\n",
       "      <td>0</td>\n",
       "      <td>0</td>\n",
       "      <td>0</td>\n",
       "      <td>0</td>\n",
       "      <td>0</td>\n",
       "      <td>0</td>\n",
       "      <td>0</td>\n",
       "      <td>0</td>\n",
       "      <td>0</td>\n",
       "    </tr>\n",
       "    <tr>\n",
       "      <th>59997</th>\n",
       "      <td>0</td>\n",
       "      <td>0</td>\n",
       "      <td>0</td>\n",
       "      <td>0</td>\n",
       "      <td>0</td>\n",
       "      <td>0</td>\n",
       "      <td>0</td>\n",
       "      <td>0</td>\n",
       "      <td>0</td>\n",
       "      <td>0</td>\n",
       "      <td>...</td>\n",
       "      <td>0</td>\n",
       "      <td>0</td>\n",
       "      <td>0</td>\n",
       "      <td>0</td>\n",
       "      <td>0</td>\n",
       "      <td>0</td>\n",
       "      <td>0</td>\n",
       "      <td>0</td>\n",
       "      <td>0</td>\n",
       "      <td>0</td>\n",
       "    </tr>\n",
       "    <tr>\n",
       "      <th>59998</th>\n",
       "      <td>0</td>\n",
       "      <td>0</td>\n",
       "      <td>0</td>\n",
       "      <td>0</td>\n",
       "      <td>0</td>\n",
       "      <td>0</td>\n",
       "      <td>0</td>\n",
       "      <td>0</td>\n",
       "      <td>0</td>\n",
       "      <td>0</td>\n",
       "      <td>...</td>\n",
       "      <td>0</td>\n",
       "      <td>0</td>\n",
       "      <td>0</td>\n",
       "      <td>0</td>\n",
       "      <td>0</td>\n",
       "      <td>0</td>\n",
       "      <td>0</td>\n",
       "      <td>0</td>\n",
       "      <td>0</td>\n",
       "      <td>0</td>\n",
       "    </tr>\n",
       "    <tr>\n",
       "      <th>59999</th>\n",
       "      <td>0</td>\n",
       "      <td>0</td>\n",
       "      <td>0</td>\n",
       "      <td>0</td>\n",
       "      <td>0</td>\n",
       "      <td>0</td>\n",
       "      <td>0</td>\n",
       "      <td>0</td>\n",
       "      <td>0</td>\n",
       "      <td>0</td>\n",
       "      <td>...</td>\n",
       "      <td>0</td>\n",
       "      <td>0</td>\n",
       "      <td>0</td>\n",
       "      <td>0</td>\n",
       "      <td>0</td>\n",
       "      <td>0</td>\n",
       "      <td>0</td>\n",
       "      <td>0</td>\n",
       "      <td>0</td>\n",
       "      <td>0</td>\n",
       "    </tr>\n",
       "  </tbody>\n",
       "</table>\n",
       "<p>60000 rows × 784 columns</p>\n",
       "</div>"
      ],
      "text/plain": [
       "       0    1    2    3    4    5    6    7    8    9    ...  774  775  776  \\\n",
       "0        0    0    0    0    0    0    0    0    0    0  ...    0    0    0   \n",
       "1        0    0    0    0    0    0    0    0    0    0  ...    0    0    0   \n",
       "2        0    0    0    0    0    0    0    0    0    0  ...    0    0    0   \n",
       "3        0    0    0    0    0    0    0    0    0    0  ...    0    0    0   \n",
       "4        0    0    0    0    0    0    0    0    0    0  ...    0    0    0   \n",
       "...    ...  ...  ...  ...  ...  ...  ...  ...  ...  ...  ...  ...  ...  ...   \n",
       "59995    0    0    0    0    0    0    0    0    0    0  ...    0    0    0   \n",
       "59996    0    0    0    0    0    0    0    0    0    0  ...    0    0    0   \n",
       "59997    0    0    0    0    0    0    0    0    0    0  ...    0    0    0   \n",
       "59998    0    0    0    0    0    0    0    0    0    0  ...    0    0    0   \n",
       "59999    0    0    0    0    0    0    0    0    0    0  ...    0    0    0   \n",
       "\n",
       "       777  778  779  780  781  782  783  \n",
       "0        0    0    0    0    0    0    0  \n",
       "1        0    0    0    0    0    0    0  \n",
       "2        0    0    0    0    0    0    0  \n",
       "3        0    0    0    0    0    0    0  \n",
       "4        0    0    0    0    0    0    0  \n",
       "...    ...  ...  ...  ...  ...  ...  ...  \n",
       "59995    0    0    0    0    0    0    0  \n",
       "59996    0    0    0    0    0    0    0  \n",
       "59997    0    0    0    0    0    0    0  \n",
       "59998    0    0    0    0    0    0    0  \n",
       "59999    0    0    0    0    0    0    0  \n",
       "\n",
       "[60000 rows x 784 columns]"
      ]
     },
     "execution_count": 69,
     "metadata": {},
     "output_type": "execute_result"
    }
   ],
   "source": [
    "# Understand what it means to flatten the images\n",
    "import pandas as pd\n",
    "pd.DataFrame(X_train)"
   ]
  },
  {
   "cell_type": "markdown",
   "metadata": {},
   "source": [
    "#### Let's build a model\n",
    "\n",
    "There will be two intricacies you have to take care of.\n",
    "\n",
    "1. Defining the right input shape\n",
    "2. Dealing with the shape of y"
   ]
  },
  {
   "cell_type": "code",
   "execution_count": null,
   "metadata": {},
   "outputs": [],
   "source": [
    "# input_shape of first layer has to be (784,)"
   ]
  },
  {
   "cell_type": "code",
   "execution_count": 70,
   "metadata": {},
   "outputs": [],
   "source": [
    "from tensorflow.keras.utils import to_categorical"
   ]
  },
  {
   "cell_type": "code",
   "execution_count": 81,
   "metadata": {},
   "outputs": [],
   "source": [
    "# Before passing y_train into the model\n",
    "y_train = to_categorical(y_train)"
   ]
  },
  {
   "cell_type": "code",
   "execution_count": null,
   "metadata": {},
   "outputs": [],
   "source": [
    "# loss='categorical_crossentropy'"
   ]
  },
  {
   "cell_type": "markdown",
   "metadata": {},
   "source": [
    "### Mini-Projects this Week:\n",
    "- Neural Network From Scratch\n",
    "- Classifying Handwritten Digits (MNIST)\n",
    "    - Fashion MNIST: https://github.com/zalandoresearch/fashion-mnist\n",
    "- Transfer Learning for Image Recognition\n",
    "    - Up to you!"
   ]
  }
 ],
 "metadata": {
  "kernelspec": {
   "display_name": "Python 3",
   "language": "python",
   "name": "python3"
  },
  "language_info": {
   "codemirror_mode": {
    "name": "ipython",
    "version": 3
   },
   "file_extension": ".py",
   "mimetype": "text/x-python",
   "name": "python",
   "nbconvert_exporter": "python",
   "pygments_lexer": "ipython3",
   "version": "3.8.8"
  }
 },
 "nbformat": 4,
 "nbformat_minor": 4
}
