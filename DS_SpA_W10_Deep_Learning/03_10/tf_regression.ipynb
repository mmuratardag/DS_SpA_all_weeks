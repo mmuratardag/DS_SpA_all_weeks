{
 "cells": [
  {
   "cell_type": "markdown",
   "metadata": {
    "id": "FhGuhbZ6M5tl"
   },
   "source": [
    "##### Copyright 2018 The TensorFlow Authors."
   ]
  },
  {
   "cell_type": "code",
   "execution_count": 1,
   "metadata": {
    "cellView": "form",
    "execution": {
     "iopub.execute_input": "2021-01-21T02:29:41.267143Z",
     "iopub.status.busy": "2021-01-21T02:29:41.266452Z",
     "iopub.status.idle": "2021-01-21T02:29:41.268986Z",
     "shell.execute_reply": "2021-01-21T02:29:41.268402Z"
    },
    "id": "AwOEIRJC6Une"
   },
   "outputs": [],
   "source": [
    "#@title Licensed under the Apache License, Version 2.0 (the \"License\");\n",
    "# you may not use this file except in compliance with the License.\n",
    "# You may obtain a copy of the License at\n",
    "#\n",
    "# https://www.apache.org/licenses/LICENSE-2.0\n",
    "#\n",
    "# Unless required by applicable law or agreed to in writing, software\n",
    "# distributed under the License is distributed on an \"AS IS\" BASIS,\n",
    "# WITHOUT WARRANTIES OR CONDITIONS OF ANY KIND, either express or implied.\n",
    "# See the License for the specific language governing permissions and\n",
    "# limitations under the License."
   ]
  },
  {
   "cell_type": "code",
   "execution_count": 2,
   "metadata": {
    "cellView": "form",
    "execution": {
     "iopub.execute_input": "2021-01-21T02:29:41.273161Z",
     "iopub.status.busy": "2021-01-21T02:29:41.272422Z",
     "iopub.status.idle": "2021-01-21T02:29:41.273991Z",
     "shell.execute_reply": "2021-01-21T02:29:41.274484Z"
    },
    "id": "KyPEtTqk6VdG"
   },
   "outputs": [],
   "source": [
    "#@title MIT License\n",
    "#\n",
    "# Copyright (c) 2017 François Chollet\n",
    "#\n",
    "# Permission is hereby granted, free of charge, to any person obtaining a\n",
    "# copy of this software and associated documentation files (the \"Software\"),\n",
    "# to deal in the Software without restriction, including without limitation\n",
    "# the rights to use, copy, modify, merge, publish, distribute, sublicense,\n",
    "# and/or sell copies of the Software, and to permit persons to whom the\n",
    "# Software is furnished to do so, subject to the following conditions:\n",
    "#\n",
    "# The above copyright notice and this permission notice shall be included in\n",
    "# all copies or substantial portions of the Software.\n",
    "#\n",
    "# THE SOFTWARE IS PROVIDED \"AS IS\", WITHOUT WARRANTY OF ANY KIND, EXPRESS OR\n",
    "# IMPLIED, INCLUDING BUT NOT LIMITED TO THE WARRANTIES OF MERCHANTABILITY,\n",
    "# FITNESS FOR A PARTICULAR PURPOSE AND NONINFRINGEMENT. IN NO EVENT SHALL\n",
    "# THE AUTHORS OR COPYRIGHT HOLDERS BE LIABLE FOR ANY CLAIM, DAMAGES OR OTHER\n",
    "# LIABILITY, WHETHER IN AN ACTION OF CONTRACT, TORT OR OTHERWISE, ARISING\n",
    "# FROM, OUT OF OR IN CONNECTION WITH THE SOFTWARE OR THE USE OR OTHER\n",
    "# DEALINGS IN THE SOFTWARE."
   ]
  },
  {
   "cell_type": "markdown",
   "metadata": {
    "id": "EIdT9iu_Z4Rb"
   },
   "source": [
    "# Basic regression: Predict fuel efficiency"
   ]
  },
  {
   "cell_type": "markdown",
   "metadata": {
    "id": "bBIlTPscrIT9"
   },
   "source": [
    "<table class=\"tfo-notebook-buttons\" align=\"left\">\n",
    "  <td>\n",
    "    <a target=\"_blank\" href=\"https://www.tensorflow.org/tutorials/keras/regression\"><img src=\"https://www.tensorflow.org/images/tf_logo_32px.png\" />View on TensorFlow.org</a>\n",
    "  </td>\n",
    "  <td>\n",
    "    <a target=\"_blank\" href=\"https://colab.research.google.com/github/tensorflow/docs/blob/master/site/en/tutorials/keras/regression.ipynb\"><img src=\"https://www.tensorflow.org/images/colab_logo_32px.png\" />Run in Google Colab</a>\n",
    "  </td>\n",
    "  <td>\n",
    "    <a target=\"_blank\" href=\"https://github.com/tensorflow/docs/blob/master/site/en/tutorials/keras/regression.ipynb\"><img src=\"https://www.tensorflow.org/images/GitHub-Mark-32px.png\" />View source on GitHub</a>\n",
    "  </td>\n",
    "  <td>\n",
    "    <a href=\"https://storage.googleapis.com/tensorflow_docs/docs/site/en/tutorials/keras/regression.ipynb\"><img src=\"https://www.tensorflow.org/images/download_logo_32px.png\" />Download notebook</a>\n",
    "  </td>\n",
    "</table>"
   ]
  },
  {
   "cell_type": "markdown",
   "metadata": {
    "id": "AHp3M9ZmrIxj"
   },
   "source": [
    "In a *regression* problem, the aim is to predict the output of a continuous value, like a price or a probability. Contrast this with a *classification* problem, where the aim is to select a class from a list of classes (for example, where a picture contains an apple or an orange, recognizing which fruit is in the picture).\n",
    "\n",
    "This notebook uses the classic [Auto MPG](https://archive.ics.uci.edu/ml/datasets/auto+mpg) Dataset and builds a model to predict the fuel efficiency of late-1970s and early 1980s automobiles. To do this, provide the model with a description of many automobiles from that time period. This description includes attributes like: cylinders, displacement, horsepower, and weight.\n",
    "\n",
    "This example uses the `tf.keras` API, see [this guide](https://www.tensorflow.org/guide/keras) for details."
   ]
  },
  {
   "cell_type": "code",
   "execution_count": 3,
   "metadata": {
    "execution": {
     "iopub.execute_input": "2021-01-21T02:29:41.283282Z",
     "iopub.status.busy": "2021-01-21T02:29:41.282591Z",
     "iopub.status.idle": "2021-01-21T02:29:42.786113Z",
     "shell.execute_reply": "2021-01-21T02:29:42.785461Z"
    },
    "id": "moB4tpEHxKB3"
   },
   "outputs": [],
   "source": [
    "# Use seaborn for pairplot\n",
    "# !pip install -q seaborn"
   ]
  },
  {
   "cell_type": "code",
   "execution_count": 1,
   "metadata": {
    "id": "1rRo8oNqZ-Rj"
   },
   "outputs": [],
   "source": [
    "import matplotlib.pyplot as plt\n",
    "import numpy as np\n",
    "import pandas as pd\n",
    "import seaborn as sns\n",
    "\n",
    "\n",
    "# Make numpy printouts easier to read.\n",
    "np.set_printoptions(precision=3, suppress=True)"
   ]
  },
  {
   "cell_type": "code",
   "execution_count": 2,
   "metadata": {
    "id": "9xQKvCJ85kCQ"
   },
   "outputs": [
    {
     "name": "stdout",
     "output_type": "stream",
     "text": [
      "2.4.1\n"
     ]
    }
   ],
   "source": [
    "import tensorflow as tf\n",
    "\n",
    "from tensorflow import keras\n",
    "from tensorflow.keras import layers\n",
    "from tensorflow.keras.layers.experimental import preprocessing\n",
    "\n",
    "print(tf.__version__)"
   ]
  },
  {
   "cell_type": "markdown",
   "metadata": {
    "id": "F_72b0LCNbjx"
   },
   "source": [
    "## The Auto MPG dataset\n",
    "\n",
    "The dataset is available from the [UCI Machine Learning Repository](https://archive.ics.uci.edu/ml/).\n"
   ]
  },
  {
   "cell_type": "markdown",
   "metadata": {
    "id": "gFh9ne3FZ-On"
   },
   "source": [
    "### Get the data\n",
    "First download and import the dataset using pandas:"
   ]
  },
  {
   "cell_type": "code",
   "execution_count": 3,
   "metadata": {
    "id": "CiX2FI4gZtTt"
   },
   "outputs": [],
   "source": [
    "url = 'http://archive.ics.uci.edu/ml/machine-learning-databases/auto-mpg/auto-mpg.data'\n",
    "column_names = ['MPG', 'Cylinders', 'Displacement', 'Horsepower', 'Weight',\n",
    "                'Acceleration', 'Model Year', 'Origin']\n",
    "\n",
    "raw_dataset = pd.read_csv(url, names=column_names,\n",
    "                          na_values='?', comment='\\t',\n",
    "                          sep=' ', skipinitialspace=True)"
   ]
  },
  {
   "cell_type": "code",
   "execution_count": 4,
   "metadata": {
    "id": "2oY3pMPagJrO"
   },
   "outputs": [
    {
     "data": {
      "text/html": [
       "<div>\n",
       "<style scoped>\n",
       "    .dataframe tbody tr th:only-of-type {\n",
       "        vertical-align: middle;\n",
       "    }\n",
       "\n",
       "    .dataframe tbody tr th {\n",
       "        vertical-align: top;\n",
       "    }\n",
       "\n",
       "    .dataframe thead th {\n",
       "        text-align: right;\n",
       "    }\n",
       "</style>\n",
       "<table border=\"1\" class=\"dataframe\">\n",
       "  <thead>\n",
       "    <tr style=\"text-align: right;\">\n",
       "      <th></th>\n",
       "      <th>MPG</th>\n",
       "      <th>Cylinders</th>\n",
       "      <th>Displacement</th>\n",
       "      <th>Horsepower</th>\n",
       "      <th>Weight</th>\n",
       "      <th>Acceleration</th>\n",
       "      <th>Model Year</th>\n",
       "      <th>Origin</th>\n",
       "    </tr>\n",
       "  </thead>\n",
       "  <tbody>\n",
       "    <tr>\n",
       "      <th>393</th>\n",
       "      <td>27.0</td>\n",
       "      <td>4</td>\n",
       "      <td>140.0</td>\n",
       "      <td>86.0</td>\n",
       "      <td>2790.0</td>\n",
       "      <td>15.6</td>\n",
       "      <td>82</td>\n",
       "      <td>1</td>\n",
       "    </tr>\n",
       "    <tr>\n",
       "      <th>394</th>\n",
       "      <td>44.0</td>\n",
       "      <td>4</td>\n",
       "      <td>97.0</td>\n",
       "      <td>52.0</td>\n",
       "      <td>2130.0</td>\n",
       "      <td>24.6</td>\n",
       "      <td>82</td>\n",
       "      <td>2</td>\n",
       "    </tr>\n",
       "    <tr>\n",
       "      <th>395</th>\n",
       "      <td>32.0</td>\n",
       "      <td>4</td>\n",
       "      <td>135.0</td>\n",
       "      <td>84.0</td>\n",
       "      <td>2295.0</td>\n",
       "      <td>11.6</td>\n",
       "      <td>82</td>\n",
       "      <td>1</td>\n",
       "    </tr>\n",
       "    <tr>\n",
       "      <th>396</th>\n",
       "      <td>28.0</td>\n",
       "      <td>4</td>\n",
       "      <td>120.0</td>\n",
       "      <td>79.0</td>\n",
       "      <td>2625.0</td>\n",
       "      <td>18.6</td>\n",
       "      <td>82</td>\n",
       "      <td>1</td>\n",
       "    </tr>\n",
       "    <tr>\n",
       "      <th>397</th>\n",
       "      <td>31.0</td>\n",
       "      <td>4</td>\n",
       "      <td>119.0</td>\n",
       "      <td>82.0</td>\n",
       "      <td>2720.0</td>\n",
       "      <td>19.4</td>\n",
       "      <td>82</td>\n",
       "      <td>1</td>\n",
       "    </tr>\n",
       "  </tbody>\n",
       "</table>\n",
       "</div>"
      ],
      "text/plain": [
       "      MPG  Cylinders  Displacement  Horsepower  Weight  Acceleration  \\\n",
       "393  27.0          4         140.0        86.0  2790.0          15.6   \n",
       "394  44.0          4          97.0        52.0  2130.0          24.6   \n",
       "395  32.0          4         135.0        84.0  2295.0          11.6   \n",
       "396  28.0          4         120.0        79.0  2625.0          18.6   \n",
       "397  31.0          4         119.0        82.0  2720.0          19.4   \n",
       "\n",
       "     Model Year  Origin  \n",
       "393          82       1  \n",
       "394          82       2  \n",
       "395          82       1  \n",
       "396          82       1  \n",
       "397          82       1  "
      ]
     },
     "execution_count": 4,
     "metadata": {},
     "output_type": "execute_result"
    }
   ],
   "source": [
    "dataset = raw_dataset.copy()\n",
    "dataset.tail()"
   ]
  },
  {
   "cell_type": "markdown",
   "metadata": {
    "id": "3MWuJTKEDM-f"
   },
   "source": [
    "### Clean the data\n",
    "\n",
    "The dataset contains a few unknown values."
   ]
  },
  {
   "cell_type": "code",
   "execution_count": 5,
   "metadata": {
    "id": "JEJHhN65a2VV"
   },
   "outputs": [
    {
     "data": {
      "text/plain": [
       "MPG             0\n",
       "Cylinders       0\n",
       "Displacement    0\n",
       "Horsepower      6\n",
       "Weight          0\n",
       "Acceleration    0\n",
       "Model Year      0\n",
       "Origin          0\n",
       "dtype: int64"
      ]
     },
     "execution_count": 5,
     "metadata": {},
     "output_type": "execute_result"
    }
   ],
   "source": [
    "dataset.isna().sum()"
   ]
  },
  {
   "cell_type": "markdown",
   "metadata": {
    "id": "9UPN0KBHa_WI"
   },
   "source": [
    "Drop those rows to keep this initial tutorial simple."
   ]
  },
  {
   "cell_type": "code",
   "execution_count": 6,
   "metadata": {
    "id": "4ZUDosChC1UN"
   },
   "outputs": [],
   "source": [
    "dataset = dataset.dropna()"
   ]
  },
  {
   "cell_type": "markdown",
   "metadata": {
    "id": "8XKitwaH4v8h"
   },
   "source": [
    "The `\"Origin\"` column is really categorical, not numeric. So convert that to a one-hot:\n",
    "\n",
    "Note: You can set up the `keras.Model` to do this kind of transformation for you. That's beyond the scope of this tutorial. See the [preprocessing layers](../structured_data/preprocessing_layers.ipynb) or [Loading CSV data](../load_data/csv.ipynb) tutorials for examples."
   ]
  },
  {
   "cell_type": "code",
   "execution_count": 7,
   "metadata": {
    "id": "gWNTD2QjBWFJ"
   },
   "outputs": [],
   "source": [
    "dataset['Origin'] = dataset['Origin'].map({1: 'USA', 2: 'Europe', 3: 'Japan'})"
   ]
  },
  {
   "cell_type": "code",
   "execution_count": 8,
   "metadata": {
    "id": "ulXz4J7PAUzk"
   },
   "outputs": [
    {
     "data": {
      "text/html": [
       "<div>\n",
       "<style scoped>\n",
       "    .dataframe tbody tr th:only-of-type {\n",
       "        vertical-align: middle;\n",
       "    }\n",
       "\n",
       "    .dataframe tbody tr th {\n",
       "        vertical-align: top;\n",
       "    }\n",
       "\n",
       "    .dataframe thead th {\n",
       "        text-align: right;\n",
       "    }\n",
       "</style>\n",
       "<table border=\"1\" class=\"dataframe\">\n",
       "  <thead>\n",
       "    <tr style=\"text-align: right;\">\n",
       "      <th></th>\n",
       "      <th>MPG</th>\n",
       "      <th>Cylinders</th>\n",
       "      <th>Displacement</th>\n",
       "      <th>Horsepower</th>\n",
       "      <th>Weight</th>\n",
       "      <th>Acceleration</th>\n",
       "      <th>Model Year</th>\n",
       "      <th>Europe</th>\n",
       "      <th>Japan</th>\n",
       "      <th>USA</th>\n",
       "    </tr>\n",
       "  </thead>\n",
       "  <tbody>\n",
       "    <tr>\n",
       "      <th>393</th>\n",
       "      <td>27.0</td>\n",
       "      <td>4</td>\n",
       "      <td>140.0</td>\n",
       "      <td>86.0</td>\n",
       "      <td>2790.0</td>\n",
       "      <td>15.6</td>\n",
       "      <td>82</td>\n",
       "      <td>0</td>\n",
       "      <td>0</td>\n",
       "      <td>1</td>\n",
       "    </tr>\n",
       "    <tr>\n",
       "      <th>394</th>\n",
       "      <td>44.0</td>\n",
       "      <td>4</td>\n",
       "      <td>97.0</td>\n",
       "      <td>52.0</td>\n",
       "      <td>2130.0</td>\n",
       "      <td>24.6</td>\n",
       "      <td>82</td>\n",
       "      <td>1</td>\n",
       "      <td>0</td>\n",
       "      <td>0</td>\n",
       "    </tr>\n",
       "    <tr>\n",
       "      <th>395</th>\n",
       "      <td>32.0</td>\n",
       "      <td>4</td>\n",
       "      <td>135.0</td>\n",
       "      <td>84.0</td>\n",
       "      <td>2295.0</td>\n",
       "      <td>11.6</td>\n",
       "      <td>82</td>\n",
       "      <td>0</td>\n",
       "      <td>0</td>\n",
       "      <td>1</td>\n",
       "    </tr>\n",
       "    <tr>\n",
       "      <th>396</th>\n",
       "      <td>28.0</td>\n",
       "      <td>4</td>\n",
       "      <td>120.0</td>\n",
       "      <td>79.0</td>\n",
       "      <td>2625.0</td>\n",
       "      <td>18.6</td>\n",
       "      <td>82</td>\n",
       "      <td>0</td>\n",
       "      <td>0</td>\n",
       "      <td>1</td>\n",
       "    </tr>\n",
       "    <tr>\n",
       "      <th>397</th>\n",
       "      <td>31.0</td>\n",
       "      <td>4</td>\n",
       "      <td>119.0</td>\n",
       "      <td>82.0</td>\n",
       "      <td>2720.0</td>\n",
       "      <td>19.4</td>\n",
       "      <td>82</td>\n",
       "      <td>0</td>\n",
       "      <td>0</td>\n",
       "      <td>1</td>\n",
       "    </tr>\n",
       "  </tbody>\n",
       "</table>\n",
       "</div>"
      ],
      "text/plain": [
       "      MPG  Cylinders  Displacement  Horsepower  Weight  Acceleration  \\\n",
       "393  27.0          4         140.0        86.0  2790.0          15.6   \n",
       "394  44.0          4          97.0        52.0  2130.0          24.6   \n",
       "395  32.0          4         135.0        84.0  2295.0          11.6   \n",
       "396  28.0          4         120.0        79.0  2625.0          18.6   \n",
       "397  31.0          4         119.0        82.0  2720.0          19.4   \n",
       "\n",
       "     Model Year  Europe  Japan  USA  \n",
       "393          82       0      0    1  \n",
       "394          82       1      0    0  \n",
       "395          82       0      0    1  \n",
       "396          82       0      0    1  \n",
       "397          82       0      0    1  "
      ]
     },
     "execution_count": 8,
     "metadata": {},
     "output_type": "execute_result"
    }
   ],
   "source": [
    "dataset = pd.get_dummies(dataset, prefix='', prefix_sep='')\n",
    "dataset.tail()"
   ]
  },
  {
   "cell_type": "markdown",
   "metadata": {
    "id": "Cuym4yvk76vU"
   },
   "source": [
    "### Split the data into train and test\n",
    "\n",
    "Now split the dataset into a training set and a test set.\n",
    "\n",
    "Use the test set in the final evaluation of our models."
   ]
  },
  {
   "cell_type": "code",
   "execution_count": 9,
   "metadata": {
    "id": "qn-IGhUE7_1H"
   },
   "outputs": [],
   "source": [
    "train_dataset = dataset.sample(frac=0.8, random_state=666)\n",
    "test_dataset = dataset.drop(train_dataset.index)"
   ]
  },
  {
   "cell_type": "markdown",
   "metadata": {
    "id": "J4ubs136WLNp"
   },
   "source": [
    "### Inspect the data\n",
    "\n",
    "Have a quick look at the joint distribution of a few pairs of columns from the training set.\n",
    "\n",
    "Looking at the top row it should be clear that the fuel efficiency (MPG) is a function of all the other parameters. Looking at the other rows it should be clear that they are each functions of eachother."
   ]
  },
  {
   "cell_type": "code",
   "execution_count": 10,
   "metadata": {
    "id": "oRKO_x8gWKv-"
   },
   "outputs": [
    {
     "data": {
      "text/plain": [
       "<seaborn.axisgrid.PairGrid at 0x7fd6f13b4700>"
      ]
     },
     "execution_count": 10,
     "metadata": {},
     "output_type": "execute_result"
    },
    {
     "data": {
      "image/png": "[encoded data removed]",
      "text/plain": [
       "<Figure size 720x720 with 20 Axes>"
      ]
     },
     "metadata": {
      "needs_background": "light"
     },
     "output_type": "display_data"
    }
   ],
   "source": [
    "sns.pairplot(train_dataset[['MPG', 'Cylinders', 'Displacement', 'Weight']], diag_kind='kde')"
   ]
  },
  {
   "cell_type": "markdown",
   "metadata": {
    "id": "gavKO_6DWRMP"
   },
   "source": [
    "Also look at the overall statistics, note how each feature covers a very different range:"
   ]
  },
  {
   "cell_type": "code",
   "execution_count": 11,
   "metadata": {
    "id": "yi2FzC3T21jR"
   },
   "outputs": [
    {
     "data": {
      "text/html": [
       "<div>\n",
       "<style scoped>\n",
       "    .dataframe tbody tr th:only-of-type {\n",
       "        vertical-align: middle;\n",
       "    }\n",
       "\n",
       "    .dataframe tbody tr th {\n",
       "        vertical-align: top;\n",
       "    }\n",
       "\n",
       "    .dataframe thead th {\n",
       "        text-align: right;\n",
       "    }\n",
       "</style>\n",
       "<table border=\"1\" class=\"dataframe\">\n",
       "  <thead>\n",
       "    <tr style=\"text-align: right;\">\n",
       "      <th></th>\n",
       "      <th>count</th>\n",
       "      <th>mean</th>\n",
       "      <th>std</th>\n",
       "      <th>min</th>\n",
       "      <th>25%</th>\n",
       "      <th>50%</th>\n",
       "      <th>75%</th>\n",
       "      <th>max</th>\n",
       "    </tr>\n",
       "  </thead>\n",
       "  <tbody>\n",
       "    <tr>\n",
       "      <th>MPG</th>\n",
       "      <td>314.0</td>\n",
       "      <td>23.505732</td>\n",
       "      <td>7.891146</td>\n",
       "      <td>9.0</td>\n",
       "      <td>17.00</td>\n",
       "      <td>23.0</td>\n",
       "      <td>29.000</td>\n",
       "      <td>46.6</td>\n",
       "    </tr>\n",
       "    <tr>\n",
       "      <th>Cylinders</th>\n",
       "      <td>314.0</td>\n",
       "      <td>5.477707</td>\n",
       "      <td>1.716620</td>\n",
       "      <td>3.0</td>\n",
       "      <td>4.00</td>\n",
       "      <td>4.0</td>\n",
       "      <td>8.000</td>\n",
       "      <td>8.0</td>\n",
       "    </tr>\n",
       "    <tr>\n",
       "      <th>Displacement</th>\n",
       "      <td>314.0</td>\n",
       "      <td>194.535032</td>\n",
       "      <td>105.765944</td>\n",
       "      <td>68.0</td>\n",
       "      <td>104.25</td>\n",
       "      <td>146.0</td>\n",
       "      <td>293.250</td>\n",
       "      <td>455.0</td>\n",
       "    </tr>\n",
       "    <tr>\n",
       "      <th>Horsepower</th>\n",
       "      <td>314.0</td>\n",
       "      <td>104.914013</td>\n",
       "      <td>39.631638</td>\n",
       "      <td>46.0</td>\n",
       "      <td>75.00</td>\n",
       "      <td>95.0</td>\n",
       "      <td>125.000</td>\n",
       "      <td>230.0</td>\n",
       "    </tr>\n",
       "    <tr>\n",
       "      <th>Weight</th>\n",
       "      <td>314.0</td>\n",
       "      <td>2972.754777</td>\n",
       "      <td>855.110688</td>\n",
       "      <td>1613.0</td>\n",
       "      <td>2207.50</td>\n",
       "      <td>2807.5</td>\n",
       "      <td>3618.250</td>\n",
       "      <td>5140.0</td>\n",
       "    </tr>\n",
       "    <tr>\n",
       "      <th>Acceleration</th>\n",
       "      <td>314.0</td>\n",
       "      <td>15.549363</td>\n",
       "      <td>2.883358</td>\n",
       "      <td>8.0</td>\n",
       "      <td>13.70</td>\n",
       "      <td>15.5</td>\n",
       "      <td>17.375</td>\n",
       "      <td>24.8</td>\n",
       "    </tr>\n",
       "    <tr>\n",
       "      <th>Model Year</th>\n",
       "      <td>314.0</td>\n",
       "      <td>76.006369</td>\n",
       "      <td>3.708201</td>\n",
       "      <td>70.0</td>\n",
       "      <td>73.00</td>\n",
       "      <td>76.0</td>\n",
       "      <td>79.000</td>\n",
       "      <td>82.0</td>\n",
       "    </tr>\n",
       "    <tr>\n",
       "      <th>Europe</th>\n",
       "      <td>314.0</td>\n",
       "      <td>0.191083</td>\n",
       "      <td>0.393782</td>\n",
       "      <td>0.0</td>\n",
       "      <td>0.00</td>\n",
       "      <td>0.0</td>\n",
       "      <td>0.000</td>\n",
       "      <td>1.0</td>\n",
       "    </tr>\n",
       "    <tr>\n",
       "      <th>Japan</th>\n",
       "      <td>314.0</td>\n",
       "      <td>0.191083</td>\n",
       "      <td>0.393782</td>\n",
       "      <td>0.0</td>\n",
       "      <td>0.00</td>\n",
       "      <td>0.0</td>\n",
       "      <td>0.000</td>\n",
       "      <td>1.0</td>\n",
       "    </tr>\n",
       "    <tr>\n",
       "      <th>USA</th>\n",
       "      <td>314.0</td>\n",
       "      <td>0.617834</td>\n",
       "      <td>0.486692</td>\n",
       "      <td>0.0</td>\n",
       "      <td>0.00</td>\n",
       "      <td>1.0</td>\n",
       "      <td>1.000</td>\n",
       "      <td>1.0</td>\n",
       "    </tr>\n",
       "  </tbody>\n",
       "</table>\n",
       "</div>"
      ],
      "text/plain": [
       "              count         mean         std     min      25%     50%  \\\n",
       "MPG           314.0    23.505732    7.891146     9.0    17.00    23.0   \n",
       "Cylinders     314.0     5.477707    1.716620     3.0     4.00     4.0   \n",
       "Displacement  314.0   194.535032  105.765944    68.0   104.25   146.0   \n",
       "Horsepower    314.0   104.914013   39.631638    46.0    75.00    95.0   \n",
       "Weight        314.0  2972.754777  855.110688  1613.0  2207.50  2807.5   \n",
       "Acceleration  314.0    15.549363    2.883358     8.0    13.70    15.5   \n",
       "Model Year    314.0    76.006369    3.708201    70.0    73.00    76.0   \n",
       "Europe        314.0     0.191083    0.393782     0.0     0.00     0.0   \n",
       "Japan         314.0     0.191083    0.393782     0.0     0.00     0.0   \n",
       "USA           314.0     0.617834    0.486692     0.0     0.00     1.0   \n",
       "\n",
       "                   75%     max  \n",
       "MPG             29.000    46.6  \n",
       "Cylinders        8.000     8.0  \n",
       "Displacement   293.250   455.0  \n",
       "Horsepower     125.000   230.0  \n",
       "Weight        3618.250  5140.0  \n",
       "Acceleration    17.375    24.8  \n",
       "Model Year      79.000    82.0  \n",
       "Europe           0.000     1.0  \n",
       "Japan            0.000     1.0  \n",
       "USA              1.000     1.0  "
      ]
     },
     "execution_count": 11,
     "metadata": {},
     "output_type": "execute_result"
    }
   ],
   "source": [
    "train_dataset.describe().transpose()"
   ]
  },
  {
   "cell_type": "markdown",
   "metadata": {
    "id": "Db7Auq1yXUvh"
   },
   "source": [
    "### Split features from labels\n",
    "\n",
    "Separate the target value, the \"label\", from the features. This label is the value that you will train the model to predict."
   ]
  },
  {
   "cell_type": "code",
   "execution_count": 12,
   "metadata": {
    "id": "t2sluJdCW7jN"
   },
   "outputs": [],
   "source": [
    "train_features = train_dataset.copy()\n",
    "test_features = test_dataset.copy()\n",
    "\n",
    "train_labels = train_features.pop('MPG')\n",
    "test_labels = test_features.pop('MPG')"
   ]
  },
  {
   "cell_type": "markdown",
   "metadata": {
    "id": "mRklxK5s388r"
   },
   "source": [
    "## Normalization\n",
    "\n",
    "In the table of statistics it's easy to see how different the ranges of each feature are."
   ]
  },
  {
   "cell_type": "code",
   "execution_count": 13,
   "metadata": {
    "id": "IcmY6lKKbkw8"
   },
   "outputs": [
    {
     "data": {
      "text/html": [
       "<div>\n",
       "<style scoped>\n",
       "    .dataframe tbody tr th:only-of-type {\n",
       "        vertical-align: middle;\n",
       "    }\n",
       "\n",
       "    .dataframe tbody tr th {\n",
       "        vertical-align: top;\n",
       "    }\n",
       "\n",
       "    .dataframe thead th {\n",
       "        text-align: right;\n",
       "    }\n",
       "</style>\n",
       "<table border=\"1\" class=\"dataframe\">\n",
       "  <thead>\n",
       "    <tr style=\"text-align: right;\">\n",
       "      <th></th>\n",
       "      <th>mean</th>\n",
       "      <th>std</th>\n",
       "    </tr>\n",
       "  </thead>\n",
       "  <tbody>\n",
       "    <tr>\n",
       "      <th>MPG</th>\n",
       "      <td>23.505732</td>\n",
       "      <td>7.891146</td>\n",
       "    </tr>\n",
       "    <tr>\n",
       "      <th>Cylinders</th>\n",
       "      <td>5.477707</td>\n",
       "      <td>1.716620</td>\n",
       "    </tr>\n",
       "    <tr>\n",
       "      <th>Displacement</th>\n",
       "      <td>194.535032</td>\n",
       "      <td>105.765944</td>\n",
       "    </tr>\n",
       "    <tr>\n",
       "      <th>Horsepower</th>\n",
       "      <td>104.914013</td>\n",
       "      <td>39.631638</td>\n",
       "    </tr>\n",
       "    <tr>\n",
       "      <th>Weight</th>\n",
       "      <td>2972.754777</td>\n",
       "      <td>855.110688</td>\n",
       "    </tr>\n",
       "    <tr>\n",
       "      <th>Acceleration</th>\n",
       "      <td>15.549363</td>\n",
       "      <td>2.883358</td>\n",
       "    </tr>\n",
       "    <tr>\n",
       "      <th>Model Year</th>\n",
       "      <td>76.006369</td>\n",
       "      <td>3.708201</td>\n",
       "    </tr>\n",
       "    <tr>\n",
       "      <th>Europe</th>\n",
       "      <td>0.191083</td>\n",
       "      <td>0.393782</td>\n",
       "    </tr>\n",
       "    <tr>\n",
       "      <th>Japan</th>\n",
       "      <td>0.191083</td>\n",
       "      <td>0.393782</td>\n",
       "    </tr>\n",
       "    <tr>\n",
       "      <th>USA</th>\n",
       "      <td>0.617834</td>\n",
       "      <td>0.486692</td>\n",
       "    </tr>\n",
       "  </tbody>\n",
       "</table>\n",
       "</div>"
      ],
      "text/plain": [
       "                     mean         std\n",
       "MPG             23.505732    7.891146\n",
       "Cylinders        5.477707    1.716620\n",
       "Displacement   194.535032  105.765944\n",
       "Horsepower     104.914013   39.631638\n",
       "Weight        2972.754777  855.110688\n",
       "Acceleration    15.549363    2.883358\n",
       "Model Year      76.006369    3.708201\n",
       "Europe           0.191083    0.393782\n",
       "Japan            0.191083    0.393782\n",
       "USA              0.617834    0.486692"
      ]
     },
     "execution_count": 13,
     "metadata": {},
     "output_type": "execute_result"
    }
   ],
   "source": [
    "train_dataset.describe().transpose()[['mean', 'std']]"
   ]
  },
  {
   "cell_type": "markdown",
   "metadata": {
    "id": "-ywmerQ6dSox"
   },
   "source": [
    "It is good practice to normalize features that use different scales and ranges. \n",
    "\n",
    "One reason this is important is because the features are multiplied by the model weights. So the scale of the outputs and the scale of the gradients are affected by the scale of the inputs. \n",
    "\n",
    "Although a model *might* converge without feature normalization, normalization makes training much more stable. "
   ]
  },
  {
   "cell_type": "markdown",
   "metadata": {
    "id": "aFJ6ISropeoo"
   },
   "source": [
    "### The Normalization layer\n",
    "The `preprocessing.Normalization` layer is a clean and simple way to build that preprocessing into your model.\n",
    "\n",
    "The first step is to create the layer:"
   ]
  },
  {
   "cell_type": "code",
   "execution_count": 14,
   "metadata": {
    "id": "JlC5ooJrgjQF"
   },
   "outputs": [],
   "source": [
    "normalizer = preprocessing.Normalization()"
   ]
  },
  {
   "cell_type": "markdown",
   "metadata": {
    "id": "XYA2Ap6nVOha"
   },
   "source": [
    "Then `.adapt()` it to the data:"
   ]
  },
  {
   "cell_type": "code",
   "execution_count": 15,
   "metadata": {
    "id": "CrBbbjbwV91f"
   },
   "outputs": [],
   "source": [
    "normalizer.adapt(np.array(train_features))"
   ]
  },
  {
   "cell_type": "markdown",
   "metadata": {
    "id": "oZccMR5yV9YV"
   },
   "source": [
    "This calculates the mean and variance, and stores them in the layer. "
   ]
  },
  {
   "cell_type": "code",
   "execution_count": 16,
   "metadata": {
    "id": "GGn-ukwxSPtx"
   },
   "outputs": [
    {
     "name": "stdout",
     "output_type": "stream",
     "text": [
      "[   5.478  194.535  104.914 2972.755   15.549   76.006    0.191    0.191\n",
      "    0.618]\n"
     ]
    }
   ],
   "source": [
    "print(normalizer.mean.numpy())"
   ]
  },
  {
   "cell_type": "markdown",
   "metadata": {
    "id": "oGWKaF9GSRuN"
   },
   "source": [
    "When the layer is called it returns the input data, with each feature independently normalized:"
   ]
  },
  {
   "cell_type": "code",
   "execution_count": 17,
   "metadata": {
    "id": "2l7zFL_XWIRu"
   },
   "outputs": [
    {
     "name": "stdout",
     "output_type": "stream",
     "text": [
      "First example: [[   6.  232.  100. 2914.   16.   75.    0.    0.    1.]]\n",
      "\n",
      "Normalized: [[ 0.3   0.35 -0.12 -0.07  0.16 -0.27 -0.49 -0.49  0.79]]\n"
     ]
    }
   ],
   "source": [
    "first = np.array(train_features[:1])\n",
    "\n",
    "with np.printoptions(precision=2, suppress=True):\n",
    "  print('First example:', first)\n",
    "  print()\n",
    "  print('Normalized:', normalizer(first).numpy())"
   ]
  },
  {
   "cell_type": "markdown",
   "metadata": {
    "id": "6o3CrycBXA2s"
   },
   "source": [
    "## Linear regression\n",
    "\n",
    "Before building a DNN model, start with a linear regression."
   ]
  },
  {
   "cell_type": "markdown",
   "metadata": {
    "id": "lFby9n0tnHkw"
   },
   "source": [
    "### One Variable\n",
    "\n",
    "Start with a single-variable linear regression, to predict `MPG` from `Horsepower`.\n",
    "\n",
    "Training a model with `tf.keras` typically starts by defining the model architecture.\n",
    "\n",
    "In this case use a `keras.Sequential` model. This model represents a sequence of steps. In this case there are two steps:\n",
    "\n",
    "* Normalize the input `horsepower`.\n",
    "* Apply a linear transformation ($y = mx+b$) to produce 1 output using `layers.Dense`.\n",
    "\n",
    "The number of _inputs_ can either be set by the `input_shape` argument, or automatically when the model is run for the first time."
   ]
  },
  {
   "cell_type": "markdown",
   "metadata": {
    "id": "Xp3gAFn3TPv8"
   },
   "source": [
    "First create the horsepower `Normalization` layer:"
   ]
  },
  {
   "cell_type": "code",
   "execution_count": 18,
   "metadata": {
    "id": "1gJAy0fKs1TS"
   },
   "outputs": [],
   "source": [
    "horsepower = np.array(train_features['Horsepower'])\n",
    "\n",
    "horsepower_normalizer = preprocessing.Normalization(input_shape=[1,])\n",
    "horsepower_normalizer.adapt(horsepower)"
   ]
  },
  {
   "cell_type": "markdown",
   "metadata": {
    "id": "4NVlHJY2TWlC"
   },
   "source": [
    "Build the sequential model:"
   ]
  },
  {
   "cell_type": "code",
   "execution_count": 19,
   "metadata": {
    "id": "c0sXM7qLlKfZ"
   },
   "outputs": [
    {
     "name": "stdout",
     "output_type": "stream",
     "text": [
      "Model: \"sequential\"\n",
      "_________________________________________________________________\n",
      "Layer (type)                 Output Shape              Param #   \n",
      "=================================================================\n",
      "normalization_1 (Normalizati (None, 1)                 3         \n",
      "_________________________________________________________________\n",
      "dense (Dense)                (None, 1)                 2         \n",
      "=================================================================\n",
      "Total params: 5\n",
      "Trainable params: 2\n",
      "Non-trainable params: 3\n",
      "_________________________________________________________________\n"
     ]
    }
   ],
   "source": [
    "horsepower_model = tf.keras.Sequential([\n",
    "    horsepower_normalizer,\n",
    "    layers.Dense(units=1)\n",
    "])\n",
    "\n",
    "horsepower_model.summary()"
   ]
  },
  {
   "cell_type": "markdown",
   "metadata": {
    "id": "eObQu9fDnXGL"
   },
   "source": [
    "This model will predict `MPG` from `Horsepower`.\n",
    "\n",
    "Run the untrained model on the first 10 horse-power values. The output won't be good, but you'll see that it has the expected shape, `(10,1)`:"
   ]
  },
  {
   "cell_type": "code",
   "execution_count": 20,
   "metadata": {
    "id": "UfV1HS6bns-s"
   },
   "outputs": [
    {
     "data": {
      "text/plain": [
       "array([[ 0.132],\n",
       "       [ 0.507],\n",
       "       [ 1.204],\n",
       "       [-0.94 ],\n",
       "       [-2.012],\n",
       "       [-1.342],\n",
       "       [ 0.802],\n",
       "       [ 0.534],\n",
       "       [ 0.132],\n",
       "       [-0.404]], dtype=float32)"
      ]
     },
     "execution_count": 20,
     "metadata": {},
     "output_type": "execute_result"
    }
   ],
   "source": [
    "horsepower_model.predict(horsepower[:10])"
   ]
  },
  {
   "cell_type": "markdown",
   "metadata": {
    "id": "CSkanJlmmFBX"
   },
   "source": [
    "Once the model is built, configure the training procedure using the `Model.compile()` method. The most important arguments to compile are the `loss` and the `optimizer` since these define what will be optimized (`mean_absolute_error`) and how (using the `optimizers.Adam`)."
   ]
  },
  {
   "cell_type": "code",
   "execution_count": 21,
   "metadata": {
    "id": "JxA_3lpOm-SK"
   },
   "outputs": [],
   "source": [
    "horsepower_model.compile(\n",
    "    optimizer=tf.optimizers.Adam(learning_rate=0.1),\n",
    "    loss='mean_absolute_error')"
   ]
  },
  {
   "cell_type": "markdown",
   "metadata": {
    "id": "Z3q1I9TwnRSC"
   },
   "source": [
    "Once the training is configured, use `Model.fit()` to execute the training:"
   ]
  },
  {
   "cell_type": "code",
   "execution_count": 22,
   "metadata": {
    "id": "-iSrNy59nRAp"
   },
   "outputs": [
    {
     "name": "stdout",
     "output_type": "stream",
     "text": [
      "Epoch 1/100\n",
      "8/8 [==============================] - 1s 79ms/step - loss: 23.0572 - val_loss: 22.6909\n",
      "Epoch 2/100\n",
      "8/8 [==============================] - 0s 18ms/step - loss: 22.7968 - val_loss: 21.9012\n",
      "Epoch 3/100\n",
      "8/8 [==============================] - 0s 20ms/step - loss: 21.5891 - val_loss: 21.1011\n",
      "Epoch 4/100\n",
      "8/8 [==============================] - 0s 32ms/step - loss: 20.3466 - val_loss: 20.3141\n",
      "Epoch 5/100\n",
      "8/8 [==============================] - 0s 33ms/step - loss: 20.6318 - val_loss: 19.5251\n",
      "Epoch 6/100\n",
      "8/8 [==============================] - 0s 32ms/step - loss: 19.5929 - val_loss: 18.7341\n",
      "Epoch 7/100\n",
      "8/8 [==============================] - 0s 33ms/step - loss: 18.6907 - val_loss: 17.9473\n",
      "Epoch 8/100\n",
      "8/8 [==============================] - 0s 36ms/step - loss: 18.1340 - val_loss: 17.1543\n",
      "Epoch 9/100\n",
      "8/8 [==============================] - 0s 14ms/step - loss: 16.9676 - val_loss: 16.3627\n",
      "Epoch 10/100\n",
      "8/8 [==============================] - 0s 30ms/step - loss: 16.0068 - val_loss: 15.5761\n",
      "Epoch 11/100\n",
      "8/8 [==============================] - 0s 34ms/step - loss: 15.2020 - val_loss: 14.7899\n",
      "Epoch 12/100\n",
      "8/8 [==============================] - 0s 32ms/step - loss: 14.3504 - val_loss: 13.9919\n",
      "Epoch 13/100\n",
      "8/8 [==============================] - 0s 34ms/step - loss: 13.4130 - val_loss: 13.1982\n",
      "Epoch 14/100\n",
      "8/8 [==============================] - 0s 29ms/step - loss: 12.7262 - val_loss: 12.4015\n",
      "Epoch 15/100\n",
      "8/8 [==============================] - 0s 18ms/step - loss: 12.4491 - val_loss: 11.6107\n",
      "Epoch 16/100\n",
      "8/8 [==============================] - 0s 34ms/step - loss: 11.3927 - val_loss: 10.8240\n",
      "Epoch 17/100\n",
      "8/8 [==============================] - 0s 39ms/step - loss: 10.9287 - val_loss: 10.0389\n",
      "Epoch 18/100\n",
      "8/8 [==============================] - 0s 39ms/step - loss: 9.7622 - val_loss: 9.2503\n",
      "Epoch 19/100\n",
      "8/8 [==============================] - 0s 38ms/step - loss: 8.9043 - val_loss: 8.4684\n",
      "Epoch 20/100\n",
      "8/8 [==============================] - 0s 26ms/step - loss: 8.1931 - val_loss: 7.7412\n",
      "Epoch 21/100\n",
      "8/8 [==============================] - 0s 29ms/step - loss: 7.2846 - val_loss: 7.0522\n",
      "Epoch 22/100\n",
      "8/8 [==============================] - 0s 30ms/step - loss: 6.8445 - val_loss: 6.4274\n",
      "Epoch 23/100\n",
      "8/8 [==============================] - 0s 30ms/step - loss: 5.9588 - val_loss: 5.8744\n",
      "Epoch 24/100\n",
      "8/8 [==============================] - 0s 30ms/step - loss: 5.3489 - val_loss: 5.4140\n",
      "Epoch 25/100\n",
      "8/8 [==============================] - 0s 31ms/step - loss: 5.4940 - val_loss: 5.0419\n",
      "Epoch 26/100\n",
      "8/8 [==============================] - 0s 27ms/step - loss: 4.6860 - val_loss: 4.7643\n",
      "Epoch 27/100\n",
      "8/8 [==============================] - 0s 14ms/step - loss: 4.8227 - val_loss: 4.5305\n",
      "Epoch 28/100\n",
      "8/8 [==============================] - 0s 20ms/step - loss: 4.7837 - val_loss: 4.3385\n",
      "Epoch 29/100\n",
      "8/8 [==============================] - 0s 33ms/step - loss: 4.2657 - val_loss: 4.1882\n",
      "Epoch 30/100\n",
      "8/8 [==============================] - 0s 33ms/step - loss: 4.0541 - val_loss: 4.0866\n",
      "Epoch 31/100\n",
      "8/8 [==============================] - 0s 31ms/step - loss: 4.1200 - val_loss: 3.9961\n",
      "Epoch 32/100\n",
      "8/8 [==============================] - 0s 36ms/step - loss: 3.8120 - val_loss: 3.9284\n",
      "Epoch 33/100\n",
      "8/8 [==============================] - 0s 32ms/step - loss: 3.8164 - val_loss: 3.8817\n",
      "Epoch 34/100\n",
      "8/8 [==============================] - 0s 32ms/step - loss: 3.7599 - val_loss: 3.8413\n",
      "Epoch 35/100\n",
      "8/8 [==============================] - 0s 34ms/step - loss: 4.0349 - val_loss: 3.8149\n",
      "Epoch 36/100\n",
      "8/8 [==============================] - 0s 46ms/step - loss: 3.7484 - val_loss: 3.8004\n",
      "Epoch 37/100\n",
      "8/8 [==============================] - 0s 35ms/step - loss: 3.8253 - val_loss: 3.7834\n",
      "Epoch 38/100\n",
      "8/8 [==============================] - 0s 37ms/step - loss: 3.7034 - val_loss: 3.7746\n",
      "Epoch 39/100\n",
      "8/8 [==============================] - 0s 20ms/step - loss: 3.6478 - val_loss: 3.7708\n",
      "Epoch 40/100\n",
      "8/8 [==============================] - 0s 33ms/step - loss: 3.7233 - val_loss: 3.7548\n",
      "Epoch 41/100\n",
      "8/8 [==============================] - 0s 36ms/step - loss: 3.9430 - val_loss: 3.7518\n",
      "Epoch 42/100\n",
      "8/8 [==============================] - 0s 32ms/step - loss: 3.8150 - val_loss: 3.7393\n",
      "Epoch 43/100\n",
      "8/8 [==============================] - 0s 25ms/step - loss: 3.6133 - val_loss: 3.7315\n",
      "Epoch 44/100\n",
      "8/8 [==============================] - 0s 33ms/step - loss: 4.0022 - val_loss: 3.7260\n",
      "Epoch 45/100\n",
      "8/8 [==============================] - 0s 20ms/step - loss: 3.6887 - val_loss: 3.7194\n",
      "Epoch 46/100\n",
      "8/8 [==============================] - 0s 33ms/step - loss: 3.7441 - val_loss: 3.7206\n",
      "Epoch 47/100\n",
      "8/8 [==============================] - 0s 35ms/step - loss: 3.9324 - val_loss: 3.7180\n",
      "Epoch 48/100\n",
      "8/8 [==============================] - 0s 28ms/step - loss: 3.6551 - val_loss: 3.7174\n",
      "Epoch 49/100\n",
      "8/8 [==============================] - 0s 31ms/step - loss: 3.8318 - val_loss: 3.7179\n",
      "Epoch 50/100\n",
      "8/8 [==============================] - 0s 29ms/step - loss: 3.8247 - val_loss: 3.7181\n",
      "Epoch 51/100\n",
      "8/8 [==============================] - 0s 34ms/step - loss: 3.5001 - val_loss: 3.7186\n",
      "Epoch 52/100\n",
      "8/8 [==============================] - 0s 29ms/step - loss: 3.8098 - val_loss: 3.7175\n",
      "Epoch 53/100\n",
      "8/8 [==============================] - 0s 28ms/step - loss: 3.7112 - val_loss: 3.7153\n",
      "Epoch 54/100\n",
      "8/8 [==============================] - 0s 31ms/step - loss: 3.9842 - val_loss: 3.7162\n",
      "Epoch 55/100\n",
      "8/8 [==============================] - 0s 26ms/step - loss: 3.8476 - val_loss: 3.7157\n",
      "Epoch 56/100\n",
      "8/8 [==============================] - 0s 24ms/step - loss: 3.7817 - val_loss: 3.7162\n",
      "Epoch 57/100\n",
      "8/8 [==============================] - 0s 28ms/step - loss: 3.6176 - val_loss: 3.7153\n",
      "Epoch 58/100\n",
      "8/8 [==============================] - 0s 29ms/step - loss: 3.8980 - val_loss: 3.7166\n",
      "Epoch 59/100\n",
      "8/8 [==============================] - 0s 22ms/step - loss: 3.8048 - val_loss: 3.7157\n",
      "Epoch 60/100\n",
      "8/8 [==============================] - 0s 22ms/step - loss: 3.8019 - val_loss: 3.7157\n",
      "Epoch 61/100\n",
      "8/8 [==============================] - 0s 15ms/step - loss: 3.7452 - val_loss: 3.7155\n",
      "Epoch 62/100\n",
      "8/8 [==============================] - 0s 28ms/step - loss: 3.8640 - val_loss: 3.7154\n",
      "Epoch 63/100\n",
      "8/8 [==============================] - 0s 22ms/step - loss: 3.9538 - val_loss: 3.7148\n",
      "Epoch 64/100\n",
      "8/8 [==============================] - 0s 31ms/step - loss: 3.8175 - val_loss: 3.7166\n",
      "Epoch 65/100\n",
      "8/8 [==============================] - 0s 16ms/step - loss: 3.7595 - val_loss: 3.7150\n",
      "Epoch 66/100\n",
      "8/8 [==============================] - 0s 22ms/step - loss: 3.8937 - val_loss: 3.7143\n",
      "Epoch 67/100\n",
      "8/8 [==============================] - 0s 30ms/step - loss: 3.7570 - val_loss: 3.7146\n",
      "Epoch 68/100\n",
      "8/8 [==============================] - 0s 31ms/step - loss: 3.4470 - val_loss: 3.7183\n",
      "Epoch 69/100\n",
      "8/8 [==============================] - 0s 34ms/step - loss: 3.7966 - val_loss: 3.7201\n",
      "Epoch 70/100\n",
      "8/8 [==============================] - 0s 31ms/step - loss: 3.5470 - val_loss: 3.7176\n",
      "Epoch 71/100\n",
      "8/8 [==============================] - 0s 27ms/step - loss: 3.8981 - val_loss: 3.7183\n",
      "Epoch 72/100\n",
      "8/8 [==============================] - 0s 33ms/step - loss: 3.7481 - val_loss: 3.7192\n",
      "Epoch 73/100\n",
      "8/8 [==============================] - 0s 29ms/step - loss: 3.7859 - val_loss: 3.7177\n",
      "Epoch 74/100\n",
      "8/8 [==============================] - 0s 30ms/step - loss: 4.0322 - val_loss: 3.7177\n",
      "Epoch 75/100\n",
      "8/8 [==============================] - 0s 28ms/step - loss: 3.5765 - val_loss: 3.7176\n",
      "Epoch 76/100\n",
      "8/8 [==============================] - 0s 45ms/step - loss: 3.7712 - val_loss: 3.7158\n",
      "Epoch 77/100\n",
      "8/8 [==============================] - 0s 29ms/step - loss: 3.4575 - val_loss: 3.7169\n",
      "Epoch 78/100\n",
      "8/8 [==============================] - 0s 34ms/step - loss: 3.7925 - val_loss: 3.7169\n",
      "Epoch 79/100\n",
      "8/8 [==============================] - 0s 25ms/step - loss: 3.8661 - val_loss: 3.7170\n",
      "Epoch 80/100\n",
      "8/8 [==============================] - 0s 25ms/step - loss: 3.6408 - val_loss: 3.7156\n",
      "Epoch 81/100\n",
      "8/8 [==============================] - 0s 33ms/step - loss: 3.9810 - val_loss: 3.7142\n",
      "Epoch 82/100\n",
      "8/8 [==============================] - 0s 28ms/step - loss: 3.9965 - val_loss: 3.7149\n",
      "Epoch 83/100\n",
      "8/8 [==============================] - 0s 23ms/step - loss: 3.7179 - val_loss: 3.7160\n",
      "Epoch 84/100\n",
      "8/8 [==============================] - 0s 30ms/step - loss: 3.9635 - val_loss: 3.7165\n",
      "Epoch 85/100\n",
      "8/8 [==============================] - 0s 31ms/step - loss: 3.6365 - val_loss: 3.7152\n",
      "Epoch 86/100\n",
      "8/8 [==============================] - 0s 33ms/step - loss: 4.2050 - val_loss: 3.7158\n",
      "Epoch 87/100\n",
      "8/8 [==============================] - 0s 36ms/step - loss: 3.8818 - val_loss: 3.7166\n",
      "Epoch 88/100\n",
      "8/8 [==============================] - 0s 23ms/step - loss: 3.6807 - val_loss: 3.7171\n",
      "Epoch 89/100\n",
      "8/8 [==============================] - 0s 22ms/step - loss: 3.6898 - val_loss: 3.7173\n",
      "Epoch 90/100\n",
      "8/8 [==============================] - 0s 34ms/step - loss: 3.7612 - val_loss: 3.7165\n",
      "Epoch 91/100\n",
      "8/8 [==============================] - 0s 30ms/step - loss: 3.9214 - val_loss: 3.7162\n",
      "Epoch 92/100\n",
      "8/8 [==============================] - 0s 32ms/step - loss: 3.8499 - val_loss: 3.7139\n",
      "Epoch 93/100\n",
      "8/8 [==============================] - 0s 20ms/step - loss: 3.7789 - val_loss: 3.7165\n",
      "Epoch 94/100\n",
      "8/8 [==============================] - 0s 33ms/step - loss: 4.0165 - val_loss: 3.7156\n",
      "Epoch 95/100\n",
      "8/8 [==============================] - 0s 29ms/step - loss: 3.6953 - val_loss: 3.7156\n",
      "Epoch 96/100\n",
      "8/8 [==============================] - 0s 21ms/step - loss: 3.9192 - val_loss: 3.7171\n",
      "Epoch 97/100\n",
      "8/8 [==============================] - 0s 33ms/step - loss: 3.8386 - val_loss: 3.7177\n",
      "Epoch 98/100\n",
      "8/8 [==============================] - 0s 33ms/step - loss: 3.7135 - val_loss: 3.7192\n",
      "Epoch 99/100\n",
      "8/8 [==============================] - 0s 29ms/step - loss: 3.7675 - val_loss: 3.7178\n",
      "Epoch 100/100\n",
      "8/8 [==============================] - 0s 24ms/step - loss: 3.8566 - val_loss: 3.7143\n",
      "CPU times: user 1min 21s, sys: 1min 18s, total: 2min 40s\n",
      "Wall time: 23 s\n"
     ]
    }
   ],
   "source": [
    "%%time\n",
    "history = horsepower_model.fit(\n",
    "    train_features['Horsepower'], train_labels,\n",
    "    epochs=100,\n",
    "    # suppress logging\n",
    "    verbose=1,\n",
    "    # Calculate validation results on 20% of the training data\n",
    "    validation_split = 0.2)"
   ]
  },
  {
   "cell_type": "markdown",
   "metadata": {
    "id": "tQm3pc0FYPQB"
   },
   "source": [
    "Visualize the model's training progress using the stats stored in the `history` object."
   ]
  },
  {
   "cell_type": "code",
   "execution_count": 23,
   "metadata": {
    "id": "YCAwD_y4AdC3"
   },
   "outputs": [
    {
     "data": {
      "text/html": [
       "<div>\n",
       "<style scoped>\n",
       "    .dataframe tbody tr th:only-of-type {\n",
       "        vertical-align: middle;\n",
       "    }\n",
       "\n",
       "    .dataframe tbody tr th {\n",
       "        vertical-align: top;\n",
       "    }\n",
       "\n",
       "    .dataframe thead th {\n",
       "        text-align: right;\n",
       "    }\n",
       "</style>\n",
       "<table border=\"1\" class=\"dataframe\">\n",
       "  <thead>\n",
       "    <tr style=\"text-align: right;\">\n",
       "      <th></th>\n",
       "      <th>loss</th>\n",
       "      <th>val_loss</th>\n",
       "      <th>epoch</th>\n",
       "    </tr>\n",
       "  </thead>\n",
       "  <tbody>\n",
       "    <tr>\n",
       "      <th>95</th>\n",
       "      <td>3.778268</td>\n",
       "      <td>3.717116</td>\n",
       "      <td>95</td>\n",
       "    </tr>\n",
       "    <tr>\n",
       "      <th>96</th>\n",
       "      <td>3.776423</td>\n",
       "      <td>3.717747</td>\n",
       "      <td>96</td>\n",
       "    </tr>\n",
       "    <tr>\n",
       "      <th>97</th>\n",
       "      <td>3.778641</td>\n",
       "      <td>3.719206</td>\n",
       "      <td>97</td>\n",
       "    </tr>\n",
       "    <tr>\n",
       "      <th>98</th>\n",
       "      <td>3.778107</td>\n",
       "      <td>3.717784</td>\n",
       "      <td>98</td>\n",
       "    </tr>\n",
       "    <tr>\n",
       "      <th>99</th>\n",
       "      <td>3.777837</td>\n",
       "      <td>3.714317</td>\n",
       "      <td>99</td>\n",
       "    </tr>\n",
       "  </tbody>\n",
       "</table>\n",
       "</div>"
      ],
      "text/plain": [
       "        loss  val_loss  epoch\n",
       "95  3.778268  3.717116     95\n",
       "96  3.776423  3.717747     96\n",
       "97  3.778641  3.719206     97\n",
       "98  3.778107  3.717784     98\n",
       "99  3.777837  3.714317     99"
      ]
     },
     "execution_count": 23,
     "metadata": {},
     "output_type": "execute_result"
    }
   ],
   "source": [
    "hist = pd.DataFrame(history.history)\n",
    "hist['epoch'] = history.epoch\n",
    "hist.tail()"
   ]
  },
  {
   "cell_type": "code",
   "execution_count": 24,
   "metadata": {
    "id": "9E54UoZunqhc"
   },
   "outputs": [],
   "source": [
    "def plot_loss(history):\n",
    "  plt.plot(history.history['loss'], label='loss')\n",
    "  plt.plot(history.history['val_loss'], label='val_loss')\n",
    "  plt.ylim([0, 10])\n",
    "  plt.xlabel('Epoch')\n",
    "  plt.ylabel('Error [MPG]')\n",
    "  plt.legend()\n",
    "  plt.grid(True)"
   ]
  },
  {
   "cell_type": "code",
   "execution_count": 25,
   "metadata": {
    "id": "yYsQYrIZyqjz"
   },
   "outputs": [
    {
     "data": {
      "image/png": "[encoded data removed]",
      "text/plain": [
       "<Figure size 432x288 with 1 Axes>"
      ]
     },
     "metadata": {
      "needs_background": "light"
     },
     "output_type": "display_data"
    }
   ],
   "source": [
    "plot_loss(history)"
   ]
  },
  {
   "cell_type": "markdown",
   "metadata": {
    "id": "CMNrt8X2ebXd"
   },
   "source": [
    "Collect the results on the test set, for later:"
   ]
  },
  {
   "cell_type": "code",
   "execution_count": 26,
   "metadata": {
    "id": "kDZ8EvNYrDtx"
   },
   "outputs": [],
   "source": [
    "test_results = {}\n",
    "\n",
    "test_results['horsepower_model'] = horsepower_model.evaluate(\n",
    "    test_features['Horsepower'],\n",
    "    test_labels, verbose=0)"
   ]
  },
  {
   "cell_type": "markdown",
   "metadata": {
    "id": "F0qutYAKwoda"
   },
   "source": [
    "Since this is a single variable regression it's easy to look at the model's predictions as a function of the input:"
   ]
  },
  {
   "cell_type": "code",
   "execution_count": 27,
   "metadata": {
    "id": "xDS2JEtOn9Jn"
   },
   "outputs": [],
   "source": [
    "x = tf.linspace(0.0, 250, 251)\n",
    "y = horsepower_model.predict(x)"
   ]
  },
  {
   "cell_type": "code",
   "execution_count": 28,
   "metadata": {
    "id": "rttFCTU8czsI"
   },
   "outputs": [],
   "source": [
    "def plot_horsepower(x, y):\n",
    "  plt.scatter(train_features['Horsepower'], train_labels, label='Data')\n",
    "  plt.plot(x, y, color='k', label='Predictions')\n",
    "  plt.xlabel('Horsepower')\n",
    "  plt.ylabel('MPG')\n",
    "  plt.legend()"
   ]
  },
  {
   "cell_type": "code",
   "execution_count": 29,
   "metadata": {
    "id": "7l9ZiAOEUNBL"
   },
   "outputs": [
    {
     "data": {
      "image/png": "[encoded data removed]",
      "text/plain": [
       "<Figure size 432x288 with 1 Axes>"
      ]
     },
     "metadata": {
      "needs_background": "light"
     },
     "output_type": "display_data"
    }
   ],
   "source": [
    "plot_horsepower(x,y)"
   ]
  },
  {
   "cell_type": "markdown",
   "metadata": {
    "id": "Yk2RmlqPoM9u"
   },
   "source": [
    "### Multiple inputs"
   ]
  },
  {
   "cell_type": "markdown",
   "metadata": {
    "id": "PribnwDHUksC"
   },
   "source": [
    "You can use an almost identical setup to make predictions based on multiple inputs. This model still does the same $y = mx+b$ except that $m$ is a matrix and $b$ is a vector.\n",
    "\n",
    "This time use the `Normalization` layer that was adapted to the whole dataset."
   ]
  },
  {
   "cell_type": "code",
   "execution_count": 30,
   "metadata": {
    "id": "ssnVcKg7oMe6"
   },
   "outputs": [],
   "source": [
    "linear_model = tf.keras.Sequential([\n",
    "    normalizer,\n",
    "    layers.Dense(units=1)\n",
    "])"
   ]
  },
  {
   "cell_type": "markdown",
   "metadata": {
    "id": "IHlx6WeIWyAr"
   },
   "source": [
    "When you call this model on a batch of inputs, it produces `units=1` outputs for each example."
   ]
  },
  {
   "cell_type": "code",
   "execution_count": 31,
   "metadata": {
    "id": "DynfJV18WiuT"
   },
   "outputs": [
    {
     "data": {
      "text/plain": [
       "array([[-0.445],\n",
       "       [-1.407],\n",
       "       [ 1.383],\n",
       "       [-1.071],\n",
       "       [-2.594],\n",
       "       [-0.776],\n",
       "       [ 2.015],\n",
       "       [-1.116],\n",
       "       [ 0.553],\n",
       "       [ 1.048]], dtype=float32)"
      ]
     },
     "execution_count": 31,
     "metadata": {},
     "output_type": "execute_result"
    }
   ],
   "source": [
    "linear_model.predict(train_features[:10])"
   ]
  },
  {
   "cell_type": "markdown",
   "metadata": {
    "id": "hvHKH3rPXHmq"
   },
   "source": [
    "When you call the model it's weight matrices will be built. Now you can see that the `kernel` (the $m$ in $y=mx+b$) has a shape of `(9,1)`."
   ]
  },
  {
   "cell_type": "code",
   "execution_count": 32,
   "metadata": {
    "id": "DwJ4Fq0RXBQf"
   },
   "outputs": [
    {
     "data": {
      "text/plain": [
       "<tf.Variable 'dense_1/kernel:0' shape=(9, 1) dtype=float32, numpy=\n",
       "array([[ 0.306],\n",
       "       [-0.486],\n",
       "       [-0.328],\n",
       "       [-0.109],\n",
       "       [ 0.761],\n",
       "       [ 0.729],\n",
       "       [-0.084],\n",
       "       [-0.25 ],\n",
       "       [-0.633]], dtype=float32)>"
      ]
     },
     "execution_count": 32,
     "metadata": {},
     "output_type": "execute_result"
    }
   ],
   "source": [
    "linear_model.layers[1].kernel"
   ]
  },
  {
   "cell_type": "markdown",
   "metadata": {
    "id": "eINAc6rZXzOt"
   },
   "source": [
    "Use the same `compile` and `fit` calls as for the single input `horsepower` model:"
   ]
  },
  {
   "cell_type": "code",
   "execution_count": 33,
   "metadata": {
    "id": "A0Sv_Ybr0szp"
   },
   "outputs": [],
   "source": [
    "linear_model.compile(\n",
    "    optimizer=tf.optimizers.Adam(learning_rate=0.1),\n",
    "    loss='mean_absolute_error')"
   ]
  },
  {
   "cell_type": "code",
   "execution_count": 34,
   "metadata": {
    "id": "EZoOYORvoTSe"
   },
   "outputs": [
    {
     "name": "stdout",
     "output_type": "stream",
     "text": [
      "Epoch 1/100\n",
      "8/8 [==============================] - 1s 53ms/step - loss: 23.6378 - val_loss: 23.0376\n",
      "Epoch 2/100\n",
      "8/8 [==============================] - 0s 32ms/step - loss: 22.3247 - val_loss: 22.3471\n",
      "Epoch 3/100\n",
      "8/8 [==============================] - 0s 33ms/step - loss: 21.8825 - val_loss: 21.6453\n",
      "Epoch 4/100\n",
      "8/8 [==============================] - 0s 31ms/step - loss: 20.6124 - val_loss: 21.0460\n",
      "Epoch 5/100\n",
      "8/8 [==============================] - 0s 29ms/step - loss: 19.6983 - val_loss: 20.3876\n",
      "Epoch 6/100\n",
      "8/8 [==============================] - 0s 33ms/step - loss: 19.0687 - val_loss: 19.7805\n",
      "Epoch 7/100\n",
      "8/8 [==============================] - 0s 29ms/step - loss: 18.4674 - val_loss: 19.1277\n",
      "Epoch 8/100\n",
      "8/8 [==============================] - 0s 36ms/step - loss: 17.3404 - val_loss: 18.5687\n",
      "Epoch 9/100\n",
      "8/8 [==============================] - 0s 26ms/step - loss: 16.8061 - val_loss: 17.9679\n",
      "Epoch 10/100\n",
      "8/8 [==============================] - 0s 31ms/step - loss: 16.1176 - val_loss: 17.2690\n",
      "Epoch 11/100\n",
      "8/8 [==============================] - 0s 32ms/step - loss: 14.8537 - val_loss: 16.6062\n",
      "Epoch 12/100\n",
      "8/8 [==============================] - 0s 28ms/step - loss: 14.0494 - val_loss: 15.8189\n",
      "Epoch 13/100\n",
      "8/8 [==============================] - 0s 29ms/step - loss: 13.3025 - val_loss: 14.9434\n",
      "Epoch 14/100\n",
      "8/8 [==============================] - 0s 30ms/step - loss: 12.1918 - val_loss: 14.0964\n",
      "Epoch 15/100\n",
      "8/8 [==============================] - 0s 33ms/step - loss: 11.6308 - val_loss: 13.1655\n",
      "Epoch 16/100\n",
      "8/8 [==============================] - 0s 32ms/step - loss: 11.1415 - val_loss: 12.2749\n",
      "Epoch 17/100\n",
      "8/8 [==============================] - 0s 38ms/step - loss: 10.5840 - val_loss: 11.3997\n",
      "Epoch 18/100\n",
      "8/8 [==============================] - 0s 31ms/step - loss: 9.4320 - val_loss: 10.6617\n",
      "Epoch 19/100\n",
      "8/8 [==============================] - 0s 32ms/step - loss: 9.1374 - val_loss: 9.6777\n",
      "Epoch 20/100\n",
      "8/8 [==============================] - 0s 30ms/step - loss: 8.0758 - val_loss: 8.8005\n",
      "Epoch 21/100\n",
      "8/8 [==============================] - 0s 30ms/step - loss: 7.3904 - val_loss: 7.9281\n",
      "Epoch 22/100\n",
      "8/8 [==============================] - 0s 33ms/step - loss: 7.1367 - val_loss: 7.0882\n",
      "Epoch 23/100\n",
      "8/8 [==============================] - 0s 20ms/step - loss: 6.1585 - val_loss: 6.1915\n",
      "Epoch 24/100\n",
      "8/8 [==============================] - 0s 23ms/step - loss: 5.6277 - val_loss: 5.3219\n",
      "Epoch 25/100\n",
      "8/8 [==============================] - 0s 28ms/step - loss: 4.6643 - val_loss: 4.6858\n",
      "Epoch 26/100\n",
      "8/8 [==============================] - 0s 27ms/step - loss: 4.2203 - val_loss: 4.2103\n",
      "Epoch 27/100\n",
      "8/8 [==============================] - 0s 21ms/step - loss: 3.5199 - val_loss: 4.1108\n",
      "Epoch 28/100\n",
      "8/8 [==============================] - 0s 19ms/step - loss: 3.5631 - val_loss: 3.7022\n",
      "Epoch 29/100\n",
      "8/8 [==============================] - 0s 25ms/step - loss: 3.1293 - val_loss: 3.2675\n",
      "Epoch 30/100\n",
      "8/8 [==============================] - 0s 36ms/step - loss: 2.8695 - val_loss: 3.1863\n",
      "Epoch 31/100\n",
      "8/8 [==============================] - 0s 39ms/step - loss: 2.9570 - val_loss: 3.1374\n",
      "Epoch 32/100\n",
      "8/8 [==============================] - 0s 42ms/step - loss: 2.6095 - val_loss: 2.9136\n",
      "Epoch 33/100\n",
      "8/8 [==============================] - 0s 28ms/step - loss: 2.6135 - val_loss: 2.8491\n",
      "Epoch 34/100\n",
      "8/8 [==============================] - 0s 28ms/step - loss: 2.6632 - val_loss: 2.8100\n",
      "Epoch 35/100\n",
      "8/8 [==============================] - 0s 26ms/step - loss: 2.3378 - val_loss: 2.7846\n",
      "Epoch 36/100\n",
      "8/8 [==============================] - 0s 33ms/step - loss: 2.7047 - val_loss: 2.7275\n",
      "Epoch 37/100\n",
      "8/8 [==============================] - 0s 19ms/step - loss: 2.3717 - val_loss: 2.7281\n",
      "Epoch 38/100\n",
      "8/8 [==============================] - 0s 31ms/step - loss: 2.6192 - val_loss: 2.7420\n",
      "Epoch 39/100\n",
      "8/8 [==============================] - 0s 29ms/step - loss: 2.2562 - val_loss: 2.7410\n",
      "Epoch 40/100\n",
      "8/8 [==============================] - 0s 24ms/step - loss: 2.5407 - val_loss: 2.7754\n",
      "Epoch 41/100\n",
      "8/8 [==============================] - 0s 27ms/step - loss: 2.4037 - val_loss: 2.7592\n",
      "Epoch 42/100\n",
      "8/8 [==============================] - 0s 22ms/step - loss: 2.4879 - val_loss: 2.7868\n",
      "Epoch 43/100\n",
      "8/8 [==============================] - 0s 32ms/step - loss: 2.4103 - val_loss: 2.7685\n",
      "Epoch 44/100\n",
      "8/8 [==============================] - 0s 32ms/step - loss: 2.4499 - val_loss: 2.7869\n",
      "Epoch 45/100\n",
      "8/8 [==============================] - 0s 30ms/step - loss: 2.3403 - val_loss: 2.8228\n",
      "Epoch 46/100\n",
      "8/8 [==============================] - 0s 35ms/step - loss: 2.4547 - val_loss: 2.8009\n",
      "Epoch 47/100\n",
      "8/8 [==============================] - 0s 37ms/step - loss: 2.4341 - val_loss: 2.8148\n",
      "Epoch 48/100\n",
      "8/8 [==============================] - 0s 20ms/step - loss: 2.4996 - val_loss: 2.8224\n",
      "Epoch 49/100\n",
      "8/8 [==============================] - 0s 33ms/step - loss: 2.5707 - val_loss: 2.8430\n",
      "Epoch 50/100\n",
      "8/8 [==============================] - 0s 30ms/step - loss: 2.4105 - val_loss: 2.7680\n",
      "Epoch 51/100\n",
      "8/8 [==============================] - 0s 20ms/step - loss: 2.4763 - val_loss: 2.8533\n",
      "Epoch 52/100\n",
      "8/8 [==============================] - 0s 40ms/step - loss: 2.3776 - val_loss: 2.7744\n",
      "Epoch 53/100\n",
      "8/8 [==============================] - 0s 42ms/step - loss: 2.5362 - val_loss: 2.8268\n",
      "Epoch 54/100\n",
      "8/8 [==============================] - 0s 34ms/step - loss: 2.5886 - val_loss: 2.8329\n",
      "Epoch 55/100\n",
      "8/8 [==============================] - 0s 26ms/step - loss: 2.4430 - val_loss: 2.8351\n",
      "Epoch 56/100\n",
      "8/8 [==============================] - 0s 23ms/step - loss: 2.4224 - val_loss: 2.8436\n",
      "Epoch 57/100\n",
      "8/8 [==============================] - 0s 18ms/step - loss: 2.4618 - val_loss: 2.8164\n",
      "Epoch 58/100\n",
      "8/8 [==============================] - 0s 20ms/step - loss: 2.3426 - val_loss: 2.8079\n",
      "Epoch 59/100\n",
      "8/8 [==============================] - 0s 18ms/step - loss: 2.7577 - val_loss: 2.8088\n",
      "Epoch 60/100\n",
      "8/8 [==============================] - 0s 25ms/step - loss: 2.4064 - val_loss: 2.8484\n",
      "Epoch 61/100\n",
      "8/8 [==============================] - 0s 34ms/step - loss: 2.5042 - val_loss: 2.8469\n",
      "Epoch 62/100\n",
      "8/8 [==============================] - 0s 29ms/step - loss: 2.2904 - val_loss: 2.9427\n",
      "Epoch 63/100\n",
      "8/8 [==============================] - 0s 35ms/step - loss: 2.4023 - val_loss: 2.8036\n",
      "Epoch 64/100\n",
      "8/8 [==============================] - 0s 32ms/step - loss: 2.5950 - val_loss: 2.8326\n",
      "Epoch 65/100\n",
      "8/8 [==============================] - 0s 31ms/step - loss: 2.3342 - val_loss: 2.9466\n",
      "Epoch 66/100\n",
      "8/8 [==============================] - 0s 33ms/step - loss: 2.4608 - val_loss: 2.8444\n",
      "Epoch 67/100\n",
      "8/8 [==============================] - 0s 17ms/step - loss: 2.4680 - val_loss: 2.8796\n",
      "Epoch 68/100\n",
      "8/8 [==============================] - 0s 21ms/step - loss: 2.1769 - val_loss: 2.8500\n",
      "Epoch 69/100\n",
      "8/8 [==============================] - 0s 35ms/step - loss: 2.5067 - val_loss: 2.8578\n",
      "Epoch 70/100\n",
      "8/8 [==============================] - 0s 36ms/step - loss: 2.5581 - val_loss: 2.8427\n",
      "Epoch 71/100\n",
      "8/8 [==============================] - 0s 23ms/step - loss: 2.3610 - val_loss: 2.8658\n",
      "Epoch 72/100\n",
      "8/8 [==============================] - 0s 29ms/step - loss: 2.6398 - val_loss: 2.8400\n",
      "Epoch 73/100\n",
      "8/8 [==============================] - 0s 29ms/step - loss: 2.4995 - val_loss: 2.8913\n",
      "Epoch 74/100\n",
      "8/8 [==============================] - 0s 30ms/step - loss: 2.5606 - val_loss: 2.8492\n",
      "Epoch 75/100\n",
      "8/8 [==============================] - 0s 21ms/step - loss: 2.3427 - val_loss: 2.8998\n",
      "Epoch 76/100\n",
      "8/8 [==============================] - 0s 37ms/step - loss: 2.4777 - val_loss: 2.8788\n",
      "Epoch 77/100\n",
      "8/8 [==============================] - 0s 32ms/step - loss: 2.4162 - val_loss: 2.9187\n",
      "Epoch 78/100\n",
      "8/8 [==============================] - 0s 28ms/step - loss: 2.2750 - val_loss: 2.8672\n",
      "Epoch 79/100\n",
      "8/8 [==============================] - 0s 32ms/step - loss: 2.5946 - val_loss: 2.8414\n",
      "Epoch 80/100\n",
      "8/8 [==============================] - 0s 39ms/step - loss: 2.4124 - val_loss: 2.8685\n",
      "Epoch 81/100\n",
      "8/8 [==============================] - 0s 24ms/step - loss: 2.4269 - val_loss: 2.8331\n",
      "Epoch 82/100\n",
      "8/8 [==============================] - 0s 25ms/step - loss: 2.4807 - val_loss: 2.8868\n",
      "Epoch 83/100\n",
      "8/8 [==============================] - 0s 33ms/step - loss: 2.4384 - val_loss: 2.8750\n",
      "Epoch 84/100\n",
      "8/8 [==============================] - 0s 34ms/step - loss: 2.6830 - val_loss: 2.8686\n",
      "Epoch 85/100\n",
      "8/8 [==============================] - 0s 30ms/step - loss: 2.4940 - val_loss: 2.8878\n",
      "Epoch 86/100\n",
      "8/8 [==============================] - 0s 27ms/step - loss: 2.2319 - val_loss: 2.8454\n",
      "Epoch 87/100\n",
      "8/8 [==============================] - 0s 30ms/step - loss: 2.5211 - val_loss: 2.8645\n",
      "Epoch 88/100\n",
      "8/8 [==============================] - 0s 28ms/step - loss: 2.3075 - val_loss: 2.8620\n",
      "Epoch 89/100\n",
      "8/8 [==============================] - 0s 33ms/step - loss: 2.6084 - val_loss: 2.8275\n",
      "Epoch 90/100\n",
      "8/8 [==============================] - 0s 16ms/step - loss: 2.5679 - val_loss: 2.9064\n",
      "Epoch 91/100\n",
      "8/8 [==============================] - 0s 16ms/step - loss: 2.3193 - val_loss: 2.8953\n",
      "Epoch 92/100\n",
      "8/8 [==============================] - 0s 22ms/step - loss: 2.4445 - val_loss: 2.9000\n",
      "Epoch 93/100\n",
      "8/8 [==============================] - 0s 19ms/step - loss: 2.4706 - val_loss: 2.8724\n",
      "Epoch 94/100\n",
      "8/8 [==============================] - 0s 36ms/step - loss: 2.4211 - val_loss: 2.8694\n",
      "Epoch 95/100\n",
      "8/8 [==============================] - 0s 32ms/step - loss: 2.3822 - val_loss: 2.8674\n",
      "Epoch 96/100\n",
      "8/8 [==============================] - 0s 32ms/step - loss: 2.3438 - val_loss: 2.8149\n",
      "Epoch 97/100\n",
      "8/8 [==============================] - 0s 36ms/step - loss: 2.3051 - val_loss: 2.8480\n",
      "Epoch 98/100\n",
      "8/8 [==============================] - 0s 33ms/step - loss: 2.3673 - val_loss: 2.8342\n",
      "Epoch 99/100\n",
      "8/8 [==============================] - 0s 25ms/step - loss: 2.2541 - val_loss: 2.8498\n",
      "Epoch 100/100\n",
      "8/8 [==============================] - 0s 27ms/step - loss: 2.4903 - val_loss: 2.8395\n",
      "CPU times: user 1min 20s, sys: 1min 16s, total: 2min 37s\n",
      "Wall time: 22.4 s\n"
     ]
    }
   ],
   "source": [
    "%%time\n",
    "history = linear_model.fit(\n",
    "    train_features, train_labels, \n",
    "    epochs=100,\n",
    "    # suppress logging\n",
    "    verbose=1,\n",
    "    # Calculate validation results on 20% of the training data\n",
    "    validation_split = 0.2)"
   ]
  },
  {
   "cell_type": "markdown",
   "metadata": {
    "id": "EdxiCbiNYK2F"
   },
   "source": [
    "Using all the inputs achieves a much lower training and validation error than the `horsepower` model: "
   ]
  },
  {
   "cell_type": "code",
   "execution_count": 35,
   "metadata": {
    "id": "4sWO3W0koYgu"
   },
   "outputs": [
    {
     "data": {
      "image/png": "[encoded data removed]",
      "text/plain": [
       "<Figure size 432x288 with 1 Axes>"
      ]
     },
     "metadata": {
      "needs_background": "light"
     },
     "output_type": "display_data"
    }
   ],
   "source": [
    "plot_loss(history)"
   ]
  },
  {
   "cell_type": "markdown",
   "metadata": {
    "id": "NyN49hIWe_NH"
   },
   "source": [
    "Collect the results on the test set, for later:"
   ]
  },
  {
   "cell_type": "code",
   "execution_count": 36,
   "metadata": {
    "id": "jNC3D1DGsGgK"
   },
   "outputs": [],
   "source": [
    "test_results['linear_model'] = linear_model.evaluate(\n",
    "    test_features, test_labels, verbose=0)"
   ]
  },
  {
   "cell_type": "markdown",
   "metadata": {
    "id": "SmjdzxKzEu1-"
   },
   "source": [
    "## A DNN regression"
   ]
  },
  {
   "cell_type": "markdown",
   "metadata": {
    "id": "DT_aHPsrzO1t"
   },
   "source": [
    "The previous section implemented linear models for single and multiple inputs.\n",
    "\n",
    "This section implements single-input and multiple-input DNN models. The code is basically the same except the model is expanded to include some \"hidden\"  non-linear layers. The name \"hidden\" here just means not directly connected to the inputs or outputs."
   ]
  },
  {
   "cell_type": "markdown",
   "metadata": {
    "id": "6SWtkIjhrZwa"
   },
   "source": [
    "These models will contain a few more layers than the linear model:\n",
    "\n",
    "* The normalization layer.\n",
    "* Two hidden, nonlinear, `Dense` layers using the `relu` nonlinearity.\n",
    "* A linear single-output layer.\n",
    "\n",
    "Both will use the same training procedure so the `compile` method is included in the `build_and_compile_model` function below."
   ]
  },
  {
   "cell_type": "code",
   "execution_count": 37,
   "metadata": {
    "id": "c26juK7ZG8j-"
   },
   "outputs": [],
   "source": [
    "def build_and_compile_model(norm):\n",
    "  model = keras.Sequential([\n",
    "      norm,\n",
    "      layers.Dense(64, activation='relu'),\n",
    "      layers.Dense(64, activation='relu'),\n",
    "      layers.Dense(1)\n",
    "  ])\n",
    "\n",
    "  model.compile(loss='mean_absolute_error',\n",
    "                optimizer=tf.keras.optimizers.Adam(0.001))\n",
    "  return model"
   ]
  },
  {
   "cell_type": "markdown",
   "metadata": {
    "id": "7T4RP1V36gVn"
   },
   "source": [
    "### One variable"
   ]
  },
  {
   "cell_type": "markdown",
   "metadata": {
    "id": "xvu9gtxTZR5V"
   },
   "source": [
    "Start with a DNN model for a single input: \"Horsepower\""
   ]
  },
  {
   "cell_type": "code",
   "execution_count": 38,
   "metadata": {
    "id": "cGbPb-PHGbhs"
   },
   "outputs": [],
   "source": [
    "dnn_horsepower_model = build_and_compile_model(horsepower_normalizer)"
   ]
  },
  {
   "cell_type": "markdown",
   "metadata": {
    "id": "Sj49Og4YGULr"
   },
   "source": [
    "This model has quite a few more trainable parameters than the linear models."
   ]
  },
  {
   "cell_type": "code",
   "execution_count": 39,
   "metadata": {
    "id": "ReAD0n6MsFK-"
   },
   "outputs": [
    {
     "name": "stdout",
     "output_type": "stream",
     "text": [
      "Model: \"sequential_2\"\n",
      "_________________________________________________________________\n",
      "Layer (type)                 Output Shape              Param #   \n",
      "=================================================================\n",
      "normalization_1 (Normalizati (None, 1)                 3         \n",
      "_________________________________________________________________\n",
      "dense_2 (Dense)              (None, 64)                128       \n",
      "_________________________________________________________________\n",
      "dense_3 (Dense)              (None, 64)                4160      \n",
      "_________________________________________________________________\n",
      "dense_4 (Dense)              (None, 1)                 65        \n",
      "=================================================================\n",
      "Total params: 4,356\n",
      "Trainable params: 4,353\n",
      "Non-trainable params: 3\n",
      "_________________________________________________________________\n"
     ]
    }
   ],
   "source": [
    "dnn_horsepower_model.summary()"
   ]
  },
  {
   "cell_type": "markdown",
   "metadata": {
    "id": "0-qWCsh6DlyH"
   },
   "source": [
    "Train the model:"
   ]
  },
  {
   "cell_type": "code",
   "execution_count": 40,
   "metadata": {
    "id": "sD7qHCmNIOY0"
   },
   "outputs": [
    {
     "name": "stdout",
     "output_type": "stream",
     "text": [
      "Epoch 1/100\n",
      "8/8 [==============================] - 1s 55ms/step - loss: 23.3014 - val_loss: 23.1916\n",
      "Epoch 2/100\n",
      "8/8 [==============================] - 0s 31ms/step - loss: 23.8517 - val_loss: 23.0294\n",
      "Epoch 3/100\n",
      "8/8 [==============================] - 0s 29ms/step - loss: 22.6680 - val_loss: 22.8226\n",
      "Epoch 4/100\n",
      "8/8 [==============================] - 0s 31ms/step - loss: 23.4611 - val_loss: 22.5524\n",
      "Epoch 5/100\n",
      "8/8 [==============================] - 0s 29ms/step - loss: 22.7420 - val_loss: 22.1806\n",
      "Epoch 6/100\n",
      "8/8 [==============================] - 0s 32ms/step - loss: 22.0781 - val_loss: 21.6702\n",
      "Epoch 7/100\n",
      "8/8 [==============================] - 0s 38ms/step - loss: 21.7189 - val_loss: 20.9923\n",
      "Epoch 8/100\n",
      "8/8 [==============================] - 0s 28ms/step - loss: 20.6835 - val_loss: 20.1115\n",
      "Epoch 9/100\n",
      "8/8 [==============================] - 0s 37ms/step - loss: 19.2384 - val_loss: 18.9863\n",
      "Epoch 10/100\n",
      "8/8 [==============================] - 0s 40ms/step - loss: 18.7590 - val_loss: 17.8397\n",
      "Epoch 11/100\n",
      "8/8 [==============================] - 0s 29ms/step - loss: 17.1315 - val_loss: 16.5904\n",
      "Epoch 12/100\n",
      "8/8 [==============================] - 0s 41ms/step - loss: 16.3394 - val_loss: 15.1359\n",
      "Epoch 13/100\n",
      "8/8 [==============================] - 0s 25ms/step - loss: 14.5978 - val_loss: 13.5311\n",
      "Epoch 14/100\n",
      "8/8 [==============================] - 0s 33ms/step - loss: 12.7553 - val_loss: 11.7474\n",
      "Epoch 15/100\n",
      "8/8 [==============================] - 0s 30ms/step - loss: 10.9596 - val_loss: 9.7530\n",
      "Epoch 16/100\n",
      "8/8 [==============================] - 0s 24ms/step - loss: 8.4488 - val_loss: 7.5261\n",
      "Epoch 17/100\n",
      "8/8 [==============================] - 0s 38ms/step - loss: 6.4149 - val_loss: 5.2974\n",
      "Epoch 18/100\n",
      "8/8 [==============================] - 0s 30ms/step - loss: 4.8804 - val_loss: 4.2387\n",
      "Epoch 19/100\n",
      "8/8 [==============================] - 0s 34ms/step - loss: 4.3113 - val_loss: 3.9875\n",
      "Epoch 20/100\n",
      "8/8 [==============================] - 0s 32ms/step - loss: 3.9602 - val_loss: 3.8114\n",
      "Epoch 21/100\n",
      "8/8 [==============================] - 0s 37ms/step - loss: 4.2188 - val_loss: 3.7519\n",
      "Epoch 22/100\n",
      "8/8 [==============================] - 0s 24ms/step - loss: 3.9919 - val_loss: 3.7775\n",
      "Epoch 23/100\n",
      "8/8 [==============================] - 0s 24ms/step - loss: 4.1554 - val_loss: 3.7488\n",
      "Epoch 24/100\n",
      "8/8 [==============================] - 0s 24ms/step - loss: 4.0966 - val_loss: 3.6879\n",
      "Epoch 25/100\n",
      "8/8 [==============================] - 0s 26ms/step - loss: 3.8488 - val_loss: 3.6403\n",
      "Epoch 26/100\n",
      "8/8 [==============================] - 0s 22ms/step - loss: 3.9036 - val_loss: 3.6132\n",
      "Epoch 27/100\n",
      "8/8 [==============================] - 0s 32ms/step - loss: 3.8574 - val_loss: 3.5978\n",
      "Epoch 28/100\n",
      "8/8 [==============================] - 0s 31ms/step - loss: 3.6562 - val_loss: 3.5792\n",
      "Epoch 29/100\n",
      "8/8 [==============================] - 0s 23ms/step - loss: 3.6956 - val_loss: 3.5481\n",
      "Epoch 30/100\n",
      "8/8 [==============================] - 0s 25ms/step - loss: 3.5277 - val_loss: 3.5336\n",
      "Epoch 31/100\n",
      "8/8 [==============================] - 0s 24ms/step - loss: 3.4473 - val_loss: 3.5158\n",
      "Epoch 32/100\n",
      "8/8 [==============================] - 0s 35ms/step - loss: 3.5484 - val_loss: 3.4767\n",
      "Epoch 33/100\n",
      "8/8 [==============================] - 0s 30ms/step - loss: 3.4284 - val_loss: 3.4815\n",
      "Epoch 34/100\n",
      "8/8 [==============================] - 0s 36ms/step - loss: 3.6142 - val_loss: 3.4594\n",
      "Epoch 35/100\n",
      "8/8 [==============================] - 0s 32ms/step - loss: 3.4388 - val_loss: 3.4351\n",
      "Epoch 36/100\n",
      "8/8 [==============================] - 0s 28ms/step - loss: 3.7351 - val_loss: 3.4136\n",
      "Epoch 37/100\n",
      "8/8 [==============================] - 0s 29ms/step - loss: 3.6449 - val_loss: 3.3952\n",
      "Epoch 38/100\n",
      "8/8 [==============================] - 0s 34ms/step - loss: 3.3624 - val_loss: 3.3693\n",
      "Epoch 39/100\n",
      "8/8 [==============================] - 0s 31ms/step - loss: 3.4722 - val_loss: 3.3797\n",
      "Epoch 40/100\n",
      "8/8 [==============================] - 0s 28ms/step - loss: 3.5176 - val_loss: 3.3557\n",
      "Epoch 41/100\n",
      "8/8 [==============================] - 0s 36ms/step - loss: 3.3264 - val_loss: 3.3404\n",
      "Epoch 42/100\n",
      "8/8 [==============================] - 0s 21ms/step - loss: 3.1733 - val_loss: 3.3266\n",
      "Epoch 43/100\n",
      "8/8 [==============================] - 0s 28ms/step - loss: 3.4529 - val_loss: 3.3146\n",
      "Epoch 44/100\n",
      "8/8 [==============================] - 0s 33ms/step - loss: 3.5043 - val_loss: 3.2836\n",
      "Epoch 45/100\n",
      "8/8 [==============================] - 0s 32ms/step - loss: 3.2867 - val_loss: 3.2854\n",
      "Epoch 46/100\n",
      "8/8 [==============================] - 0s 47ms/step - loss: 3.3309 - val_loss: 3.2680\n",
      "Epoch 47/100\n",
      "8/8 [==============================] - 0s 22ms/step - loss: 3.5406 - val_loss: 3.2627\n",
      "Epoch 48/100\n",
      "8/8 [==============================] - 0s 29ms/step - loss: 3.2611 - val_loss: 3.2533\n",
      "Epoch 49/100\n",
      "8/8 [==============================] - 0s 21ms/step - loss: 3.3428 - val_loss: 3.2434\n",
      "Epoch 50/100\n",
      "8/8 [==============================] - 0s 34ms/step - loss: 3.3749 - val_loss: 3.2277\n",
      "Epoch 51/100\n",
      "8/8 [==============================] - 0s 33ms/step - loss: 3.2529 - val_loss: 3.2309\n",
      "Epoch 52/100\n",
      "8/8 [==============================] - 0s 35ms/step - loss: 3.3066 - val_loss: 3.2234\n",
      "Epoch 53/100\n",
      "8/8 [==============================] - 0s 27ms/step - loss: 3.3804 - val_loss: 3.2200\n",
      "Epoch 54/100\n",
      "8/8 [==============================] - 0s 33ms/step - loss: 3.3481 - val_loss: 3.1843\n",
      "Epoch 55/100\n",
      "8/8 [==============================] - 0s 24ms/step - loss: 3.4253 - val_loss: 3.2067\n",
      "Epoch 56/100\n",
      "8/8 [==============================] - 0s 24ms/step - loss: 3.2717 - val_loss: 3.2329\n",
      "Epoch 57/100\n",
      "8/8 [==============================] - 0s 28ms/step - loss: 3.2513 - val_loss: 3.2256\n",
      "Epoch 58/100\n",
      "8/8 [==============================] - 0s 21ms/step - loss: 3.3111 - val_loss: 3.1971\n",
      "Epoch 59/100\n",
      "8/8 [==============================] - 0s 29ms/step - loss: 3.3763 - val_loss: 3.1897\n",
      "Epoch 60/100\n",
      "8/8 [==============================] - 0s 27ms/step - loss: 3.0202 - val_loss: 3.2094\n",
      "Epoch 61/100\n",
      "8/8 [==============================] - 0s 43ms/step - loss: 3.2608 - val_loss: 3.2119\n",
      "Epoch 62/100\n",
      "8/8 [==============================] - 0s 41ms/step - loss: 3.1745 - val_loss: 3.2081\n",
      "Epoch 63/100\n",
      "8/8 [==============================] - 0s 25ms/step - loss: 3.2126 - val_loss: 3.2125\n",
      "Epoch 64/100\n",
      "8/8 [==============================] - 0s 29ms/step - loss: 3.3675 - val_loss: 3.2248\n",
      "Epoch 65/100\n",
      "8/8 [==============================] - 0s 36ms/step - loss: 3.1910 - val_loss: 3.2111\n",
      "Epoch 66/100\n",
      "8/8 [==============================] - 0s 36ms/step - loss: 3.4668 - val_loss: 3.2218\n",
      "Epoch 67/100\n",
      "8/8 [==============================] - 0s 28ms/step - loss: 3.0349 - val_loss: 3.2124\n",
      "Epoch 68/100\n",
      "8/8 [==============================] - 0s 17ms/step - loss: 3.4777 - val_loss: 3.2066\n",
      "Epoch 69/100\n",
      "8/8 [==============================] - 0s 25ms/step - loss: 3.1762 - val_loss: 3.2093\n",
      "Epoch 70/100\n",
      "8/8 [==============================] - 0s 27ms/step - loss: 3.1450 - val_loss: 3.2311\n",
      "Epoch 71/100\n",
      "8/8 [==============================] - 0s 32ms/step - loss: 3.4363 - val_loss: 3.2158\n",
      "Epoch 72/100\n",
      "8/8 [==============================] - 0s 31ms/step - loss: 3.1567 - val_loss: 3.2019\n",
      "Epoch 73/100\n",
      "8/8 [==============================] - 0s 35ms/step - loss: 3.1690 - val_loss: 3.1984\n",
      "Epoch 74/100\n",
      "8/8 [==============================] - 0s 30ms/step - loss: 3.6341 - val_loss: 3.2335\n",
      "Epoch 75/100\n",
      "8/8 [==============================] - 0s 33ms/step - loss: 3.4021 - val_loss: 3.2125\n",
      "Epoch 76/100\n",
      "8/8 [==============================] - 0s 29ms/step - loss: 3.0008 - val_loss: 3.2085\n",
      "Epoch 77/100\n",
      "8/8 [==============================] - 0s 17ms/step - loss: 2.9849 - val_loss: 3.2122\n",
      "Epoch 78/100\n",
      "8/8 [==============================] - 0s 25ms/step - loss: 3.1585 - val_loss: 3.2056\n",
      "Epoch 79/100\n",
      "8/8 [==============================] - 0s 17ms/step - loss: 3.1163 - val_loss: 3.2225\n",
      "Epoch 80/100\n",
      "8/8 [==============================] - 0s 22ms/step - loss: 3.1601 - val_loss: 3.2081\n",
      "Epoch 81/100\n",
      "8/8 [==============================] - 0s 24ms/step - loss: 3.5009 - val_loss: 3.2145\n",
      "Epoch 82/100\n",
      "8/8 [==============================] - 0s 32ms/step - loss: 3.2495 - val_loss: 3.1985\n",
      "Epoch 83/100\n",
      "8/8 [==============================] - 0s 44ms/step - loss: 3.1037 - val_loss: 3.2059\n",
      "Epoch 84/100\n",
      "8/8 [==============================] - 0s 41ms/step - loss: 3.4283 - val_loss: 3.2117\n",
      "Epoch 85/100\n",
      "8/8 [==============================] - 0s 39ms/step - loss: 2.9069 - val_loss: 3.1937\n",
      "Epoch 86/100\n",
      "8/8 [==============================] - 0s 33ms/step - loss: 3.2131 - val_loss: 3.1890\n",
      "Epoch 87/100\n",
      "8/8 [==============================] - 0s 29ms/step - loss: 3.3028 - val_loss: 3.2206\n",
      "Epoch 88/100\n",
      "8/8 [==============================] - 0s 21ms/step - loss: 3.5212 - val_loss: 3.2041\n",
      "Epoch 89/100\n",
      "8/8 [==============================] - 0s 31ms/step - loss: 3.0680 - val_loss: 3.2189\n",
      "Epoch 90/100\n",
      "8/8 [==============================] - 0s 19ms/step - loss: 3.2948 - val_loss: 3.2178\n",
      "Epoch 91/100\n",
      "8/8 [==============================] - 0s 28ms/step - loss: 3.1708 - val_loss: 3.1797\n",
      "Epoch 92/100\n",
      "8/8 [==============================] - 0s 25ms/step - loss: 2.9399 - val_loss: 3.2080\n",
      "Epoch 93/100\n",
      "8/8 [==============================] - 0s 28ms/step - loss: 3.2453 - val_loss: 3.2076\n",
      "Epoch 94/100\n",
      "8/8 [==============================] - 0s 24ms/step - loss: 3.3038 - val_loss: 3.1923\n",
      "Epoch 95/100\n",
      "8/8 [==============================] - 0s 35ms/step - loss: 3.4252 - val_loss: 3.2078\n",
      "Epoch 96/100\n",
      "8/8 [==============================] - 0s 27ms/step - loss: 3.3646 - val_loss: 3.1817\n",
      "Epoch 97/100\n",
      "8/8 [==============================] - 0s 18ms/step - loss: 3.1962 - val_loss: 3.1763\n",
      "Epoch 98/100\n",
      "8/8 [==============================] - 0s 23ms/step - loss: 3.1799 - val_loss: 3.1811\n",
      "Epoch 99/100\n",
      "8/8 [==============================] - 0s 23ms/step - loss: 3.2390 - val_loss: 3.1758\n",
      "Epoch 100/100\n",
      "8/8 [==============================] - 0s 40ms/step - loss: 3.0979 - val_loss: 3.1869\n",
      "CPU times: user 1min 24s, sys: 1min 22s, total: 2min 47s\n",
      "Wall time: 23.8 s\n"
     ]
    }
   ],
   "source": [
    "%%time\n",
    "history = dnn_horsepower_model.fit(\n",
    "    train_features['Horsepower'], train_labels,\n",
    "    validation_split=0.2,\n",
    "    verbose=1, epochs=100)"
   ]
  },
  {
   "cell_type": "markdown",
   "metadata": {
    "id": "dArGGxHxcKjN"
   },
   "source": [
    "This model does slightly better than the linear-horsepower model."
   ]
  },
  {
   "cell_type": "code",
   "execution_count": 41,
   "metadata": {
    "id": "NcF6UWjdCU8T"
   },
   "outputs": [
    {
     "data": {
      "image/png": "[encoded data removed]",
      "text/plain": [
       "<Figure size 432x288 with 1 Axes>"
      ]
     },
     "metadata": {
      "needs_background": "light"
     },
     "output_type": "display_data"
    }
   ],
   "source": [
    "plot_loss(history)"
   ]
  },
  {
   "cell_type": "markdown",
   "metadata": {
    "id": "TG1snlpR2QCK"
   },
   "source": [
    "If you plot the predictions as a function of `Horsepower`, you'll see how this model takes advantage of the nonlinearity provided by the hidden layers:"
   ]
  },
  {
   "cell_type": "code",
   "execution_count": 42,
   "metadata": {
    "id": "hPF53Rem14NS"
   },
   "outputs": [],
   "source": [
    "x = tf.linspace(0.0, 250, 251)\n",
    "y = dnn_horsepower_model.predict(x)"
   ]
  },
  {
   "cell_type": "code",
   "execution_count": 43,
   "metadata": {
    "id": "rsf9rD8I17Wq"
   },
   "outputs": [
    {
     "data": {
      "image/png": "[encoded data removed]",
      "text/plain": [
       "<Figure size 432x288 with 1 Axes>"
      ]
     },
     "metadata": {
      "needs_background": "light"
     },
     "output_type": "display_data"
    }
   ],
   "source": [
    "plot_horsepower(x, y)"
   ]
  },
  {
   "cell_type": "markdown",
   "metadata": {
    "id": "WxCJKIUpe4io"
   },
   "source": [
    "Collect the results on the test set, for later:"
   ]
  },
  {
   "cell_type": "code",
   "execution_count": 44,
   "metadata": {
    "id": "bJjM0dU52XtN"
   },
   "outputs": [],
   "source": [
    "test_results['dnn_horsepower_model'] = dnn_horsepower_model.evaluate(\n",
    "    test_features['Horsepower'], test_labels,\n",
    "    verbose=0)"
   ]
  },
  {
   "cell_type": "markdown",
   "metadata": {
    "id": "S_2Btebp2e64"
   },
   "source": [
    "### Full model"
   ]
  },
  {
   "cell_type": "markdown",
   "metadata": {
    "id": "aKFtezDldLSf"
   },
   "source": [
    "If you repeat this process using all the inputs it slightly improves the performance on the validation dataset."
   ]
  },
  {
   "cell_type": "code",
   "execution_count": 45,
   "metadata": {
    "id": "c0mhscXh2k36"
   },
   "outputs": [
    {
     "name": "stdout",
     "output_type": "stream",
     "text": [
      "Model: \"sequential_3\"\n",
      "_________________________________________________________________\n",
      "Layer (type)                 Output Shape              Param #   \n",
      "=================================================================\n",
      "normalization (Normalization (None, 9)                 19        \n",
      "_________________________________________________________________\n",
      "dense_5 (Dense)              (None, 64)                640       \n",
      "_________________________________________________________________\n",
      "dense_6 (Dense)              (None, 64)                4160      \n",
      "_________________________________________________________________\n",
      "dense_7 (Dense)              (None, 1)                 65        \n",
      "=================================================================\n",
      "Total params: 4,884\n",
      "Trainable params: 4,865\n",
      "Non-trainable params: 19\n",
      "_________________________________________________________________\n"
     ]
    }
   ],
   "source": [
    "dnn_model = build_and_compile_model(normalizer)\n",
    "dnn_model.summary()"
   ]
  },
  {
   "cell_type": "code",
   "execution_count": 46,
   "metadata": {
    "id": "CXDENACl2tuW"
   },
   "outputs": [
    {
     "name": "stdout",
     "output_type": "stream",
     "text": [
      "Epoch 1/100\n",
      "8/8 [==============================] - 1s 46ms/step - loss: 22.5122 - val_loss: 22.6266\n",
      "Epoch 2/100\n",
      "8/8 [==============================] - 0s 35ms/step - loss: 23.0664 - val_loss: 21.8485\n",
      "Epoch 3/100\n",
      "8/8 [==============================] - 0s 35ms/step - loss: 22.1592 - val_loss: 20.8919\n",
      "Epoch 4/100\n",
      "8/8 [==============================] - 0s 28ms/step - loss: 20.7539 - val_loss: 19.6311\n",
      "Epoch 5/100\n",
      "8/8 [==============================] - 0s 36ms/step - loss: 19.7310 - val_loss: 17.9460\n",
      "Epoch 6/100\n",
      "8/8 [==============================] - 0s 29ms/step - loss: 18.2686 - val_loss: 15.7935\n",
      "Epoch 7/100\n",
      "8/8 [==============================] - 0s 28ms/step - loss: 15.2294 - val_loss: 13.5769\n",
      "Epoch 8/100\n",
      "8/8 [==============================] - 0s 30ms/step - loss: 12.9868 - val_loss: 11.4921\n",
      "Epoch 9/100\n",
      "8/8 [==============================] - 0s 31ms/step - loss: 10.6696 - val_loss: 9.0008\n",
      "Epoch 10/100\n",
      "8/8 [==============================] - 0s 28ms/step - loss: 8.7940 - val_loss: 6.1420\n",
      "Epoch 11/100\n",
      "8/8 [==============================] - 0s 34ms/step - loss: 5.9822 - val_loss: 4.7389\n",
      "Epoch 12/100\n",
      "8/8 [==============================] - 0s 25ms/step - loss: 4.8973 - val_loss: 4.1560\n",
      "Epoch 13/100\n",
      "8/8 [==============================] - 0s 41ms/step - loss: 4.3229 - val_loss: 3.5525\n",
      "Epoch 14/100\n",
      "8/8 [==============================] - 0s 31ms/step - loss: 3.5769 - val_loss: 3.1849\n",
      "Epoch 15/100\n",
      "8/8 [==============================] - 0s 32ms/step - loss: 3.0961 - val_loss: 2.9977\n",
      "Epoch 16/100\n",
      "8/8 [==============================] - 0s 30ms/step - loss: 2.9808 - val_loss: 2.8559\n",
      "Epoch 17/100\n",
      "8/8 [==============================] - 0s 28ms/step - loss: 2.8156 - val_loss: 2.7386\n",
      "Epoch 18/100\n",
      "8/8 [==============================] - 0s 30ms/step - loss: 2.8320 - val_loss: 2.5750\n",
      "Epoch 19/100\n",
      "8/8 [==============================] - 0s 26ms/step - loss: 2.5289 - val_loss: 2.5207\n",
      "Epoch 20/100\n",
      "8/8 [==============================] - 0s 30ms/step - loss: 2.4817 - val_loss: 2.4184\n",
      "Epoch 21/100\n",
      "8/8 [==============================] - 0s 34ms/step - loss: 2.3760 - val_loss: 2.4460\n",
      "Epoch 22/100\n",
      "8/8 [==============================] - 0s 24ms/step - loss: 2.2086 - val_loss: 2.3389\n",
      "Epoch 23/100\n",
      "8/8 [==============================] - 0s 36ms/step - loss: 2.1037 - val_loss: 2.2959\n",
      "Epoch 24/100\n",
      "8/8 [==============================] - 0s 18ms/step - loss: 2.1848 - val_loss: 2.3199\n",
      "Epoch 25/100\n",
      "8/8 [==============================] - 0s 22ms/step - loss: 2.1899 - val_loss: 2.2677\n",
      "Epoch 26/100\n",
      "8/8 [==============================] - 0s 19ms/step - loss: 2.1089 - val_loss: 2.2517\n",
      "Epoch 27/100\n",
      "8/8 [==============================] - 0s 33ms/step - loss: 1.9643 - val_loss: 2.2829\n",
      "Epoch 28/100\n",
      "8/8 [==============================] - 0s 38ms/step - loss: 1.9563 - val_loss: 2.2292\n",
      "Epoch 29/100\n",
      "8/8 [==============================] - 0s 27ms/step - loss: 1.9823 - val_loss: 2.2367\n",
      "Epoch 30/100\n",
      "8/8 [==============================] - 0s 29ms/step - loss: 1.9233 - val_loss: 2.2642\n",
      "Epoch 31/100\n",
      "8/8 [==============================] - 0s 23ms/step - loss: 1.9740 - val_loss: 2.2601\n",
      "Epoch 32/100\n",
      "8/8 [==============================] - 0s 34ms/step - loss: 1.8700 - val_loss: 2.2205\n",
      "Epoch 33/100\n",
      "8/8 [==============================] - 0s 27ms/step - loss: 1.7981 - val_loss: 2.2297\n",
      "Epoch 34/100\n",
      "8/8 [==============================] - 0s 17ms/step - loss: 1.8897 - val_loss: 2.2262\n",
      "Epoch 35/100\n",
      "8/8 [==============================] - 0s 32ms/step - loss: 1.9176 - val_loss: 2.2328\n",
      "Epoch 36/100\n",
      "8/8 [==============================] - 0s 42ms/step - loss: 1.8987 - val_loss: 2.2373\n",
      "Epoch 37/100\n",
      "8/8 [==============================] - 0s 42ms/step - loss: 1.8547 - val_loss: 2.2236\n",
      "Epoch 38/100\n",
      "8/8 [==============================] - 0s 33ms/step - loss: 1.8933 - val_loss: 2.2143\n",
      "Epoch 39/100\n",
      "8/8 [==============================] - 0s 40ms/step - loss: 1.8217 - val_loss: 2.2240\n",
      "Epoch 40/100\n",
      "8/8 [==============================] - 0s 43ms/step - loss: 1.7542 - val_loss: 2.2293\n",
      "Epoch 41/100\n",
      "8/8 [==============================] - 0s 34ms/step - loss: 1.8408 - val_loss: 2.2226\n",
      "Epoch 42/100\n",
      "8/8 [==============================] - 0s 33ms/step - loss: 1.7425 - val_loss: 2.2311\n",
      "Epoch 43/100\n",
      "8/8 [==============================] - 0s 21ms/step - loss: 1.8713 - val_loss: 2.2031\n",
      "Epoch 44/100\n",
      "8/8 [==============================] - 0s 21ms/step - loss: 1.8363 - val_loss: 2.2288\n",
      "Epoch 45/100\n",
      "8/8 [==============================] - 0s 31ms/step - loss: 1.8320 - val_loss: 2.2179\n",
      "Epoch 46/100\n",
      "8/8 [==============================] - 0s 37ms/step - loss: 1.9178 - val_loss: 2.1878\n",
      "Epoch 47/100\n",
      "8/8 [==============================] - 0s 23ms/step - loss: 1.7408 - val_loss: 2.2019\n",
      "Epoch 48/100\n",
      "8/8 [==============================] - 0s 32ms/step - loss: 1.7899 - val_loss: 2.1670\n",
      "Epoch 49/100\n",
      "8/8 [==============================] - 0s 34ms/step - loss: 1.6927 - val_loss: 2.2468\n",
      "Epoch 50/100\n",
      "8/8 [==============================] - 0s 39ms/step - loss: 1.8482 - val_loss: 2.1953\n",
      "Epoch 51/100\n",
      "8/8 [==============================] - 0s 31ms/step - loss: 1.8049 - val_loss: 2.2075\n",
      "Epoch 52/100\n",
      "8/8 [==============================] - 0s 29ms/step - loss: 1.7023 - val_loss: 2.2114\n",
      "Epoch 53/100\n",
      "8/8 [==============================] - 0s 27ms/step - loss: 1.8455 - val_loss: 2.1765\n",
      "Epoch 54/100\n",
      "8/8 [==============================] - 0s 26ms/step - loss: 1.8410 - val_loss: 2.1944\n",
      "Epoch 55/100\n",
      "8/8 [==============================] - 0s 37ms/step - loss: 1.7782 - val_loss: 2.1940\n",
      "Epoch 56/100\n",
      "8/8 [==============================] - 0s 33ms/step - loss: 1.6977 - val_loss: 2.1806\n",
      "Epoch 57/100\n",
      "8/8 [==============================] - 0s 24ms/step - loss: 1.8287 - val_loss: 2.1856\n",
      "Epoch 58/100\n",
      "8/8 [==============================] - 0s 36ms/step - loss: 1.7935 - val_loss: 2.2009\n",
      "Epoch 59/100\n",
      "8/8 [==============================] - 0s 30ms/step - loss: 1.7331 - val_loss: 2.1536\n",
      "Epoch 60/100\n",
      "8/8 [==============================] - 0s 27ms/step - loss: 1.8442 - val_loss: 2.1704\n",
      "Epoch 61/100\n",
      "8/8 [==============================] - 0s 31ms/step - loss: 1.8081 - val_loss: 2.1519\n",
      "Epoch 62/100\n",
      "8/8 [==============================] - 0s 22ms/step - loss: 1.7102 - val_loss: 2.2097\n",
      "Epoch 63/100\n",
      "8/8 [==============================] - 0s 33ms/step - loss: 1.7447 - val_loss: 2.1472\n",
      "Epoch 64/100\n",
      "8/8 [==============================] - 0s 22ms/step - loss: 1.6264 - val_loss: 2.1915\n",
      "Epoch 65/100\n",
      "8/8 [==============================] - 0s 31ms/step - loss: 1.6683 - val_loss: 2.2011\n",
      "Epoch 66/100\n",
      "8/8 [==============================] - 0s 40ms/step - loss: 1.7702 - val_loss: 2.1535\n",
      "Epoch 67/100\n",
      "8/8 [==============================] - 0s 40ms/step - loss: 1.7426 - val_loss: 2.1907\n",
      "Epoch 68/100\n",
      "8/8 [==============================] - 0s 39ms/step - loss: 1.8019 - val_loss: 2.1306\n",
      "Epoch 69/100\n",
      "8/8 [==============================] - 0s 34ms/step - loss: 1.6802 - val_loss: 2.1390\n",
      "Epoch 70/100\n",
      "8/8 [==============================] - 0s 30ms/step - loss: 1.7319 - val_loss: 2.1147\n",
      "Epoch 71/100\n",
      "8/8 [==============================] - 0s 29ms/step - loss: 1.5847 - val_loss: 2.1607\n",
      "Epoch 72/100\n",
      "8/8 [==============================] - 0s 33ms/step - loss: 1.5554 - val_loss: 2.1428\n",
      "Epoch 73/100\n",
      "8/8 [==============================] - 0s 23ms/step - loss: 1.7728 - val_loss: 2.1262\n",
      "Epoch 74/100\n",
      "8/8 [==============================] - 0s 16ms/step - loss: 1.7127 - val_loss: 2.1260\n",
      "Epoch 75/100\n",
      "8/8 [==============================] - 0s 33ms/step - loss: 1.6755 - val_loss: 2.1287\n",
      "Epoch 76/100\n",
      "8/8 [==============================] - 0s 32ms/step - loss: 1.6953 - val_loss: 2.1463\n",
      "Epoch 77/100\n",
      "8/8 [==============================] - 0s 32ms/step - loss: 1.6564 - val_loss: 2.0961\n",
      "Epoch 78/100\n",
      "8/8 [==============================] - 0s 30ms/step - loss: 1.7042 - val_loss: 2.1172\n",
      "Epoch 79/100\n",
      "8/8 [==============================] - 0s 26ms/step - loss: 1.6406 - val_loss: 2.1291\n",
      "Epoch 80/100\n",
      "8/8 [==============================] - 0s 36ms/step - loss: 1.6341 - val_loss: 2.1269\n",
      "Epoch 81/100\n",
      "8/8 [==============================] - 0s 27ms/step - loss: 1.5954 - val_loss: 2.1334\n",
      "Epoch 82/100\n",
      "8/8 [==============================] - 0s 38ms/step - loss: 1.6028 - val_loss: 2.0912\n",
      "Epoch 83/100\n",
      "8/8 [==============================] - 0s 23ms/step - loss: 1.7238 - val_loss: 2.2127\n",
      "Epoch 84/100\n",
      "8/8 [==============================] - 0s 27ms/step - loss: 1.6983 - val_loss: 2.1549\n",
      "Epoch 85/100\n",
      "8/8 [==============================] - 0s 38ms/step - loss: 1.6860 - val_loss: 2.0962\n",
      "Epoch 86/100\n",
      "8/8 [==============================] - 0s 28ms/step - loss: 1.6093 - val_loss: 2.1481\n",
      "Epoch 87/100\n",
      "8/8 [==============================] - 0s 30ms/step - loss: 1.7242 - val_loss: 2.1172\n",
      "Epoch 88/100\n",
      "8/8 [==============================] - 0s 31ms/step - loss: 1.6851 - val_loss: 2.1071\n",
      "Epoch 89/100\n",
      "8/8 [==============================] - 0s 30ms/step - loss: 1.6372 - val_loss: 2.0883\n",
      "Epoch 90/100\n",
      "8/8 [==============================] - 0s 35ms/step - loss: 1.7383 - val_loss: 2.1222\n",
      "Epoch 91/100\n",
      "8/8 [==============================] - 0s 32ms/step - loss: 1.5763 - val_loss: 2.0922\n",
      "Epoch 92/100\n",
      "8/8 [==============================] - 0s 31ms/step - loss: 1.6041 - val_loss: 2.1380\n",
      "Epoch 93/100\n",
      "8/8 [==============================] - 0s 32ms/step - loss: 1.5342 - val_loss: 2.0649\n",
      "Epoch 94/100\n",
      "8/8 [==============================] - 0s 26ms/step - loss: 1.5385 - val_loss: 2.0954\n",
      "Epoch 95/100\n",
      "8/8 [==============================] - 0s 35ms/step - loss: 1.5601 - val_loss: 2.1134\n",
      "Epoch 96/100\n",
      "8/8 [==============================] - 0s 30ms/step - loss: 1.6476 - val_loss: 2.1297\n",
      "Epoch 97/100\n",
      "8/8 [==============================] - 0s 28ms/step - loss: 1.6012 - val_loss: 2.0873\n",
      "Epoch 98/100\n",
      "8/8 [==============================] - 0s 32ms/step - loss: 1.6107 - val_loss: 2.0840\n",
      "Epoch 99/100\n",
      "8/8 [==============================] - 0s 37ms/step - loss: 1.7577 - val_loss: 2.0847\n",
      "Epoch 100/100\n",
      "8/8 [==============================] - 0s 34ms/step - loss: 1.5938 - val_loss: 2.0670\n",
      "CPU times: user 1min 28s, sys: 1min 26s, total: 2min 54s\n",
      "Wall time: 24.6 s\n"
     ]
    }
   ],
   "source": [
    "%%time\n",
    "history = dnn_model.fit(\n",
    "    train_features, train_labels,\n",
    "    validation_split=0.2,\n",
    "    verbose=1, epochs=100)"
   ]
  },
  {
   "cell_type": "code",
   "execution_count": 47,
   "metadata": {
    "id": "-9Dbj0fX23RQ"
   },
   "outputs": [
    {
     "data": {
      "image/png": "[encoded data removed]",
      "text/plain": [
       "<Figure size 432x288 with 1 Axes>"
      ]
     },
     "metadata": {
      "needs_background": "light"
     },
     "output_type": "display_data"
    }
   ],
   "source": [
    "plot_loss(history)"
   ]
  },
  {
   "cell_type": "markdown",
   "metadata": {
    "id": "hWoVYS34fJPZ"
   },
   "source": [
    "Collect the results on the test set:"
   ]
  },
  {
   "cell_type": "code",
   "execution_count": 48,
   "metadata": {
    "id": "-bZIa96W3c7K"
   },
   "outputs": [],
   "source": [
    "test_results['dnn_model'] = dnn_model.evaluate(test_features, test_labels, verbose=0)"
   ]
  },
  {
   "cell_type": "markdown",
   "metadata": {
    "id": "uiCucdPLfMkZ"
   },
   "source": [
    "## Performance"
   ]
  },
  {
   "cell_type": "markdown",
   "metadata": {
    "id": "rDf1xebEfWBw"
   },
   "source": [
    "Now that all the models are trained check the test-set performance and see how they did:"
   ]
  },
  {
   "cell_type": "code",
   "execution_count": 49,
   "metadata": {
    "id": "e5_ooufM5iH2"
   },
   "outputs": [
    {
     "data": {
      "text/html": [
       "<div>\n",
       "<style scoped>\n",
       "    .dataframe tbody tr th:only-of-type {\n",
       "        vertical-align: middle;\n",
       "    }\n",
       "\n",
       "    .dataframe tbody tr th {\n",
       "        vertical-align: top;\n",
       "    }\n",
       "\n",
       "    .dataframe thead th {\n",
       "        text-align: right;\n",
       "    }\n",
       "</style>\n",
       "<table border=\"1\" class=\"dataframe\">\n",
       "  <thead>\n",
       "    <tr style=\"text-align: right;\">\n",
       "      <th></th>\n",
       "      <th>Mean absolute error [MPG]</th>\n",
       "    </tr>\n",
       "  </thead>\n",
       "  <tbody>\n",
       "    <tr>\n",
       "      <th>horsepower_model</th>\n",
       "      <td>3.993930</td>\n",
       "    </tr>\n",
       "    <tr>\n",
       "      <th>linear_model</th>\n",
       "      <td>2.272081</td>\n",
       "    </tr>\n",
       "    <tr>\n",
       "      <th>dnn_horsepower_model</th>\n",
       "      <td>3.459959</td>\n",
       "    </tr>\n",
       "    <tr>\n",
       "      <th>dnn_model</th>\n",
       "      <td>1.823224</td>\n",
       "    </tr>\n",
       "  </tbody>\n",
       "</table>\n",
       "</div>"
      ],
      "text/plain": [
       "                      Mean absolute error [MPG]\n",
       "horsepower_model                       3.993930\n",
       "linear_model                           2.272081\n",
       "dnn_horsepower_model                   3.459959\n",
       "dnn_model                              1.823224"
      ]
     },
     "execution_count": 49,
     "metadata": {},
     "output_type": "execute_result"
    }
   ],
   "source": [
    "pd.DataFrame(test_results, index=['Mean absolute error [MPG]']).T"
   ]
  },
  {
   "cell_type": "markdown",
   "metadata": {
    "id": "DABIVzsCf-QI"
   },
   "source": [
    "These results match the validation error seen during training."
   ]
  },
  {
   "cell_type": "markdown",
   "metadata": {
    "id": "ft603OzXuEZC"
   },
   "source": [
    "### Make predictions\n",
    "\n",
    "Finally, predict have a look at the errors made by the model when making predictions on the test set:"
   ]
  },
  {
   "cell_type": "code",
   "execution_count": 50,
   "metadata": {
    "id": "Xe7RXH3N3CWU"
   },
   "outputs": [
    {
     "data": {
      "image/png": "[encoded data removed]",
      "text/plain": [
       "<Figure size 432x288 with 1 Axes>"
      ]
     },
     "metadata": {
      "needs_background": "light"
     },
     "output_type": "display_data"
    }
   ],
   "source": [
    "test_predictions = dnn_model.predict(test_features).flatten()\n",
    "\n",
    "a = plt.axes(aspect='equal')\n",
    "plt.scatter(test_labels, test_predictions)\n",
    "plt.xlabel('True Values [MPG]')\n",
    "plt.ylabel('Predictions [MPG]')\n",
    "lims = [0, 50]\n",
    "plt.xlim(lims)\n",
    "plt.ylim(lims)\n",
    "_ = plt.plot(lims, lims)\n"
   ]
  },
  {
   "cell_type": "markdown",
   "metadata": {
    "id": "19wyogbOSU5t"
   },
   "source": [
    "It looks like the model predicts reasonably well. \n",
    "\n",
    "Now take a look at the error distribution:"
   ]
  },
  {
   "cell_type": "code",
   "execution_count": 51,
   "metadata": {
    "id": "f-OHX4DiXd8x"
   },
   "outputs": [
    {
     "data": {
      "image/png": "[encoded data removed]",
      "text/plain": [
       "<Figure size 432x288 with 1 Axes>"
      ]
     },
     "metadata": {
      "needs_background": "light"
     },
     "output_type": "display_data"
    }
   ],
   "source": [
    "error = test_predictions - test_labels\n",
    "plt.hist(error, bins=25)\n",
    "plt.xlabel('Prediction Error [MPG]')\n",
    "_ = plt.ylabel('Count')"
   ]
  },
  {
   "cell_type": "markdown",
   "metadata": {
    "id": "KSyaHUfDT-mZ"
   },
   "source": [
    "If you're happy with the model save it for later use:"
   ]
  },
  {
   "cell_type": "code",
   "execution_count": 55,
   "metadata": {
    "execution": {
     "iopub.execute_input": "2021-01-21T02:30:28.502990Z",
     "iopub.status.busy": "2021-01-21T02:30:28.502411Z",
     "iopub.status.idle": "2021-01-21T02:30:29.051254Z",
     "shell.execute_reply": "2021-01-21T02:30:29.050671Z"
    },
    "id": "4-WwLlmfT-mb"
   },
   "outputs": [
    {
     "name": "stdout",
     "output_type": "stream",
     "text": [
      "INFO:tensorflow:Assets written to: dnn_model/assets\n"
     ]
    }
   ],
   "source": [
    "# dnn_model.save('dnn_model')"
   ]
  },
  {
   "cell_type": "markdown",
   "metadata": {
    "id": "Benlnl8UT-me"
   },
   "source": [
    "If you reload the model, it gives identical output:"
   ]
  },
  {
   "cell_type": "code",
   "execution_count": 56,
   "metadata": {
    "execution": {
     "iopub.execute_input": "2021-01-21T02:30:29.058067Z",
     "iopub.status.busy": "2021-01-21T02:30:29.057400Z",
     "iopub.status.idle": "2021-01-21T02:30:29.580761Z",
     "shell.execute_reply": "2021-01-21T02:30:29.581240Z"
    },
    "id": "dyyyj2zVT-mf"
   },
   "outputs": [],
   "source": [
    "# reloaded = tf.keras.models.load_model('dnn_model')\n",
    "\n",
    "# test_results['reloaded'] = reloaded.evaluate(\n",
    "#     test_features, test_labels, verbose=0)"
   ]
  },
  {
   "cell_type": "code",
   "execution_count": 57,
   "metadata": {
    "execution": {
     "iopub.execute_input": "2021-01-21T02:30:29.591142Z",
     "iopub.status.busy": "2021-01-21T02:30:29.590264Z",
     "iopub.status.idle": "2021-01-21T02:30:29.593763Z",
     "shell.execute_reply": "2021-01-21T02:30:29.593232Z"
    },
    "id": "f_GchJ2tg-2o"
   },
   "outputs": [
    {
     "data": {
      "text/html": [
       "<div>\n",
       "<style scoped>\n",
       "    .dataframe tbody tr th:only-of-type {\n",
       "        vertical-align: middle;\n",
       "    }\n",
       "\n",
       "    .dataframe tbody tr th {\n",
       "        vertical-align: top;\n",
       "    }\n",
       "\n",
       "    .dataframe thead th {\n",
       "        text-align: right;\n",
       "    }\n",
       "</style>\n",
       "<table border=\"1\" class=\"dataframe\">\n",
       "  <thead>\n",
       "    <tr style=\"text-align: right;\">\n",
       "      <th></th>\n",
       "      <th>Mean absolute error [MPG]</th>\n",
       "    </tr>\n",
       "  </thead>\n",
       "  <tbody>\n",
       "    <tr>\n",
       "      <th>horsepower_model</th>\n",
       "      <td>3.638829</td>\n",
       "    </tr>\n",
       "    <tr>\n",
       "      <th>linear_model</th>\n",
       "      <td>2.501205</td>\n",
       "    </tr>\n",
       "    <tr>\n",
       "      <th>dnn_horsepower_model</th>\n",
       "      <td>2.931511</td>\n",
       "    </tr>\n",
       "    <tr>\n",
       "      <th>dnn_model</th>\n",
       "      <td>1.799211</td>\n",
       "    </tr>\n",
       "    <tr>\n",
       "      <th>reloaded</th>\n",
       "      <td>1.799211</td>\n",
       "    </tr>\n",
       "  </tbody>\n",
       "</table>\n",
       "</div>"
      ],
      "text/plain": [
       "                      Mean absolute error [MPG]\n",
       "horsepower_model                       3.638829\n",
       "linear_model                           2.501205\n",
       "dnn_horsepower_model                   2.931511\n",
       "dnn_model                              1.799211\n",
       "reloaded                               1.799211"
      ]
     },
     "execution_count": 1,
     "metadata": {},
     "output_type": "execute_result"
    }
   ],
   "source": [
    "# pd.DataFrame(test_results, index=['Mean absolute error [MPG]']).T"
   ]
  },
  {
   "cell_type": "markdown",
   "metadata": {
    "id": "vgGQuV-yqYZH"
   },
   "source": [
    "## Conclusion\n",
    "\n",
    "This notebook introduced a few techniques to handle a regression problem. Here are a few more tips that may help:\n",
    "\n",
    "* [Mean Squared Error (MSE)](https://www.tensorflow.org/api_docs/python/tf/losses/MeanSquaredError) and [Mean Absolute Error (MAE)](https://www.tensorflow.org/api_docs/python/tf/losses/MeanAbsoluteError) are common loss functions used for regression problems. Mean Absolute Error is less sensitive to outliers. Different loss functions are used for classification problems.\n",
    "* Similarly, evaluation metrics used for regression differ from classification.\n",
    "* When numeric input data features have values with different ranges, each feature should be scaled independently to the same range.\n",
    "* Overfitting is a common problem for DNN models, it wasn't a problem for this tutorial. See the [overfit and underfit](overfit_and_underfit.ipynb) tutorial for more help with this.\n"
   ]
  }
 ],
 "metadata": {
  "colab": {
   "collapsed_sections": [],
   "name": "regression.ipynb",
   "toc_visible": true
  },
  "kernelspec": {
   "display_name": "Python 3",
   "language": "python",
   "name": "python3"
  },
  "language_info": {
   "codemirror_mode": {
    "name": "ipython",
    "version": 3
   },
   "file_extension": ".py",
   "mimetype": "text/x-python",
   "name": "python",
   "nbconvert_exporter": "python",
   "pygments_lexer": "ipython3",
   "version": "3.8.8"
  }
 },
 "nbformat": 4,
 "nbformat_minor": 4
}
