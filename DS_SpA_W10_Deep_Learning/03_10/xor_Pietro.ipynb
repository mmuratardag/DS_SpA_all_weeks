{
 "cells": [
  {
   "cell_type": "markdown",
   "metadata": {},
   "source": [
    "### NumPy Solution to: \n",
    "\n",
    "- \"Pen and Paper\" exercise:\n",
    "\n",
    "https://krspiced.pythonanywhere.com/_downloads/e4a79fdee9c83f9e1ac07b61a28e8bc4/ANN_Exercise.pdf"
   ]
  },
  {
   "cell_type": "code",
   "execution_count": 1,
   "metadata": {},
   "outputs": [],
   "source": [
    "import numpy as np"
   ]
  },
  {
   "cell_type": "code",
   "execution_count": 2,
   "metadata": {},
   "outputs": [],
   "source": [
    "# our input data from the pdf exerise, x1 and x2\n",
    "X = np.array([\n",
    "    [0, 0],\n",
    "    [0, 1],\n",
    "    [1, 0], \n",
    "    [1, 1]\n",
    "])"
   ]
  },
  {
   "cell_type": "code",
   "execution_count": 3,
   "metadata": {},
   "outputs": [],
   "source": [
    "# the third column is the byas\n",
    "X = np.hstack((X, np.ones(shape=(4,1))))"
   ]
  },
  {
   "cell_type": "code",
   "execution_count": 4,
   "metadata": {},
   "outputs": [
    {
     "data": {
      "text/plain": [
       "array([[0., 0., 1.],\n",
       "       [0., 1., 1.],\n",
       "       [1., 0., 1.],\n",
       "       [1., 1., 1.]])"
      ]
     },
     "execution_count": 4,
     "metadata": {},
     "output_type": "execute_result"
    }
   ],
   "source": [
    "X"
   ]
  },
  {
   "cell_type": "code",
   "execution_count": 5,
   "metadata": {},
   "outputs": [
    {
     "data": {
      "text/plain": [
       "(4, 3)"
      ]
     },
     "execution_count": 5,
     "metadata": {},
     "output_type": "execute_result"
    }
   ],
   "source": [
    "X.shape"
   ]
  },
  {
   "cell_type": "code",
   "execution_count": 6,
   "metadata": {},
   "outputs": [],
   "source": [
    "weights_AND = np.array([1, 1, 0])"
   ]
  },
  {
   "cell_type": "code",
   "execution_count": 7,
   "metadata": {},
   "outputs": [
    {
     "data": {
      "text/plain": [
       "array([1, 1, 0])"
      ]
     },
     "execution_count": 7,
     "metadata": {},
     "output_type": "execute_result"
    }
   ],
   "source": [
    "weights_AND"
   ]
  },
  {
   "cell_type": "code",
   "execution_count": 8,
   "metadata": {},
   "outputs": [
    {
     "data": {
      "text/plain": [
       "(3,)"
      ]
     },
     "execution_count": 8,
     "metadata": {},
     "output_type": "execute_result"
    }
   ],
   "source": [
    "weights_AND.shape"
   ]
  },
  {
   "cell_type": "code",
   "execution_count": 9,
   "metadata": {},
   "outputs": [],
   "source": [
    "def step(x) -> bool:\n",
    "    \n",
    "    \"\"\"python implementation of the step function.\n",
    "       - 1 (or TRUE / ON) if greater than 1.\n",
    "       - 0 (or FALSE /OFF) if not.\n",
    "       \"\"\"\n",
    "    \n",
    "#     if x > 1:\n",
    "#         return True\n",
    "#     else:\n",
    "#         return False\n",
    "\n",
    "    return x > 1"
   ]
  },
  {
   "cell_type": "code",
   "execution_count": 10,
   "metadata": {},
   "outputs": [],
   "source": [
    "solution_step = step(np.dot(X, weights_AND)) #solution to the AND problem"
   ]
  },
  {
   "cell_type": "code",
   "execution_count": 11,
   "metadata": {},
   "outputs": [
    {
     "data": {
      "text/plain": [
       "(4,)"
      ]
     },
     "execution_count": 11,
     "metadata": {},
     "output_type": "execute_result"
    }
   ],
   "source": [
    "solution_step.shape"
   ]
  },
  {
   "cell_type": "markdown",
   "metadata": {},
   "source": [
    "How a Neural Network calculates:\n",
    "- Multiply input and weights\n",
    "- (add bias)\n",
    "- activate!"
   ]
  },
  {
   "cell_type": "code",
   "execution_count": 12,
   "metadata": {},
   "outputs": [],
   "source": [
    "weights_OR = np.array([1.1, 1.1, 0])"
   ]
  },
  {
   "cell_type": "code",
   "execution_count": 13,
   "metadata": {},
   "outputs": [
    {
     "data": {
      "text/plain": [
       "array([False,  True,  True,  True])"
      ]
     },
     "execution_count": 13,
     "metadata": {},
     "output_type": "execute_result"
    }
   ],
   "source": [
    "step(np.dot(X, weights_OR)) #this is what a single neuron does!\n",
    "#solution to the OR problem"
   ]
  },
  {
   "cell_type": "markdown",
   "metadata": {},
   "source": [
    "The XOR problem:\n",
    "- a little more challenging because we have to make sure the output from the first \"layer\" of neurons is then reassembled back into a matrix to be used as the input to the final neuron / layer."
   ]
  },
  {
   "cell_type": "code",
   "execution_count": 14,
   "metadata": {},
   "outputs": [],
   "source": [
    "weights_XOR_1 = np.array([1.1, -1.1, 0]) #x1 AND NOT x2\n",
    "weights_XOR_2 = np.array([-1.1, 1.1, 0]) #x2 AND NOT x1\n",
    "weights_XOR_3 = weights_OR #result A OR result B"
   ]
  },
  {
   "cell_type": "code",
   "execution_count": 15,
   "metadata": {},
   "outputs": [],
   "source": [
    "neuron1 = step(np.dot(X, weights_XOR_1))\n",
    "neuron2 = step(np.dot(X, weights_XOR_2))"
   ]
  },
  {
   "cell_type": "code",
   "execution_count": 16,
   "metadata": {},
   "outputs": [],
   "source": [
    "hidden_output = np.vstack([neuron1, neuron2, np.ones(4)]).transpose()\n",
    "#an intermediate layer of neurons\n",
    "#sometimes you need to transpose to make sure the shapes are lined up."
   ]
  },
  {
   "cell_type": "code",
   "execution_count": 17,
   "metadata": {},
   "outputs": [
    {
     "data": {
      "text/plain": [
       "(4, 3)"
      ]
     },
     "execution_count": 17,
     "metadata": {},
     "output_type": "execute_result"
    }
   ],
   "source": [
    "hidden_output.shape"
   ]
  },
  {
   "cell_type": "code",
   "execution_count": 18,
   "metadata": {},
   "outputs": [
    {
     "data": {
      "text/plain": [
       "array([False,  True,  True, False])"
      ]
     },
     "execution_count": 18,
     "metadata": {},
     "output_type": "execute_result"
    }
   ],
   "source": [
    "step(np.dot(hidden_output, weights_XOR_3)) #solution to XOR"
   ]
  },
  {
   "cell_type": "markdown",
   "metadata": {},
   "source": [
    "## Implement a feed-forward-network"
   ]
  },
  {
   "cell_type": "code",
   "execution_count": 2,
   "metadata": {},
   "outputs": [],
   "source": [
    "from sklearn.datasets import make_moons\n",
    "import random \n",
    "random.seed=(666)\n",
    "\n",
    "X, y = make_moons(n_samples=50, noise=0.2, random_state=42)"
   ]
  },
  {
   "cell_type": "code",
   "execution_count": 3,
   "metadata": {},
   "outputs": [
    {
     "data": {
      "text/plain": [
       "array([[-0.15856989,  0.98480618],\n",
       "       [ 1.10900374, -0.62160223],\n",
       "       [ 0.39641523,  0.20740869],\n",
       "       [ 1.79239122,  0.07511293],\n",
       "       [-0.84739307,  0.71154296],\n",
       "       [ 1.90209657,  0.67432213],\n",
       "       [ 0.0731551 ,  0.09079042],\n",
       "       [-0.43566685,  0.29122072],\n",
       "       [ 0.42577731, -0.22851359],\n",
       "       [-0.64418143,  0.24144478],\n",
       "       [ 0.11289285,  1.00510013],\n",
       "       [ 0.96066405,  0.63183812],\n",
       "       [ 1.46814927, -0.28580296],\n",
       "       [ 0.5192833 ,  0.94984582],\n",
       "       [ 0.73327397,  0.17310931],\n",
       "       [ 0.33197143,  0.43375035],\n",
       "       [ 1.62726102, -0.54736954],\n",
       "       [ 2.01908805,  0.37804882],\n",
       "       [ 2.00824323,  0.36058988],\n",
       "       [-0.56195047,  0.90148197],\n",
       "       [ 0.67647169,  0.69909987],\n",
       "       [-0.30999892,  1.2113287 ],\n",
       "       [-0.90842298, -0.33685748],\n",
       "       [ 0.68268561, -0.44010332],\n",
       "       [ 0.38645217, -0.05988231],\n",
       "       [ 0.84405962, -0.16877927],\n",
       "       [ 1.76324657, -0.30187296],\n",
       "       [ 0.06417199,  0.2184967 ],\n",
       "       [ 1.02670564, -0.57104358],\n",
       "       [ 0.63694378,  0.69355004],\n",
       "       [ 0.30851562,  0.4574452 ],\n",
       "       [ 0.45511029,  1.15619148],\n",
       "       [ 0.92808566, -0.31211878],\n",
       "       [ 0.86938046,  0.06729301],\n",
       "       [-1.22036438,  0.33691393],\n",
       "       [ 1.15845408,  0.21688056],\n",
       "       [ 1.5522982 , -0.27906241],\n",
       "       [ 0.88599761, -0.51707875],\n",
       "       [-0.82146062, -0.13173865],\n",
       "       [ 1.20862244, -0.52520818],\n",
       "       [-0.00317109,  1.55465851],\n",
       "       [-1.18517899,  0.44179591],\n",
       "       [-0.84031891,  0.60434928],\n",
       "       [ 2.06026456,  0.20829662],\n",
       "       [-0.99857307,  0.47070544],\n",
       "       [ 0.43955803,  0.62885547],\n",
       "       [ 1.82610683, -0.09235596],\n",
       "       [-0.34717225,  0.94909281],\n",
       "       [ 0.32352368, -0.16797921],\n",
       "       [ 1.19813072, -0.09653062]])"
      ]
     },
     "execution_count": 3,
     "metadata": {},
     "output_type": "execute_result"
    }
   ],
   "source": [
    "X"
   ]
  },
  {
   "cell_type": "code",
   "execution_count": 4,
   "metadata": {},
   "outputs": [
    {
     "data": {
      "text/plain": [
       "array([0, 1, 1, 1, 0, 1, 1, 1, 1, 0, 0, 0, 1, 0, 0, 0, 1, 1, 1, 0, 0, 0,\n",
       "       0, 1, 1, 0, 1, 1, 1, 0, 1, 0, 1, 0, 0, 0, 1, 1, 0, 1, 0, 0, 0, 1,\n",
       "       0, 0, 1, 0, 1, 1])"
      ]
     },
     "execution_count": 4,
     "metadata": {},
     "output_type": "execute_result"
    }
   ],
   "source": [
    "y"
   ]
  },
  {
   "cell_type": "code",
   "execution_count": 5,
   "metadata": {},
   "outputs": [
    {
     "data": {
      "text/plain": [
       "((50, 2), (50,))"
      ]
     },
     "execution_count": 5,
     "metadata": {},
     "output_type": "execute_result"
    }
   ],
   "source": [
    "X.shape, y.shape"
   ]
  },
  {
   "cell_type": "code",
   "execution_count": 54,
   "metadata": {},
   "outputs": [],
   "source": [
    "#import seaborn as sns"
   ]
  },
  {
   "cell_type": "code",
   "execution_count": null,
   "metadata": {},
   "outputs": [],
   "source": []
  },
  {
   "cell_type": "code",
   "execution_count": null,
   "metadata": {},
   "outputs": [],
   "source": []
  },
  {
   "cell_type": "code",
   "execution_count": 55,
   "metadata": {},
   "outputs": [],
   "source": [
    "#X = np.hstack([X, np.ones((X.shape[0], 1))])\n",
    "#X"
   ]
  },
  {
   "cell_type": "code",
   "execution_count": 6,
   "metadata": {},
   "outputs": [],
   "source": [
    "def add_bias(X):\n",
    "    return np.hstack([X, np.ones((X.shape[0], 1))])"
   ]
  },
  {
   "cell_type": "code",
   "execution_count": 7,
   "metadata": {},
   "outputs": [
    {
     "data": {
      "text/plain": [
       "array([[-0.15856989,  0.98480618,  1.        ],\n",
       "       [ 1.10900374, -0.62160223,  1.        ],\n",
       "       [ 0.39641523,  0.20740869,  1.        ],\n",
       "       [ 1.79239122,  0.07511293,  1.        ],\n",
       "       [-0.84739307,  0.71154296,  1.        ],\n",
       "       [ 1.90209657,  0.67432213,  1.        ],\n",
       "       [ 0.0731551 ,  0.09079042,  1.        ],\n",
       "       [-0.43566685,  0.29122072,  1.        ],\n",
       "       [ 0.42577731, -0.22851359,  1.        ],\n",
       "       [-0.64418143,  0.24144478,  1.        ],\n",
       "       [ 0.11289285,  1.00510013,  1.        ],\n",
       "       [ 0.96066405,  0.63183812,  1.        ],\n",
       "       [ 1.46814927, -0.28580296,  1.        ],\n",
       "       [ 0.5192833 ,  0.94984582,  1.        ],\n",
       "       [ 0.73327397,  0.17310931,  1.        ],\n",
       "       [ 0.33197143,  0.43375035,  1.        ],\n",
       "       [ 1.62726102, -0.54736954,  1.        ],\n",
       "       [ 2.01908805,  0.37804882,  1.        ],\n",
       "       [ 2.00824323,  0.36058988,  1.        ],\n",
       "       [-0.56195047,  0.90148197,  1.        ],\n",
       "       [ 0.67647169,  0.69909987,  1.        ],\n",
       "       [-0.30999892,  1.2113287 ,  1.        ],\n",
       "       [-0.90842298, -0.33685748,  1.        ],\n",
       "       [ 0.68268561, -0.44010332,  1.        ],\n",
       "       [ 0.38645217, -0.05988231,  1.        ],\n",
       "       [ 0.84405962, -0.16877927,  1.        ],\n",
       "       [ 1.76324657, -0.30187296,  1.        ],\n",
       "       [ 0.06417199,  0.2184967 ,  1.        ],\n",
       "       [ 1.02670564, -0.57104358,  1.        ],\n",
       "       [ 0.63694378,  0.69355004,  1.        ],\n",
       "       [ 0.30851562,  0.4574452 ,  1.        ],\n",
       "       [ 0.45511029,  1.15619148,  1.        ],\n",
       "       [ 0.92808566, -0.31211878,  1.        ],\n",
       "       [ 0.86938046,  0.06729301,  1.        ],\n",
       "       [-1.22036438,  0.33691393,  1.        ],\n",
       "       [ 1.15845408,  0.21688056,  1.        ],\n",
       "       [ 1.5522982 , -0.27906241,  1.        ],\n",
       "       [ 0.88599761, -0.51707875,  1.        ],\n",
       "       [-0.82146062, -0.13173865,  1.        ],\n",
       "       [ 1.20862244, -0.52520818,  1.        ],\n",
       "       [-0.00317109,  1.55465851,  1.        ],\n",
       "       [-1.18517899,  0.44179591,  1.        ],\n",
       "       [-0.84031891,  0.60434928,  1.        ],\n",
       "       [ 2.06026456,  0.20829662,  1.        ],\n",
       "       [-0.99857307,  0.47070544,  1.        ],\n",
       "       [ 0.43955803,  0.62885547,  1.        ],\n",
       "       [ 1.82610683, -0.09235596,  1.        ],\n",
       "       [-0.34717225,  0.94909281,  1.        ],\n",
       "       [ 0.32352368, -0.16797921,  1.        ],\n",
       "       [ 1.19813072, -0.09653062,  1.        ]])"
      ]
     },
     "execution_count": 7,
     "metadata": {},
     "output_type": "execute_result"
    }
   ],
   "source": [
    "X = add_bias(X)\n",
    "X"
   ]
  },
  {
   "cell_type": "code",
   "execution_count": 8,
   "metadata": {},
   "outputs": [
    {
     "data": {
      "text/plain": [
       "(50, 3)"
      ]
     },
     "execution_count": 8,
     "metadata": {},
     "output_type": "execute_result"
    }
   ],
   "source": [
    "X.shape"
   ]
  },
  {
   "cell_type": "code",
   "execution_count": 9,
   "metadata": {},
   "outputs": [],
   "source": [
    "# activation by a sigmoid\n",
    "def sigmoid(matrix):\n",
    "    return (1/(1+np.exp(-matrix)))"
   ]
  },
  {
   "cell_type": "code",
   "execution_count": 10,
   "metadata": {},
   "outputs": [],
   "source": [
    "# sanity check\n",
    "a = np.array([-10.0, -1.0, 0.0, 1.0, 10.0])\n",
    "expected = np.array([0.0, 0.27, 0.5, 0.73, 1.0])\n",
    "assert np.all(sigmoid(a).round(2) == expected)"
   ]
  },
  {
   "cell_type": "code",
   "execution_count": 11,
   "metadata": {},
   "outputs": [
    {
     "data": {
      "text/plain": [
       "(3, 2)"
      ]
     },
     "execution_count": 11,
     "metadata": {},
     "output_type": "execute_result"
    }
   ],
   "source": [
    "# weight_1\n",
    "w_1 = np.random.rand(3,2)\n",
    "w_1.shape"
   ]
  },
  {
   "cell_type": "code",
   "execution_count": 12,
   "metadata": {},
   "outputs": [
    {
     "data": {
      "text/plain": [
       "(3, 1)"
      ]
     },
     "execution_count": 12,
     "metadata": {},
     "output_type": "execute_result"
    }
   ],
   "source": [
    "# weight_2\n",
    "w_2 = np.random.rand(3,1)\n",
    "w_2.shape"
   ]
  },
  {
   "cell_type": "code",
   "execution_count": null,
   "metadata": {},
   "outputs": [],
   "source": []
  },
  {
   "cell_type": "code",
   "execution_count": null,
   "metadata": {},
   "outputs": [],
   "source": []
  },
  {
   "cell_type": "code",
   "execution_count": 13,
   "metadata": {},
   "outputs": [],
   "source": [
    "def add_bias_check_dimension(matrix,first_weight):\n",
    "    if matrix.shape[1] == first_weight.shape[0]:\n",
    "        return matrix\n",
    "    else:\n",
    "        return np.hstack([matrix, np.ones((matrix.shape[0], 1))])"
   ]
  },
  {
   "cell_type": "code",
   "execution_count": 14,
   "metadata": {},
   "outputs": [],
   "source": [
    "def feed_forward(X, weights):\n",
    "\n",
    "    \"\"\"\n",
    "    1. Multiply the input matrix X\n",
    "       with the weights of the first layer.\n",
    "\n",
    "    2. Apply the sigmoid function on the result.\n",
    "\n",
    "    3. Append an extra column of ones to the result (i.e. the bias).\n",
    "\n",
    "    4. Multiply the output of the previous step\n",
    "       with the weights of the second (i.e. outer) layer.\n",
    "\n",
    "    5. Apply the sigmoid function on the result.\n",
    "\n",
    "    6. Return all intermediate results (i.e. anything that is outputted\n",
    "       by an activation function).\n",
    "    \"\"\"\n",
    "    \n",
    "    \n",
    "    output = [X]\n",
    "    for weight in weights:\n",
    "        \n",
    "        # step0\n",
    "        X1 = add_bias_check_dimension(output[-1], weight)\n",
    "        \n",
    "        # step1\n",
    "        res_1 = np.dot(X1, weight)\n",
    "    \n",
    "        # step2\n",
    "        output_new = sigmoid(res_1)\n",
    "        \n",
    "        output.append(output_new)\n",
    "    \n",
    "    \n",
    "    \n",
    "    out = output[1:]\n",
    "    return out"
   ]
  },
  {
   "cell_type": "code",
   "execution_count": 15,
   "metadata": {},
   "outputs": [
    {
     "data": {
      "text/plain": [
       "[array([[0.70240657, 0.7356057 ],\n",
       "        [0.60294744, 0.6774659 ],\n",
       "        [0.65459854, 0.7080894 ],\n",
       "        [0.67624207, 0.70830487],\n",
       "        [0.66601922, 0.72282009],\n",
       "        [0.72338194, 0.73163451],\n",
       "        [0.63745958, 0.70222952],\n",
       "        [0.64178477, 0.70815534],\n",
       "        [0.61942379, 0.69081847],\n",
       "        [0.63270288, 0.7053883 ],\n",
       "        [0.70973206, 0.73733999],\n",
       "        [0.70031904, 0.72655925],\n",
       "        [0.63979866, 0.69266362],\n",
       "        [0.71431397, 0.73678313],\n",
       "        [0.65969458, 0.70804823],\n",
       "        [0.67112092, 0.71664258],\n",
       "        [0.62193994, 0.68264304],\n",
       "        [0.70430518, 0.72089378],\n",
       "        [0.70277443, 0.72018573],\n",
       "        [0.68727202, 0.7310359 ],\n",
       "        [0.69917745, 0.72803504],\n",
       "        [0.71581535, 0.74334034],\n",
       "        [0.57701964, 0.68100565],\n",
       "        [0.60785743, 0.68321963],\n",
       "        [0.6325315 , 0.69745602],\n",
       "        [0.63451384, 0.69489804],\n",
       "        [0.6454922 , 0.69319087],\n",
       "        [0.6476914 , 0.70723725],\n",
       "        [0.60521844, 0.67922298],\n",
       "        [0.69790048, 0.72767977],\n",
       "        [0.67244675, 0.71746573],\n",
       "        [0.72775863, 0.74407761],\n",
       "        [0.62463562, 0.68943768],\n",
       "        [0.65437427, 0.70441109],\n",
       "        [0.62673793, 0.70690814],\n",
       "        [0.67293486, 0.71140018],\n",
       "        [0.64235325, 0.69327113],\n",
       "        [0.60633332, 0.68087773],\n",
       "        [0.59690687, 0.68975008],\n",
       "        [0.61358152, 0.6818548 ],\n",
       "        [0.74607721, 0.75663221],\n",
       "        [0.63627632, 0.71115024],\n",
       "        [0.65763915, 0.71875292],\n",
       "        [0.69246885, 0.71452368],\n",
       "        [0.64309684, 0.71299166],\n",
       "        [0.68866139, 0.7245028 ],\n",
       "        [0.6638279 , 0.70182775],\n",
       "        [0.69562755, 0.73359565],\n",
       "        [0.62200986, 0.69285924],\n",
       "        [0.64884701, 0.6991938 ]]),\n",
       " array([[0.6731118 ],\n",
       "        [0.66221935],\n",
       "        [0.66795594],\n",
       "        [0.66866229],\n",
       "        [0.670279  ],\n",
       "        [0.67323684],\n",
       "        [0.66663435],\n",
       "        [0.66756329],\n",
       "        [0.66453636],\n",
       "        [0.66690817],\n",
       "        [0.6735693 ],\n",
       "        [0.67184578],\n",
       "        [0.66542518],\n",
       "        [0.67363776],\n",
       "        [0.66811004],\n",
       "        [0.6696149 ],\n",
       "        [0.66351617],\n",
       "        [0.67121664],\n",
       "        [0.67107472],\n",
       "        [0.67203448],\n",
       "        [0.67200635],\n",
       "        [0.67455272],\n",
       "        [0.66187751],\n",
       "        [0.66314965],\n",
       "        [0.66583973],\n",
       "        [0.66555888],\n",
       "        [0.66567491],\n",
       "        [0.66762558],\n",
       "        [0.66252794],\n",
       "        [0.67191939],\n",
       "        [0.66976608],\n",
       "        [0.67502039],\n",
       "        [0.66451488],\n",
       "        [0.66745695],\n",
       "        [0.66692456],\n",
       "        [0.66897213],\n",
       "        [0.66558701],\n",
       "        [0.66278612],\n",
       "        [0.66368335],\n",
       "        [0.66314644],\n",
       "        [0.67724411],\n",
       "        [0.66779126],\n",
       "        [0.66947511],\n",
       "        [0.66999919],\n",
       "        [0.66825104],\n",
       "        [0.6712092 ],\n",
       "        [0.66740763],\n",
       "        [0.67263436],\n",
       "        [0.66489192],\n",
       "        [0.66658506]])]"
      ]
     },
     "execution_count": 15,
     "metadata": {},
     "output_type": "execute_result"
    }
   ],
   "source": [
    "feed_forward(X, [w_1,w_2])"
   ]
  },
  {
   "cell_type": "code",
   "execution_count": 16,
   "metadata": {},
   "outputs": [],
   "source": [
    "# sanity check\n",
    "out1, out2 = feed_forward(X, [w_1, w_2])\n",
    "assert out1.shape == (50, 2)\n",
    "assert out2.shape == (50, 1)\n",
    "\n",
    "Xref = np.array([[1.0, 2.0, 1.0]])\n",
    "whidden = np.array([[1.0, 2.0, 0.0],\n",
    "                 [-1.0, -2.0, 0.0]\n",
    "                    ]).T\n",
    "wout = np.array([[1.0, -1.0, 0.5]]).T\n",
    "\n",
    "out1, out2 = feed_forward(Xref, [whidden, wout])\n",
    "assert np.all(out1.round(2) == np.array([[0.99, 0.01]]))\n",
    "assert np.all(out2.round(2) == np.array([[0.82]]))"
   ]
  }
 ],
 "metadata": {
  "kernelspec": {
   "display_name": "Python 3",
   "language": "python",
   "name": "python3"
  },
  "language_info": {
   "codemirror_mode": {
    "name": "ipython",
    "version": 3
   },
   "file_extension": ".py",
   "mimetype": "text/x-python",
   "name": "python",
   "nbconvert_exporter": "python",
   "pygments_lexer": "ipython3",
   "version": "3.8.5"
  }
 },
 "nbformat": 4,
 "nbformat_minor": 4
}
