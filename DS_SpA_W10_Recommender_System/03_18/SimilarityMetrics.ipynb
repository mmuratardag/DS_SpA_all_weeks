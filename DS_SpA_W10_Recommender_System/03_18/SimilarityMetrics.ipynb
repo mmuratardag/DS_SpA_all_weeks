{
 "cells": [
  {
   "cell_type": "code",
   "execution_count": 2,
   "metadata": {},
   "outputs": [
    {
     "name": "stdout",
     "output_type": "stream",
     "text": [
      "0.9642857142857142\n"
     ]
    }
   ],
   "source": [
    "import numpy as np\n",
    "from scipy.spatial import distance\n",
    "\n",
    "def cosim(x, y):\n",
    "    num = np.sum(x*y)\n",
    "    xsum = np.sqrt(np.sum(x**2))\n",
    "    ysum = np.sqrt(np.sum(y**2))\n",
    "    return num/(xsum*ysum)\n",
    "\n",
    "x = np.array([2, 1, 1, 1, 1])\n",
    "y = np.array([5, 4, 5, 4, 4])\n",
    "solution = 1-distance.cosine(x, y)\n",
    "print(cosim(x, y))\n",
    "assert np.round(cosim(x, y), 2) == np.round(solution, 2)"
   ]
  }
 ],
 "metadata": {
  "kernelspec": {
   "display_name": "Python 3",
   "language": "python",
   "name": "python3"
  },
  "language_info": {
   "codemirror_mode": {
    "name": "ipython",
    "version": 3
   },
   "file_extension": ".py",
   "mimetype": "text/x-python",
   "name": "python",
   "nbconvert_exporter": "python",
   "pygments_lexer": "ipython3",
   "version": "3.8.5"
  }
 },
 "nbformat": 4,
 "nbformat_minor": 4
}
