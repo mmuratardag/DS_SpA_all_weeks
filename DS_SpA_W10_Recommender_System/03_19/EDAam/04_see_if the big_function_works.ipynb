{
 "cells": [
  {
   "cell_type": "code",
   "execution_count": 1,
   "metadata": {},
   "outputs": [],
   "source": [
    "from big_surprise import big_surprise"
   ]
  },
  {
   "cell_type": "code",
   "execution_count": 2,
   "metadata": {},
   "outputs": [],
   "source": [
    "user_input = [('Notebook, The ', '1'),\n",
    "              ('Road to Perdition ', '2'),\n",
    "              ('Karate Kid, The ', '3'),\n",
    "              ('Pulp Fiction ', '4'),\n",
    "              ('Zoolander ', '4'),\n",
    "              ('Majestic, The ', '5'),\n",
    "              ('Notorious ', '2'),\n",
    "              ('Monty Python and the Holy Grail ', '2'),\n",
    "              ('Apocalypse Now ', '1')]"
   ]
  },
  {
   "cell_type": "code",
   "execution_count": 3,
   "metadata": {},
   "outputs": [
    {
     "data": {
      "text/plain": [
       "['Dr. Strangelove or: How I Learned to Stop Worrying and Love the Bomb ',\n",
       " 'Shawshank Redemption, The ',\n",
       " 'Lawrence of Arabia ',\n",
       " 'Wallace & Gromit: The Best of Aardman Animation ',\n",
       " 'Touch of Evil ',\n",
       " 'Grave of the Fireflies ',\n",
       " 'There Will Be Blood ',\n",
       " 'Rear Window ',\n",
       " 'Goodfellas ',\n",
       " 'Fight Club ']"
      ]
     },
     "execution_count": 3,
     "metadata": {},
     "output_type": "execute_result"
    }
   ],
   "source": [
    "big_surprise(user_input)"
   ]
  },
  {
   "cell_type": "code",
   "execution_count": 4,
   "metadata": {},
   "outputs": [],
   "source": [
    "another_user_input = [('13 Tzameti ', '4'),\n",
    "                      ('Capote ', '2'),\n",
    "                      ('Jungle Book, The ', '1'),\n",
    "                      ('American in Paris, An ', '1'),\n",
    "                      (\"All the President's Men \", '5'),\n",
    "                      (\"Smilla's Sense of Snow \", '4'),\n",
    "                      ('Tron ', '4'),\n",
    "                      ('Dragonheart ', '3'),\n",
    "                      ('Foreign Correspondent ', '2')]"
   ]
  },
  {
   "cell_type": "code",
   "execution_count": 5,
   "metadata": {},
   "outputs": [
    {
     "data": {
      "text/plain": [
       "['Shawshank Redemption, The ',\n",
       " 'Dr. Strangelove or: How I Learned to Stop Worrying and Love the Bomb ',\n",
       " 'Lawrence of Arabia ',\n",
       " 'Fight Club ',\n",
       " 'There Will Be Blood ',\n",
       " 'Streetcar Named Desire, A ',\n",
       " 'Touch of Evil ',\n",
       " 'Goodfellas ',\n",
       " 'Cool Hand Luke ',\n",
       " 'Boondock Saints, The ']"
      ]
     },
     "execution_count": 5,
     "metadata": {},
     "output_type": "execute_result"
    }
   ],
   "source": [
    "big_surprise(another_user_input)"
   ]
  },
  {
   "cell_type": "code",
   "execution_count": 6,
   "metadata": {},
   "outputs": [],
   "source": [
    "yet_another_one = [('Escape from New York ', '2'),\n",
    "                   ('Sydney ', '3'),\n",
    "                   ('Sky Captain and the World of Tomorrow ', '5'),\n",
    "                   ('Mystic River ', '1'), ('Logan ', '4'),\n",
    "                   ('Super Size Me ', '3'),\n",
    "                   ('Grease ', '2'),\n",
    "                   ('50 First Dates ', '5'),\n",
    "                   ('Young Frankenstein ', '1')]"
   ]
  },
  {
   "cell_type": "code",
   "execution_count": 7,
   "metadata": {},
   "outputs": [
    {
     "data": {
      "text/plain": [
       "['Dr. Strangelove or: How I Learned to Stop Worrying and Love the Bomb ',\n",
       " 'Shawshank Redemption, The ',\n",
       " 'Lawrence of Arabia ',\n",
       " 'There Will Be Blood ',\n",
       " 'Goodfellas ',\n",
       " 'Touch of Evil ',\n",
       " 'Streetcar Named Desire, A ',\n",
       " 'Grave of the Fireflies ',\n",
       " 'Paths of Glory ',\n",
       " 'Cool Hand Luke ']"
      ]
     },
     "execution_count": 7,
     "metadata": {},
     "output_type": "execute_result"
    }
   ],
   "source": [
    "big_surprise(yet_another_one)"
   ]
  }
 ],
 "metadata": {
  "kernelspec": {
   "display_name": "Python 3",
   "language": "python",
   "name": "python3"
  },
  "language_info": {
   "codemirror_mode": {
    "name": "ipython",
    "version": 3
   },
   "file_extension": ".py",
   "mimetype": "text/x-python",
   "name": "python",
   "nbconvert_exporter": "python",
   "pygments_lexer": "ipython3",
   "version": "3.8.5"
  }
 },
 "nbformat": 4,
 "nbformat_minor": 4
}
