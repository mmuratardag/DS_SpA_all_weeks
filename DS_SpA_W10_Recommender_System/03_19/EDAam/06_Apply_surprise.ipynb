{
 "cells": [
  {
   "cell_type": "code",
   "execution_count": 1,
   "metadata": {},
   "outputs": [],
   "source": [
    "import pandas as pd\n",
    "\n",
    "from surprise import SVD, KNNBasic, Reader, Dataset, accuracy, dump\n",
    "from surprise.model_selection import train_test_split"
   ]
  },
  {
   "cell_type": "code",
   "execution_count": 2,
   "metadata": {},
   "outputs": [],
   "source": [
    "ratings = pd.read_csv('data/ratings.csv')\n",
    "#wide = ratings.pivot(index = 'userId', columns = 'movieId', values = 'rating')\n",
    "ratings = ratings [['userId', 'movieId', 'rating']]\n",
    "reader = Reader()\n",
    "data = Dataset.load_from_df(ratings[['userId', 'movieId', 'rating']], reader)"
   ]
  },
  {
   "cell_type": "code",
   "execution_count": 3,
   "metadata": {},
   "outputs": [],
   "source": [
    "# algo = KNNBasic()\n",
    "# algo.fit(data)"
   ]
  },
  {
   "cell_type": "code",
   "execution_count": 4,
   "metadata": {},
   "outputs": [],
   "source": [
    "trainset, testset = train_test_split(data, test_size=0.95)\n",
    "algo = SVD(n_factors = 23, random_state = 666)"
   ]
  },
  {
   "cell_type": "code",
   "execution_count": 5,
   "metadata": {},
   "outputs": [],
   "source": [
    "algo.fit(trainset)\n",
    "predictions = algo.test(testset)"
   ]
  },
  {
   "cell_type": "code",
   "execution_count": 6,
   "metadata": {},
   "outputs": [
    {
     "name": "stdout",
     "output_type": "stream",
     "text": [
      "RMSE: 0.9432\n"
     ]
    },
    {
     "data": {
      "text/plain": [
       "0.9432406928868057"
      ]
     },
     "execution_count": 6,
     "metadata": {},
     "output_type": "execute_result"
    }
   ],
   "source": [
    "accuracy.rmse(predictions)"
   ]
  },
  {
   "cell_type": "code",
   "execution_count": 7,
   "metadata": {},
   "outputs": [
    {
     "name": "stdout",
     "output_type": "stream",
     "text": [
      "The dump has been saved as file surprise_pickle\n"
     ]
    }
   ],
   "source": [
    "dump.dump(file_name = \"surprise_pickle\", algo = algo, verbose = 1)"
   ]
  },
  {
   "cell_type": "code",
   "execution_count": 8,
   "metadata": {},
   "outputs": [],
   "source": [
    "# import pickle\n",
    "# saved_model_pickle = pickle.dumps(algo)"
   ]
  },
  {
   "cell_type": "code",
   "execution_count": 9,
   "metadata": {},
   "outputs": [],
   "source": [
    "# load_model = pickle.loads(saved_model_pickle)"
   ]
  },
  {
   "cell_type": "code",
   "execution_count": null,
   "metadata": {},
   "outputs": [],
   "source": [
    "#                                          title rating\n",
    "# 0                                  Waterworld       1\n",
    "# 1  Pirates of the Caribbean: Dead Man's Chest       2\n",
    "# 2                       Nosferatu the Vampyre       3\n",
    "# 3                            Transporter, The       4\n",
    "# 4                       The Magnificent Seven       5\n",
    "# 5                               Roommate, The       4\n",
    "# 6                                Mary Poppins       2\n",
    "# 7                               Visitors, The       1\n",
    "# 8        William Shakespeare's Romeo + Juliet       2"
   ]
  }
 ],
 "metadata": {
  "kernelspec": {
   "display_name": "Python 3",
   "language": "python",
   "name": "python3"
  },
  "language_info": {
   "codemirror_mode": {
    "name": "ipython",
    "version": 3
   },
   "file_extension": ".py",
   "mimetype": "text/x-python",
   "name": "python",
   "nbconvert_exporter": "python",
   "pygments_lexer": "ipython3",
   "version": "3.8.5"
  }
 },
 "nbformat": 4,
 "nbformat_minor": 4
}
