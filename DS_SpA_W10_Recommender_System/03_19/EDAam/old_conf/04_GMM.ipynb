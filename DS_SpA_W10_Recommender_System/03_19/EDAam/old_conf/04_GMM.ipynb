{
 "cells": [
  {
   "cell_type": "code",
   "execution_count": 1,
   "metadata": {},
   "outputs": [],
   "source": [
    "import pandas as pd\n",
    "import numpy as np\n",
    "\n",
    "import matplotlib.pyplot as plt\n",
    "from matplotlib.patches import Ellipse\n",
    "import seaborn as sns\n",
    "sns.set_style(\"whitegrid\")\n",
    "\n",
    "from sklearn.mixture import GaussianMixture"
   ]
  },
  {
   "cell_type": "code",
   "execution_count": 2,
   "metadata": {},
   "outputs": [],
   "source": [
    "ratings = pd.read_csv('data/ratings.csv')\n",
    "wide = ratings.pivot(index = 'userId', columns = 'movieId', values = 'rating')\n",
    "wide.fillna(wide.median(), inplace = True)\n",
    "# wide.head()\n",
    "# long = wide.T\n",
    "# long.head()\n",
    "# X = long.to_numpy()"
   ]
  },
  {
   "cell_type": "code",
   "execution_count": 3,
   "metadata": {},
   "outputs": [],
   "source": [
    "# n_components = np.arange(15, 35)\n",
    "# models = [GaussianMixture(n, covariance_type='full', random_state=666, verbose = 1).fit(X)\n",
    "#           for n in n_components]\n",
    "# plt.plot(n_components, [m.bic(X) for m in models], label='BIC')\n",
    "# plt.plot(n_components, [m.aic(X) for m in models], label='AIC')\n",
    "# plt.legend(loc='best')\n",
    "# plt.xlabel('n_components');"
   ]
  },
  {
   "cell_type": "code",
   "execution_count": 4,
   "metadata": {},
   "outputs": [],
   "source": [
    "# def draw_ellipse(position, covariance, ax=None, **kwargs):\n",
    "#     \"\"\"Draw an ellipse with a given position and covariance\"\"\"\n",
    "#     ax = ax or plt.gca()\n",
    "    \n",
    "#     # Convert covariance to principal axes\n",
    "#     if covariance.shape == (2, 2):\n",
    "#         U, s, Vt = np.linalg.svd(covariance)\n",
    "#         angle = np.degrees(np.arctan2(U[1, 0], U[0, 0]))\n",
    "#         width, height = 2 * np.sqrt(s)\n",
    "#     else:\n",
    "#         angle = 0\n",
    "#         width, height = 2 * np.sqrt(covariance)\n",
    "    \n",
    "#     # Draw the Ellipse\n",
    "#     for nsig in range(1, 4):\n",
    "#         ax.add_patch(Ellipse(position, nsig * width, nsig * height,\n",
    "#                              angle, **kwargs))\n",
    "        \n",
    "# def plot_gmm(gmm, X, label=True, ax=None):\n",
    "#     ax = ax or plt.gca()\n",
    "#     labels = gmm.fit(X).predict(X)\n",
    "#     if label:\n",
    "#         ax.scatter(X[:, 0], X[:, 1], c=labels, s=40, cmap='viridis', zorder=2)\n",
    "#     else:\n",
    "#         ax.scatter(X[:, 0], X[:, 1], s=40, zorder=2)\n",
    "#     ax.axis('equal')\n",
    "    \n",
    "#     w_factor = 0.2 / gmm.weights_.max()\n",
    "#     for pos, covar, w in zip(gmm.means_, gmm.covariances_, gmm.weights_):\n",
    "#         draw_ellipse(pos, covar, alpha=w * w_factor)"
   ]
  },
  {
   "cell_type": "code",
   "execution_count": 5,
   "metadata": {},
   "outputs": [],
   "source": [
    "# gmm = GaussianMixture(n_components=21, random_state=66)\n",
    "# plot_gmm(gmm, X)"
   ]
  }
 ],
 "metadata": {
  "kernelspec": {
   "display_name": "Python 3",
   "language": "python",
   "name": "python3"
  },
  "language_info": {
   "codemirror_mode": {
    "name": "ipython",
    "version": 3
   },
   "file_extension": ".py",
   "mimetype": "text/x-python",
   "name": "python",
   "nbconvert_exporter": "python",
   "pygments_lexer": "ipython3",
   "version": "3.8.5"
  }
 },
 "nbformat": 4,
 "nbformat_minor": 4
}
