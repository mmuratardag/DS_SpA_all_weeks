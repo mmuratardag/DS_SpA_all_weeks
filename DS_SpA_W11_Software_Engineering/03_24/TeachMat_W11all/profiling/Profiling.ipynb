{
 "cells": [
  {
   "cell_type": "markdown",
   "metadata": {},
   "source": [
    "# Profiling and optimizing Python code\n",
    "### Code modified from: https://www.youtube.com/watch?v=8qEnExGLZfY\n",
    "\n",
    "\n",
    "When to optimize?\n",
    "\n",
    "- Do you need optimization?\n",
    "  - If speed is not a problem, then there is no reason to optimize\n",
    "- If yes: Which parts of your code should be optimized?\n",
    "  - Use a profiler, such as `cProfile`\n",
    "  - Usually, almost all execution time occurs within a small part of your code\n",
    "  - Optimize that code, and leave the rest alone\n",
    "- If you need even better performance\n",
    "  - Redesign the code completely\n",
    "  - But this takes effort!"
   ]
  },
  {
   "cell_type": "markdown",
   "metadata": {},
   "source": [
    "## Example: Find duplicate movie titles\n",
    "\n",
    "- Read a file of ~10,000 movie titles\n",
    "- Return a list of movie titles that occur twice\n",
    "- Search is case insensitive"
   ]
  },
  {
   "cell_type": "code",
   "execution_count": 1,
   "metadata": {
    "collapsed": false,
    "jupyter": {
     "outputs_hidden": false
    }
   },
   "outputs": [],
   "source": [
    "def read_movies(src) -> list:\n",
    "    \"\"\"Read movies from a text file, return the movie titles as a list\"\"\"\n",
    "    \n",
    "    with open(src) as f:\n",
    "        movie_list = f.read().splitlines() \n",
    "        return movie_list"
   ]
  },
  {
   "cell_type": "code",
   "execution_count": 2,
   "metadata": {},
   "outputs": [],
   "source": [
    "def is_duplicate(item:str, collection:list) -> bool:\n",
    "    \n",
    "    \"\"\"Determine (True or False) whether a given item (i.e. movie)\n",
    "       is in a collection of other movie titles (i.e. list)\"\"\"\n",
    "    \n",
    "    for movie in collection:\n",
    "        if movie.lower() == item.lower():\n",
    "            return True\n",
    "        \n",
    "    #if you've exhausted the list of movies and found no matches, return False\n",
    "    return False"
   ]
  },
  {
   "cell_type": "code",
   "execution_count": 3,
   "metadata": {
    "collapsed": false,
    "jupyter": {
     "outputs_hidden": false
    }
   },
   "outputs": [],
   "source": [
    "def find_duplicate_movies(src='movies.txt') -> list:\n",
    "    \n",
    "    \"\"\"Return all movies that appear twice (i.e. duplicates) in the text file.\n",
    "       Uses the 2 previous functions.\"\"\"\n",
    "    \n",
    "    movie_list = read_movies(src)\n",
    "    duplicates = []\n",
    "    \n",
    "    while movie_list: #as long as there are still movies to search through\n",
    "        \n",
    "        movie = movie_list.pop() #remove the last element of the list, and assign to movie\n",
    "        \n",
    "        if is_duplicate(movie, movie_list): #does the movie still occuring the remaining list?\n",
    "            \n",
    "            duplicates.append(movie)\n",
    "            \n",
    "    \n",
    "    return duplicates\n",
    "    "
   ]
  },
  {
   "cell_type": "code",
   "execution_count": 4,
   "metadata": {},
   "outputs": [
    {
     "name": "stdout",
     "output_type": "stream",
     "text": [
      "CPU times: user 8.72 s, sys: 31.9 ms, total: 8.75 s\n",
      "Wall time: 8.8 s\n"
     ]
    }
   ],
   "source": [
    "%time duplicate = find_duplicate_movies()"
   ]
  },
  {
   "cell_type": "markdown",
   "metadata": {},
   "source": [
    "**A whopping 9 seconds** -- Not good."
   ]
  },
  {
   "cell_type": "markdown",
   "metadata": {},
   "source": [
    "Ideally at this point we'd like to find where are the bottlenecks in our code. It's very hard to do this as a human (even if you have intuition about where the problem areas may be). So it's better to use a proper tool that can give us a diagnostics report."
   ]
  },
  {
   "cell_type": "markdown",
   "metadata": {},
   "source": [
    "## A profiling decorator\n",
    "\n",
    "- Apply to a function with `@profile`\n",
    "- Profiles the function using `cProfile`, and prints out a report\n",
    "- Adapted from the Python 3.6 docs:\n",
    "  - https://docs.python.org/3/library/profile.html#profile.Profile"
   ]
  },
  {
   "cell_type": "markdown",
   "metadata": {},
   "source": [
    "A decorator is a function that takes in another function as an argument, and modifies the behavior of that function / adds some additional functionality."
   ]
  },
  {
   "cell_type": "code",
   "execution_count": 5,
   "metadata": {
    "collapsed": false,
    "jupyter": {
     "outputs_hidden": false
    }
   },
   "outputs": [],
   "source": [
    "import cProfile, pstats, io\n",
    "\n",
    "\n",
    "def profile(fnc):\n",
    "    \n",
    "    \"\"\"A decorator that uses cProfile to profile a function. \n",
    "       Starts the profile before executing a function, then exeuctes the function,\n",
    "       then stops the profile, then prints out a diagnostics report.\n",
    "       \n",
    "       Lots of boilerplate code from the Python 3 documentation:\n",
    "       https://docs.python.org/3/library/profile.html#profile.Profile\n",
    "       \"\"\"\n",
    "    \n",
    "    def inner(*args, **kwargs):\n",
    "        \n",
    "        pr = cProfile.Profile()\n",
    "        pr.enable() ### start the profiler\n",
    "        \n",
    "        retval = fnc(*args, **kwargs) ### then actually execute the function\n",
    "        \n",
    "        pr.disable() ### then we stop the profiler\n",
    "        \n",
    "        ###then print the results to the standard output\n",
    "        s = io.StringIO()\n",
    "        sortby = 'cumulative'\n",
    "        ps = pstats.Stats(pr, stream=s).sort_stats(sortby)\n",
    "        ps.print_stats()\n",
    "        print(s.getvalue())\n",
    "        \n",
    "        ### then return the actual return value of the inner function we executed\n",
    "        return retval\n",
    "\n",
    "    ### execute the innter function\n",
    "    return inner"
   ]
  },
  {
   "cell_type": "markdown",
   "metadata": {},
   "source": [
    "--- "
   ]
  },
  {
   "cell_type": "markdown",
   "metadata": {},
   "source": [
    "Now let's apply the decorator to the function we'd like to profile!"
   ]
  },
  {
   "cell_type": "code",
   "execution_count": 6,
   "metadata": {},
   "outputs": [],
   "source": [
    "@profile\n",
    "def find_duplicate_movies(src='movies.txt'):\n",
    "    \n",
    "    \"\"\"Return all movies that appear twice (i.e. duplicates) in the text file.\n",
    "       Uses the 2 previous functions.\"\"\"\n",
    "    \n",
    "    movie_list = read_movies(src)\n",
    "    duplicates = []\n",
    "    \n",
    "    while movie_list: #as long as there are still movies to search through\n",
    "        \n",
    "        movie = movie_list.pop() #remove the last element of the list, and assign to movie\n",
    "        \n",
    "        if is_duplicate(movie, movie_list): #does the movie still occuring the remaining list?\n",
    "            \n",
    "            duplicates.append(movie)\n",
    "            \n",
    "    \n",
    "    return duplicates"
   ]
  },
  {
   "cell_type": "code",
   "execution_count": 7,
   "metadata": {},
   "outputs": [
    {
     "name": "stdout",
     "output_type": "stream",
     "text": [
      "         98214041 function calls in 22.621 seconds\n",
      "\n",
      "   Ordered by: cumulative time\n",
      "\n",
      "   ncalls  tottime  percall  cumtime  percall filename:lineno(function)\n",
      "        1    0.011    0.011   22.621   22.621 <ipython-input-6-4fa0bb3b7aee>:1(find_duplicate_movies)\n",
      "    10000   12.155    0.001   22.606    0.002 <ipython-input-2-ef9c09082be7>:1(is_duplicate)\n",
      " 98193766   10.450    0.000   10.450    0.000 {method 'lower' of 'str' objects}\n",
      "        1    0.000    0.000    0.003    0.003 <ipython-input-1-e2b582f9e247>:1(read_movies)\n",
      "        1    0.002    0.002    0.002    0.002 {method 'splitlines' of 'str' objects}\n",
      "    10000    0.001    0.000    0.001    0.000 {method 'pop' of 'list' objects}\n",
      "        1    0.000    0.000    0.001    0.001 {method 'read' of '_io.TextIOWrapper' objects}\n",
      "        1    0.000    0.000    0.000    0.000 {built-in method io.open}\n",
      "        1    0.000    0.000    0.000    0.000 /opt/anaconda3/lib/python3.8/codecs.py:319(decode)\n",
      "        1    0.000    0.000    0.000    0.000 {built-in method _codecs.utf_8_decode}\n",
      "      263    0.000    0.000    0.000    0.000 {method 'append' of 'list' objects}\n",
      "        1    0.000    0.000    0.000    0.000 /opt/anaconda3/lib/python3.8/_bootlocale.py:33(getpreferredencoding)\n",
      "        1    0.000    0.000    0.000    0.000 {built-in method _locale.nl_langinfo}\n",
      "        1    0.000    0.000    0.000    0.000 /opt/anaconda3/lib/python3.8/codecs.py:309(__init__)\n",
      "        1    0.000    0.000    0.000    0.000 /opt/anaconda3/lib/python3.8/codecs.py:260(__init__)\n",
      "        1    0.000    0.000    0.000    0.000 {method 'disable' of '_lsprof.Profiler' objects}\n",
      "\n",
      "\n",
      "\n"
     ]
    }
   ],
   "source": [
    "duplicates = find_duplicate_movies()"
   ]
  },
  {
   "cell_type": "markdown",
   "metadata": {},
   "source": [
    "The cumulative time column tells us that ~22.6 seconds was spent in the find_duplicate_movies() function.\n",
    "- Of that time, the majority of it (also ~22.6 seconds) was eaten up by the is_duplicate function.\n",
    "- So if we want to optimize, then we need to look somewhere in is_duplicate(), and not anywhere else, since the main function by itself doesn't really do that much.\n",
    "    - Among the ~22.6 seconds, it looks like that around 10 seconds is just spent in the .lower() function of the string.\n",
    "    - Which was run 98 million times!!!"
   ]
  },
  {
   "cell_type": "markdown",
   "metadata": {},
   "source": [
    "# Version 2"
   ]
  },
  {
   "cell_type": "markdown",
   "metadata": {},
   "source": [
    "### Solution: \n",
    "- rather than lowercasing the strings every time we want to do the comparison, why don't we just lowercase everything first as soon as we read them in (in the `find_duplicate_movies()` function).\n",
    "    - likewise, in the `is_duplicate(...)` function, we can just say `if movie == item`\n",
    "- So now we'll only call the lower function ~10,000 times, rather than 98 million times."
   ]
  },
  {
   "cell_type": "code",
   "execution_count": 8,
   "metadata": {},
   "outputs": [],
   "source": [
    "def is_duplicate(item, collection):\n",
    "    \n",
    "    \"\"\"Determine (True or False) whether a given item (i.e. movie)\n",
    "       is in a collection of other movie titles (i.e. list)\"\"\"\n",
    "    \n",
    "    for movie in collection:\n",
    "#         if movie.lower() == item.lower(): ###OLD!!!\n",
    "        if movie == item: ###NEW!!!\n",
    "\n",
    "            return True\n",
    "        \n",
    "    #if you've exhausted the list of movies and found no matches, return False\n",
    "    return False\n",
    "\n",
    "@profile\n",
    "def find_duplicate_movies(src='movies.txt'):\n",
    "    \n",
    "    \"\"\"Return all movies that appear twice (i.e. duplicates) in the text file.\n",
    "       Uses the 2 previous functions.\"\"\"\n",
    "    \n",
    "    movie_list = read_movies(src)\n",
    "    movie_list = [m.lower() for m in movie_list] ### NEW!!!\n",
    "    duplicates = []\n",
    "    \n",
    "    while movie_list: #as long as there are still movies to search through\n",
    "        \n",
    "        movie = movie_list.pop() #remove the last element of the list, and assign to movie\n",
    "        \n",
    "        if is_duplicate(movie, movie_list): #does the movie still occuring the remaining list?\n",
    "            \n",
    "            duplicates.append(movie)\n",
    "            \n",
    "    \n",
    "    return duplicates"
   ]
  },
  {
   "cell_type": "code",
   "execution_count": 9,
   "metadata": {},
   "outputs": [
    {
     "name": "stdout",
     "output_type": "stream",
     "text": [
      "         30276 function calls in 1.347 seconds\n",
      "\n",
      "   Ordered by: cumulative time\n",
      "\n",
      "   ncalls  tottime  percall  cumtime  percall filename:lineno(function)\n",
      "        1    0.007    0.007    1.347    1.347 <ipython-input-8-5cbffb6c3c5d>:15(find_duplicate_movies)\n",
      "    10000    1.331    0.000    1.331    0.000 <ipython-input-8-5cbffb6c3c5d>:1(is_duplicate)\n",
      "        1    0.003    0.003    0.005    0.005 <ipython-input-8-5cbffb6c3c5d>:22(<listcomp>)\n",
      "        1    0.000    0.000    0.003    0.003 <ipython-input-1-e2b582f9e247>:1(read_movies)\n",
      "    10000    0.002    0.000    0.002    0.000 {method 'lower' of 'str' objects}\n",
      "        1    0.002    0.002    0.002    0.002 {method 'splitlines' of 'str' objects}\n",
      "    10000    0.001    0.000    0.001    0.000 {method 'pop' of 'list' objects}\n",
      "        1    0.000    0.000    0.001    0.001 {method 'read' of '_io.TextIOWrapper' objects}\n",
      "        1    0.001    0.001    0.001    0.001 {built-in method io.open}\n",
      "        1    0.000    0.000    0.000    0.000 /opt/anaconda3/lib/python3.8/codecs.py:319(decode)\n",
      "        1    0.000    0.000    0.000    0.000 {built-in method _codecs.utf_8_decode}\n",
      "      263    0.000    0.000    0.000    0.000 {method 'append' of 'list' objects}\n",
      "        1    0.000    0.000    0.000    0.000 /opt/anaconda3/lib/python3.8/_bootlocale.py:33(getpreferredencoding)\n",
      "        1    0.000    0.000    0.000    0.000 {built-in method _locale.nl_langinfo}\n",
      "        1    0.000    0.000    0.000    0.000 /opt/anaconda3/lib/python3.8/codecs.py:309(__init__)\n",
      "        1    0.000    0.000    0.000    0.000 /opt/anaconda3/lib/python3.8/codecs.py:260(__init__)\n",
      "        1    0.000    0.000    0.000    0.000 {method 'disable' of '_lsprof.Profiler' objects}\n",
      "\n",
      "\n",
      "\n"
     ]
    }
   ],
   "source": [
    "duplicates = find_duplicate_movies()"
   ]
  },
  {
   "cell_type": "markdown",
   "metadata": {},
   "source": [
    "**WOW!**\n",
    "- We reduce the cumulative time down to less than 1.5 seconds!\n",
    "- like a 10-fold performance improvement."
   ]
  },
  {
   "cell_type": "markdown",
   "metadata": {},
   "source": [
    "What else can we do?\n",
    "- Well, calling the is_duplicate() function multiple times is quite time consuming\n",
    "- Also , because it's so simple, we can just go ahead and get rid of that function entirely and just put it in the main function."
   ]
  },
  {
   "cell_type": "markdown",
   "metadata": {},
   "source": [
    "# Version 3"
   ]
  },
  {
   "cell_type": "code",
   "execution_count": 10,
   "metadata": {},
   "outputs": [],
   "source": [
    "# def is_duplicate(item, collection):\n",
    "    \n",
    "#     \"\"\"Determine (True or False) whether a given item (i.e. movie)\n",
    "#        is in a collection of other movie titles (i.e. list)\"\"\"\n",
    "    \n",
    "#     for movie in collection:\n",
    "# #         if movie.lower() == item.lower(): ###OLD!!!\n",
    "#         if movie == item: ###NEW!!!\n",
    "\n",
    "#             return True\n",
    "        \n",
    "#     #if you've exhausted the list of movies and found no matches, return False\n",
    "#     return False\n",
    "\n",
    "\n",
    "\"\"\"Now we don't even need the is_duplicate function anymore! ^^ \"\"\"\n",
    "\n",
    "@profile\n",
    "def find_duplicate_movies(src='movies.txt'):\n",
    "    \n",
    "    \"\"\"Return all movies that appear twice (i.e. duplicates) in the text file.\n",
    "       Uses the 2 previous functions.\"\"\"\n",
    "    \n",
    "    movie_list = read_movies(src)\n",
    "    movie_list = [m.lower() for m in movie_list] \n",
    "    duplicates = []\n",
    "    \n",
    "    while movie_list: #as long as there are still movies to search through\n",
    "        \n",
    "        movie = movie_list.pop() #remove the last element of the list, and assign to movie\n",
    "        \n",
    "#         if is_duplicate(movie, movie_list):  ###OLD\n",
    "\n",
    "        if movie in movie_list:\n",
    "            \n",
    "            duplicates.append(movie)\n",
    "            \n",
    "    \n",
    "    return duplicates"
   ]
  },
  {
   "cell_type": "markdown",
   "metadata": {},
   "source": [
    "**Let's now give it another shot:**"
   ]
  },
  {
   "cell_type": "code",
   "execution_count": 11,
   "metadata": {},
   "outputs": [
    {
     "name": "stdout",
     "output_type": "stream",
     "text": [
      "         20276 function calls in 0.596 seconds\n",
      "\n",
      "   Ordered by: cumulative time\n",
      "\n",
      "   ncalls  tottime  percall  cumtime  percall filename:lineno(function)\n",
      "        1    0.589    0.589    0.596    0.596 <ipython-input-10-dbdb609c0b10>:18(find_duplicate_movies)\n",
      "        1    0.002    0.002    0.004    0.004 <ipython-input-10-dbdb609c0b10>:25(<listcomp>)\n",
      "        1    0.000    0.000    0.003    0.003 <ipython-input-1-e2b582f9e247>:1(read_movies)\n",
      "    10000    0.002    0.000    0.002    0.000 {method 'lower' of 'str' objects}\n",
      "        1    0.001    0.001    0.001    0.001 {method 'splitlines' of 'str' objects}\n",
      "    10000    0.001    0.000    0.001    0.000 {method 'pop' of 'list' objects}\n",
      "        1    0.000    0.000    0.001    0.001 {method 'read' of '_io.TextIOWrapper' objects}\n",
      "        1    0.000    0.000    0.000    0.000 {built-in method io.open}\n",
      "        1    0.000    0.000    0.000    0.000 /opt/anaconda3/lib/python3.8/codecs.py:319(decode)\n",
      "        1    0.000    0.000    0.000    0.000 {built-in method _codecs.utf_8_decode}\n",
      "      263    0.000    0.000    0.000    0.000 {method 'append' of 'list' objects}\n",
      "        1    0.000    0.000    0.000    0.000 /opt/anaconda3/lib/python3.8/_bootlocale.py:33(getpreferredencoding)\n",
      "        1    0.000    0.000    0.000    0.000 /opt/anaconda3/lib/python3.8/codecs.py:309(__init__)\n",
      "        1    0.000    0.000    0.000    0.000 {built-in method _locale.nl_langinfo}\n",
      "        1    0.000    0.000    0.000    0.000 /opt/anaconda3/lib/python3.8/codecs.py:260(__init__)\n",
      "        1    0.000    0.000    0.000    0.000 {method 'disable' of '_lsprof.Profiler' objects}\n",
      "\n",
      "\n",
      "\n"
     ]
    }
   ],
   "source": [
    "duplicates = find_duplicate_movies()"
   ]
  },
  {
   "cell_type": "markdown",
   "metadata": {},
   "source": [
    "# EVEN BETTER? (BONUS) -- Version 4"
   ]
  },
  {
   "cell_type": "markdown",
   "metadata": {},
   "source": [
    "**Improving the underlying algorithm**\n",
    "- At this point we're pretty good, but if we really wanted to be picky, we could use some clever algorithmics to squeeze out even more efficiency.\n",
    "- We have an exponential / quadratic solution to our problem, because what we're doing is looping through our list of movies, and then for every movie, loop through the list again. So we've got a double loop, so that if our data doubles, then our speed quadruples.\n",
    "    - The first loop is the list-comprehension, and the second loop is the while loop\n",
    "- What we want is something a bit more linear\n"
   ]
  },
  {
   "cell_type": "markdown",
   "metadata": {},
   "source": [
    "**SOLUTION**:\n",
    "- Sort things first!"
   ]
  },
  {
   "cell_type": "code",
   "execution_count": 12,
   "metadata": {},
   "outputs": [],
   "source": [
    "@profile\n",
    "def find_duplicate_movies(src='movies.txt'):\n",
    "    \n",
    "    \"\"\"Return all movies that appear twice (i.e. duplicates) in the text file.\n",
    "       Uses the 2 previous functions.\"\"\"\n",
    "    \n",
    "    movie_list = read_movies(src)\n",
    "    movie_list = [m.lower() for m in movie_list] \n",
    "    \n",
    "    ### ALL BELOW OLD!!\n",
    "    \n",
    "#     duplicates = []  \n",
    "#     while movie_list: #as long as there are still movies to search through       \n",
    "#         movie = movie_list.pop() #remove the last element of the list, and assign to movie      \n",
    "# #         if is_duplicate(movie, movie_list):  ###OLD\n",
    "#         if movie in movie_list:\n",
    "#             duplicates.append(movie)\n",
    "\n",
    "    \"\"\"BETTER SOLUTION BELOW\"\"\"\n",
    "    \n",
    "    movie_list.sort() #in-place sorting of a python list.\n",
    "    \n",
    "    ### if movie titles are the same, they should be consecutive in the list!\n",
    "    ### zip together the (list of movies minus the last) & the (list of movies minus the first)\n",
    "    ### so pair the first with the second, the second with the third, etc.\n",
    "    duplicates = [movie1 for movie1, movie2 in zip(movie_list[:-1], movie_list[1:]) if movie1 == movie2]\n",
    "            \n",
    "    \n",
    "    return duplicates"
   ]
  },
  {
   "cell_type": "markdown",
   "metadata": {},
   "source": [
    "### Test it in action!"
   ]
  },
  {
   "cell_type": "code",
   "execution_count": 13,
   "metadata": {},
   "outputs": [
    {
     "name": "stdout",
     "output_type": "stream",
     "text": [
      "         10015 function calls in 0.013 seconds\n",
      "\n",
      "   Ordered by: cumulative time\n",
      "\n",
      "   ncalls  tottime  percall  cumtime  percall filename:lineno(function)\n",
      "        1    0.000    0.000    0.013    0.013 <ipython-input-12-2e5f3a593210>:1(find_duplicate_movies)\n",
      "        1    0.005    0.005    0.005    0.005 {method 'sort' of 'list' objects}\n",
      "        1    0.002    0.002    0.005    0.005 <ipython-input-12-2e5f3a593210>:8(<listcomp>)\n",
      "        1    0.000    0.000    0.003    0.003 <ipython-input-1-e2b582f9e247>:1(read_movies)\n",
      "    10000    0.002    0.000    0.002    0.000 {method 'lower' of 'str' objects}\n",
      "        1    0.002    0.002    0.002    0.002 {method 'splitlines' of 'str' objects}\n",
      "        1    0.001    0.001    0.001    0.001 <ipython-input-12-2e5f3a593210>:26(<listcomp>)\n",
      "        1    0.000    0.000    0.001    0.001 {method 'read' of '_io.TextIOWrapper' objects}\n",
      "        1    0.000    0.000    0.000    0.000 {built-in method io.open}\n",
      "        1    0.000    0.000    0.000    0.000 /opt/anaconda3/lib/python3.8/codecs.py:319(decode)\n",
      "        1    0.000    0.000    0.000    0.000 {built-in method _codecs.utf_8_decode}\n",
      "        1    0.000    0.000    0.000    0.000 /opt/anaconda3/lib/python3.8/_bootlocale.py:33(getpreferredencoding)\n",
      "        1    0.000    0.000    0.000    0.000 {built-in method _locale.nl_langinfo}\n",
      "        1    0.000    0.000    0.000    0.000 /opt/anaconda3/lib/python3.8/codecs.py:309(__init__)\n",
      "        1    0.000    0.000    0.000    0.000 /opt/anaconda3/lib/python3.8/codecs.py:260(__init__)\n",
      "        1    0.000    0.000    0.000    0.000 {method 'disable' of '_lsprof.Profiler' objects}\n",
      "\n",
      "\n",
      "\n"
     ]
    }
   ],
   "source": [
    "duplicates = find_duplicate_movies()"
   ]
  },
  {
   "cell_type": "markdown",
   "metadata": {},
   "source": [
    "### Insane!!!!\n",
    "- So basically, since we've started, we've had over a 1,000x fold performance improvement in our code."
   ]
  },
  {
   "cell_type": "markdown",
   "metadata": {},
   "source": [
    "---"
   ]
  },
  {
   "cell_type": "code",
   "execution_count": null,
   "metadata": {},
   "outputs": [],
   "source": []
  }
 ],
 "metadata": {
  "kernelspec": {
   "display_name": "Python 3",
   "language": "python",
   "name": "python3"
  },
  "language_info": {
   "codemirror_mode": {
    "name": "ipython",
    "version": 3
   },
   "file_extension": ".py",
   "mimetype": "text/x-python",
   "name": "python",
   "nbconvert_exporter": "python",
   "pygments_lexer": "ipython3",
   "version": "3.8.5"
  }
 },
 "nbformat": 4,
 "nbformat_minor": 4
}
