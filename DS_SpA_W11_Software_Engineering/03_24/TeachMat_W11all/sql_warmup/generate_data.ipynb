{
 "cells": [
  {
   "cell_type": "markdown",
   "metadata": {},
   "source": [
    "### Generating Data for Recap Exercise on SQL\n",
    "- **Tensor Tarragons**, *24.03.2021*"
   ]
  },
  {
   "cell_type": "code",
   "execution_count": null,
   "metadata": {},
   "outputs": [],
   "source": [
    "# ! mv /Users/pawlodkowski/Downloads/ml-latest-small/ratings.csv .\n",
    "# ! mv /Users/pawlodkowski/Downloads/ml-latest-small/movies.csv ."
   ]
  },
  {
   "cell_type": "code",
   "execution_count": null,
   "metadata": {},
   "outputs": [],
   "source": [
    "import pandas as pd\n",
    "from sqlalchemy import create_engine\n",
    "from sqlalchemy.types import Integer, Float, String, Date"
   ]
  },
  {
   "cell_type": "code",
   "execution_count": null,
   "metadata": {},
   "outputs": [],
   "source": [
    "USERNAME = \"postgres\"\n",
    "PASSWORD = \"titanic99\"\n",
    "HOST = \"recap.cgn1yvegh1gq.eu-central-1.rds.amazonaws.com\"\n",
    "PORT = \"5432\"\n",
    "DB = \"postgres\"\n",
    "CONN_STRING = f'postgres://{USERNAME}:{PASSWORD}@{HOST}:{PORT}/{DB}'\n",
    "ENGINE = create_engine(CONN_STRING)"
   ]
  },
  {
   "cell_type": "code",
   "execution_count": null,
   "metadata": {},
   "outputs": [],
   "source": [
    "ratings = pd.read_csv('ratings.csv')\n",
    "ratings.columns = ['user_id', 'movie_id', 'rating', 'timestamp']\n",
    "ratings['timestamp'] = pd.to_datetime(ratings['timestamp'], unit='s')\n",
    "\n",
    "movies = pd.read_csv('movies.csv')\n",
    "movies.columns = ['movie_id', 'title', 'genres']"
   ]
  },
  {
   "cell_type": "code",
   "execution_count": null,
   "metadata": {},
   "outputs": [],
   "source": [
    "ratings.to_sql(name='ratings',\n",
    "               con=ENGINE,\n",
    "               index=False,\n",
    "               if_exists='replace',\n",
    "               method='multi',\n",
    "               dtype= {'user_id': Integer,\n",
    "                       'movie_id': Integer,\n",
    "                       'rating': Float,\n",
    "                       'timestamp': Date})"
   ]
  },
  {
   "cell_type": "code",
   "execution_count": null,
   "metadata": {},
   "outputs": [],
   "source": [
    "movies.to_sql(name='movies',\n",
    "               con=ENGINE,\n",
    "               index=False,\n",
    "               if_exists='replace',\n",
    "               method='multi',\n",
    "               dtype= {'movie_id': Integer,\n",
    "                       'title': String,\n",
    "                       'genres': String})"
   ]
  },
  {
   "cell_type": "code",
   "execution_count": null,
   "metadata": {},
   "outputs": [],
   "source": [
    "with ENGINE.connect() as con:\n",
    "    con.execute('ALTER TABLE \"movies\" ADD PRIMARY KEY (\"movie_id\");')"
   ]
  },
  {
   "cell_type": "markdown",
   "metadata": {},
   "source": [
    "---"
   ]
  },
  {
   "cell_type": "markdown",
   "metadata": {},
   "source": [
    "### Elevator Problem"
   ]
  },
  {
   "cell_type": "markdown",
   "metadata": {},
   "source": [
    "People are queueing for a lift with a maximum weight capacity of 1000 lb. Given the table `queue` (below), write a query that will return the *full name* of the last person that will be able to board the lift without exceeding the maximum load.\n",
    "\n",
    "queue:\n",
    "\n",
    "| id   | first_name | surname | weight | position |\n",
    "| ---- | ---------- | ------- | ------ | -------- |\n",
    "| INT  | VARCHAR    | VARCHAR | INT    | INT      |\n",
    "\n"
   ]
  },
  {
   "cell_type": "code",
   "execution_count": null,
   "metadata": {},
   "outputs": [],
   "source": [
    "from faker import Faker\n",
    "import random\n",
    "\n",
    "f = Faker()\n",
    "ids = range(1,51)\n",
    "positions = random.sample(ids, len(ids))\n",
    "\n",
    "data={'id':ids, \n",
    "      'first_name':[f.first_name() for i in range(50)],\n",
    "      'last_name':[f.last_name() for i in range(50)],\n",
    "      'weight':[random.randint(80, 250) for i in range(50)],\n",
    "      'position':positions}\n",
    "    \n",
    "df = pd.DataFrame(data)\n",
    "\n",
    "df.to_sql(name='elevator',\n",
    "               con=ENGINE,\n",
    "               index=False,\n",
    "               if_exists='replace',\n",
    "               method='multi',\n",
    "               dtype= {'id': Integer,\n",
    "                       'first_name': String,\n",
    "                       'last_name': String,\n",
    "                       'weight': Integer,\n",
    "                       'position': Integer}\n",
    "         )"
   ]
  },
  {
   "cell_type": "code",
   "execution_count": null,
   "metadata": {},
   "outputs": [],
   "source": []
  }
 ],
 "metadata": {
  "kernelspec": {
   "display_name": "Python 3",
   "language": "python",
   "name": "python3"
  },
  "language_info": {
   "codemirror_mode": {
    "name": "ipython",
    "version": 3
   },
   "file_extension": ".py",
   "mimetype": "text/x-python",
   "name": "python",
   "nbconvert_exporter": "python",
   "pygments_lexer": "ipython3",
   "version": "3.8.5"
  }
 },
 "nbformat": 4,
 "nbformat_minor": 4
}
