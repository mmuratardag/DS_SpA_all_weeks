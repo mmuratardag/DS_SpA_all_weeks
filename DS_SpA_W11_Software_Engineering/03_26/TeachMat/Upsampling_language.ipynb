{
 "cells": [
  {
   "cell_type": "code",
   "execution_count": 12,
   "metadata": {},
   "outputs": [],
   "source": [
    "from sklearn.feature_extraction.text import CountVectorizer\n",
    "import pandas as pd"
   ]
  },
  {
   "cell_type": "code",
   "execution_count": 10,
   "metadata": {},
   "outputs": [],
   "source": [
    "p1 = \"live to work\"\n",
    "p2 = \"work to live\"\n",
    "\n",
    "cv = CountVectorizer()\n",
    "result =cv.fit_transform([p1,p2]).todense()\n",
    "\n",
    "#df = pd.DataFrame(result, index=[p1,p2])\n",
    "df = pd.DataFrame(result)"
   ]
  },
  {
   "cell_type": "code",
   "execution_count": 11,
   "metadata": {},
   "outputs": [
    {
     "data": {
      "text/html": [
       "<div>\n",
       "<style scoped>\n",
       "    .dataframe tbody tr th:only-of-type {\n",
       "        vertical-align: middle;\n",
       "    }\n",
       "\n",
       "    .dataframe tbody tr th {\n",
       "        vertical-align: top;\n",
       "    }\n",
       "\n",
       "    .dataframe thead th {\n",
       "        text-align: right;\n",
       "    }\n",
       "</style>\n",
       "<table border=\"1\" class=\"dataframe\">\n",
       "  <thead>\n",
       "    <tr style=\"text-align: right;\">\n",
       "      <th></th>\n",
       "      <th>0</th>\n",
       "      <th>1</th>\n",
       "      <th>2</th>\n",
       "    </tr>\n",
       "  </thead>\n",
       "  <tbody>\n",
       "    <tr>\n",
       "      <th>0</th>\n",
       "      <td>1</td>\n",
       "      <td>1</td>\n",
       "      <td>1</td>\n",
       "    </tr>\n",
       "    <tr>\n",
       "      <th>1</th>\n",
       "      <td>1</td>\n",
       "      <td>1</td>\n",
       "      <td>1</td>\n",
       "    </tr>\n",
       "  </tbody>\n",
       "</table>\n",
       "</div>"
      ],
      "text/plain": [
       "   0  1  2\n",
       "0  1  1  1\n",
       "1  1  1  1"
      ]
     },
     "execution_count": 11,
     "metadata": {},
     "output_type": "execute_result"
    }
   ],
   "source": [
    "df"
   ]
  },
  {
   "cell_type": "code",
   "execution_count": null,
   "metadata": {},
   "outputs": [],
   "source": [
    "# CVs are problematic because:\n",
    "# 1: word order gets lost in CV\n",
    "# 2: close CV vector row doesn't mean its gonna make sense"
   ]
  },
  {
   "cell_type": "markdown",
   "metadata": {},
   "source": [
    "---"
   ]
  },
  {
   "cell_type": "markdown",
   "metadata": {},
   "source": [
    "## Upsample your data"
   ]
  },
  {
   "cell_type": "markdown",
   "metadata": {},
   "source": [
    "* Work out which lablels need upsampling\n",
    "* For those labels, write a for loop that translates each text out of english into one randomly selected language, THEN back into english\n",
    "* add those rows to your existing data"
   ]
  },
  {
   "cell_type": "code",
   "execution_count": null,
   "metadata": {},
   "outputs": [],
   "source": [
    "# Read in our text data"
   ]
  },
  {
   "cell_type": "code",
   "execution_count": null,
   "metadata": {},
   "outputs": [],
   "source": [
    "# check out all possible langauges\n",
    "import googletrans\n",
    "googletrans.LANGUAGES"
   ]
  },
  {
   "cell_type": "code",
   "execution_count": 13,
   "metadata": {},
   "outputs": [
    {
     "data": {
      "text/html": [
       "<div>\n",
       "<style scoped>\n",
       "    .dataframe tbody tr th:only-of-type {\n",
       "        vertical-align: middle;\n",
       "    }\n",
       "\n",
       "    .dataframe tbody tr th {\n",
       "        vertical-align: top;\n",
       "    }\n",
       "\n",
       "    .dataframe thead th {\n",
       "        text-align: right;\n",
       "    }\n",
       "</style>\n",
       "<table border=\"1\" class=\"dataframe\">\n",
       "  <thead>\n",
       "    <tr style=\"text-align: right;\">\n",
       "      <th></th>\n",
       "      <th>ind</th>\n",
       "      <th>description</th>\n",
       "    </tr>\n",
       "  </thead>\n",
       "  <tbody>\n",
       "    <tr>\n",
       "      <th>0</th>\n",
       "      <td>0</td>\n",
       "      <td>sequel famous facebook smash hit million user ...</td>\n",
       "    </tr>\n",
       "    <tr>\n",
       "      <th>1</th>\n",
       "      <td>1</td>\n",
       "      <td>new story chapter energy good fighting series ...</td>\n",
       "    </tr>\n",
       "    <tr>\n",
       "      <th>2</th>\n",
       "      <td>2</td>\n",
       "      <td>legend hero come end fight shadow energy learn...</td>\n",
       "    </tr>\n",
       "    <tr>\n",
       "      <th>3</th>\n",
       "      <td>3</td>\n",
       "      <td>shadow fight hero new multiplayer fighting gam...</td>\n",
       "    </tr>\n",
       "    <tr>\n",
       "      <th>4</th>\n",
       "      <td>4</td>\n",
       "      <td>shadow force corrupt universe dankness power l...</td>\n",
       "    </tr>\n",
       "  </tbody>\n",
       "</table>\n",
       "</div>"
      ],
      "text/plain": [
       "   ind                                        description\n",
       "0    0  sequel famous facebook smash hit million user ...\n",
       "1    1  new story chapter energy good fighting series ...\n",
       "2    2  legend hero come end fight shadow energy learn...\n",
       "3    3  shadow fight hero new multiplayer fighting gam...\n",
       "4    4  shadow force corrupt universe dankness power l..."
      ]
     },
     "execution_count": 13,
     "metadata": {},
     "output_type": "execute_result"
    }
   ],
   "source": [
    "df = pd.read_csv('/Users/tom_g/Downloads/tokenized_data.csv',encoding='utf8')\n",
    "df.head()"
   ]
  },
  {
   "cell_type": "code",
   "execution_count": 14,
   "metadata": {},
   "outputs": [],
   "source": [
    "# pick one example\n",
    "english = df.iloc[0]['description']"
   ]
  },
  {
   "cell_type": "code",
   "execution_count": 19,
   "metadata": {},
   "outputs": [],
   "source": [
    "# single text\n",
    "from googletrans import Translator\n",
    "translator = Translator()"
   ]
  },
  {
   "cell_type": "code",
   "execution_count": 26,
   "metadata": {},
   "outputs": [
    {
     "data": {
      "text/plain": [
       "('sequel famous facebook smash hit million user shadow nail fighting mix rpg classic fighting game let equip countless character deadly weapon rare armor set feature dozen anime martial art technique crush enemy humiliate demon boss close door shadow take kick punch jump slash way victory lane find plunge epic combat sequence render amazingly realistic detail all new animation system devastate enemy deliciously intuitive control thanks all new combat interface design especially touch screens enter the underworld fight fearsome friend boss journey different world menacing demon pack action adrenaline fighting rpg immersive intriguing storyline customize fighter epic sword nunchacku armor costume magic power shadow combat the battle begins',\n",
       " 'sequel famous facebook smash hit million user shadow fight nailbiting mix rpg classical fighting game let equip character countless lethal weapon rare armor set feature dozen lifelikeanimated martial art technique crush enemy humiliate demon boss close gate shadow take kick punch jump slash way victory way find plunge epic combat sequence render astonishingly lifelike detail allnew animation system devastate enemy delightfully intuitive control thank allnew fight interface design especially touchscreens enter underworld fight friend fearsome boss journey different world menacing demon action pack adrenalinefueled combat rpg immersive intriguing storyline customize fighter epic sword nunchacku armor suit magical power shadow fight battle begin')"
      ]
     },
     "execution_count": 26,
     "metadata": {},
     "output_type": "execute_result"
    }
   ],
   "source": [
    "#translate a sentence from english into french\n",
    "french_ = translator.translate(english, dest='fr')\n",
    "french_.text\n",
    "\n",
    "#translate it back to english\n",
    "english_ = translator.translate(french_.text, dest='en')"
   ]
  },
  {
   "cell_type": "markdown",
   "metadata": {},
   "source": [
    "---"
   ]
  },
  {
   "cell_type": "code",
   "execution_count": null,
   "metadata": {},
   "outputs": [],
   "source": [
    "# BEFORE- you had english - 1 row in your dataframe\n",
    "english\n",
    "# AFTER - you have english AND english_.text - 2 rows in your dataframe\n",
    "english_.text"
   ]
  },
  {
   "cell_type": "markdown",
   "metadata": {},
   "source": [
    "#### How far can we go with this techique?\n",
    "* probably you can't turn 1 datapoint into a million!\n",
    "* instead downsample the large class \n",
    "* accept some class imbalance\n",
    "* research other technqiues\n",
    "* This might add 10x datapoints "
   ]
  },
  {
   "cell_type": "code",
   "execution_count": null,
   "metadata": {},
   "outputs": [],
   "source": []
  }
 ],
 "metadata": {
  "kernelspec": {
   "display_name": "Python 3",
   "language": "python",
   "name": "python3"
  },
  "language_info": {
   "codemirror_mode": {
    "name": "ipython",
    "version": 3
   },
   "file_extension": ".py",
   "mimetype": "text/x-python",
   "name": "python",
   "nbconvert_exporter": "python",
   "pygments_lexer": "ipython3",
   "version": "3.8.5"
  }
 },
 "nbformat": 4,
 "nbformat_minor": 4
}
