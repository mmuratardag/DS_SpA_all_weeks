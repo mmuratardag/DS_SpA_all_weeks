{
 "cells": [
  {
   "cell_type": "code",
   "execution_count": 1,
   "metadata": {},
   "outputs": [],
   "source": [
    "names = [\"alexandra\",\n",
    "         \"anastasia\", \n",
    "         \"galiya\", \n",
    "         \"krystana\", \n",
    "         \"mahmoud\", \n",
    "         \"alphan\", \n",
    "         \"murat\", \n",
    "         \"müfit\",\n",
    "         \"nader\",\n",
    "         \"lena\", \n",
    "         \"pavel\",\n",
    "         \"pietro\",\n",
    "         \"pooja\",\n",
    "         \"svenja\",\n",
    "         \"bala\"]"
   ]
  },
  {
   "cell_type": "code",
   "execution_count": 2,
   "metadata": {},
   "outputs": [
    {
     "data": {
      "text/plain": [
       "15"
      ]
     },
     "execution_count": 2,
     "metadata": {},
     "output_type": "execute_result"
    }
   ],
   "source": [
    "len (names)"
   ]
  },
  {
   "cell_type": "markdown",
   "metadata": {},
   "source": [
    "## Warmup: how can we iterate over the items in the list?\n",
    "    - different variants?"
   ]
  },
  {
   "cell_type": "code",
   "execution_count": 3,
   "metadata": {},
   "outputs": [
    {
     "name": "stdout",
     "output_type": "stream",
     "text": [
      "alexandra\n",
      "anastasia\n",
      "galiya\n",
      "krystana\n",
      "mahmoud\n",
      "alphan\n",
      "murat\n",
      "müfit\n",
      "nader\n",
      "lena\n",
      "pavel\n",
      "pietro\n",
      "pooja\n",
      "svenja\n",
      "bala\n"
     ]
    }
   ],
   "source": [
    "for name in names:\n",
    "    print(name)"
   ]
  },
  {
   "cell_type": "code",
   "execution_count": 4,
   "metadata": {},
   "outputs": [
    {
     "data": {
      "text/plain": [
       "list"
      ]
     },
     "execution_count": 4,
     "metadata": {},
     "output_type": "execute_result"
    }
   ],
   "source": [
    "type(names)"
   ]
  },
  {
   "cell_type": "code",
   "execution_count": 5,
   "metadata": {},
   "outputs": [
    {
     "name": "stdout",
     "output_type": "stream",
     "text": [
      "alexandra <class 'str'>\n",
      "anastasia <class 'str'>\n",
      "galiya <class 'str'>\n",
      "krystana <class 'str'>\n",
      "mahmoud <class 'str'>\n",
      "alphan <class 'str'>\n",
      "murat <class 'str'>\n",
      "müfit <class 'str'>\n",
      "nader <class 'str'>\n",
      "lena <class 'str'>\n",
      "pavel <class 'str'>\n",
      "pietro <class 'str'>\n",
      "pooja <class 'str'>\n",
      "svenja <class 'str'>\n",
      "bala <class 'str'>\n"
     ]
    }
   ],
   "source": [
    "for name in names:\n",
    "    print(name, type(name))"
   ]
  },
  {
   "cell_type": "code",
   "execution_count": 10,
   "metadata": {},
   "outputs": [
    {
     "name": "stdout",
     "output_type": "stream",
     "text": [
      "alexandra <class 'int'>\n",
      "anastasia <class 'int'>\n",
      "galiya <class 'int'>\n",
      "krystana <class 'int'>\n",
      "mahmoud <class 'int'>\n",
      "alphan <class 'int'>\n",
      "murat <class 'int'>\n",
      "müfit <class 'int'>\n",
      "nader <class 'int'>\n",
      "lena <class 'int'>\n",
      "pavel <class 'int'>\n",
      "pietro <class 'int'>\n",
      "pooja <class 'int'>\n",
      "svenja <class 'int'>\n",
      "bala <class 'int'>\n"
     ]
    }
   ],
   "source": [
    "for i in range (0, len(names), 1):\n",
    "        print(names[i], type(i))"
   ]
  },
  {
   "cell_type": "code",
   "execution_count": 18,
   "metadata": {},
   "outputs": [
    {
     "name": "stdout",
     "output_type": "stream",
     "text": [
      "0 alexandra\n",
      "1 anastasia\n",
      "2 galiya\n",
      "3 krystana\n",
      "4 mahmoud\n",
      "5 alphan\n",
      "6 murat\n",
      "7 müfit\n",
      "8 nader\n",
      "9 lena\n",
      "10 pavel\n",
      "11 pietro\n",
      "12 pooja\n",
      "13 svenja\n",
      "14 bala\n"
     ]
    }
   ],
   "source": [
    "for i, n in enumerate(names):\n",
    "    print(i, n)"
   ]
  },
  {
   "cell_type": "code",
   "execution_count": 28,
   "metadata": {},
   "outputs": [
    {
     "name": "stdout",
     "output_type": "stream",
     "text": [
      "alexandra\n",
      "anastasia\n",
      "galiya\n",
      "krystana\n",
      "mahmoud\n",
      "alphan\n",
      "murat\n",
      "müfit\n",
      "nader\n",
      "lena\n",
      "pavel\n",
      "pietro\n",
      "pooja\n",
      "svenja\n",
      "bala\n"
     ]
    }
   ],
   "source": [
    "i = 0\n",
    "while i < len(names):\n",
    "    print(names[i])\n",
    "    i += 1"
   ]
  },
  {
   "cell_type": "code",
   "execution_count": 29,
   "metadata": {},
   "outputs": [
    {
     "data": {
      "text/plain": [
       "['alexandra',\n",
       " 'anastasia',\n",
       " 'galiya',\n",
       " 'krystana',\n",
       " 'mahmoud',\n",
       " 'alphan',\n",
       " 'murat',\n",
       " 'müfit',\n",
       " 'nader',\n",
       " 'lena',\n",
       " 'pavel',\n",
       " 'pietro',\n",
       " 'pooja',\n",
       " 'svenja',\n",
       " 'bala']"
      ]
     },
     "execution_count": 29,
     "metadata": {},
     "output_type": "execute_result"
    }
   ],
   "source": [
    "[p for p in names]"
   ]
  },
  {
   "cell_type": "code",
   "execution_count": 32,
   "metadata": {},
   "outputs": [
    {
     "data": {
      "text/plain": [
       "['ALEXANDRA',\n",
       " 'ANASTASIA',\n",
       " 'GALIYA',\n",
       " 'KRYSTANA',\n",
       " 'MAHMOUD',\n",
       " 'ALPHAN',\n",
       " 'MURAT',\n",
       " 'MÜFIT',\n",
       " 'NADER',\n",
       " 'LENA',\n",
       " 'PAVEL',\n",
       " 'PIETRO',\n",
       " 'POOJA',\n",
       " 'SVENJA',\n",
       " 'BALA']"
      ]
     },
     "execution_count": 32,
     "metadata": {},
     "output_type": "execute_result"
    }
   ],
   "source": [
    "new_list = []\n",
    "\n",
    "for n in names:\n",
    "    new_list.append(n.upper())\n",
    "    \n",
    "new_list"
   ]
  },
  {
   "cell_type": "code",
   "execution_count": 36,
   "metadata": {},
   "outputs": [
    {
     "data": {
      "text/plain": [
       "['Alexandra',\n",
       " 'Anastasia',\n",
       " 'Galiya',\n",
       " 'Krystana',\n",
       " 'Mahmoud',\n",
       " 'Alphan',\n",
       " 'Murat',\n",
       " 'Müfit',\n",
       " 'Nader',\n",
       " 'Lena',\n",
       " 'Pavel',\n",
       " 'Pietro',\n",
       " 'Pooja',\n",
       " 'Svenja',\n",
       " 'Bala']"
      ]
     },
     "execution_count": 36,
     "metadata": {},
     "output_type": "execute_result"
    }
   ],
   "source": [
    "[n[0].upper() + n[1:] for n in names]"
   ]
  },
  {
   "cell_type": "code",
   "execution_count": 40,
   "metadata": {},
   "outputs": [],
   "source": [
    "# p_names = [n[0].upper() + n[1:] for n in names if n.startswith('p')]"
   ]
  }
 ],
 "metadata": {
  "kernelspec": {
   "display_name": "Python 3",
   "language": "python",
   "name": "python3"
  },
  "language_info": {
   "codemirror_mode": {
    "name": "ipython",
    "version": 3
   },
   "file_extension": ".py",
   "mimetype": "text/x-python",
   "name": "python",
   "nbconvert_exporter": "python",
   "pygments_lexer": "ipython3",
   "version": "3.8.5"
  }
 },
 "nbformat": 4,
 "nbformat_minor": 4
}
