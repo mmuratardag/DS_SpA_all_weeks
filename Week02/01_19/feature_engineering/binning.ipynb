{
 "cells": [
  {
   "cell_type": "code",
   "execution_count": 1,
   "metadata": {},
   "outputs": [],
   "source": [
    "import pandas as pd\n",
    "from sklearn.preprocessing import KBinsDiscretizer\n",
    "\n",
    "df = pd.read_csv('penguins_simple.csv', sep=';')"
   ]
  },
  {
   "cell_type": "code",
   "execution_count": 2,
   "metadata": {},
   "outputs": [
    {
     "name": "stdout",
     "output_type": "stream",
     "text": [
      "(333, 5)\n"
     ]
    }
   ],
   "source": [
    "# transform a numerical column\n",
    "kbins = KBinsDiscretizer(n_bins=5, encode='onehot', strategy='quantile')\n",
    "columns = df[['Culmen Length (mm)']]\n",
    "kbins.fit(columns)\n",
    "t = kbins.transform(columns)\n",
    "t = t.todense()  # before this, t is a sparse matrix data type\n",
    "print(t.shape)"
   ]
  },
  {
   "cell_type": "code",
   "execution_count": 3,
   "metadata": {},
   "outputs": [],
   "source": [
    "# create nice labels\n",
    "edges = kbins.bin_edges_[0].round(1)\n",
    "labels = []\n",
    "for i in range(len(edges)-1):\n",
    "    edge1 = edges[i]\n",
    "    edge2 = edges[i+1]\n",
    "    labels.append(f\"{edge1} to {edge2}\")"
   ]
  },
  {
   "cell_type": "code",
   "execution_count": 4,
   "metadata": {},
   "outputs": [
    {
     "name": "stdout",
     "output_type": "stream",
     "text": [
      "   32.1 to 38.6  38.6 to 42.0  42.0 to 46.1  46.1 to 49.5  49.5 to 59.6\n",
      "0           0.0           1.0           0.0           0.0           0.0\n",
      "1           0.0           1.0           0.0           0.0           0.0\n",
      "2           0.0           1.0           0.0           0.0           0.0\n",
      "3           1.0           0.0           0.0           0.0           0.0\n",
      "4           0.0           1.0           0.0           0.0           0.0\n"
     ]
    }
   ],
   "source": [
    "# create a DataFrame\n",
    "df_bins = pd.DataFrame(t, columns=labels)\n",
    "print(df_bins.head())\n",
    "\n",
    "\n",
    "# BONUS: set the strategy parameter to 'uniform' and see how the edges change"
   ]
  }
 ],
 "metadata": {
  "kernelspec": {
   "display_name": "Python 3",
   "language": "python",
   "name": "python3"
  },
  "language_info": {
   "codemirror_mode": {
    "name": "ipython",
    "version": 3
   },
   "file_extension": ".py",
   "mimetype": "text/x-python",
   "name": "python",
   "nbconvert_exporter": "python",
   "pygments_lexer": "ipython3",
   "version": "3.8.5"
  }
 },
 "nbformat": 4,
 "nbformat_minor": 4
}
