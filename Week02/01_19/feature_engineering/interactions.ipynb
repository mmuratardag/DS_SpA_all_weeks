{
 "cells": [
  {
   "cell_type": "code",
   "execution_count": 1,
   "metadata": {},
   "outputs": [],
   "source": [
    "import pandas as pd\n",
    "df = pd.read_csv('penguins_simple.csv', sep=';')"
   ]
  },
  {
   "cell_type": "code",
   "execution_count": 2,
   "metadata": {},
   "outputs": [],
   "source": [
    "# male and adelie\n",
    "male = (df['Sex'] == 'MALE').astype(int)\n",
    "ade = (df['Species'] == 'Adelie').astype(int)\n",
    "\n",
    "df['male_ade'] = male * ade"
   ]
  },
  {
   "cell_type": "code",
   "execution_count": 3,
   "metadata": {},
   "outputs": [
    {
     "name": "stdout",
     "output_type": "stream",
     "text": [
      "  Species  Culmen Length (mm)  Culmen Depth (mm)  Flipper Length (mm)  \\\n",
      "0  Adelie                39.1               18.7                181.0   \n",
      "1  Adelie                39.5               17.4                186.0   \n",
      "2  Adelie                40.3               18.0                195.0   \n",
      "3  Adelie                36.7               19.3                193.0   \n",
      "4  Adelie                39.3               20.6                190.0   \n",
      "\n",
      "   Body Mass (g)     Sex  male_ade  culmen_area  \n",
      "0         3750.0    MALE         1       731.17  \n",
      "1         3800.0  FEMALE         0       687.30  \n",
      "2         3250.0  FEMALE         0       725.40  \n",
      "3         3450.0  FEMALE         0       708.31  \n",
      "4         3650.0    MALE         1       809.58  \n"
     ]
    }
   ],
   "source": [
    "# culmen area\n",
    "df['culmen_area'] = df['Culmen Length (mm)'] * df['Culmen Depth (mm)']\n",
    "print(df.head())"
   ]
  }
 ],
 "metadata": {
  "kernelspec": {
   "display_name": "Python 3",
   "language": "python",
   "name": "python3"
  },
  "language_info": {
   "codemirror_mode": {
    "name": "ipython",
    "version": 3
   },
   "file_extension": ".py",
   "mimetype": "text/x-python",
   "name": "python",
   "nbconvert_exporter": "python",
   "pygments_lexer": "ipython3",
   "version": "3.8.5"
  }
 },
 "nbformat": 4,
 "nbformat_minor": 4
}
