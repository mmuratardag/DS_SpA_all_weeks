{
 "cells": [
  {
   "cell_type": "markdown",
   "metadata": {},
   "source": [
    "# DateTime Objects in Pandas\n",
    "* Pandas was developed for financial modelling (Wes Mckinney, AQR Capital)\n",
    "* Time series analysis therefore comprises an integral part of the package\n",
    "* We're going to look at DateTime Objects in Pandas"
   ]
  },
  {
   "cell_type": "code",
   "execution_count": 1,
   "metadata": {},
   "outputs": [],
   "source": [
    "import pandas as pd"
   ]
  },
  {
   "cell_type": "code",
   "execution_count": 2,
   "metadata": {},
   "outputs": [
    {
     "data": {
      "text/plain": [
       "Timestamp('2019-07-23 00:00:00')"
      ]
     },
     "execution_count": 2,
     "metadata": {},
     "output_type": "execute_result"
    }
   ],
   "source": [
    "pd.to_datetime('2019 july 23')"
   ]
  },
  {
   "cell_type": "code",
   "execution_count": 3,
   "metadata": {},
   "outputs": [
    {
     "data": {
      "text/plain": [
       "Timestamp('2019-07-23 00:00:00')"
      ]
     },
     "execution_count": 3,
     "metadata": {},
     "output_type": "execute_result"
    }
   ],
   "source": [
    "pd.to_datetime('july 23 2019')"
   ]
  },
  {
   "cell_type": "code",
   "execution_count": 4,
   "metadata": {},
   "outputs": [
    {
     "data": {
      "text/plain": [
       "Timestamp('2019-07-23 00:00:00')"
      ]
     },
     "execution_count": 4,
     "metadata": {},
     "output_type": "execute_result"
    }
   ],
   "source": [
    "pd.to_datetime('jul 23 2019')"
   ]
  },
  {
   "cell_type": "code",
   "execution_count": 5,
   "metadata": {},
   "outputs": [
    {
     "data": {
      "text/plain": [
       "Timestamp('2019-07-23 00:00:00')"
      ]
     },
     "execution_count": 5,
     "metadata": {},
     "output_type": "execute_result"
    }
   ],
   "source": [
    "pd.to_datetime('jul 23rd 2019')"
   ]
  },
  {
   "cell_type": "code",
   "execution_count": 6,
   "metadata": {},
   "outputs": [
    {
     "data": {
      "text/plain": [
       "Timestamp('2019-07-23 00:00:00')"
      ]
     },
     "execution_count": 6,
     "metadata": {},
     "output_type": "execute_result"
    }
   ],
   "source": [
    "pd.to_datetime('07.23.19')"
   ]
  },
  {
   "cell_type": "code",
   "execution_count": 7,
   "metadata": {},
   "outputs": [
    {
     "data": {
      "text/plain": [
       "Timedelta('19 days 16:16:58')"
      ]
     },
     "execution_count": 7,
     "metadata": {},
     "output_type": "execute_result"
    }
   ],
   "source": [
    "pd.to_datetime('07.23.19') - pd.to_datetime('07.3.19 7:43:02') "
   ]
  },
  {
   "cell_type": "markdown",
   "metadata": {},
   "source": [
    "**In Summary**: If you're dealing with dates and times and need to parse that information, it's better to convert everything to Pandas Timestamp / DateTime objects (rather than leaving it in string format)!"
   ]
  },
  {
   "cell_type": "markdown",
   "metadata": {},
   "source": [
    "---"
   ]
  },
  {
   "cell_type": "markdown",
   "metadata": {},
   "source": [
    "**Date Range Method**\n",
    "\n",
    "What happens if you want to create a range of dates?\n",
    "You can use `pd.date_range()` to create a DateTimeIndex (array of Timestamps):"
   ]
  },
  {
   "cell_type": "code",
   "execution_count": 8,
   "metadata": {},
   "outputs": [
    {
     "data": {
      "text/plain": [
       "DatetimeIndex(['2021-01-01 00:00:00-05:00', '2021-01-01 12:13:00-05:00',\n",
       "               '2021-01-02 00:26:00-05:00', '2021-01-02 12:39:00-05:00',\n",
       "               '2021-01-03 00:52:00-05:00', '2021-01-03 13:05:00-05:00',\n",
       "               '2021-01-04 01:18:00-05:00', '2021-01-04 13:31:00-05:00',\n",
       "               '2021-01-05 01:44:00-05:00', '2021-01-05 13:57:00-05:00',\n",
       "               '2021-01-06 02:10:00-05:00', '2021-01-06 14:23:00-05:00',\n",
       "               '2021-01-07 02:36:00-05:00', '2021-01-07 14:49:00-05:00',\n",
       "               '2021-01-08 03:02:00-05:00', '2021-01-08 15:15:00-05:00',\n",
       "               '2021-01-09 03:28:00-05:00', '2021-01-09 15:41:00-05:00',\n",
       "               '2021-01-10 03:54:00-05:00', '2021-01-10 16:07:00-05:00',\n",
       "               '2021-01-11 04:20:00-05:00', '2021-01-11 16:33:00-05:00',\n",
       "               '2021-01-12 04:46:00-05:00', '2021-01-12 16:59:00-05:00',\n",
       "               '2021-01-13 05:12:00-05:00', '2021-01-13 17:25:00-05:00',\n",
       "               '2021-01-14 05:38:00-05:00', '2021-01-14 17:51:00-05:00',\n",
       "               '2021-01-15 06:04:00-05:00', '2021-01-15 18:17:00-05:00',\n",
       "               '2021-01-16 06:30:00-05:00', '2021-01-16 18:43:00-05:00',\n",
       "               '2021-01-17 06:56:00-05:00', '2021-01-17 19:09:00-05:00',\n",
       "               '2021-01-18 07:22:00-05:00', '2021-01-18 19:35:00-05:00',\n",
       "               '2021-01-19 07:48:00-05:00', '2021-01-19 20:01:00-05:00',\n",
       "               '2021-01-20 08:14:00-05:00', '2021-01-20 20:27:00-05:00',\n",
       "               '2021-01-21 08:40:00-05:00', '2021-01-21 20:53:00-05:00'],\n",
       "              dtype='datetime64[ns, US/Eastern]', freq='733T')"
      ]
     },
     "execution_count": 8,
     "metadata": {},
     "output_type": "execute_result"
    }
   ],
   "source": [
    "pd.date_range('jan 1 2021', 'jan 22 2021', freq='12h13min', tz='US/Eastern')\n",
    "#also timezone aware."
   ]
  },
  {
   "cell_type": "code",
   "execution_count": 9,
   "metadata": {},
   "outputs": [],
   "source": [
    "now = pd.to_datetime('today')"
   ]
  },
  {
   "cell_type": "code",
   "execution_count": 10,
   "metadata": {},
   "outputs": [
    {
     "data": {
      "text/plain": [
       "Timestamp('2021-01-25 14:34:56.883433+0100', tz='Europe/Berlin')"
      ]
     },
     "execution_count": 10,
     "metadata": {},
     "output_type": "execute_result"
    }
   ],
   "source": [
    "now.tz_localize('UTC').tz_convert('Europe/Berlin')\n",
    "#timezone conversion can be useful as well, though we don't need this this week."
   ]
  },
  {
   "cell_type": "markdown",
   "metadata": {},
   "source": [
    "---"
   ]
  },
  {
   "cell_type": "markdown",
   "metadata": {},
   "source": [
    "#### This is all nice and fine, but why do we care?\n",
    "\n",
    "The reason we care for Timestamps in pandas is because they allow us to perform time related actions on the data.\n",
    "Several things you can do with a timestamp:\n",
    "\n",
    "- extract the hour\n",
    "- extract the day\n",
    "- extract the month\n",
    "- extract the year\n",
    "- Slice a DataFrame or Series if the DateTimeIndex is the Index of the DataFrame\n",
    "- calculate time differences"
   ]
  },
  {
   "cell_type": "code",
   "execution_count": 11,
   "metadata": {},
   "outputs": [],
   "source": [
    "stocks = pd.read_csv('/Users/pawlodkowski/Downloads/stock_px.csv')"
   ]
  },
  {
   "cell_type": "code",
   "execution_count": 12,
   "metadata": {},
   "outputs": [],
   "source": [
    "stocks.rename(columns={'Unnamed: 0': 'Time'}, inplace=True)"
   ]
  },
  {
   "cell_type": "code",
   "execution_count": 13,
   "metadata": {},
   "outputs": [],
   "source": [
    "#how could I extract just the year (as an integer) from the Time column?\n",
    "stocks['Year'] = stocks['Time'].str.split('-').str[0].astype(int)\n",
    "\n",
    "#this works, but its a brittle approach. Very dependent on the format."
   ]
  },
  {
   "cell_type": "code",
   "execution_count": 14,
   "metadata": {},
   "outputs": [],
   "source": [
    "stocks['Time'] = pd.to_datetime(stocks['Time'])"
   ]
  },
  {
   "cell_type": "code",
   "execution_count": 15,
   "metadata": {},
   "outputs": [
    {
     "data": {
      "text/plain": [
       "0       2003\n",
       "1       2003\n",
       "2       2003\n",
       "3       2003\n",
       "4       2003\n",
       "        ... \n",
       "2209    2011\n",
       "2210    2011\n",
       "2211    2011\n",
       "2212    2011\n",
       "2213    2011\n",
       "Name: Time, Length: 2214, dtype: int64"
      ]
     },
     "execution_count": 15,
     "metadata": {},
     "output_type": "execute_result"
    }
   ],
   "source": [
    "stocks['Time'].dt.year"
   ]
  },
  {
   "cell_type": "code",
   "execution_count": 16,
   "metadata": {},
   "outputs": [
    {
     "data": {
      "text/plain": [
       "0        1\n",
       "1        1\n",
       "2        1\n",
       "3        1\n",
       "4        1\n",
       "        ..\n",
       "2209    10\n",
       "2210    10\n",
       "2211    10\n",
       "2212    10\n",
       "2213    10\n",
       "Name: Time, Length: 2214, dtype: int64"
      ]
     },
     "execution_count": 16,
     "metadata": {},
     "output_type": "execute_result"
    }
   ],
   "source": [
    "stocks['Time'].dt.month"
   ]
  },
  {
   "cell_type": "code",
   "execution_count": 17,
   "metadata": {},
   "outputs": [
    {
     "data": {
      "text/plain": [
       "0        1\n",
       "1        1\n",
       "2        2\n",
       "3        2\n",
       "4        2\n",
       "        ..\n",
       "2209    41\n",
       "2210    41\n",
       "2211    41\n",
       "2212    41\n",
       "2213    41\n",
       "Name: week, Length: 2214, dtype: UInt32"
      ]
     },
     "execution_count": 17,
     "metadata": {},
     "output_type": "execute_result"
    }
   ],
   "source": [
    "stocks['Time'].dt.isocalendar().week"
   ]
  },
  {
   "cell_type": "markdown",
   "metadata": {},
   "source": [
    "---"
   ]
  },
  {
   "cell_type": "markdown",
   "metadata": {},
   "source": [
    "#### DateTime Index:\n",
    "\n",
    "- It's also useful to make a DateTime column your index, if you want to plot things easily.\n",
    "- The x-axis will know how to format itself automatically."
   ]
  },
  {
   "cell_type": "code",
   "execution_count": 18,
   "metadata": {},
   "outputs": [],
   "source": [
    "stocks.set_index('Time', inplace=True)"
   ]
  },
  {
   "cell_type": "code",
   "execution_count": 19,
   "metadata": {},
   "outputs": [
    {
     "data": {
      "text/plain": [
       "<AxesSubplot:xlabel='Time'>"
      ]
     },
     "execution_count": 19,
     "metadata": {},
     "output_type": "execute_result"
    },
    {
     "data": {
      "image/png": "[encoded data removed]",
      "text/plain": [
       "<Figure size 864x576 with 1 Axes>"
      ]
     },
     "metadata": {
      "needs_background": "light"
     },
     "output_type": "display_data"
    }
   ],
   "source": [
    "stocks[['AAPL', 'MSFT', 'XOM', 'SPX']].plot(figsize=(12, 8))"
   ]
  },
  {
   "cell_type": "code",
   "execution_count": null,
   "metadata": {},
   "outputs": [],
   "source": []
  }
 ],
 "metadata": {
  "kernelspec": {
   "display_name": "Python 3",
   "language": "python",
   "name": "python3"
  },
  "language_info": {
   "codemirror_mode": {
    "name": "ipython",
    "version": 3
   },
   "file_extension": ".py",
   "mimetype": "text/x-python",
   "name": "python",
   "nbconvert_exporter": "python",
   "pygments_lexer": "ipython3",
   "version": "3.8.5"
  }
 },
 "nbformat": 4,
 "nbformat_minor": 4
}
