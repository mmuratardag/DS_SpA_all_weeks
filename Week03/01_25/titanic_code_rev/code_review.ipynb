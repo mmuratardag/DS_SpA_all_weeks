{
 "cells": [
  {
   "cell_type": "markdown",
   "metadata": {},
   "source": [
    "### Imports and Get Data"
   ]
  },
  {
   "cell_type": "code",
   "execution_count": 1,
   "metadata": {},
   "outputs": [],
   "source": [
    "import pandas as pd\n",
    "import numpy as np\n",
    "from sklearn.preprocessing import KBinsDiscretizer\n",
    "from sklearn.model_selection import train_test_split\n",
    "from sklearn.preprocessing import FunctionTransformer"
   ]
  },
  {
   "cell_type": "code",
   "execution_count": 2,
   "metadata": {},
   "outputs": [],
   "source": [
    "df = pd.read_csv('/Users/pawlodkowski/Downloads/train.csv') #change path to yours\n",
    "X = df.loc[:, df.columns != 'Survived']\n",
    "y = df['Survived']\n",
    "\n",
    "X_train, X_test, y_train, y_test = train_test_split(X, y, random_state=42)"
   ]
  },
  {
   "cell_type": "markdown",
   "metadata": {},
   "source": [
    "---\n",
    "---\n",
    "\n"
   ]
  },
  {
   "cell_type": "code",
   "execution_count": 3,
   "metadata": {},
   "outputs": [
    {
     "data": {
      "text/html": [
       "<div>\n",
       "<style scoped>\n",
       "    .dataframe tbody tr th:only-of-type {\n",
       "        vertical-align: middle;\n",
       "    }\n",
       "\n",
       "    .dataframe tbody tr th {\n",
       "        vertical-align: top;\n",
       "    }\n",
       "\n",
       "    .dataframe thead th {\n",
       "        text-align: right;\n",
       "    }\n",
       "</style>\n",
       "<table border=\"1\" class=\"dataframe\">\n",
       "  <thead>\n",
       "    <tr style=\"text-align: right;\">\n",
       "      <th></th>\n",
       "      <th>PassengerId</th>\n",
       "      <th>Pclass</th>\n",
       "      <th>Name</th>\n",
       "      <th>Sex</th>\n",
       "      <th>Age</th>\n",
       "      <th>SibSp</th>\n",
       "      <th>Parch</th>\n",
       "      <th>Ticket</th>\n",
       "      <th>Fare</th>\n",
       "      <th>Cabin</th>\n",
       "      <th>Embarked</th>\n",
       "    </tr>\n",
       "  </thead>\n",
       "  <tbody>\n",
       "    <tr>\n",
       "      <th>298</th>\n",
       "      <td>299</td>\n",
       "      <td>1</td>\n",
       "      <td>Saalfeld, Mr. Adolphe</td>\n",
       "      <td>male</td>\n",
       "      <td>NaN</td>\n",
       "      <td>0</td>\n",
       "      <td>0</td>\n",
       "      <td>19988</td>\n",
       "      <td>30.50</td>\n",
       "      <td>C106</td>\n",
       "      <td>S</td>\n",
       "    </tr>\n",
       "    <tr>\n",
       "      <th>884</th>\n",
       "      <td>885</td>\n",
       "      <td>3</td>\n",
       "      <td>Sutehall, Mr. Henry Jr</td>\n",
       "      <td>male</td>\n",
       "      <td>25.0</td>\n",
       "      <td>0</td>\n",
       "      <td>0</td>\n",
       "      <td>SOTON/OQ 392076</td>\n",
       "      <td>7.05</td>\n",
       "      <td>NaN</td>\n",
       "      <td>S</td>\n",
       "    </tr>\n",
       "    <tr>\n",
       "      <th>247</th>\n",
       "      <td>248</td>\n",
       "      <td>2</td>\n",
       "      <td>Hamalainen, Mrs. William (Anna)</td>\n",
       "      <td>female</td>\n",
       "      <td>24.0</td>\n",
       "      <td>0</td>\n",
       "      <td>2</td>\n",
       "      <td>250649</td>\n",
       "      <td>14.50</td>\n",
       "      <td>NaN</td>\n",
       "      <td>S</td>\n",
       "    </tr>\n",
       "  </tbody>\n",
       "</table>\n",
       "</div>"
      ],
      "text/plain": [
       "     PassengerId  Pclass                             Name     Sex   Age  \\\n",
       "298          299       1            Saalfeld, Mr. Adolphe    male   NaN   \n",
       "884          885       3           Sutehall, Mr. Henry Jr    male  25.0   \n",
       "247          248       2  Hamalainen, Mrs. William (Anna)  female  24.0   \n",
       "\n",
       "     SibSp  Parch           Ticket   Fare Cabin Embarked  \n",
       "298      0      0            19988  30.50  C106        S  \n",
       "884      0      0  SOTON/OQ 392076   7.05   NaN        S  \n",
       "247      0      2           250649  14.50   NaN        S  "
      ]
     },
     "execution_count": 3,
     "metadata": {},
     "output_type": "execute_result"
    }
   ],
   "source": [
    "X_train.head(3)"
   ]
  },
  {
   "cell_type": "markdown",
   "metadata": {},
   "source": [
    "### Code Snippet 1"
   ]
  },
  {
   "cell_type": "markdown",
   "metadata": {},
   "source": [
    "Mutable vs. Immutable Data Types\n",
    "\n",
    "Pandas DataFrame is an example of a mutable data type. This means that the object can be changed in place."
   ]
  },
  {
   "cell_type": "code",
   "execution_count": 4,
   "metadata": {},
   "outputs": [],
   "source": [
    "def famsize(df):\n",
    "    df = df.copy()\n",
    "    df['Family_size'] = df['SibSp'] + df['Parch']\n",
    "    df['Family_size_cat'] = np.where(df.Family_size == 0, 1, np.where( \n",
    "    df.Family_size == 1, 2, np.where(\n",
    "    df.Family_size == 2, 2, np.where( \n",
    "    df.Family_size == 3, 3, np.where( \n",
    "    df.Family_size > 3, 4, 0)))))\n",
    "    return df['Family_size_cat'].value_counts()"
   ]
  },
  {
   "cell_type": "code",
   "execution_count": 5,
   "metadata": {},
   "outputs": [],
   "source": [
    "new = famsize(X_train)"
   ]
  },
  {
   "cell_type": "markdown",
   "metadata": {},
   "source": [
    "Another example:"
   ]
  },
  {
   "cell_type": "code",
   "execution_count": 6,
   "metadata": {},
   "outputs": [],
   "source": [
    "global_list = ['a', 'b', 'c']\n",
    "second_list = global_list"
   ]
  },
  {
   "cell_type": "code",
   "execution_count": 7,
   "metadata": {},
   "outputs": [],
   "source": [
    "def modify(li):\n",
    "    return li.append('d')"
   ]
  },
  {
   "cell_type": "code",
   "execution_count": 8,
   "metadata": {},
   "outputs": [],
   "source": [
    "modify(global_list)"
   ]
  },
  {
   "cell_type": "code",
   "execution_count": 9,
   "metadata": {},
   "outputs": [
    {
     "data": {
      "text/plain": [
       "['a', 'b', 'c', 'd']"
      ]
     },
     "execution_count": 9,
     "metadata": {},
     "output_type": "execute_result"
    }
   ],
   "source": [
    "second_list #weird!!"
   ]
  },
  {
   "cell_type": "markdown",
   "metadata": {},
   "source": [
    "---"
   ]
  },
  {
   "cell_type": "markdown",
   "metadata": {},
   "source": [
    "### Code Snippet 2"
   ]
  },
  {
   "cell_type": "code",
   "execution_count": 10,
   "metadata": {},
   "outputs": [],
   "source": [
    "def k_binner(df, col_name):\n",
    "    kbins = KBinsDiscretizer(n_bins=5, encode='onehot', strategy='uniform')\n",
    "    columns = df[[col_name]]\n",
    "    kbins.fit(columns)\n",
    "    t = kbins.transform(columns)\n",
    "    t = t.todense()  \n",
    "\n",
    "    # create nice labels\n",
    "    edges = kbins.bin_edges_[0].round(1)\n",
    "    labels = []\n",
    "    for i in range(len(edges)-1):\n",
    "        edge1 = edges[i]\n",
    "        edge2 = edges[i+1]\n",
    "        labels.append(f\"{col_name} {edge1} to {edge2}\")\n",
    "\n",
    "    #create a DataFrame\n",
    "    df_bins = pd.DataFrame(t, columns=labels)\n",
    "\n",
    "    return df_bins"
   ]
  },
  {
   "cell_type": "code",
   "execution_count": null,
   "metadata": {},
   "outputs": [],
   "source": []
  },
  {
   "cell_type": "code",
   "execution_count": 11,
   "metadata": {},
   "outputs": [
    {
     "data": {
      "text/html": [
       "<div>\n",
       "<style scoped>\n",
       "    .dataframe tbody tr th:only-of-type {\n",
       "        vertical-align: middle;\n",
       "    }\n",
       "\n",
       "    .dataframe tbody tr th {\n",
       "        vertical-align: top;\n",
       "    }\n",
       "\n",
       "    .dataframe thead th {\n",
       "        text-align: right;\n",
       "    }\n",
       "</style>\n",
       "<table border=\"1\" class=\"dataframe\">\n",
       "  <thead>\n",
       "    <tr style=\"text-align: right;\">\n",
       "      <th></th>\n",
       "      <th>SibSp 0.0 to 1.6</th>\n",
       "      <th>SibSp 1.6 to 3.2</th>\n",
       "      <th>SibSp 3.2 to 4.8</th>\n",
       "      <th>SibSp 4.8 to 6.4</th>\n",
       "      <th>SibSp 6.4 to 8.0</th>\n",
       "    </tr>\n",
       "  </thead>\n",
       "  <tbody>\n",
       "    <tr>\n",
       "      <th>0</th>\n",
       "      <td>1.0</td>\n",
       "      <td>0.0</td>\n",
       "      <td>0.0</td>\n",
       "      <td>0.0</td>\n",
       "      <td>0.0</td>\n",
       "    </tr>\n",
       "  </tbody>\n",
       "</table>\n",
       "</div>"
      ],
      "text/plain": [
       "   SibSp 0.0 to 1.6  SibSp 1.6 to 3.2  SibSp 3.2 to 4.8  SibSp 4.8 to 6.4  \\\n",
       "0               1.0               0.0               0.0               0.0   \n",
       "\n",
       "   SibSp 6.4 to 8.0  \n",
       "0               0.0  "
      ]
     },
     "execution_count": 11,
     "metadata": {},
     "output_type": "execute_result"
    }
   ],
   "source": [
    "k_binner(X_train.copy(), 'SibSp').head(1)"
   ]
  },
  {
   "cell_type": "code",
   "execution_count": 12,
   "metadata": {},
   "outputs": [
    {
     "data": {
      "text/html": [
       "<div>\n",
       "<style scoped>\n",
       "    .dataframe tbody tr th:only-of-type {\n",
       "        vertical-align: middle;\n",
       "    }\n",
       "\n",
       "    .dataframe tbody tr th {\n",
       "        vertical-align: top;\n",
       "    }\n",
       "\n",
       "    .dataframe thead th {\n",
       "        text-align: right;\n",
       "    }\n",
       "</style>\n",
       "<table border=\"1\" class=\"dataframe\">\n",
       "  <thead>\n",
       "    <tr style=\"text-align: right;\">\n",
       "      <th></th>\n",
       "      <th>SibSp 0.0 to 0.8</th>\n",
       "      <th>SibSp 0.8 to 1.6</th>\n",
       "      <th>SibSp 1.6 to 2.4</th>\n",
       "      <th>SibSp 2.4 to 3.2</th>\n",
       "      <th>SibSp 3.2 to 4.0</th>\n",
       "    </tr>\n",
       "  </thead>\n",
       "  <tbody>\n",
       "    <tr>\n",
       "      <th>0</th>\n",
       "      <td>0.0</td>\n",
       "      <td>1.0</td>\n",
       "      <td>0.0</td>\n",
       "      <td>0.0</td>\n",
       "      <td>0.0</td>\n",
       "    </tr>\n",
       "  </tbody>\n",
       "</table>\n",
       "</div>"
      ],
      "text/plain": [
       "   SibSp 0.0 to 0.8  SibSp 0.8 to 1.6  SibSp 1.6 to 2.4  SibSp 2.4 to 3.2  \\\n",
       "0               0.0               1.0               0.0               0.0   \n",
       "\n",
       "   SibSp 3.2 to 4.0  \n",
       "0               0.0  "
      ]
     },
     "execution_count": 12,
     "metadata": {},
     "output_type": "execute_result"
    }
   ],
   "source": [
    "k_binner(X_test.copy(), 'SibSp').head(1)"
   ]
  },
  {
   "cell_type": "markdown",
   "metadata": {},
   "source": [
    "Key Idea:\n",
    "- We only want to fit on the training data, and only transform on the testing data.\n",
    "- IF the transformer is ALREADY FIT, then do `.transform()`. If the transformer is NOT YET FIT, then do `.fit()` then `.transform()` (or `.fit_transform()`)\n",
    "- this is a good use case for sticking with FunctionTransformers, Pipelines, ColumnTransforms all the way through."
   ]
  },
  {
   "cell_type": "code",
   "execution_count": null,
   "metadata": {},
   "outputs": [],
   "source": []
  },
  {
   "cell_type": "code",
   "execution_count": null,
   "metadata": {},
   "outputs": [],
   "source": []
  },
  {
   "cell_type": "markdown",
   "metadata": {},
   "source": [
    "### Code Snippet 3"
   ]
  },
  {
   "cell_type": "code",
   "execution_count": 13,
   "metadata": {},
   "outputs": [],
   "source": [
    "def deck_df(df:pd.DataFrame) -> pd.DataFrame: #type annotations\n",
    "    df = df.copy()\n",
    "    return pd.DataFrame(df['Cabin'].str[0])\n",
    "\n",
    "def deck_series(ser:pd.Series) -> pd.Series: #type annotations\n",
    "    ser = ser.copy()\n",
    "    return ser.str[0]"
   ]
  },
  {
   "cell_type": "code",
   "execution_count": 14,
   "metadata": {},
   "outputs": [],
   "source": [
    "ft = FunctionTransformer(deck_series)"
   ]
  },
  {
   "cell_type": "code",
   "execution_count": 15,
   "metadata": {},
   "outputs": [
    {
     "data": {
      "text/plain": [
       "298      C\n",
       "884    NaN\n",
       "247    NaN\n",
       "478    NaN\n",
       "305      C\n",
       "      ... \n",
       "106    NaN\n",
       "270    NaN\n",
       "860    NaN\n",
       "435      B\n",
       "102      D\n",
       "Name: Cabin, Length: 668, dtype: object"
      ]
     },
     "execution_count": 15,
     "metadata": {},
     "output_type": "execute_result"
    }
   ],
   "source": [
    "ft.fit_transform(X_train['Cabin'])"
   ]
  },
  {
   "cell_type": "code",
   "execution_count": null,
   "metadata": {},
   "outputs": [],
   "source": []
  },
  {
   "cell_type": "code",
   "execution_count": null,
   "metadata": {},
   "outputs": [],
   "source": []
  },
  {
   "cell_type": "markdown",
   "metadata": {},
   "source": [
    "### Code Snippet 4"
   ]
  },
  {
   "cell_type": "code",
   "execution_count": 16,
   "metadata": {},
   "outputs": [],
   "source": [
    "test_string = 'Saalfeld, Mr. Adolphe'"
   ]
  },
  {
   "cell_type": "code",
   "execution_count": 17,
   "metadata": {},
   "outputs": [
    {
     "data": {
      "text/plain": [
       "'Mr'"
      ]
     },
     "execution_count": 17,
     "metadata": {},
     "output_type": "execute_result"
    }
   ],
   "source": [
    "test_string.split(',')[1].strip().split('.')[0].strip()"
   ]
  },
  {
   "cell_type": "code",
   "execution_count": 18,
   "metadata": {},
   "outputs": [],
   "source": [
    "def Name_Title(X_train):\n",
    "    \"\"\"Original Function\"\"\"\n",
    "    X_train['Name'] = X_train.Name.apply(lambda x: x.split(',')[1].split('.')[0].strip())\n",
    "    return X_train"
   ]
  },
  {
   "cell_type": "markdown",
   "metadata": {},
   "source": [
    "Cleaned up Function:"
   ]
  },
  {
   "cell_type": "code",
   "execution_count": 19,
   "metadata": {},
   "outputs": [],
   "source": [
    "def Name_Title(df): \n",
    "    #1. give argument more general name\n",
    "    df = df.copy() #2. Make copy to avoid in-place modification \"bug\"\n",
    "    df['Name'] = df['Name'].apply(lambda x: x.split(',')[1].split('.')[0].strip()) #3. keep syntax consistent\n",
    "    return df"
   ]
  },
  {
   "cell_type": "code",
   "execution_count": 20,
   "metadata": {},
   "outputs": [],
   "source": [
    "def name_title(s):  #4. use snake_case  \n",
    "    #5. define the function separately so that it's easier to read (rather than cramming in a long lambda function in a single line of code)\n",
    "    first_names = s.split(',')[1].strip()\n",
    "    title = first_names.split('.')[0]\n",
    "    return title"
   ]
  },
  {
   "cell_type": "code",
   "execution_count": 21,
   "metadata": {},
   "outputs": [
    {
     "data": {
      "text/plain": [
       "298        Mr\n",
       "884        Mr\n",
       "247       Mrs\n",
       "478        Mr\n",
       "305    Master\n",
       "        ...  \n",
       "106      Miss\n",
       "270        Mr\n",
       "860        Mr\n",
       "435      Miss\n",
       "102        Mr\n",
       "Name: Name, Length: 668, dtype: object"
      ]
     },
     "execution_count": 21,
     "metadata": {},
     "output_type": "execute_result"
    }
   ],
   "source": [
    "X_train['Name'].apply(name_title) "
   ]
  },
  {
   "cell_type": "markdown",
   "metadata": {},
   "source": [
    "---"
   ]
  },
  {
   "cell_type": "markdown",
   "metadata": {},
   "source": [
    "**BONUS:** If we still want to do everything in a single line of code and package it into a transformer, we could do something like this:"
   ]
  },
  {
   "cell_type": "code",
   "execution_count": 22,
   "metadata": {},
   "outputs": [],
   "source": [
    "def transform_titles(series:pd.Series):\n",
    "    \"\"\"Example of Python Closure, i.e. function inside a function\"\"\"\n",
    "    \n",
    "    def extract_single_title(s:str):\n",
    "        \"\"\"Extract and return passenger title from the full name (string)\"\"\"\n",
    "        first_names = s.split(',')[1].strip()\n",
    "        title = first_names.split('.')[0].strip()\n",
    "        return title\n",
    "    \n",
    "    return series.apply(extract_single_title)"
   ]
  },
  {
   "cell_type": "code",
   "execution_count": 23,
   "metadata": {},
   "outputs": [
    {
     "data": {
      "text/plain": [
       "298        Mr\n",
       "884        Mr\n",
       "247       Mrs\n",
       "478        Mr\n",
       "305    Master\n",
       "        ...  \n",
       "106      Miss\n",
       "270        Mr\n",
       "860        Mr\n",
       "435      Miss\n",
       "102        Mr\n",
       "Name: Name, Length: 668, dtype: object"
      ]
     },
     "execution_count": 23,
     "metadata": {},
     "output_type": "execute_result"
    }
   ],
   "source": [
    "title_transformer = FunctionTransformer(transform_titles)\n",
    "title_transformer.fit_transform(X_train['Name'])"
   ]
  },
  {
   "cell_type": "code",
   "execution_count": null,
   "metadata": {},
   "outputs": [],
   "source": []
  }
 ],
 "metadata": {
  "kernelspec": {
   "display_name": "Python 3",
   "language": "python",
   "name": "python3"
  },
  "language_info": {
   "codemirror_mode": {
    "name": "ipython",
    "version": 3
   },
   "file_extension": ".py",
   "mimetype": "text/x-python",
   "name": "python",
   "nbconvert_exporter": "python",
   "pygments_lexer": "ipython3",
   "version": "3.8.5"
  }
 },
 "nbformat": 4,
 "nbformat_minor": 4
}
