{
 "cells": [
  {
   "cell_type": "markdown",
   "metadata": {},
   "source": [
    "## Regular Expressions"
   ]
  },
  {
   "cell_type": "markdown",
   "metadata": {},
   "source": [
    "| character | meaning |\n",
    "|-----------|---------|\n",
    "| `.` | any character (except newline) |\n",
    "| `+` | occurs once ore more times|\n",
    "| `*` | occurs 0 or more times |\n",
    "| `{}` | (min/max) number of repetitions |\n",
    "| `[a-z]` | matches any letter |\n",
    "| `[^a]` | does NOT match a |\n",
    "| `\\w` | matches any alphanumeric character |\n",
    "| vertical bar | logical OR|\n",
    "| `\\` | escape special characters |\n",
    "| `()` | specifies a group |"
   ]
  },
  {
   "cell_type": "code",
   "execution_count": 1,
   "metadata": {},
   "outputs": [],
   "source": [
    "import re"
   ]
  },
  {
   "cell_type": "markdown",
   "metadata": {},
   "source": [
    "### Find all matches"
   ]
  },
  {
   "cell_type": "code",
   "execution_count": 2,
   "metadata": {},
   "outputs": [],
   "source": [
    "text = '''thyme <a href=\"coriander99\"> <a href=\" rosemary\"> cinnamon pepper tarragon basil salvia cumin'''"
   ]
  },
  {
   "cell_type": "code",
   "execution_count": 3,
   "metadata": {},
   "outputs": [],
   "source": [
    "# match all words starting with a \"c\"\n",
    "pattern = \"c\\w+\""
   ]
  },
  {
   "cell_type": "code",
   "execution_count": 4,
   "metadata": {},
   "outputs": [
    {
     "data": {
      "text/plain": [
       "['coriander99', 'cinnamon', 'cumin']"
      ]
     },
     "execution_count": 4,
     "metadata": {},
     "output_type": "execute_result"
    }
   ],
   "source": [
    "re.findall(pattern, text)"
   ]
  },
  {
   "cell_type": "code",
   "execution_count": 5,
   "metadata": {},
   "outputs": [],
   "source": [
    "# match the value after href=\n",
    "pattern2 = 'href=(\"\\s{0,1}\\w+\")'   #added capture group\n"
   ]
  },
  {
   "cell_type": "code",
   "execution_count": 6,
   "metadata": {},
   "outputs": [
    {
     "data": {
      "text/plain": [
       "['\"coriander99\"', '\" rosemary\"']"
      ]
     },
     "execution_count": 6,
     "metadata": {},
     "output_type": "execute_result"
    }
   ],
   "source": [
    "re.findall(pattern2, text)"
   ]
  },
  {
   "cell_type": "markdown",
   "metadata": {},
   "source": [
    "### Replace patterns"
   ]
  },
  {
   "cell_type": "code",
   "execution_count": 36,
   "metadata": {},
   "outputs": [],
   "source": [
    "text2 = re.sub(pattern, \"SPICE\", text)"
   ]
  },
  {
   "cell_type": "code",
   "execution_count": 31,
   "metadata": {},
   "outputs": [
    {
     "name": "stdout",
     "output_type": "stream",
     "text": [
      "thyme <a href=\"CORIANDER99\"> <a href=\" rosemary\"> cinnamon pepper tarragon basil salvia cumin\n",
      "thyme <a href=\"coriander99\"> <a href=\" rosemary\"> CINNAMON pepper tarragon basil salvia cumin\n",
      "thyme <a href=\"coriander99\"> <a href=\" rosemary\"> cinnamon pepper tarragon basil salvia CUMIN\n"
     ]
    }
   ],
   "source": [
    "# find all the words -> pattern\n",
    "results = re.findall(pattern, text)\n",
    "results\n",
    "# loop thorugh results and replace each of them with their uppercased version\n",
    "for result in results:\n",
    "    res = re.sub(result, result.upper(), text)\n",
    "    print(res)"
   ]
  },
  {
   "cell_type": "code",
   "execution_count": null,
   "metadata": {},
   "outputs": [],
   "source": []
  },
  {
   "cell_type": "code",
   "execution_count": null,
   "metadata": {},
   "outputs": [],
   "source": []
  },
  {
   "cell_type": "markdown",
   "metadata": {},
   "source": [
    " #### More functions can be found in the re-documentation: https://docs.python.org/3/library/re.html#module-re"
   ]
  },
  {
   "cell_type": "code",
   "execution_count": null,
   "metadata": {},
   "outputs": [],
   "source": []
  },
  {
   "cell_type": "markdown",
   "metadata": {},
   "source": [
    "# Tasks for this afternoon: \n",
    "- Complete the first 10 exercises from here: http://regexone.com/ \n",
    "- do more of the above if you like, or try your hand at RegEx Golf (more advanced): http://regex.alf.nu/\n",
    "- work on scraping data and extract the song-URLS (see challenges here: http://krspiced.pythonanywhere.com/chapters/project_lyrics/web_scraping/README.html) "
   ]
  },
  {
   "cell_type": "code",
   "execution_count": null,
   "metadata": {},
   "outputs": [],
   "source": []
  }
 ],
 "metadata": {
  "kernelspec": {
   "display_name": "Python 3",
   "language": "python",
   "name": "python3"
  },
  "language_info": {
   "codemirror_mode": {
    "name": "ipython",
    "version": 3
   },
   "file_extension": ".py",
   "mimetype": "text/x-python",
   "name": "python",
   "nbconvert_exporter": "python",
   "pygments_lexer": "ipython3",
   "version": "3.8.5"
  },
  "varInspector": {
   "cols": {
    "lenName": 16,
    "lenType": 16,
    "lenVar": 40
   },
   "kernels_config": {
    "python": {
     "delete_cmd_postfix": "",
     "delete_cmd_prefix": "del ",
     "library": "var_list.py",
     "varRefreshCmd": "print(var_dic_list())"
    },
    "r": {
     "delete_cmd_postfix": ") ",
     "delete_cmd_prefix": "rm(",
     "library": "var_list.r",
     "varRefreshCmd": "cat(var_dic_list()) "
    }
   },
   "types_to_exclude": [
    "module",
    "function",
    "builtin_function_or_method",
    "instance",
    "_Feature"
   ],
   "window_display": false
  }
 },
 "nbformat": 4,
 "nbformat_minor": 4
}
