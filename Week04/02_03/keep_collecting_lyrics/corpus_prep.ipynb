{
 "cells": [
  {
   "cell_type": "code",
   "execution_count": 1,
   "metadata": {},
   "outputs": [],
   "source": [
    "import pandas as pd\n",
    "import numpy as np"
   ]
  },
  {
   "cell_type": "code",
   "execution_count": 2,
   "metadata": {},
   "outputs": [],
   "source": [
    "bf = pd.read_csv('bf_lyrics/black_flag.csv')\n",
    "# bf.head()\n",
    "\n",
    "br = pd.read_csv('br_lyrics/bad_religion.csv')\n",
    "# br.head()\n",
    "\n",
    "dk = pd.read_csv('dk_lyrics/dead_kennedys.csv')\n",
    "# dk.head()\n",
    "\n",
    "fl = pd.read_csv('fl_lyrics/flaming_lips.csv')\n",
    "# fl.head()\n",
    "\n",
    "hd = pd.read_csv('hd_lyrics/husker_du.csv')\n",
    "# hd.head()\n",
    "\n",
    "no = pd.read_csv('no_lyrics/nofx.csv')\n",
    "# no.head()\n",
    "\n",
    "pe = pd.read_csv('pe_lyrics/pennywise.csv')\n",
    "# pe.head()\n",
    "\n",
    "ram = pd.read_csv('ram_lyrics/ramones.csv')\n",
    "# ram.head()\n",
    "\n",
    "ran = pd.read_csv('ran_lyrics/rancid.csv')\n",
    "# ran.head()\n",
    "\n",
    "sd = pd.read_csv('sd_lyrics/social_distortion.csv')\n",
    "# sd.head()\n",
    "\n",
    "sl = pd.read_csv('sl_lyrics/slint.csv')\n",
    "# sl.head()\n",
    "\n",
    "sp = pd.read_csv('sp_lyrics/sex_pistols.csv')\n",
    "# sp.head()\n",
    "\n",
    "st = pd.read_csv('st_lyrics/stooges.csv')\n",
    "# st.head()\n",
    "\n",
    "yt = pd.read_csv('yt_lyrics/yo_la_tengo.csv')\n",
    "# yt.head()"
   ]
  },
  {
   "cell_type": "code",
   "execution_count": 3,
   "metadata": {},
   "outputs": [],
   "source": [
    "indie = pd.concat([fl,hd,sl,yt])\n",
    "# indie.head()\n",
    "# indie.tail()\n",
    "# indie.shape # (253, 2)\n",
    "y_ind = pd.read_csv('../../02_02/05_corpus_df.csv')\n",
    "# y_ind.head()\n",
    "y_ind = y_ind[['lyrics','artist']]\n",
    "# y_ind.head()\n",
    "indie_all = pd.concat([indie, y_ind])\n",
    "# indie_all.head()\n",
    "# indie_all.tail()\n",
    "# indie_all.shape # (596, 2)\n",
    "indie_all['genre'] = 'indie'"
   ]
  },
  {
   "cell_type": "code",
   "execution_count": 4,
   "metadata": {},
   "outputs": [
    {
     "data": {
      "text/plain": [
       "sonic youth     173\n",
       "sebadoh         126\n",
       "flaming lips    119\n",
       "husker du       105\n",
       "dinosaur jr      41\n",
       "yo la tengo      22\n",
       "slint             7\n",
       "pavement          3\n",
       "Name: artist, dtype: int64"
      ]
     },
     "execution_count": 4,
     "metadata": {},
     "output_type": "execute_result"
    }
   ],
   "source": [
    "indie_all.artist.value_counts()"
   ]
  },
  {
   "cell_type": "code",
   "execution_count": 5,
   "metadata": {},
   "outputs": [],
   "source": [
    "indie_all.to_csv('temp_indie_df.csv')"
   ]
  },
  {
   "cell_type": "code",
   "execution_count": 6,
   "metadata": {},
   "outputs": [],
   "source": [
    "punk = pd.concat([bf, br, dk, no, pe, ram, ran, sd, sp, st])\n",
    "# punk.head()\n",
    "# punk.tail()\n",
    "# punk.shape # (1097, 2)\n",
    "punk['genre'] = 'punk'\n",
    "# punk.head()"
   ]
  },
  {
   "cell_type": "code",
   "execution_count": 7,
   "metadata": {},
   "outputs": [
    {
     "data": {
      "text/plain": [
       "bad religion         230\n",
       "ramones              212\n",
       "rancid               135\n",
       "pennywise            124\n",
       "nofx                 101\n",
       "dead kennedys         89\n",
       "social distortion     72\n",
       "black flag            66\n",
       "sex pistols           36\n",
       "stooges               32\n",
       "Name: artist, dtype: int64"
      ]
     },
     "execution_count": 7,
     "metadata": {},
     "output_type": "execute_result"
    }
   ],
   "source": [
    "punk.artist.value_counts()"
   ]
  },
  {
   "cell_type": "code",
   "execution_count": 8,
   "metadata": {},
   "outputs": [],
   "source": [
    "punk.to_csv('temp_punk_df.csv')"
   ]
  },
  {
   "cell_type": "code",
   "execution_count": 9,
   "metadata": {},
   "outputs": [
    {
     "data": {
      "text/plain": [
       "bad religion         230\n",
       "ramones              212\n",
       "sonic youth          173\n",
       "rancid               135\n",
       "sebadoh              126\n",
       "pennywise            124\n",
       "flaming lips         119\n",
       "husker du            105\n",
       "nofx                 101\n",
       "dead kennedys         89\n",
       "social distortion     72\n",
       "black flag            66\n",
       "dinosaur jr           41\n",
       "sex pistols           36\n",
       "stooges               32\n",
       "yo la tengo           22\n",
       "slint                  7\n",
       "pavement               3\n",
       "Name: artist, dtype: int64"
      ]
     },
     "execution_count": 9,
     "metadata": {},
     "output_type": "execute_result"
    }
   ],
   "source": [
    "corpus_df = pd.concat([indie_all, punk])\n",
    "corpus_df.artist.value_counts()"
   ]
  },
  {
   "cell_type": "code",
   "execution_count": 10,
   "metadata": {},
   "outputs": [
    {
     "data": {
      "text/plain": [
       "punk     1097\n",
       "indie     596\n",
       "Name: genre, dtype: int64"
      ]
     },
     "execution_count": 10,
     "metadata": {},
     "output_type": "execute_result"
    }
   ],
   "source": [
    "corpus_df.genre.value_counts()"
   ]
  },
  {
   "cell_type": "code",
   "execution_count": 11,
   "metadata": {},
   "outputs": [],
   "source": [
    "corpus_df.to_csv('corpus_df.csv')"
   ]
  }
 ],
 "metadata": {
  "kernelspec": {
   "display_name": "Python 3",
   "language": "python",
   "name": "python3"
  },
  "language_info": {
   "codemirror_mode": {
    "name": "ipython",
    "version": 3
   },
   "file_extension": ".py",
   "mimetype": "text/x-python",
   "name": "python",
   "nbconvert_exporter": "python",
   "pygments_lexer": "ipython3",
   "version": "3.8.5"
  }
 },
 "nbformat": 4,
 "nbformat_minor": 4
}
