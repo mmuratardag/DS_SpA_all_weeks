{
 "cells": [
  {
   "cell_type": "code",
   "execution_count": 1,
   "metadata": {},
   "outputs": [],
   "source": [
    "import pandas as pd\n",
    "import numpy as np"
   ]
  },
  {
   "cell_type": "code",
   "execution_count": 3,
   "metadata": {},
   "outputs": [
    {
     "data": {
      "text/html": [
       "<div>\n",
       "<style scoped>\n",
       "    .dataframe tbody tr th:only-of-type {\n",
       "        vertical-align: middle;\n",
       "    }\n",
       "\n",
       "    .dataframe tbody tr th {\n",
       "        vertical-align: top;\n",
       "    }\n",
       "\n",
       "    .dataframe thead th {\n",
       "        text-align: right;\n",
       "    }\n",
       "</style>\n",
       "<table border=\"1\" class=\"dataframe\">\n",
       "  <thead>\n",
       "    <tr style=\"text-align: right;\">\n",
       "      <th></th>\n",
       "      <th>lyrics</th>\n",
       "      <th>artist</th>\n",
       "      <th>genre</th>\n",
       "    </tr>\n",
       "  </thead>\n",
       "  <tbody>\n",
       "    <tr>\n",
       "      <th>0</th>\n",
       "      <td>I know a girl who thinks it goes she'll make y...</td>\n",
       "      <td>flaming lips</td>\n",
       "      <td>indie</td>\n",
       "    </tr>\n",
       "    <tr>\n",
       "      <th>1</th>\n",
       "      <td>All those bugs buzzin' round your head Well, t...</td>\n",
       "      <td>flaming lips</td>\n",
       "      <td>indie</td>\n",
       "    </tr>\n",
       "    <tr>\n",
       "      <th>2</th>\n",
       "      <td>Something in you, it jitters like a moth And I...</td>\n",
       "      <td>flaming lips</td>\n",
       "      <td>indie</td>\n",
       "    </tr>\n",
       "    <tr>\n",
       "      <th>3</th>\n",
       "      <td>Their wasn't any snow on Christmas eve and I k...</td>\n",
       "      <td>flaming lips</td>\n",
       "      <td>indie</td>\n",
       "    </tr>\n",
       "    <tr>\n",
       "      <th>4</th>\n",
       "      <td>You can walk among us, but you can't walk on b...</td>\n",
       "      <td>flaming lips</td>\n",
       "      <td>indie</td>\n",
       "    </tr>\n",
       "  </tbody>\n",
       "</table>\n",
       "</div>"
      ],
      "text/plain": [
       "                                              lyrics        artist  genre\n",
       "0  I know a girl who thinks it goes she'll make y...  flaming lips  indie\n",
       "1  All those bugs buzzin' round your head Well, t...  flaming lips  indie\n",
       "2  Something in you, it jitters like a moth And I...  flaming lips  indie\n",
       "3  Their wasn't any snow on Christmas eve and I k...  flaming lips  indie\n",
       "4  You can walk among us, but you can't walk on b...  flaming lips  indie"
      ]
     },
     "execution_count": 3,
     "metadata": {},
     "output_type": "execute_result"
    }
   ],
   "source": [
    "old = pd.read_csv('../02_03/corpus_df.csv').drop(columns=['Unnamed: 0'])\n",
    "# old.head()\n",
    "\n",
    "new = pd.read_csv('collect_more_lyrics/more_indie_df.csv').drop(columns=['Unnamed: 0'])\n",
    "# new.head()"
   ]
  },
  {
   "cell_type": "code",
   "execution_count": 3,
   "metadata": {},
   "outputs": [
    {
     "data": {
      "text/html": [
       "<div>\n",
       "<style scoped>\n",
       "    .dataframe tbody tr th:only-of-type {\n",
       "        vertical-align: middle;\n",
       "    }\n",
       "\n",
       "    .dataframe tbody tr th {\n",
       "        vertical-align: top;\n",
       "    }\n",
       "\n",
       "    .dataframe thead th {\n",
       "        text-align: right;\n",
       "    }\n",
       "</style>\n",
       "<table border=\"1\" class=\"dataframe\">\n",
       "  <thead>\n",
       "    <tr style=\"text-align: right;\">\n",
       "      <th></th>\n",
       "      <th>lyrics</th>\n",
       "      <th>artist</th>\n",
       "      <th>genre</th>\n",
       "    </tr>\n",
       "  </thead>\n",
       "  <tbody>\n",
       "    <tr>\n",
       "      <th>0</th>\n",
       "      <td>I know a girl who thinks it goes she'll make y...</td>\n",
       "      <td>flaming lips</td>\n",
       "      <td>indie</td>\n",
       "    </tr>\n",
       "    <tr>\n",
       "      <th>1</th>\n",
       "      <td>All those bugs buzzin' round your head Well, t...</td>\n",
       "      <td>flaming lips</td>\n",
       "      <td>indie</td>\n",
       "    </tr>\n",
       "    <tr>\n",
       "      <th>2</th>\n",
       "      <td>Something in you, it jitters like a moth And I...</td>\n",
       "      <td>flaming lips</td>\n",
       "      <td>indie</td>\n",
       "    </tr>\n",
       "    <tr>\n",
       "      <th>3</th>\n",
       "      <td>Their wasn't any snow on Christmas eve and I k...</td>\n",
       "      <td>flaming lips</td>\n",
       "      <td>indie</td>\n",
       "    </tr>\n",
       "    <tr>\n",
       "      <th>4</th>\n",
       "      <td>You can walk among us, but you can't walk on b...</td>\n",
       "      <td>flaming lips</td>\n",
       "      <td>indie</td>\n",
       "    </tr>\n",
       "  </tbody>\n",
       "</table>\n",
       "</div>"
      ],
      "text/plain": [
       "                                              lyrics        artist  genre\n",
       "0  I know a girl who thinks it goes she'll make y...  flaming lips  indie\n",
       "1  All those bugs buzzin' round your head Well, t...  flaming lips  indie\n",
       "2  Something in you, it jitters like a moth And I...  flaming lips  indie\n",
       "3  Their wasn't any snow on Christmas eve and I k...  flaming lips  indie\n",
       "4  You can walk among us, but you can't walk on b...  flaming lips  indie"
      ]
     },
     "execution_count": 3,
     "metadata": {},
     "output_type": "execute_result"
    }
   ],
   "source": [
    "corpus = pd.concat([old, new])\n",
    "corpus.head()"
   ]
  },
  {
   "cell_type": "code",
   "execution_count": 4,
   "metadata": {},
   "outputs": [
    {
     "data": {
      "text/html": [
       "<div>\n",
       "<style scoped>\n",
       "    .dataframe tbody tr th:only-of-type {\n",
       "        vertical-align: middle;\n",
       "    }\n",
       "\n",
       "    .dataframe tbody tr th {\n",
       "        vertical-align: top;\n",
       "    }\n",
       "\n",
       "    .dataframe thead th {\n",
       "        text-align: right;\n",
       "    }\n",
       "</style>\n",
       "<table border=\"1\" class=\"dataframe\">\n",
       "  <thead>\n",
       "    <tr style=\"text-align: right;\">\n",
       "      <th></th>\n",
       "      <th>lyrics</th>\n",
       "      <th>artist</th>\n",
       "      <th>genre</th>\n",
       "    </tr>\n",
       "  </thead>\n",
       "  <tbody>\n",
       "    <tr>\n",
       "      <th>448</th>\n",
       "      <td>...This is the night of werewolves...The blood...</td>\n",
       "      <td>throwing muses</td>\n",
       "      <td>indie</td>\n",
       "    </tr>\n",
       "    <tr>\n",
       "      <th>449</th>\n",
       "      <td>Pull your lover ?round by the nose... You'll n...</td>\n",
       "      <td>throwing muses</td>\n",
       "      <td>indie</td>\n",
       "    </tr>\n",
       "    <tr>\n",
       "      <th>450</th>\n",
       "      <td>Wake up now I wanna wake up now I wanna wake w...</td>\n",
       "      <td>throwing muses</td>\n",
       "      <td>indie</td>\n",
       "    </tr>\n",
       "    <tr>\n",
       "      <th>451</th>\n",
       "      <td>Certain things I love, Spend my time I guess I...</td>\n",
       "      <td>throwing muses</td>\n",
       "      <td>indie</td>\n",
       "    </tr>\n",
       "    <tr>\n",
       "      <th>452</th>\n",
       "      <td>Strange time to be hazing me Breaking me shaki...</td>\n",
       "      <td>throwing muses</td>\n",
       "      <td>indie</td>\n",
       "    </tr>\n",
       "  </tbody>\n",
       "</table>\n",
       "</div>"
      ],
      "text/plain": [
       "                                                lyrics          artist  genre\n",
       "448  ...This is the night of werewolves...The blood...  throwing muses  indie\n",
       "449  Pull your lover ?round by the nose... You'll n...  throwing muses  indie\n",
       "450  Wake up now I wanna wake up now I wanna wake w...  throwing muses  indie\n",
       "451  Certain things I love, Spend my time I guess I...  throwing muses  indie\n",
       "452  Strange time to be hazing me Breaking me shaki...  throwing muses  indie"
      ]
     },
     "execution_count": 4,
     "metadata": {},
     "output_type": "execute_result"
    }
   ],
   "source": [
    "corpus.tail()"
   ]
  },
  {
   "cell_type": "code",
   "execution_count": 5,
   "metadata": {},
   "outputs": [
    {
     "data": {
      "text/plain": [
       "bad religion         230\n",
       "ramones              212\n",
       "sonic youth          173\n",
       "rancid               135\n",
       "sebadoh              126\n",
       "pennywise            124\n",
       "flaming lips         119\n",
       "throwing muses       108\n",
       "stereolab            107\n",
       "husker du            105\n",
       "nofx                 101\n",
       "dead kennedys         89\n",
       "pixies                78\n",
       "social distortion     72\n",
       "black flag            66\n",
       "blonde redhead        55\n",
       "afghan whigs          47\n",
       "breeders              45\n",
       "dinosaur jr           41\n",
       "sex pistols           36\n",
       "stooges               32\n",
       "yo la tengo           22\n",
       "mercury rev           13\n",
       "slint                  7\n",
       "pavement               3\n",
       "Name: artist, dtype: int64"
      ]
     },
     "execution_count": 5,
     "metadata": {},
     "output_type": "execute_result"
    }
   ],
   "source": [
    "corpus.artist.value_counts()"
   ]
  },
  {
   "cell_type": "code",
   "execution_count": 6,
   "metadata": {},
   "outputs": [
    {
     "data": {
      "text/plain": [
       "punk     1097\n",
       "indie    1049\n",
       "Name: genre, dtype: int64"
      ]
     },
     "execution_count": 6,
     "metadata": {},
     "output_type": "execute_result"
    }
   ],
   "source": [
    "corpus.genre.value_counts()"
   ]
  },
  {
   "cell_type": "code",
   "execution_count": 7,
   "metadata": {},
   "outputs": [],
   "source": [
    "corpus.to_csv('corpus_data.csv')"
   ]
  }
 ],
 "metadata": {
  "kernelspec": {
   "display_name": "Python 3",
   "language": "python",
   "name": "python3"
  },
  "language_info": {
   "codemirror_mode": {
    "name": "ipython",
    "version": 3
   },
   "file_extension": ".py",
   "mimetype": "text/x-python",
   "name": "python",
   "nbconvert_exporter": "python",
   "pygments_lexer": "ipython3",
   "version": "3.8.5"
  }
 },
 "nbformat": 4,
 "nbformat_minor": 4
}
